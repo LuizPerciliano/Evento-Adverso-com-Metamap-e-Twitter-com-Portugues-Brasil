{
 "cells": [
  {
   "cell_type": "markdown",
   "metadata": {},
   "source": [
    "<img src=\"../image/logo-cefet.png\" width=\"300\">\n",
    "\n",
    "<h1> PPCIC Dissertação - 2021\n",
    "    <br>\n",
    "    <br>\n",
    "    DETECÇÃO DE EVENTOS ADVERSOS ATRAVÉS DO TWITTER UTILIZANDO O METAMAP PARA O PORTUGUÊS DO BRASIL </h1>\n",
    "</br>\n",
    "\n",
    "<h2> Matéria: CIC1229 - TÓPICOS ESPECIAIS EM ALGORITMOS </h2>\n",
    "<h2> Aluno: Perciliano </h2>\n",
    "<h2> Orientadora: Kele Belloze </h2>\n",
    "<h3> Data: 08/07/2021 </h3>\n",
    "\n",
    "---\n",
    "\n",
    "**Autor: Luiz Perciliano** - \n",
    "***luiz.perciliano@eic.cefet-rj.br***\n"
   ]
  },
  {
   "cell_type": "markdown",
   "metadata": {},
   "source": [
    "- <b>Dados da pesquisa na base SCOPUS e PubMed - 436 documentos para análise</b>\n",
    "\n",
    "<br>\n",
    "\n",
    "**Feito**\n",
    "- Pesquisa em bases indexadas:\n",
    "    - base SCOPUS (159 artigos) - lido abstracts\n",
    "\n",
    "\n",
    "**A Fazer**\n",
    "- 6+ - Há um documento que não foi necessário baixar PDF, verificar este\n",
    "- Ler abastracts dos documentos do PubMed (16)\n",
    "- Ler Introduções dos documentos dos status:\n",
    "    - Excelente (15)\n",
    "    - Bom (49)\n",
    "- Pensar em outra alternativa em caso de problemas com o Metamap\n",
    "    - Verificar ferramentas:\n",
    "        ADRMine - um sistema de extração de conceitos baseado em aprendizado de máquina que usa campos aleatórios condicionais (CRFs)\n",
    "      - ATLAS.ti software - \n",
    "      - MagiCoder - um aplicativo PNL desenvolvido para extrair termos MedDRA\n",
    "      - comunidade BioNLP - \n",
    "      - BILSTM-CRF - \n",
    "      - CLAMP - (Anotação, Modelagem e Processamento de Linguagem Clínica), um kit de ferramentas de PNL clínico recém-desenvolvido que fornece não apenas componentes de PNL de última geração, mas também uma interface gráfica de usuário amigável que pode ajudar os usuários a construir rapidamente pipelines de PNL personalizados para seus aplicativos individuais\n",
    "      - cTAKES - Sistema de Extração de Conhecimento de Análise de Texto clínico da Apache\n",
    "      - FAERS - Sistema de Relato de Eventos Adversos da FDA (Os sistemas existentes para monitorar eventos adversos a medicamentos, como o Federal Adverse Events Reporting System (FAERS) nos EUA)\n",
    "      - GloVe - \n",
    "      - NLP-Adapt -  (Ferramentas de Descoberta e Preparação do Artefato) para comparar os sistemas NLP biomédicos existentes (Biomedicus, Braçadeira, Ctekes e Metamap) \n",
    "      - UIMA - Arquitetura de Gerenciamento de Informação Não Estruturada Apache ( Apache Unstructured Information Management Architecture)\n",
    "      - VAERS - Sistema de Notificação de Eventos Adversos de Vacinas dos EUA\n",
    "      - VigiBase dados - \n",
    "\n",
    "        \n",
    "- Listar dicionários médicos para farmacovigilância para possível novo trabalho\n",
    "    - PubMed\n",
    "    - Medra\n",
    "    - MeaningCloud - um motor de análise de texto multilíngue, para identificar drogas e efeitos Medline / Medinfo  da bibliotecas\n",
    "<br>\n",
    "- Analisr biblioteca Python do Metamap\n",
    "\n",
    "<br>   \n",
    "    - artigos sem abstract serão deixados por último\n",
    "<br>\n",
    "- Tentativa de instalação de nova versão do Metamap e DFB-2021\n",
    "    - Dia 30, ajustado, ainda com erro no MRCONSO, Will disse que verificará, enviei outro mail com erro no ./03\n",
    "\n",
    "<b>Site do projeto:</b> https:git.com\n",
    "<br>\n",
    "**Endereço da dissertação:** https://www.overleaf.com/read/rtybccmfvfrh\n",
    "<br>\n",
    "**Endereço do manual de instalação do Metamap DFB 2021:** https://www.overleaf.com/read/jsyhtqwwgccz\n",
    "\n",
    "---"
   ]
  },
  {
   "cell_type": "markdown",
   "metadata": {},
   "source": [
    "# Preparar Infraesrtutura"
   ]
  },
  {
   "cell_type": "code",
   "execution_count": 57,
   "metadata": {},
   "outputs": [
    {
     "name": "stdout",
     "output_type": "stream",
     "text": [
      "Importar as bibliotecas necessárias e mapear a pasta do projeto.\n"
     ]
    }
   ],
   "source": [
    "print(f'Importar as bibliotecas necessárias e mapear a pasta do projeto.')\n",
    "import os\n",
    "import sys\n",
    "import pandas as pd\n",
    "import datetime\n",
    "import numpy as np\n",
    "\n",
    "import matplotlib.pyplot as plt\n",
    "%matplotlib inline\n",
    "\n",
    "from google_trans_new import google_translator  "
   ]
  },
  {
   "cell_type": "code",
   "execution_count": 2,
   "metadata": {
    "deletable": false,
    "editable": false
   },
   "outputs": [
    {
     "name": "stdout",
     "output_type": "stream",
     "text": [
      "Iniciando o programa em: 2021-07-02 00:11:49.362197\n"
     ]
    }
   ],
   "source": [
    "data_inicio = pd.Timestamp.now()\n",
    "print(f'Iniciando o programa em: {data_inicio}')"
   ]
  },
  {
   "cell_type": "code",
   "execution_count": 3,
   "metadata": {
    "deletable": false,
    "editable": false
   },
   "outputs": [
    {
     "name": "stdout",
     "output_type": "stream",
     "text": [
      "Lista do conteúdo da pasta ...\n"
     ]
    },
    {
     "data": {
      "text/plain": [
       "['base-qualis-06-06-2021.xlsx',\n",
       " 'bases_filtradas-v008 - Copia.xlsx',\n",
       " 'bases_filtradas-v008.xlsx',\n",
       " 'bases_filtradas_traduzida-27-06-2021 - Copia.xlsx',\n",
       " 'bases_filtradas_traduzida-27-06-2021.xlsx',\n",
       " 'Evaluation-of-Natural-Language-Processing-NLP-systems-to-annotate-drug-product-labeling-with-MedDRA-terminologyJournal-of-Biomedical-Informatics.pdf',\n",
       " 'old',\n",
       " 'pubmed.csv',\n",
       " 'PubMed_Timeline_Results_by_Year-10-06-2021.csv',\n",
       " 'requiremets.txt',\n",
       " 'resultado_pubmed.xlsx',\n",
       " 'resultado_scopus-19-06-2021 - Copia.xlsx',\n",
       " 'resultado_scopus-19-06-2021.xlsx',\n",
       " 'scopus-12-06-2021-luciana.csv',\n",
       " 'scopus-94 - Copia.csv',\n",
       " 'scopus-94-clean.csv',\n",
       " 'scopus-94-clean.xlsx',\n",
       " 'scopus-94.csv',\n",
       " 'scopus.csv',\n",
       " 'stop_word_projeto.csv',\n",
       " 'stop_word_pt.csv',\n",
       " '~$bases_filtradas-v008.xlsx',\n",
       " '~$bases_filtradas_traduzida-27-06-2021.xlsx',\n",
       " '~$resultado_scopus-19-06-2021.xlsx',\n",
       " '~$resultado_scopus-luciana-12-06-2021.xlsx']"
      ]
     },
     "execution_count": 3,
     "metadata": {},
     "output_type": "execute_result"
    }
   ],
   "source": [
    "print(f'Lista do conteúdo da pasta ...')\n",
    "os.listdir(os.path.join('..','data'))"
   ]
  },
  {
   "cell_type": "code",
   "execution_count": 4,
   "metadata": {
    "deletable": false,
    "editable": false
   },
   "outputs": [
    {
     "data": {
      "text/plain": [
       "['logo-cefet.png', 'Logo_CVM.png', 'puc-rio-logo.png', 'wordcloud.pdf']"
      ]
     },
     "execution_count": 4,
     "metadata": {},
     "output_type": "execute_result"
    }
   ],
   "source": [
    "os.listdir('../Image')"
   ]
  },
  {
   "cell_type": "markdown",
   "metadata": {},
   "source": [
    "# Preparar e carregar base de dados"
   ]
  },
  {
   "cell_type": "markdown",
   "metadata": {},
   "source": [
    "## Carregar Planilha - Documentos para o Trabalho Relacioandos"
   ]
  },
  {
   "cell_type": "code",
   "execution_count": 70,
   "metadata": {
    "deletable": false,
    "editable": false
   },
   "outputs": [
    {
     "data": {
      "text/html": [
       "<div>\n",
       "<style scoped>\n",
       "    .dataframe tbody tr th:only-of-type {\n",
       "        vertical-align: middle;\n",
       "    }\n",
       "\n",
       "    .dataframe tbody tr th {\n",
       "        vertical-align: top;\n",
       "    }\n",
       "\n",
       "    .dataframe thead th {\n",
       "        text-align: right;\n",
       "    }\n",
       "</style>\n",
       "<table border=\"1\" class=\"dataframe\">\n",
       "  <thead>\n",
       "    <tr style=\"text-align: right;\">\n",
       "      <th></th>\n",
       "      <th>id_pubmed</th>\n",
       "      <th>issn_scopus</th>\n",
       "      <th>titulo_artigo</th>\n",
       "      <th>titulo_artigo_scopus</th>\n",
       "      <th>titulo_artigo_scopus_traduzido</th>\n",
       "      <th>titulo_artigo_pubmed</th>\n",
       "      <th>titulo_artigo_pubmed_traduzido</th>\n",
       "      <th>ano_publicacao_scopus</th>\n",
       "      <th>quantidade_citacoes</th>\n",
       "      <th>documentos_6+</th>\n",
       "      <th>...</th>\n",
       "      <th>conceituar_NLP</th>\n",
       "      <th>conceituar_outros</th>\n",
       "      <th>observacao</th>\n",
       "      <th>status_resumo</th>\n",
       "      <th>data_leitura_resumo</th>\n",
       "      <th>data_leitura_completa</th>\n",
       "      <th>sincronizado_mendely</th>\n",
       "      <th>nota_artigo</th>\n",
       "      <th>artigo_leitura</th>\n",
       "      <th>artigo_referencia_dissertacao</th>\n",
       "    </tr>\n",
       "  </thead>\n",
       "  <tbody>\n",
       "    <tr>\n",
       "      <th>0</th>\n",
       "      <td>22195162.0</td>\n",
       "      <td>1942597X</td>\n",
       "      <td>pattern mining for extraction of mentions of a...</td>\n",
       "      <td>Pattern mining for extraction of mentions of A...</td>\n",
       "      <td>Mineração de padrão para extração de menções d...</td>\n",
       "      <td>NaN</td>\n",
       "      <td>macho</td>\n",
       "      <td>2011.0</td>\n",
       "      <td>88.0</td>\n",
       "      <td>0</td>\n",
       "      <td>...</td>\n",
       "      <td>0</td>\n",
       "      <td>0.0</td>\n",
       "      <td>Entra ou ñ para leitura: sim</td>\n",
       "      <td>Bom</td>\n",
       "      <td>NaT</td>\n",
       "      <td>NaN</td>\n",
       "      <td>0.0</td>\n",
       "      <td>NaN</td>\n",
       "      <td>0</td>\n",
       "      <td>0</td>\n",
       "    </tr>\n",
       "    <tr>\n",
       "      <th>1</th>\n",
       "      <td>NaN</td>\n",
       "      <td>03029743</td>\n",
       "      <td>a large scale cnn ensemble for medication safe...</td>\n",
       "      <td>A large-scale CNN ensemble for medication safe...</td>\n",
       "      <td>Um conjunto CNN em grande escala para análise ...</td>\n",
       "      <td>NaN</td>\n",
       "      <td>macho</td>\n",
       "      <td>2017.0</td>\n",
       "      <td>14.0</td>\n",
       "      <td>0</td>\n",
       "      <td>...</td>\n",
       "      <td>0</td>\n",
       "      <td>NaN</td>\n",
       "      <td>Entra ou ñ para leitura: não</td>\n",
       "      <td>Ruim</td>\n",
       "      <td>2021-06-26</td>\n",
       "      <td>NaN</td>\n",
       "      <td>0.0</td>\n",
       "      <td>NaN</td>\n",
       "      <td>0</td>\n",
       "      <td>0</td>\n",
       "    </tr>\n",
       "    <tr>\n",
       "      <th>2</th>\n",
       "      <td>27539197.0</td>\n",
       "      <td>10675027</td>\n",
       "      <td>a long journey to short abbreviations developi...</td>\n",
       "      <td>A long journey to short abbreviations: Develop...</td>\n",
       "      <td>Uma longa jornada a abreviaturas curtas: desen...</td>\n",
       "      <td>NaN</td>\n",
       "      <td>macho</td>\n",
       "      <td>2017.0</td>\n",
       "      <td>26.0</td>\n",
       "      <td>0</td>\n",
       "      <td>...</td>\n",
       "      <td>0</td>\n",
       "      <td>NaN</td>\n",
       "      <td>Entra ou ñ para leitura: sim - bom</td>\n",
       "      <td>Bom</td>\n",
       "      <td>2021-06-26</td>\n",
       "      <td>NaN</td>\n",
       "      <td>1.0</td>\n",
       "      <td>NaN</td>\n",
       "      <td>0</td>\n",
       "      <td>0</td>\n",
       "    </tr>\n",
       "    <tr>\n",
       "      <th>3</th>\n",
       "      <td>23304375.0</td>\n",
       "      <td>1942597X</td>\n",
       "      <td>a comparative study of current clinical natura...</td>\n",
       "      <td>A comparative study of current Clinical Natura...</td>\n",
       "      <td>Um estudo comparativo dos sistemas atuais de p...</td>\n",
       "      <td>NaN</td>\n",
       "      <td>macho</td>\n",
       "      <td>2012.0</td>\n",
       "      <td>46.0</td>\n",
       "      <td>0</td>\n",
       "      <td>...</td>\n",
       "      <td>0</td>\n",
       "      <td>NaN</td>\n",
       "      <td>NaN</td>\n",
       "      <td>NaN</td>\n",
       "      <td>NaT</td>\n",
       "      <td>NaN</td>\n",
       "      <td>NaN</td>\n",
       "      <td>NaN</td>\n",
       "      <td>0</td>\n",
       "      <td>0</td>\n",
       "    </tr>\n",
       "    <tr>\n",
       "      <th>4</th>\n",
       "      <td>20688192.0</td>\n",
       "      <td>15320464</td>\n",
       "      <td>a comparison of machine learning techniques fo...</td>\n",
       "      <td>A comparison of machine learning techniques fo...</td>\n",
       "      <td>Uma comparação de técnicas de aprendizagem de ...</td>\n",
       "      <td>NaN</td>\n",
       "      <td>macho</td>\n",
       "      <td>2010.0</td>\n",
       "      <td>10.0</td>\n",
       "      <td>0</td>\n",
       "      <td>...</td>\n",
       "      <td>0</td>\n",
       "      <td>NaN</td>\n",
       "      <td>NaN</td>\n",
       "      <td>NaN</td>\n",
       "      <td>NaT</td>\n",
       "      <td>NaN</td>\n",
       "      <td>NaN</td>\n",
       "      <td>NaN</td>\n",
       "      <td>0</td>\n",
       "      <td>0</td>\n",
       "    </tr>\n",
       "    <tr>\n",
       "      <th>...</th>\n",
       "      <td>...</td>\n",
       "      <td>...</td>\n",
       "      <td>...</td>\n",
       "      <td>...</td>\n",
       "      <td>...</td>\n",
       "      <td>...</td>\n",
       "      <td>...</td>\n",
       "      <td>...</td>\n",
       "      <td>...</td>\n",
       "      <td>...</td>\n",
       "      <td>...</td>\n",
       "      <td>...</td>\n",
       "      <td>...</td>\n",
       "      <td>...</td>\n",
       "      <td>...</td>\n",
       "      <td>...</td>\n",
       "      <td>...</td>\n",
       "      <td>...</td>\n",
       "      <td>...</td>\n",
       "      <td>...</td>\n",
       "      <td>...</td>\n",
       "    </tr>\n",
       "    <tr>\n",
       "      <th>431</th>\n",
       "      <td>31863657.0</td>\n",
       "      <td>NaN</td>\n",
       "      <td>adverse drug reaction detection in social medi...</td>\n",
       "      <td>NaN</td>\n",
       "      <td>macho</td>\n",
       "      <td>Adverse Drug Reaction Detection in Social Medi...</td>\n",
       "      <td>Detecção adversa da reação medicamentosa em mí...</td>\n",
       "      <td>NaN</td>\n",
       "      <td>1.0</td>\n",
       "      <td>0</td>\n",
       "      <td>...</td>\n",
       "      <td>0</td>\n",
       "      <td>NaN</td>\n",
       "      <td>NaN</td>\n",
       "      <td>NaN</td>\n",
       "      <td>NaT</td>\n",
       "      <td>NaN</td>\n",
       "      <td>NaN</td>\n",
       "      <td>NaN</td>\n",
       "      <td>0</td>\n",
       "      <td>0</td>\n",
       "    </tr>\n",
       "    <tr>\n",
       "      <th>432</th>\n",
       "      <td>31896797.0</td>\n",
       "      <td>NaN</td>\n",
       "      <td>pgxcorpus a manually annotated corpus for phar...</td>\n",
       "      <td>NaN</td>\n",
       "      <td>macho</td>\n",
       "      <td>PGxCorpus, a manually annotated corpus for pha...</td>\n",
       "      <td>Pgxcorpus, um corpus anotado manualmente para ...</td>\n",
       "      <td>NaN</td>\n",
       "      <td>4.0</td>\n",
       "      <td>0</td>\n",
       "      <td>...</td>\n",
       "      <td>0</td>\n",
       "      <td>NaN</td>\n",
       "      <td>NaN</td>\n",
       "      <td>NaN</td>\n",
       "      <td>NaT</td>\n",
       "      <td>NaN</td>\n",
       "      <td>NaN</td>\n",
       "      <td>NaN</td>\n",
       "      <td>0</td>\n",
       "      <td>0</td>\n",
       "    </tr>\n",
       "    <tr>\n",
       "      <th>433</th>\n",
       "      <td>32477654.0</td>\n",
       "      <td>NaN</td>\n",
       "      <td>normalizing adverse events using recurrent neu...</td>\n",
       "      <td>NaN</td>\n",
       "      <td>macho</td>\n",
       "      <td>Normalizing Adverse Events using Recurrent Neu...</td>\n",
       "      <td>Normalizando eventos adversos usando redes neu...</td>\n",
       "      <td>NaN</td>\n",
       "      <td>0.0</td>\n",
       "      <td>0</td>\n",
       "      <td>...</td>\n",
       "      <td>0</td>\n",
       "      <td>NaN</td>\n",
       "      <td>NaN</td>\n",
       "      <td>NaN</td>\n",
       "      <td>NaT</td>\n",
       "      <td>NaN</td>\n",
       "      <td>NaN</td>\n",
       "      <td>NaN</td>\n",
       "      <td>0</td>\n",
       "      <td>0</td>\n",
       "    </tr>\n",
       "    <tr>\n",
       "      <th>434</th>\n",
       "      <td>33718782.0</td>\n",
       "      <td>NaN</td>\n",
       "      <td>impact of pharmacogenomic information on value...</td>\n",
       "      <td>NaN</td>\n",
       "      <td>macho</td>\n",
       "      <td>Impact of Pharmacogenomic Information on Value...</td>\n",
       "      <td>Impacto de informações farmacogenômicas sobre ...</td>\n",
       "      <td>NaN</td>\n",
       "      <td>0.0</td>\n",
       "      <td>0</td>\n",
       "      <td>...</td>\n",
       "      <td>0</td>\n",
       "      <td>NaN</td>\n",
       "      <td>NaN</td>\n",
       "      <td>NaN</td>\n",
       "      <td>NaT</td>\n",
       "      <td>NaN</td>\n",
       "      <td>NaN</td>\n",
       "      <td>NaN</td>\n",
       "      <td>0</td>\n",
       "      <td>0</td>\n",
       "    </tr>\n",
       "    <tr>\n",
       "      <th>435</th>\n",
       "      <td>34111555.0</td>\n",
       "      <td>NaN</td>\n",
       "      <td>augmenting aer2vec enriching distributed repre...</td>\n",
       "      <td>NaN</td>\n",
       "      <td>macho</td>\n",
       "      <td>Augmenting aer2vec: Enriching Distributed Repr...</td>\n",
       "      <td>Aumentando Aer2VEC: Enriquecendo representaçõe...</td>\n",
       "      <td>NaN</td>\n",
       "      <td>0.0</td>\n",
       "      <td>0</td>\n",
       "      <td>...</td>\n",
       "      <td>0</td>\n",
       "      <td>NaN</td>\n",
       "      <td>NaN</td>\n",
       "      <td>NaN</td>\n",
       "      <td>NaT</td>\n",
       "      <td>NaN</td>\n",
       "      <td>NaN</td>\n",
       "      <td>NaN</td>\n",
       "      <td>0</td>\n",
       "      <td>0</td>\n",
       "    </tr>\n",
       "  </tbody>\n",
       "</table>\n",
       "<p>436 rows × 86 columns</p>\n",
       "</div>"
      ],
      "text/plain": [
       "      id_pubmed issn_scopus  \\\n",
       "0    22195162.0    1942597X   \n",
       "1           NaN    03029743   \n",
       "2    27539197.0    10675027   \n",
       "3    23304375.0    1942597X   \n",
       "4    20688192.0    15320464   \n",
       "..          ...         ...   \n",
       "431  31863657.0         NaN   \n",
       "432  31896797.0         NaN   \n",
       "433  32477654.0         NaN   \n",
       "434  33718782.0         NaN   \n",
       "435  34111555.0         NaN   \n",
       "\n",
       "                                         titulo_artigo  \\\n",
       "0    pattern mining for extraction of mentions of a...   \n",
       "1    a large scale cnn ensemble for medication safe...   \n",
       "2    a long journey to short abbreviations developi...   \n",
       "3    a comparative study of current clinical natura...   \n",
       "4    a comparison of machine learning techniques fo...   \n",
       "..                                                 ...   \n",
       "431  adverse drug reaction detection in social medi...   \n",
       "432  pgxcorpus a manually annotated corpus for phar...   \n",
       "433  normalizing adverse events using recurrent neu...   \n",
       "434  impact of pharmacogenomic information on value...   \n",
       "435  augmenting aer2vec enriching distributed repre...   \n",
       "\n",
       "                                  titulo_artigo_scopus  \\\n",
       "0    Pattern mining for extraction of mentions of A...   \n",
       "1    A large-scale CNN ensemble for medication safe...   \n",
       "2    A long journey to short abbreviations: Develop...   \n",
       "3    A comparative study of current Clinical Natura...   \n",
       "4    A comparison of machine learning techniques fo...   \n",
       "..                                                 ...   \n",
       "431                                                NaN   \n",
       "432                                                NaN   \n",
       "433                                                NaN   \n",
       "434                                                NaN   \n",
       "435                                                NaN   \n",
       "\n",
       "                        titulo_artigo_scopus_traduzido  \\\n",
       "0    Mineração de padrão para extração de menções d...   \n",
       "1    Um conjunto CNN em grande escala para análise ...   \n",
       "2    Uma longa jornada a abreviaturas curtas: desen...   \n",
       "3    Um estudo comparativo dos sistemas atuais de p...   \n",
       "4    Uma comparação de técnicas de aprendizagem de ...   \n",
       "..                                                 ...   \n",
       "431                                             macho    \n",
       "432                                             macho    \n",
       "433                                             macho    \n",
       "434                                             macho    \n",
       "435                                             macho    \n",
       "\n",
       "                                  titulo_artigo_pubmed  \\\n",
       "0                                                  NaN   \n",
       "1                                                  NaN   \n",
       "2                                                  NaN   \n",
       "3                                                  NaN   \n",
       "4                                                  NaN   \n",
       "..                                                 ...   \n",
       "431  Adverse Drug Reaction Detection in Social Medi...   \n",
       "432  PGxCorpus, a manually annotated corpus for pha...   \n",
       "433  Normalizing Adverse Events using Recurrent Neu...   \n",
       "434  Impact of Pharmacogenomic Information on Value...   \n",
       "435  Augmenting aer2vec: Enriching Distributed Repr...   \n",
       "\n",
       "                        titulo_artigo_pubmed_traduzido  ano_publicacao_scopus  \\\n",
       "0                                               macho                  2011.0   \n",
       "1                                               macho                  2017.0   \n",
       "2                                               macho                  2017.0   \n",
       "3                                               macho                  2012.0   \n",
       "4                                               macho                  2010.0   \n",
       "..                                                 ...                    ...   \n",
       "431  Detecção adversa da reação medicamentosa em mí...                    NaN   \n",
       "432  Pgxcorpus, um corpus anotado manualmente para ...                    NaN   \n",
       "433  Normalizando eventos adversos usando redes neu...                    NaN   \n",
       "434  Impacto de informações farmacogenômicas sobre ...                    NaN   \n",
       "435  Aumentando Aer2VEC: Enriquecendo representaçõe...                    NaN   \n",
       "\n",
       "     quantidade_citacoes  documentos_6+  ...  conceituar_NLP  \\\n",
       "0                   88.0              0  ...               0   \n",
       "1                   14.0              0  ...               0   \n",
       "2                   26.0              0  ...               0   \n",
       "3                   46.0              0  ...               0   \n",
       "4                   10.0              0  ...               0   \n",
       "..                   ...            ...  ...             ...   \n",
       "431                  1.0              0  ...               0   \n",
       "432                  4.0              0  ...               0   \n",
       "433                  0.0              0  ...               0   \n",
       "434                  0.0              0  ...               0   \n",
       "435                  0.0              0  ...               0   \n",
       "\n",
       "    conceituar_outros                          observacao status_resumo  \\\n",
       "0                 0.0        Entra ou ñ para leitura: sim           Bom   \n",
       "1                 NaN        Entra ou ñ para leitura: não          Ruim   \n",
       "2                 NaN  Entra ou ñ para leitura: sim - bom           Bom   \n",
       "3                 NaN                                 NaN           NaN   \n",
       "4                 NaN                                 NaN           NaN   \n",
       "..                ...                                 ...           ...   \n",
       "431               NaN                                 NaN           NaN   \n",
       "432               NaN                                 NaN           NaN   \n",
       "433               NaN                                 NaN           NaN   \n",
       "434               NaN                                 NaN           NaN   \n",
       "435               NaN                                 NaN           NaN   \n",
       "\n",
       "     data_leitura_resumo data_leitura_completa sincronizado_mendely  \\\n",
       "0                    NaT                   NaN                  0.0   \n",
       "1             2021-06-26                   NaN                  0.0   \n",
       "2             2021-06-26                   NaN                  1.0   \n",
       "3                    NaT                   NaN                  NaN   \n",
       "4                    NaT                   NaN                  NaN   \n",
       "..                   ...                   ...                  ...   \n",
       "431                  NaT                   NaN                  NaN   \n",
       "432                  NaT                   NaN                  NaN   \n",
       "433                  NaT                   NaN                  NaN   \n",
       "434                  NaT                   NaN                  NaN   \n",
       "435                  NaT                   NaN                  NaN   \n",
       "\n",
       "     nota_artigo artigo_leitura artigo_referencia_dissertacao  \n",
       "0            NaN              0                             0  \n",
       "1            NaN              0                             0  \n",
       "2            NaN              0                             0  \n",
       "3            NaN              0                             0  \n",
       "4            NaN              0                             0  \n",
       "..           ...            ...                           ...  \n",
       "431          NaN              0                             0  \n",
       "432          NaN              0                             0  \n",
       "433          NaN              0                             0  \n",
       "434          NaN              0                             0  \n",
       "435          NaN              0                             0  \n",
       "\n",
       "[436 rows x 86 columns]"
      ]
     },
     "execution_count": 70,
     "metadata": {},
     "output_type": "execute_result"
    }
   ],
   "source": [
    "trabalhos_relacionados_traduzido = os.path.join('../data','bases_filtradas_traduzida-27-06-2021.xlsx')\n",
    "raw_data = pd.read_excel(trabalhos_relacionados_traduzido)\n",
    "raw_data"
   ]
  },
  {
   "cell_type": "markdown",
   "metadata": {},
   "source": [
    "## Analisar dados brutos original"
   ]
  },
  {
   "cell_type": "markdown",
   "metadata": {},
   "source": [
    "### Analisando base"
   ]
  },
  {
   "cell_type": "code",
   "execution_count": 6,
   "metadata": {},
   "outputs": [],
   "source": [
    "#pd.set_option(\"max_colwidth\", 100)"
   ]
  },
  {
   "cell_type": "code",
   "execution_count": 59,
   "metadata": {},
   "outputs": [
    {
     "name": "stdout",
     "output_type": "stream",
     "text": [
      "Verificando tipos e se tem dados nulos\n",
      "<class 'pandas.core.frame.DataFrame'>\n",
      "RangeIndex: 436 entries, 0 to 435\n",
      "Data columns (total 86 columns):\n",
      " #   Column                                            Non-Null Count  Dtype         \n",
      "---  ------                                            --------------  -----         \n",
      " 0   id_pubmed                                         287 non-null    float64       \n",
      " 1   issn_scopus                                       378 non-null    object        \n",
      " 2   titulo_artigo                                     436 non-null    object        \n",
      " 3   titulo_artigo_scopus                              420 non-null    object        \n",
      " 4   titulo_artigo_scopus_traduzido                    436 non-null    object        \n",
      " 5   titulo_artigo_pubmed                              16 non-null     object        \n",
      " 6   titulo_artigo_pubmed_traduzido                    436 non-null    object        \n",
      " 7   ano_publicacao_scopus                             420 non-null    float64       \n",
      " 8   quantidade_citacoes                               372 non-null    float64       \n",
      " 9   documentos_6+                                     436 non-null    int64         \n",
      " 10  documentos_94+                                    436 non-null    int64         \n",
      " 11  fonte                                             436 non-null    object        \n",
      " 12  jornal_book_pubmed                                16 non-null     object        \n",
      " 13  autores_pubmed                                    16 non-null     object        \n",
      " 14  ano_publicacao_pubmed                             16 non-null     float64       \n",
      " 15  idioma_original                                   420 non-null    object        \n",
      " 16  tipo_documento                                    420 non-null    object        \n",
      " 17  pdf_baixado                                       436 non-null    int64         \n",
      " 18  acesso_livre                                      191 non-null    object        \n",
      " 19  autores_scopus                                    420 non-null    object        \n",
      " 20  titulo_fonte                                      420 non-null    object        \n",
      " 21  volume                                            365 non-null    object        \n",
      " 22  publicado                                         186 non-null    object        \n",
      " 23  numero_artigo                                     100 non-null    object        \n",
      " 24  doi                                               362 non-null    object        \n",
      " 25  doi_scopus                                        349 non-null    object        \n",
      " 26  doi_pubmed                                        13 non-null     object        \n",
      " 27  link_scopus                                       420 non-null    object        \n",
      " 28  afiliacoes                                        419 non-null    object        \n",
      " 29  autores_com_filiacoes                             420 non-null    object        \n",
      " 30  nomes_comerciais                                  19 non-null     object        \n",
      " 31  fabricantes                                       1 non-null      object        \n",
      " 32  quimica                                           92 non-null     object        \n",
      " 33  detalhes_financiamento                            207 non-null    object        \n",
      " 34  texto_financiamento_1                             174 non-null    object        \n",
      " 35  texto_financiamento_2                             19 non-null     object        \n",
      " 36  texto_financiamento_3                             1 non-null      object        \n",
      " 37  referencias                                       365 non-null    object        \n",
      " 38  endereco_correspondencia                          350 non-null    object        \n",
      " 39  editores                                          70 non-null     object        \n",
      " 40  patrocinadores                                    35 non-null     object        \n",
      " 41  editor                                            329 non-null    object        \n",
      " 42  nome_conferencia                                  118 non-null    object        \n",
      " 43  data_conferencia                                  118 non-null    object        \n",
      " 44  local_conferencia                                 27 non-null     object        \n",
      " 45  codigo_conferencia                                107 non-null    float64       \n",
      " 46  isbn                                              96 non-null     object        \n",
      " 47  coden                                             166 non-null    object        \n",
      " 48  titulo_abreviado_fonte                            420 non-null    object        \n",
      " 49  etapa_publicacao                                  420 non-null    object        \n",
      " 50  eid                                               420 non-null    object        \n",
      " 51  quantidade_paginas_                               315 non-null    float64       \n",
      " 52  data_criacao_pubmed                               16 non-null     object        \n",
      " 53  primeiro_autor_pubmed                             16 non-null     object        \n",
      " 54  id_pmc_pubmed                                     13 non-null     object        \n",
      " 55  id_nihms_pubmed                                   1 non-null      object        \n",
      " 56  citacao_pubmed                                    16 non-null     object        \n",
      " 57  palavras_chaves_autor                             301 non-null    object        \n",
      " 58  palavras_chave_index                              382 non-null    object        \n",
      " 59  palavras_chaves_titulo                            105 non-null    object        \n",
      " 60  palavras_chaves_resumo                            324 non-null    object        \n",
      " 61  resumo                                            436 non-null    object        \n",
      " 62  resumo_traduzido                                  150 non-null    object        \n",
      " 63  resumo_traduzido_google_translator                436 non-null    object        \n",
      " 64  leitura_completa                                  436 non-null    int64         \n",
      " 65  leitura_resumo                                    436 non-null    int64         \n",
      " 66  leitura_conclusao                                 436 non-null    object        \n",
      " 67  conclusao_traduzida                               20 non-null     object        \n",
      " 68  conceituar_metamap                                64 non-null     object        \n",
      " 69  conceituar_farmacovigilancia                      434 non-null    object        \n",
      " 70  conceituar_Reacao_adversa_medicamentos_RAM        435 non-null    object        \n",
      " 71  conceituar_reconhecimento_entidades_nomeadas_REN  435 non-null    object        \n",
      " 72  conceituar_UMLS                                   435 non-null    object        \n",
      " 73  conceituar_metamap_data_file_builder_DFB          436 non-null    int64         \n",
      " 74  conceituar_ferramenta_lexicos_LVG                 436 non-null    int64         \n",
      " 75  conceituar_MetamorphoSys                          436 non-null    int64         \n",
      " 76  conceituar_NLP                                    436 non-null    int64         \n",
      " 77  conceituar_outros                                 4 non-null      float64       \n",
      " 78  observacao                                        246 non-null    object        \n",
      " 79  status_resumo                                     245 non-null    object        \n",
      " 80  data_leitura_resumo                               233 non-null    datetime64[ns]\n",
      " 81  data_leitura_completa                             0 non-null      float64       \n",
      " 82  sincronizado_mendely                              157 non-null    float64       \n",
      " 83  nota_artigo                                       0 non-null      float64       \n",
      " 84  artigo_leitura                                    436 non-null    int64         \n",
      " 85  artigo_referencia_dissertacao                     436 non-null    int64         \n",
      "dtypes: datetime64[ns](1), float64(10), int64(11), object(64)\n",
      "memory usage: 293.1+ KB\n"
     ]
    }
   ],
   "source": [
    "print('Verificando tipos e se tem dados nulos')\n",
    "raw_data.info()"
   ]
  },
  {
   "cell_type": "code",
   "execution_count": 8,
   "metadata": {},
   "outputs": [
    {
     "data": {
      "text/plain": [
       "2"
      ]
     },
     "execution_count": 8,
     "metadata": {},
     "output_type": "execute_result"
    }
   ],
   "source": [
    "raw_data.leitura_resumo.nunique()"
   ]
  },
  {
   "cell_type": "code",
   "execution_count": 9,
   "metadata": {},
   "outputs": [
    {
     "data": {
      "text/plain": [
       "id_pubmed                         286\n",
       "issn_scopus                       102\n",
       "titulo_artigo                     436\n",
       "titulo_artigo_scopus              420\n",
       "titulo_artigo_scopus_traduzido    421\n",
       "                                 ... \n",
       "data_leitura_completa               0\n",
       "sincronizado_mendely                2\n",
       "nota_artigo                         0\n",
       "artigo_leitura                      1\n",
       "artigo_referencia_dissertacao       1\n",
       "Length: 86, dtype: int64"
      ]
     },
     "execution_count": 9,
     "metadata": {},
     "output_type": "execute_result"
    }
   ],
   "source": [
    "raw_data.nunique()"
   ]
  },
  {
   "cell_type": "code",
   "execution_count": 10,
   "metadata": {},
   "outputs": [
    {
     "data": {
      "text/plain": [
       "id_pubmed                         149\n",
       "issn_scopus                        58\n",
       "titulo_artigo                       0\n",
       "titulo_artigo_scopus               16\n",
       "titulo_artigo_scopus_traduzido      0\n",
       "                                 ... \n",
       "data_leitura_completa             436\n",
       "sincronizado_mendely              279\n",
       "nota_artigo                       436\n",
       "artigo_leitura                      0\n",
       "artigo_referencia_dissertacao       0\n",
       "Length: 86, dtype: int64"
      ]
     },
     "execution_count": 10,
     "metadata": {},
     "output_type": "execute_result"
    }
   ],
   "source": [
    "# verificar campos nulos\n",
    "raw_data.isnull().sum()"
   ]
  },
  {
   "cell_type": "markdown",
   "metadata": {},
   "source": [
    "## Copiar dataframe para ajustes"
   ]
  },
  {
   "cell_type": "code",
   "execution_count": 71,
   "metadata": {},
   "outputs": [
    {
     "name": "stdout",
     "output_type": "stream",
     "text": [
      "1447252566664\n"
     ]
    }
   ],
   "source": [
    "## Verificar se os dataframes nao s\"ao espelhos\n",
    "df_trab_relacionados = raw_data.copy()\n",
    "\n",
    "print(id(df_trab_relacionados))"
   ]
  },
  {
   "cell_type": "markdown",
   "metadata": {},
   "source": [
    "## Traduzindo resumos PUBMED"
   ]
  },
  {
   "cell_type": "raw",
   "metadata": {},
   "source": [
    "df_pubmed = df_trab_relacionados.query('fonte==\"pubmed\"')"
   ]
  },
  {
   "cell_type": "raw",
   "metadata": {},
   "source": [
    "%%time\n",
    "translator = google_translator()  \n",
    "df_pubmed['resumo_traduzido_google_translator']=df_pubmed['resumo'].apply(lambda x: translator.translate(x,lang_tgt='pt'))"
   ]
  },
  {
   "cell_type": "code",
   "execution_count": null,
   "metadata": {},
   "outputs": [],
   "source": []
  },
  {
   "cell_type": "markdown",
   "metadata": {},
   "source": [
    "## Analisar dataframe tratado"
   ]
  },
  {
   "cell_type": "markdown",
   "metadata": {},
   "source": [
    "# Visualizações"
   ]
  },
  {
   "cell_type": "markdown",
   "metadata": {},
   "source": [
    "## Leitura das Introduções"
   ]
  },
  {
   "cell_type": "markdown",
   "metadata": {},
   "source": [
    "**Obervações**\n",
    "<br>\n",
    "- 06+ = 5 separados para leitura dos resumos, ordenado do mais antigo para o mais novo\n",
    "    1 tinha 3 páginas e não foi possível baixar o pdf para analisar:\n",
    "    <br>\"Structuring Clinical Decision Support Rules for Drug Safety Using Natural Language Processing\"\n",
    "    \n",
    "    <br>"
   ]
  },
  {
   "cell_type": "code",
   "execution_count": 13,
   "metadata": {},
   "outputs": [
    {
     "data": {
      "text/html": [
       "<div>\n",
       "<style scoped>\n",
       "    .dataframe tbody tr th:only-of-type {\n",
       "        vertical-align: middle;\n",
       "    }\n",
       "\n",
       "    .dataframe tbody tr th {\n",
       "        vertical-align: top;\n",
       "    }\n",
       "\n",
       "    .dataframe thead tr th {\n",
       "        text-align: left;\n",
       "    }\n",
       "\n",
       "    .dataframe thead tr:last-of-type th {\n",
       "        text-align: right;\n",
       "    }\n",
       "</style>\n",
       "<table border=\"1\" class=\"dataframe\">\n",
       "  <thead>\n",
       "    <tr>\n",
       "      <th></th>\n",
       "      <th colspan=\"8\" halign=\"left\">id_pubmed</th>\n",
       "      <th colspan=\"2\" halign=\"left\">ano_publicacao_scopus</th>\n",
       "      <th>...</th>\n",
       "      <th colspan=\"2\" halign=\"left\">artigo_leitura</th>\n",
       "      <th colspan=\"8\" halign=\"left\">artigo_referencia_dissertacao</th>\n",
       "    </tr>\n",
       "    <tr>\n",
       "      <th></th>\n",
       "      <th>count</th>\n",
       "      <th>mean</th>\n",
       "      <th>std</th>\n",
       "      <th>min</th>\n",
       "      <th>25%</th>\n",
       "      <th>50%</th>\n",
       "      <th>75%</th>\n",
       "      <th>max</th>\n",
       "      <th>count</th>\n",
       "      <th>mean</th>\n",
       "      <th>...</th>\n",
       "      <th>75%</th>\n",
       "      <th>max</th>\n",
       "      <th>count</th>\n",
       "      <th>mean</th>\n",
       "      <th>std</th>\n",
       "      <th>min</th>\n",
       "      <th>25%</th>\n",
       "      <th>50%</th>\n",
       "      <th>75%</th>\n",
       "      <th>max</th>\n",
       "    </tr>\n",
       "    <tr>\n",
       "      <th>leitura_resumo</th>\n",
       "      <th></th>\n",
       "      <th></th>\n",
       "      <th></th>\n",
       "      <th></th>\n",
       "      <th></th>\n",
       "      <th></th>\n",
       "      <th></th>\n",
       "      <th></th>\n",
       "      <th></th>\n",
       "      <th></th>\n",
       "      <th></th>\n",
       "      <th></th>\n",
       "      <th></th>\n",
       "      <th></th>\n",
       "      <th></th>\n",
       "      <th></th>\n",
       "      <th></th>\n",
       "      <th></th>\n",
       "      <th></th>\n",
       "      <th></th>\n",
       "      <th></th>\n",
       "    </tr>\n",
       "  </thead>\n",
       "  <tbody>\n",
       "    <tr>\n",
       "      <th>0</th>\n",
       "      <td>141.0</td>\n",
       "      <td>2.271275e+07</td>\n",
       "      <td>4.972318e+06</td>\n",
       "      <td>1504394.0</td>\n",
       "      <td>18999272.0</td>\n",
       "      <td>23304375.0</td>\n",
       "      <td>25917055.00</td>\n",
       "      <td>34111555.0</td>\n",
       "      <td>176.0</td>\n",
       "      <td>2011.494318</td>\n",
       "      <td>...</td>\n",
       "      <td>0.0</td>\n",
       "      <td>0.0</td>\n",
       "      <td>192.0</td>\n",
       "      <td>0.0</td>\n",
       "      <td>0.0</td>\n",
       "      <td>0.0</td>\n",
       "      <td>0.0</td>\n",
       "      <td>0.0</td>\n",
       "      <td>0.0</td>\n",
       "      <td>0.0</td>\n",
       "    </tr>\n",
       "    <tr>\n",
       "      <th>1</th>\n",
       "      <td>146.0</td>\n",
       "      <td>3.001896e+07</td>\n",
       "      <td>2.390828e+06</td>\n",
       "      <td>22195162.0</td>\n",
       "      <td>28534935.0</td>\n",
       "      <td>30340767.0</td>\n",
       "      <td>31685883.25</td>\n",
       "      <td>33936461.0</td>\n",
       "      <td>244.0</td>\n",
       "      <td>2018.159836</td>\n",
       "      <td>...</td>\n",
       "      <td>0.0</td>\n",
       "      <td>0.0</td>\n",
       "      <td>244.0</td>\n",
       "      <td>0.0</td>\n",
       "      <td>0.0</td>\n",
       "      <td>0.0</td>\n",
       "      <td>0.0</td>\n",
       "      <td>0.0</td>\n",
       "      <td>0.0</td>\n",
       "      <td>0.0</td>\n",
       "    </tr>\n",
       "  </tbody>\n",
       "</table>\n",
       "<p>2 rows × 160 columns</p>\n",
       "</div>"
      ],
      "text/plain": [
       "               id_pubmed                                                      \\\n",
       "                   count          mean           std         min         25%   \n",
       "leitura_resumo                                                                 \n",
       "0                  141.0  2.271275e+07  4.972318e+06   1504394.0  18999272.0   \n",
       "1                  146.0  3.001896e+07  2.390828e+06  22195162.0  28534935.0   \n",
       "\n",
       "                                                    ano_publicacao_scopus  \\\n",
       "                       50%          75%         max                 count   \n",
       "leitura_resumo                                                              \n",
       "0               23304375.0  25917055.00  34111555.0                 176.0   \n",
       "1               30340767.0  31685883.25  33936461.0                 244.0   \n",
       "\n",
       "                             ... artigo_leitura       \\\n",
       "                       mean  ...            75%  max   \n",
       "leitura_resumo               ...                       \n",
       "0               2011.494318  ...            0.0  0.0   \n",
       "1               2018.159836  ...            0.0  0.0   \n",
       "\n",
       "               artigo_referencia_dissertacao                                \\\n",
       "                                       count mean  std  min  25%  50%  75%   \n",
       "leitura_resumo                                                               \n",
       "0                                      192.0  0.0  0.0  0.0  0.0  0.0  0.0   \n",
       "1                                      244.0  0.0  0.0  0.0  0.0  0.0  0.0   \n",
       "\n",
       "                     \n",
       "                max  \n",
       "leitura_resumo       \n",
       "0               0.0  \n",
       "1               0.0  \n",
       "\n",
       "[2 rows x 160 columns]"
      ]
     },
     "execution_count": 13,
     "metadata": {},
     "output_type": "execute_result"
    }
   ],
   "source": [
    "# Groupby by\n",
    "leitura_resumo = df_trab_relacionados.groupby(\"leitura_resumo\")\n",
    "\n",
    "# Summary statistic of all\n",
    "leitura_resumo.describe().head()"
   ]
  },
  {
   "cell_type": "code",
   "execution_count": 36,
   "metadata": {},
   "outputs": [
    {
     "data": {
      "image/png": "[encoded data removed]",
      "text/plain": [
       "<Figure size 864x432 with 1 Axes>"
      ]
     },
     "metadata": {
      "needs_background": "light"
     },
     "output_type": "display_data"
    }
   ],
   "source": [
    "# colocar leganda 0 nao lido e 1 lido\n",
    "plt.figure(figsize=(12,6))\n",
    "plt.title(\"Artigos lidos (1) X não lidos (0)\")\n",
    "\n",
    "leitura_resumo.size().sort_values(ascending=False).plot.bar()\n",
    "plt.xticks(rotation=50)\n",
    "plt.xlabel(\"Leitura de Resumo\")\n",
    "plt.ylabel(\"Quantidade de Artigos\")\n",
    "#lt.legend()\n",
    "plt.grid()\n",
    "plt.show()"
   ]
  },
  {
   "cell_type": "code",
   "execution_count": 15,
   "metadata": {},
   "outputs": [],
   "source": [
    "## Dos separadas para ler, quais sao bons, execelentes e razoáveis"
   ]
  },
  {
   "cell_type": "code",
   "execution_count": 16,
   "metadata": {},
   "outputs": [
    {
     "data": {
      "text/html": [
       "<div>\n",
       "<style scoped>\n",
       "    .dataframe tbody tr th:only-of-type {\n",
       "        vertical-align: middle;\n",
       "    }\n",
       "\n",
       "    .dataframe tbody tr th {\n",
       "        vertical-align: top;\n",
       "    }\n",
       "\n",
       "    .dataframe thead tr th {\n",
       "        text-align: left;\n",
       "    }\n",
       "\n",
       "    .dataframe thead tr:last-of-type th {\n",
       "        text-align: right;\n",
       "    }\n",
       "</style>\n",
       "<table border=\"1\" class=\"dataframe\">\n",
       "  <thead>\n",
       "    <tr>\n",
       "      <th></th>\n",
       "      <th colspan=\"8\" halign=\"left\">id_pubmed</th>\n",
       "      <th colspan=\"2\" halign=\"left\">ano_publicacao_scopus</th>\n",
       "      <th>...</th>\n",
       "      <th colspan=\"2\" halign=\"left\">artigo_leitura</th>\n",
       "      <th colspan=\"8\" halign=\"left\">artigo_referencia_dissertacao</th>\n",
       "    </tr>\n",
       "    <tr>\n",
       "      <th></th>\n",
       "      <th>count</th>\n",
       "      <th>mean</th>\n",
       "      <th>std</th>\n",
       "      <th>min</th>\n",
       "      <th>25%</th>\n",
       "      <th>50%</th>\n",
       "      <th>75%</th>\n",
       "      <th>max</th>\n",
       "      <th>count</th>\n",
       "      <th>mean</th>\n",
       "      <th>...</th>\n",
       "      <th>75%</th>\n",
       "      <th>max</th>\n",
       "      <th>count</th>\n",
       "      <th>mean</th>\n",
       "      <th>std</th>\n",
       "      <th>min</th>\n",
       "      <th>25%</th>\n",
       "      <th>50%</th>\n",
       "      <th>75%</th>\n",
       "      <th>max</th>\n",
       "    </tr>\n",
       "    <tr>\n",
       "      <th>status_resumo</th>\n",
       "      <th></th>\n",
       "      <th></th>\n",
       "      <th></th>\n",
       "      <th></th>\n",
       "      <th></th>\n",
       "      <th></th>\n",
       "      <th></th>\n",
       "      <th></th>\n",
       "      <th></th>\n",
       "      <th></th>\n",
       "      <th></th>\n",
       "      <th></th>\n",
       "      <th></th>\n",
       "      <th></th>\n",
       "      <th></th>\n",
       "      <th></th>\n",
       "      <th></th>\n",
       "      <th></th>\n",
       "      <th></th>\n",
       "      <th></th>\n",
       "      <th></th>\n",
       "    </tr>\n",
       "  </thead>\n",
       "  <tbody>\n",
       "    <tr>\n",
       "      <th>Bom</th>\n",
       "      <td>31.0</td>\n",
       "      <td>2.924913e+07</td>\n",
       "      <td>2.980847e+06</td>\n",
       "      <td>22195162.0</td>\n",
       "      <td>27114545.50</td>\n",
       "      <td>29254915.0</td>\n",
       "      <td>31596286.50</td>\n",
       "      <td>33936438.0</td>\n",
       "      <td>49.0</td>\n",
       "      <td>2017.081633</td>\n",
       "      <td>...</td>\n",
       "      <td>0.0</td>\n",
       "      <td>0.0</td>\n",
       "      <td>49.0</td>\n",
       "      <td>0.0</td>\n",
       "      <td>0.0</td>\n",
       "      <td>0.0</td>\n",
       "      <td>0.0</td>\n",
       "      <td>0.0</td>\n",
       "      <td>0.0</td>\n",
       "      <td>0.0</td>\n",
       "    </tr>\n",
       "    <tr>\n",
       "      <th>Excelente</th>\n",
       "      <td>8.0</td>\n",
       "      <td>3.026771e+07</td>\n",
       "      <td>3.389636e+06</td>\n",
       "      <td>24777653.0</td>\n",
       "      <td>28007447.25</td>\n",
       "      <td>31423695.5</td>\n",
       "      <td>32798517.25</td>\n",
       "      <td>33684612.0</td>\n",
       "      <td>15.0</td>\n",
       "      <td>2018.466667</td>\n",
       "      <td>...</td>\n",
       "      <td>0.0</td>\n",
       "      <td>0.0</td>\n",
       "      <td>15.0</td>\n",
       "      <td>0.0</td>\n",
       "      <td>0.0</td>\n",
       "      <td>0.0</td>\n",
       "      <td>0.0</td>\n",
       "      <td>0.0</td>\n",
       "      <td>0.0</td>\n",
       "      <td>0.0</td>\n",
       "    </tr>\n",
       "    <tr>\n",
       "      <th>Razoavel</th>\n",
       "      <td>21.0</td>\n",
       "      <td>2.839405e+07</td>\n",
       "      <td>2.660779e+06</td>\n",
       "      <td>24559132.0</td>\n",
       "      <td>26262130.00</td>\n",
       "      <td>28359255.0</td>\n",
       "      <td>29884988.00</td>\n",
       "      <td>33380331.0</td>\n",
       "      <td>41.0</td>\n",
       "      <td>2017.268293</td>\n",
       "      <td>...</td>\n",
       "      <td>0.0</td>\n",
       "      <td>0.0</td>\n",
       "      <td>41.0</td>\n",
       "      <td>0.0</td>\n",
       "      <td>0.0</td>\n",
       "      <td>0.0</td>\n",
       "      <td>0.0</td>\n",
       "      <td>0.0</td>\n",
       "      <td>0.0</td>\n",
       "      <td>0.0</td>\n",
       "    </tr>\n",
       "    <tr>\n",
       "      <th>Ruim</th>\n",
       "      <td>87.0</td>\n",
       "      <td>3.061052e+07</td>\n",
       "      <td>1.725404e+06</td>\n",
       "      <td>25486901.0</td>\n",
       "      <td>29236028.50</td>\n",
       "      <td>31135882.0</td>\n",
       "      <td>31783655.00</td>\n",
       "      <td>33936461.0</td>\n",
       "      <td>140.0</td>\n",
       "      <td>2018.735714</td>\n",
       "      <td>...</td>\n",
       "      <td>0.0</td>\n",
       "      <td>0.0</td>\n",
       "      <td>140.0</td>\n",
       "      <td>0.0</td>\n",
       "      <td>0.0</td>\n",
       "      <td>0.0</td>\n",
       "      <td>0.0</td>\n",
       "      <td>0.0</td>\n",
       "      <td>0.0</td>\n",
       "      <td>0.0</td>\n",
       "    </tr>\n",
       "  </tbody>\n",
       "</table>\n",
       "<p>4 rows × 168 columns</p>\n",
       "</div>"
      ],
      "text/plain": [
       "              id_pubmed                                                       \\\n",
       "                  count          mean           std         min          25%   \n",
       "status_resumo                                                                  \n",
       "Bom                31.0  2.924913e+07  2.980847e+06  22195162.0  27114545.50   \n",
       "Excelente           8.0  3.026771e+07  3.389636e+06  24777653.0  28007447.25   \n",
       "Razoavel           21.0  2.839405e+07  2.660779e+06  24559132.0  26262130.00   \n",
       "Ruim               87.0  3.061052e+07  1.725404e+06  25486901.0  29236028.50   \n",
       "\n",
       "                                                   ano_publicacao_scopus  \\\n",
       "                      50%          75%         max                 count   \n",
       "status_resumo                                                              \n",
       "Bom            29254915.0  31596286.50  33936438.0                  49.0   \n",
       "Excelente      31423695.5  32798517.25  33684612.0                  15.0   \n",
       "Razoavel       28359255.0  29884988.00  33380331.0                  41.0   \n",
       "Ruim           31135882.0  31783655.00  33936461.0                 140.0   \n",
       "\n",
       "                            ... artigo_leitura       \\\n",
       "                      mean  ...            75%  max   \n",
       "status_resumo               ...                       \n",
       "Bom            2017.081633  ...            0.0  0.0   \n",
       "Excelente      2018.466667  ...            0.0  0.0   \n",
       "Razoavel       2017.268293  ...            0.0  0.0   \n",
       "Ruim           2018.735714  ...            0.0  0.0   \n",
       "\n",
       "              artigo_referencia_dissertacao                                     \n",
       "                                      count mean  std  min  25%  50%  75%  max  \n",
       "status_resumo                                                                   \n",
       "Bom                                    49.0  0.0  0.0  0.0  0.0  0.0  0.0  0.0  \n",
       "Excelente                              15.0  0.0  0.0  0.0  0.0  0.0  0.0  0.0  \n",
       "Razoavel                               41.0  0.0  0.0  0.0  0.0  0.0  0.0  0.0  \n",
       "Ruim                                  140.0  0.0  0.0  0.0  0.0  0.0  0.0  0.0  \n",
       "\n",
       "[4 rows x 168 columns]"
      ]
     },
     "execution_count": 16,
     "metadata": {},
     "output_type": "execute_result"
    }
   ],
   "source": [
    "# Groupby by\n",
    "status_resumo = df_trab_relacionados.groupby(\"status_resumo\")\n",
    "\n",
    "# Summary statistic of all\n",
    "status_resumo.describe().head()"
   ]
  },
  {
   "cell_type": "code",
   "execution_count": 17,
   "metadata": {},
   "outputs": [
    {
     "data": {
      "image/png": "[encoded data removed]",
      "text/plain": [
       "<Figure size 864x432 with 1 Axes>"
      ]
     },
     "metadata": {
      "needs_background": "light"
     },
     "output_type": "display_data"
    }
   ],
   "source": [
    "plt.figure(figsize=(12,6))\n",
    "status_resumo.size().sort_values(ascending=False).plot.bar()\n",
    "plt.title(\"Status dos Artigos na Leitura dos Resumos\")\n",
    "plt.xticks(rotation=50)\n",
    "plt.xlabel(\"Qualidade dos artigos pelo resumo\")\n",
    "plt.ylabel(\"Quantidade de Artigos\")\n",
    "plt.grid()\n",
    "plt.show()"
   ]
  },
  {
   "cell_type": "code",
   "execution_count": 40,
   "metadata": {},
   "outputs": [
    {
     "data": {
      "text/plain": [
       "0         NaN\n",
       "1      2021.0\n",
       "2      2021.0\n",
       "3         NaN\n",
       "4         NaN\n",
       "        ...  \n",
       "431       NaN\n",
       "432       NaN\n",
       "433       NaN\n",
       "434       NaN\n",
       "435       NaN\n",
       "Name: data_leitura_resumo, Length: 436, dtype: float64"
      ]
     },
     "execution_count": 40,
     "metadata": {},
     "output_type": "execute_result"
    }
   ],
   "source": [
    "df_trab_relacionados['data_leitura_resumo'].dt.day"
   ]
  },
  {
   "cell_type": "code",
   "execution_count": 41,
   "metadata": {},
   "outputs": [],
   "source": [
    "s = pd.Series(pd.to_datetime('today'))"
   ]
  },
  {
   "cell_type": "code",
   "execution_count": 44,
   "metadata": {},
   "outputs": [
    {
     "name": "stdout",
     "output_type": "stream",
     "text": [
      "percentual do ano em que estamos\n"
     ]
    },
    {
     "data": {
      "text/plain": [
       "0    0.50137\n",
       "dtype: float64"
      ]
     },
     "execution_count": 44,
     "metadata": {},
     "output_type": "execute_result"
    }
   ],
   "source": [
    "print(f'percentual do ano em que estamos')\n",
    "s.dt.dayofyear / 365"
   ]
  },
  {
   "cell_type": "markdown",
   "metadata": {},
   "source": [
    "# Artigos que podem entrar e nao entrou"
   ]
  },
  {
   "attachments": {
    "image-2.png": {
     "image/png": "[encoded data removed]"
    }
   },
   "cell_type": "markdown",
   "metadata": {},
   "source": [
    "- Pharmacovigilance in the era of social media: Discovering adverse drug events cross-relating Twitter and PubMed \n",
    "<br>(ao pesquisar   TITLE-ABS-KEY ( mining  AND for  AND adverse  AND drug  AND events  AND on  AND twitter ) ) = 28 resultados\n",
    "- Detection of adverse drug reaction from twitter data\n",
    "    - e outros com a query acima\n",
    "- SSEL-ADE: A semi-supervised ensemble learning framework for extracting adverse drug events from social media, mesmo autor de um artigo interessante da pesquisa (![image-2.png](attachment:image-2.png))\n",
    "- Adaptation of algorithms for medical information retrieval for working on russian-language text content\n",
    "\n"
   ]
  },
  {
   "cell_type": "markdown",
   "metadata": {},
   "source": [
    "# Curiosidades"
   ]
  },
  {
   "cell_type": "markdown",
   "metadata": {},
   "source": [
    "# Exportação do resultado para Excel"
   ]
  },
  {
   "cell_type": "markdown",
   "metadata": {
    "heading_collapsed": true
   },
   "source": [
    "## Planilhas"
   ]
  },
  {
   "cell_type": "code",
   "execution_count": 18,
   "metadata": {
    "hidden": true
   },
   "outputs": [
    {
     "data": {
      "text/plain": [
       "Index(['id_pubmed', 'issn_scopus', 'titulo_artigo', 'titulo_artigo_scopus',\n",
       "       'titulo_artigo_scopus_traduzido', 'titulo_artigo_pubmed',\n",
       "       'titulo_artigo_pubmed_traduzido', 'ano_publicacao_scopus',\n",
       "       'quantidade_citacoes', 'documentos_6+', 'documentos_94+', 'fonte',\n",
       "       'jornal_book_pubmed', 'autores_pubmed', 'ano_publicacao_pubmed',\n",
       "       'idioma_original', 'tipo_documento', 'pdf_baixado', 'acesso_livre',\n",
       "       'autores_scopus', 'titulo_fonte', 'volume', 'publicado',\n",
       "       'numero_artigo', 'doi', 'doi_scopus', 'doi_pubmed', 'link_scopus',\n",
       "       'afiliacoes', 'autores_com_filiacoes', 'nomes_comerciais',\n",
       "       'fabricantes', 'quimica', 'detalhes_financiamento',\n",
       "       'texto_financiamento_1', 'texto_financiamento_2',\n",
       "       'texto_financiamento_3', 'referencias', 'endereco_correspondencia',\n",
       "       'editores', 'patrocinadores', 'editor', 'nome_conferencia',\n",
       "       'data_conferencia', 'local_conferencia', 'codigo_conferencia', 'isbn',\n",
       "       'coden', 'titulo_abreviado_fonte', 'etapa_publicacao', 'eid',\n",
       "       'quantidade_paginas_', 'data_criacao_pubmed', 'primeiro_autor_pubmed',\n",
       "       'id_pmc_pubmed', 'id_nihms_pubmed', 'citacao_pubmed',\n",
       "       'palavras_chaves_autor', 'palavras_chave_index',\n",
       "       'palavras_chaves_titulo', 'palavras_chaves_resumo', 'resumo',\n",
       "       'resumo_traduzido', 'resumo_traduzido_google_translator',\n",
       "       'leitura_completa', 'leitura_resumo', 'leitura_conclusao',\n",
       "       'conclusao_traduzida', 'conceituar_metamap',\n",
       "       'conceituar_farmacovigilancia',\n",
       "       'conceituar_Reacao_adversa_medicamentos_RAM',\n",
       "       'conceituar_reconhecimento_entidades_nomeadas_REN', 'conceituar_UMLS',\n",
       "       'conceituar_metamap_data_file_builder_DFB',\n",
       "       'conceituar_ferramenta_lexicos_LVG', 'conceituar_MetamorphoSys',\n",
       "       'conceituar_NLP', 'conceituar_outros', 'observacao', 'status_resumo',\n",
       "       'data_leitura_resumo', 'data_leitura_completa', 'sincronizado_mendely',\n",
       "       'nota_artigo', 'artigo_leitura', 'artigo_referencia_dissertacao'],\n",
       "      dtype='object')"
      ]
     },
     "execution_count": 18,
     "metadata": {},
     "output_type": "execute_result"
    }
   ],
   "source": [
    "df_trab_relacionados.columns"
   ]
  },
  {
   "cell_type": "raw",
   "metadata": {
    "hidden": true
   },
   "source": [
    "## Gerar planilha com colunas especificas\n",
    "#resultado_geral = os.path.join('../data','scopus-31-05-2021.csv')\n",
    "base_traduzida = os.path.join('../data','bases_filtradas_traduzida.xlsx')\n",
    "sheetname=\"base_traduzida\"\n",
    "\n",
    "df_xlsx_traduzido = pd.DataFrame(df_trab_relacionados, columns = [\n",
    "    \n",
    "    'id_pubmed', 'issn_scopus', 'titulo_artigo', 'titulo_artigo_scopus','titulo_artigo_scopus_traduzido',\n",
    "    'titulo_artigo_pubmed', 'titulo_artigo_pubmed_traduzido','ano_publicacao_scopus', 'quantidade_citacoes',\n",
    "       'documentos_6+', 'documentos_94+', 'fonte', 'jornal_book_pubmed',\n",
    "       'autores_pubmed', 'ano_publicacao_pubmed', 'idioma_original',\n",
    "       'tipo_documento', 'pdf_baixado', 'acesso_livre', 'autores_scopus',\n",
    "       'titulo_fonte', 'volume', 'publicado', 'numero_artigo', 'doi',\n",
    "       'doi_scopus', 'doi_pubmed', 'link_scopus', 'afiliacoes',\n",
    "       'autores_com_filiacoes', 'nomes_comerciais', 'fabricantes', 'quimica',\n",
    "       'detalhes_financiamento', 'texto_financiamento_1',\n",
    "       'texto_financiamento_2', 'texto_financiamento_3', 'referencias',\n",
    "       'endereco_correspondencia', 'editores', 'patrocinadores', 'editor',\n",
    "       'nome_conferencia', 'data_conferencia', 'local_conferencia',\n",
    "       'codigo_conferencia', 'isbn', 'coden', 'titulo_abreviado_fonte',\n",
    "       'etapa_publicacao', 'eid', 'quantidade_paginas_', 'data_criacao_pubmed',\n",
    "       'primeiro_autor_pubmed', 'id_pmc_pubmed', 'id_nihms_pubmed',\n",
    "       'citacao_pubmed', 'palavras_chaves_autor', 'palavras_chave_index',\n",
    "       'palavras_chaves_titulo', 'palavras_chaves_resumo',\n",
    "    'resumo','resumo_traduzido','resumo_traduzido_google_translator',\n",
    "       'leitura_completa', 'leitura_resumo', 'leitura_conclusao',\n",
    "       'conclusao_traduzida', 'conceituar_metamap',\n",
    "       'conceituar_farmacovigilancia',\n",
    "       'conceituar_Reacao_adversa_medicamentos_RAM',\n",
    "       'conceituar_reconhecimento_entidades_nomeadas_REN', 'conceituar_UMLS',\n",
    "       'conceituar_metamap_data_file_builder_DFB',\n",
    "       'conceituar_ferramenta_lexicos_LVG', 'conceituar_MetamorphoSys',\n",
    "       'conceituar_NLP', 'conceituar_outros', 'observacao',\n",
    "       'data_leitura_resumo', 'data_leitura_completa','sincronizado_mendely',\n",
    "    \n",
    "    #'docs_94+_procv',\n",
    "       'nota_artigo', 'artigo_leitura', 'artigo_referencia_dissertacao'\n",
    "        \n",
    "    ,])\n",
    "df_xlsx_traduzido = df_xlsx_traduzido.to_excel(base_traduzida,sheet_name=sheetname,index=False, encoding='utf-8', header=True)"
   ]
  },
  {
   "cell_type": "markdown",
   "metadata": {},
   "source": [
    "# Tempo de Execução do trabalho"
   ]
  },
  {
   "cell_type": "code",
   "execution_count": 19,
   "metadata": {},
   "outputs": [
    {
     "name": "stdout",
     "output_type": "stream",
     "text": [
      "Programa iniciado em: 2021-07-02 00:11:49.362197, e terminado em 2021-07-02 00:11:51.704509\n"
     ]
    }
   ],
   "source": [
    "data_fim = pd.Timestamp.now()\n",
    "print(f'Programa iniciado em: {data_inicio}, e terminado em {data_fim}' )"
   ]
  },
  {
   "cell_type": "code",
   "execution_count": 22,
   "metadata": {},
   "outputs": [
    {
     "name": "stdout",
     "output_type": "stream",
     "text": [
      "Shape da planinha: (436, 86)\n"
     ]
    }
   ],
   "source": [
    "print(f'Shape da planinha: {df_trab_relacionados.shape}')"
   ]
  },
  {
   "cell_type": "code",
   "execution_count": null,
   "metadata": {},
   "outputs": [],
   "source": []
  }
 ],
 "metadata": {
  "kernelspec": {
   "display_name": "Python 3",
   "language": "python",
   "name": "python3"
  },
  "language_info": {
   "codemirror_mode": {
    "name": "ipython",
    "version": 3
   },
   "file_extension": ".py",
   "mimetype": "text/x-python",
   "name": "python",
   "nbconvert_exporter": "python",
   "pygments_lexer": "ipython3",
   "version": "3.7.9"
  },
  "toc": {
   "base_numbering": 1,
   "nav_menu": {},
   "number_sections": true,
   "sideBar": true,
   "skip_h1_title": false,
   "title_cell": "Table of Contents",
   "title_sidebar": "Conteúdo",
   "toc_cell": false,
   "toc_position": {
    "height": "757px",
    "left": "1536px",
    "top": "110px",
    "width": "340.503px"
   },
   "toc_section_display": true,
   "toc_window_display": true
  }
 },
 "nbformat": 4,
 "nbformat_minor": 4
}

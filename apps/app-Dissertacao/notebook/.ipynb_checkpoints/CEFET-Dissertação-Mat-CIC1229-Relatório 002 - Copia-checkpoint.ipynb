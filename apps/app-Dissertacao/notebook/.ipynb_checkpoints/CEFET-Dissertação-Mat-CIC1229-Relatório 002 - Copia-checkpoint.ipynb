{
 "cells": [
  {
   "cell_type": "markdown",
   "metadata": {},
   "source": [
    "<img src=\"../image/logo-cefet.png\" width=\"300\">\n",
    "\n",
    "<h1> PPCIC Dissertação - 2021\n",
    "    <br>\n",
    "    <br>\n",
    "    DETECÇÃO DE EVENTOS ADVERSOS ATRAVÉS DO TWITTER UTILIZANDO O METAMAP PARA O PORTUGUÊS DO BRASIL </h1>\n",
    "</br>\n",
    "\n",
    "<h2> Matéria: CIC1229 - TÓPICOS ESPECIAIS EM ALGORITMOS </h2>\n",
    "<h2> Aluno: Perciliano </h2>\n",
    "<h2> Orientadora: Kele Belloze </h2>\n",
    "<h3> Data: 11/06/2021 </h3>\n",
    "\n",
    "---"
   ]
  },
  {
   "cell_type": "markdown",
   "metadata": {},
   "source": [
    "**Autor: Luiz Perciliano** - \n",
    "***luiz.perciliano@eic.cefet-rj.br***\n",
    "\n",
    "- Dados da pesquisa na base SCOPUS dia 13-06-2021\n",
    "- 1 - String de busca geral\n",
    "<br>\n",
    "458 document results\n",
    "<br>\n",
    "TITLE-ABS-KEY \n",
    "<br>\n",
    "<b>( ( ( \"natural language processing\"  AND  ( \"adverse drug reaction\"  OR  \"adverse drug event\"  OR  pharmacovigilance  OR  metamap ) ) ) )  </b>\n",
    "<br>\n",
    "Essa string 1 contém as 2 e 3.\n",
    "\n",
    "---------------\n",
    "\n",
    "- 2 - String de busca inclusa na principal PARA LER E fazer Snowballing principalmente para frente\n",
    "<br>\n",
    "6 document results\n",
    "<br>\n",
    "( ( \"natural language processing\"  AND  ( \"adverse drug reaction\"  OR  \"adverse drug event\"  OR  pharmacovigilance ) )  AND  metamap )  \n",
    "\n",
    "---------------\n",
    "\n",
    "- 3 - String útil\n",
    "<br>\n",
    "94 document results\n",
    "( \"natural language processing\" AND ( \"adverse drug reaction\" OR \"adverse drug event\" OR pharmacovigilance ) AND ( \"social media\" OR \"social network\" OR twitter ) )\n",
    "\n",
    "\n",
    "<br>\n",
    "\n",
    "**Requisitos**\n",
    "- RF01 - Analisar bases de dados\n",
    "- RF02 - Remover duplicatas\n",
    "- RF03 - Filtrar artigos (retirar os documentos do tipo: conference review, editorial, letter e note)\n",
    "- RF04 - Identificar artigos para leitura de resumo e conclusão\n",
    "- RF05 - Identificar artigos para leitura completa\n",
    "\n",
    "<b>Site do projeto:</b> https:git.com\n",
    "<br>\n",
    "**Endereço da dissertação:** https://pt.overleaf.com/project/60731ca2bcfa0afce8ae0cd1\n",
    "\n",
    "---"
   ]
  },
  {
   "cell_type": "markdown",
   "metadata": {},
   "source": [
    "# Preparar Infraesrtutura"
   ]
  },
  {
   "cell_type": "code",
   "execution_count": 1,
   "metadata": {},
   "outputs": [
    {
     "name": "stdout",
     "output_type": "stream",
     "text": [
      "Importar as bibliotecas necessárias e mapear a pasta do projeto.\n"
     ]
    }
   ],
   "source": [
    "print(f'Importar as bibliotecas necessárias e mapear a pasta do projeto.')\n",
    "import os, re\n",
    "import sys\n",
    "import pandas as pd\n",
    "import datetime\n",
    "\n",
    "import matplotlib.pyplot as plt\n",
    "import seaborn as sns\n",
    "%matplotlib inline\n",
    "\n",
    "import nltk\n",
    "from unidecode import unidecode\n",
    "from wordcloud import WordCloud, STOPWORDS, ImageColorGenerator"
   ]
  },
  {
   "cell_type": "code",
   "execution_count": 2,
   "metadata": {},
   "outputs": [
    {
     "name": "stdout",
     "output_type": "stream",
     "text": [
      "2021-06-16 00:16:17.823455\n"
     ]
    }
   ],
   "source": [
    "data_inicio = pd.Timestamp.now()\n",
    "print(data_inicio)"
   ]
  },
  {
   "cell_type": "code",
   "execution_count": 3,
   "metadata": {
    "deletable": false,
    "editable": false
   },
   "outputs": [
    {
     "name": "stdout",
     "output_type": "stream",
     "text": [
      "Lista do conteúdo da pasta ...\n"
     ]
    },
    {
     "data": {
      "text/plain": [
       "['base-qualis-06-06-2021.xlsx',\n",
       " 'classificacao_qualis_06-06-2021.xls',\n",
       " 'Evaluation-of-Natural-Language-Processing-NLP-systems-to-annotate-drug-product-labeling-with-MedDRA-terminologyJournal-of-Biomedical-Informatics.pdf',\n",
       " 'pubmed-10-06-2021.csv',\n",
       " 'pubmed.csv',\n",
       " 'PubMed_Timeline_Results_by_Year-10-06-2021.csv',\n",
       " 'requiremets.txt',\n",
       " 'resultado_dfs.xlsx',\n",
       " 'resultado_geral.xlsx',\n",
       " 'resultado_geral_06-06-2021.xlsx',\n",
       " 'resultado_pubmed.xlsx',\n",
       " 'resultado_scopus-luciana-12-06-2021-v2.xlsx',\n",
       " 'resultado_scopus-luciana-12-06-2021.xlsx',\n",
       " 'resultado_scopus-luciana.xlsx',\n",
       " 'resultado_scopus.xlsx',\n",
       " 'resultado_scopus_10-06-2021.xlsx',\n",
       " 'scopus-12-06-2021-luciana.csv',\n",
       " 'scopus-31-05-2021.csv',\n",
       " 'scopus.csv',\n",
       " 'stop_word_projeto.csv',\n",
       " 'stop_word_pt.csv',\n",
       " '~$resultado_scopus-luciana-12-06-2021.xlsx']"
      ]
     },
     "execution_count": 3,
     "metadata": {},
     "output_type": "execute_result"
    }
   ],
   "source": [
    "print(f'Lista do conteúdo da pasta ...')\n",
    "os.listdir(os.path.join('..','data'))"
   ]
  },
  {
   "cell_type": "code",
   "execution_count": 4,
   "metadata": {
    "deletable": false,
    "editable": false
   },
   "outputs": [
    {
     "data": {
      "text/plain": [
       "['logo-cefet.png', 'Logo_CVM.png', 'puc-rio-logo.png', 'wordcloud.pdf']"
      ]
     },
     "execution_count": 4,
     "metadata": {},
     "output_type": "execute_result"
    }
   ],
   "source": [
    "os.listdir('../Image')"
   ]
  },
  {
   "cell_type": "markdown",
   "metadata": {},
   "source": [
    "## Verificar, atualizar e instalar se necessário python e módulos "
   ]
  },
  {
   "cell_type": "markdown",
   "metadata": {},
   "source": [
    "# Preparar e carregar base de dados"
   ]
  },
  {
   "cell_type": "markdown",
   "metadata": {},
   "source": [
    "## Conexão e consulta ao SQL Server"
   ]
  },
  {
   "cell_type": "markdown",
   "metadata": {
    "heading_collapsed": true
   },
   "source": [
    "## Carregar Planilha - Base Qualis"
   ]
  },
  {
   "cell_type": "code",
   "execution_count": 5,
   "metadata": {
    "hidden": true
   },
   "outputs": [
    {
     "name": "stdout",
     "output_type": "stream",
     "text": [
      "Carregando pesquisa realizada na base Scopus.\n"
     ]
    },
    {
     "data": {
      "text/html": [
       "<div>\n",
       "<style scoped>\n",
       "    .dataframe tbody tr th:only-of-type {\n",
       "        vertical-align: middle;\n",
       "    }\n",
       "\n",
       "    .dataframe tbody tr th {\n",
       "        vertical-align: top;\n",
       "    }\n",
       "\n",
       "    .dataframe thead th {\n",
       "        text-align: right;\n",
       "    }\n",
       "</style>\n",
       "<table border=\"1\" class=\"dataframe\">\n",
       "  <thead>\n",
       "    <tr style=\"text-align: right;\">\n",
       "      <th></th>\n",
       "      <th>ISSN</th>\n",
       "      <th>Título</th>\n",
       "      <th>Área de Avaliação</th>\n",
       "      <th>Estrato</th>\n",
       "    </tr>\n",
       "  </thead>\n",
       "  <tbody>\n",
       "    <tr>\n",
       "      <th>0</th>\n",
       "      <td>1981-030X</td>\n",
       "      <td>19&amp;20 (RIO DE JANEIRO)</td>\n",
       "      <td>ADMINISTRAÇÃO PÚBLICA E DE EMPRESAS, CIÊNCIAS ...</td>\n",
       "      <td>C</td>\n",
       "    </tr>\n",
       "    <tr>\n",
       "      <th>1</th>\n",
       "      <td>2236-6695</td>\n",
       "      <td>A BARRIGUDA: REVISTA CIENTÍFICA</td>\n",
       "      <td>ADMINISTRAÇÃO PÚBLICA E DE EMPRESAS, CIÊNCIAS ...</td>\n",
       "      <td>B4</td>\n",
       "    </tr>\n",
       "    <tr>\n",
       "      <th>2</th>\n",
       "      <td>1413-6090</td>\n",
       "      <td>A ECONOMIA EM REVISTA</td>\n",
       "      <td>ADMINISTRAÇÃO PÚBLICA E DE EMPRESAS, CIÊNCIAS ...</td>\n",
       "      <td>B4</td>\n",
       "    </tr>\n",
       "    <tr>\n",
       "      <th>3</th>\n",
       "      <td>1516-3210</td>\n",
       "      <td>A&amp;C. REVISTA DE DIREITO ADMINISTRATIVO &amp; CONST...</td>\n",
       "      <td>ADMINISTRAÇÃO PÚBLICA E DE EMPRESAS, CIÊNCIAS ...</td>\n",
       "      <td>B4</td>\n",
       "    </tr>\n",
       "    <tr>\n",
       "      <th>4</th>\n",
       "      <td>0001-3072</td>\n",
       "      <td>ABACUS (SYDNEY. PRINT)</td>\n",
       "      <td>ADMINISTRAÇÃO PÚBLICA E DE EMPRESAS, CIÊNCIAS ...</td>\n",
       "      <td>A2</td>\n",
       "    </tr>\n",
       "    <tr>\n",
       "      <th>...</th>\n",
       "      <td>...</td>\n",
       "      <td>...</td>\n",
       "      <td>...</td>\n",
       "      <td>...</td>\n",
       "    </tr>\n",
       "    <tr>\n",
       "      <th>131269</th>\n",
       "      <td>1175-5326</td>\n",
       "      <td>ZOOTAXA (AUCKLAND. PRINT)</td>\n",
       "      <td>ZOOTECNIA / RECURSOS PESQUEIROS               ...</td>\n",
       "      <td>B1</td>\n",
       "    </tr>\n",
       "    <tr>\n",
       "      <th>131270</th>\n",
       "      <td>1175-5334</td>\n",
       "      <td>ZOOTAXA (ONLINE)</td>\n",
       "      <td>ZOOTECNIA / RECURSOS PESQUEIROS               ...</td>\n",
       "      <td>B1</td>\n",
       "    </tr>\n",
       "    <tr>\n",
       "      <th>131271</th>\n",
       "      <td>2358-3576</td>\n",
       "      <td>ZOOTECNIA</td>\n",
       "      <td>ZOOTECNIA / RECURSOS PESQUEIROS               ...</td>\n",
       "      <td>C</td>\n",
       "    </tr>\n",
       "    <tr>\n",
       "      <th>131272</th>\n",
       "      <td>0798-7269</td>\n",
       "      <td>ZOOTECNIA TROPICAL - FONAIAP</td>\n",
       "      <td>ZOOTECNIA / RECURSOS PESQUEIROS               ...</td>\n",
       "      <td>B3</td>\n",
       "    </tr>\n",
       "    <tr>\n",
       "      <th>131273</th>\n",
       "      <td>0967-1994</td>\n",
       "      <td>ZYGOTE (CAMBRIDGE. PRINT)</td>\n",
       "      <td>ZOOTECNIA / RECURSOS PESQUEIROS               ...</td>\n",
       "      <td>B2</td>\n",
       "    </tr>\n",
       "  </tbody>\n",
       "</table>\n",
       "<p>131274 rows × 4 columns</p>\n",
       "</div>"
      ],
      "text/plain": [
       "             ISSN                                             Título  \\\n",
       "0       1981-030X                             19&20 (RIO DE JANEIRO)   \n",
       "1       2236-6695                    A BARRIGUDA: REVISTA CIENTÍFICA   \n",
       "2       1413-6090                              A ECONOMIA EM REVISTA   \n",
       "3       1516-3210  A&C. REVISTA DE DIREITO ADMINISTRATIVO & CONST...   \n",
       "4       0001-3072                             ABACUS (SYDNEY. PRINT)   \n",
       "...           ...                                                ...   \n",
       "131269  1175-5326                          ZOOTAXA (AUCKLAND. PRINT)   \n",
       "131270  1175-5334                                   ZOOTAXA (ONLINE)   \n",
       "131271  2358-3576                                          ZOOTECNIA   \n",
       "131272  0798-7269                       ZOOTECNIA TROPICAL - FONAIAP   \n",
       "131273  0967-1994                          ZYGOTE (CAMBRIDGE. PRINT)   \n",
       "\n",
       "                                        Área de Avaliação Estrato  \n",
       "0       ADMINISTRAÇÃO PÚBLICA E DE EMPRESAS, CIÊNCIAS ...      C   \n",
       "1       ADMINISTRAÇÃO PÚBLICA E DE EMPRESAS, CIÊNCIAS ...      B4  \n",
       "2       ADMINISTRAÇÃO PÚBLICA E DE EMPRESAS, CIÊNCIAS ...      B4  \n",
       "3       ADMINISTRAÇÃO PÚBLICA E DE EMPRESAS, CIÊNCIAS ...      B4  \n",
       "4       ADMINISTRAÇÃO PÚBLICA E DE EMPRESAS, CIÊNCIAS ...      A2  \n",
       "...                                                   ...     ...  \n",
       "131269  ZOOTECNIA / RECURSOS PESQUEIROS               ...      B1  \n",
       "131270  ZOOTECNIA / RECURSOS PESQUEIROS               ...      B1  \n",
       "131271  ZOOTECNIA / RECURSOS PESQUEIROS               ...      C   \n",
       "131272  ZOOTECNIA / RECURSOS PESQUEIROS               ...      B3  \n",
       "131273  ZOOTECNIA / RECURSOS PESQUEIROS               ...      B2  \n",
       "\n",
       "[131274 rows x 4 columns]"
      ]
     },
     "execution_count": 5,
     "metadata": {},
     "output_type": "execute_result"
    }
   ],
   "source": [
    "print('Carregando pesquisa realizada na base Scopus.')\n",
    "'''\n",
    "Fonte: https://sucupira.capes.gov.br/sucupira/public/consultas/coleta/veiculoPublicacaoQualis/listaConsultaGeralPeriodicos.jsf\n",
    "Periódico do quadriênio 2013-2016\n",
    "'''\n",
    "arquivo_base_qualis = os.path.join('../data','base-qualis-06-06-2021.xlsx')\n",
    "raw_data_qualis = pd.read_excel(arquivo_base_qualis)\n",
    "raw_data_qualis"
   ]
  },
  {
   "cell_type": "markdown",
   "metadata": {},
   "source": [
    "## Carregar CSV - Scopus"
   ]
  },
  {
   "cell_type": "code",
   "execution_count": 6,
   "metadata": {},
   "outputs": [
    {
     "name": "stdout",
     "output_type": "stream",
     "text": [
      "Visualização do dataframe carregado da base scopus.\n"
     ]
    },
    {
     "data": {
      "text/html": [
       "<div>\n",
       "<style scoped>\n",
       "    .dataframe tbody tr th:only-of-type {\n",
       "        vertical-align: middle;\n",
       "    }\n",
       "\n",
       "    .dataframe tbody tr th {\n",
       "        vertical-align: top;\n",
       "    }\n",
       "\n",
       "    .dataframe thead th {\n",
       "        text-align: right;\n",
       "    }\n",
       "</style>\n",
       "<table border=\"1\" class=\"dataframe\">\n",
       "  <thead>\n",
       "    <tr style=\"text-align: right;\">\n",
       "      <th></th>\n",
       "      <th>Authors</th>\n",
       "      <th>Author(s) ID</th>\n",
       "      <th>Title</th>\n",
       "      <th>Year</th>\n",
       "      <th>Source title</th>\n",
       "      <th>Volume</th>\n",
       "      <th>Issue</th>\n",
       "      <th>Art. No.</th>\n",
       "      <th>Page start</th>\n",
       "      <th>Page end</th>\n",
       "      <th>...</th>\n",
       "      <th>ISBN</th>\n",
       "      <th>CODEN</th>\n",
       "      <th>PubMed ID</th>\n",
       "      <th>Language of Original Document</th>\n",
       "      <th>Abbreviated Source Title</th>\n",
       "      <th>Document Type</th>\n",
       "      <th>Publication Stage</th>\n",
       "      <th>Open Access</th>\n",
       "      <th>Source</th>\n",
       "      <th>EID</th>\n",
       "    </tr>\n",
       "  </thead>\n",
       "  <tbody>\n",
       "    <tr>\n",
       "      <th>0</th>\n",
       "      <td>Zhang F., Sun B., Diao X., Zhao W., Shu T.</td>\n",
       "      <td>57221913449;57221919849;57202804485;5719859752...</td>\n",
       "      <td>Prediction of adverse drug reactions based on ...</td>\n",
       "      <td>2021</td>\n",
       "      <td>BMC Medical Informatics and Decision Making</td>\n",
       "      <td>21</td>\n",
       "      <td>1</td>\n",
       "      <td>38</td>\n",
       "      <td>NaN</td>\n",
       "      <td>NaN</td>\n",
       "      <td>...</td>\n",
       "      <td>NaN</td>\n",
       "      <td>NaN</td>\n",
       "      <td>33541342.0</td>\n",
       "      <td>English</td>\n",
       "      <td>BMC Med. Informatics Decis. Mak.</td>\n",
       "      <td>Article</td>\n",
       "      <td>Final</td>\n",
       "      <td>All Open Access, Gold, Green</td>\n",
       "      <td>Scopus</td>\n",
       "      <td>2-s2.0-85100558743</td>\n",
       "    </tr>\n",
       "    <tr>\n",
       "      <th>1</th>\n",
       "      <td>Shen C., Li Z., Chu Y., Zhao Z.</td>\n",
       "      <td>57206995169;57213179826;57191405659;56171564000;</td>\n",
       "      <td>GAR: Graph adversarial representation for adve...</td>\n",
       "      <td>2021</td>\n",
       "      <td>Applied Soft Computing</td>\n",
       "      <td>106</td>\n",
       "      <td>NaN</td>\n",
       "      <td>107324</td>\n",
       "      <td>NaN</td>\n",
       "      <td>NaN</td>\n",
       "      <td>...</td>\n",
       "      <td>NaN</td>\n",
       "      <td>NaN</td>\n",
       "      <td>NaN</td>\n",
       "      <td>English</td>\n",
       "      <td>Appl. Soft Comput.</td>\n",
       "      <td>Article</td>\n",
       "      <td>Final</td>\n",
       "      <td>NaN</td>\n",
       "      <td>Scopus</td>\n",
       "      <td>2-s2.0-85103114472</td>\n",
       "    </tr>\n",
       "    <tr>\n",
       "      <th>2</th>\n",
       "      <td>Shannon G.J., Rayapati N., Corns S.M., Wunsch ...</td>\n",
       "      <td>56275865000;57219795472;6506365939;7006706193;</td>\n",
       "      <td>Comparative study using inverse ontology cogen...</td>\n",
       "      <td>2021</td>\n",
       "      <td>Neural Networks</td>\n",
       "      <td>139</td>\n",
       "      <td>NaN</td>\n",
       "      <td>NaN</td>\n",
       "      <td>86</td>\n",
       "      <td>104</td>\n",
       "      <td>...</td>\n",
       "      <td>NaN</td>\n",
       "      <td>NNETE</td>\n",
       "      <td>33684612.0</td>\n",
       "      <td>English</td>\n",
       "      <td>Neural Netw.</td>\n",
       "      <td>Article</td>\n",
       "      <td>Final</td>\n",
       "      <td>NaN</td>\n",
       "      <td>Scopus</td>\n",
       "      <td>2-s2.0-85102081027</td>\n",
       "    </tr>\n",
       "    <tr>\n",
       "      <th>3</th>\n",
       "      <td>Allam N., Audeh B., Jaulent M.-C., Bousquet C.</td>\n",
       "      <td>57224206480;55452137800;7003346504;8609880700;</td>\n",
       "      <td>Visualising Patterns Associated with Adverse D...</td>\n",
       "      <td>2021</td>\n",
       "      <td>Studies in health technology and informatics</td>\n",
       "      <td>281</td>\n",
       "      <td>NaN</td>\n",
       "      <td>NaN</td>\n",
       "      <td>1110</td>\n",
       "      <td>1111</td>\n",
       "      <td>...</td>\n",
       "      <td>NaN</td>\n",
       "      <td>NaN</td>\n",
       "      <td>34042861.0</td>\n",
       "      <td>English</td>\n",
       "      <td>Stud Health Technol Inform</td>\n",
       "      <td>Article</td>\n",
       "      <td>Final</td>\n",
       "      <td>All Open Access, Hybrid Gold</td>\n",
       "      <td>Scopus</td>\n",
       "      <td>2-s2.0-85107238693</td>\n",
       "    </tr>\n",
       "    <tr>\n",
       "      <th>4</th>\n",
       "      <td>El-allaly E.-D., Sarrouti M., En-Nahnahi N., O...</td>\n",
       "      <td>57207994980;57170906800;57221862377;55891723400;</td>\n",
       "      <td>MTTLADE: A multi-task transfer learning-based ...</td>\n",
       "      <td>2021</td>\n",
       "      <td>Information Processing and Management</td>\n",
       "      <td>58</td>\n",
       "      <td>3</td>\n",
       "      <td>102473</td>\n",
       "      <td>NaN</td>\n",
       "      <td>NaN</td>\n",
       "      <td>...</td>\n",
       "      <td>NaN</td>\n",
       "      <td>IPMAD</td>\n",
       "      <td>NaN</td>\n",
       "      <td>English</td>\n",
       "      <td>Inf. Process. Manage.</td>\n",
       "      <td>Article</td>\n",
       "      <td>Final</td>\n",
       "      <td>NaN</td>\n",
       "      <td>Scopus</td>\n",
       "      <td>2-s2.0-85100465366</td>\n",
       "    </tr>\n",
       "  </tbody>\n",
       "</table>\n",
       "<p>5 rows × 47 columns</p>\n",
       "</div>"
      ],
      "text/plain": [
       "                                             Authors  \\\n",
       "0         Zhang F., Sun B., Diao X., Zhao W., Shu T.   \n",
       "1                    Shen C., Li Z., Chu Y., Zhao Z.   \n",
       "2  Shannon G.J., Rayapati N., Corns S.M., Wunsch ...   \n",
       "3     Allam N., Audeh B., Jaulent M.-C., Bousquet C.   \n",
       "4  El-allaly E.-D., Sarrouti M., En-Nahnahi N., O...   \n",
       "\n",
       "                                        Author(s) ID  \\\n",
       "0  57221913449;57221919849;57202804485;5719859752...   \n",
       "1   57206995169;57213179826;57191405659;56171564000;   \n",
       "2     56275865000;57219795472;6506365939;7006706193;   \n",
       "3     57224206480;55452137800;7003346504;8609880700;   \n",
       "4   57207994980;57170906800;57221862377;55891723400;   \n",
       "\n",
       "                                               Title  Year  \\\n",
       "0  Prediction of adverse drug reactions based on ...  2021   \n",
       "1  GAR: Graph adversarial representation for adve...  2021   \n",
       "2  Comparative study using inverse ontology cogen...  2021   \n",
       "3  Visualising Patterns Associated with Adverse D...  2021   \n",
       "4  MTTLADE: A multi-task transfer learning-based ...  2021   \n",
       "\n",
       "                                   Source title Volume Issue Art. No.  \\\n",
       "0   BMC Medical Informatics and Decision Making     21     1       38   \n",
       "1                        Applied Soft Computing    106   NaN   107324   \n",
       "2                               Neural Networks    139   NaN      NaN   \n",
       "3  Studies in health technology and informatics    281   NaN      NaN   \n",
       "4         Information Processing and Management     58     3   102473   \n",
       "\n",
       "  Page start Page end  ...  ISBN  CODEN   PubMed ID  \\\n",
       "0        NaN      NaN  ...   NaN    NaN  33541342.0   \n",
       "1        NaN      NaN  ...   NaN    NaN         NaN   \n",
       "2         86      104  ...   NaN  NNETE  33684612.0   \n",
       "3       1110     1111  ...   NaN    NaN  34042861.0   \n",
       "4        NaN      NaN  ...   NaN  IPMAD         NaN   \n",
       "\n",
       "  Language of Original Document          Abbreviated Source Title  \\\n",
       "0                       English  BMC Med. Informatics Decis. Mak.   \n",
       "1                       English                Appl. Soft Comput.   \n",
       "2                       English                      Neural Netw.   \n",
       "3                       English        Stud Health Technol Inform   \n",
       "4                       English             Inf. Process. Manage.   \n",
       "\n",
       "  Document Type Publication Stage                   Open Access  Source  \\\n",
       "0       Article             Final  All Open Access, Gold, Green  Scopus   \n",
       "1       Article             Final                           NaN  Scopus   \n",
       "2       Article             Final                           NaN  Scopus   \n",
       "3       Article             Final  All Open Access, Hybrid Gold  Scopus   \n",
       "4       Article             Final                           NaN  Scopus   \n",
       "\n",
       "                  EID  \n",
       "0  2-s2.0-85100558743  \n",
       "1  2-s2.0-85103114472  \n",
       "2  2-s2.0-85102081027  \n",
       "3  2-s2.0-85107238693  \n",
       "4  2-s2.0-85100465366  \n",
       "\n",
       "[5 rows x 47 columns]"
      ]
     },
     "execution_count": 6,
     "metadata": {},
     "output_type": "execute_result"
    }
   ],
   "source": [
    "print('Visualização do dataframe carregado da base scopus.')\n",
    "arquivo_base_scopus = os.path.join('../data','scopus.csv')\n",
    "raw_data_scopus = pd.read_csv(arquivo_base_scopus, sep=\",\", delimiter=None, encoding='utf-8')\n",
    "raw_data_scopus.head()"
   ]
  },
  {
   "cell_type": "markdown",
   "metadata": {},
   "source": [
    "## Carregar CSV - PubMed"
   ]
  },
  {
   "cell_type": "code",
   "execution_count": 7,
   "metadata": {},
   "outputs": [
    {
     "name": "stdout",
     "output_type": "stream",
     "text": [
      "Carga e Visualização do dataframe\n"
     ]
    },
    {
     "data": {
      "text/html": [
       "<div>\n",
       "<style scoped>\n",
       "    .dataframe tbody tr th:only-of-type {\n",
       "        vertical-align: middle;\n",
       "    }\n",
       "\n",
       "    .dataframe tbody tr th {\n",
       "        vertical-align: top;\n",
       "    }\n",
       "\n",
       "    .dataframe thead th {\n",
       "        text-align: right;\n",
       "    }\n",
       "</style>\n",
       "<table border=\"1\" class=\"dataframe\">\n",
       "  <thead>\n",
       "    <tr style=\"text-align: right;\">\n",
       "      <th></th>\n",
       "      <th>PMID</th>\n",
       "      <th>Title</th>\n",
       "      <th>Authors</th>\n",
       "      <th>Citation</th>\n",
       "      <th>First Author</th>\n",
       "      <th>Journal/Book</th>\n",
       "      <th>Publication Year</th>\n",
       "      <th>Create Date</th>\n",
       "      <th>PMCID</th>\n",
       "      <th>NIHMS ID</th>\n",
       "      <th>DOI</th>\n",
       "    </tr>\n",
       "  </thead>\n",
       "  <tbody>\n",
       "    <tr>\n",
       "      <th>0</th>\n",
       "      <td>30649735</td>\n",
       "      <td>Overview of the First Natural Language Process...</td>\n",
       "      <td>Jagannatha A, Liu F, Liu W, Yu H.</td>\n",
       "      <td>Drug Saf. 2019 Jan;42(1):99-111. doi: 10.1007/...</td>\n",
       "      <td>Jagannatha A</td>\n",
       "      <td>Drug Saf</td>\n",
       "      <td>2019</td>\n",
       "      <td>2019/01/17</td>\n",
       "      <td>PMC6860017</td>\n",
       "      <td>NIHMS1518894</td>\n",
       "      <td>10.1007/s40264-018-0762-z</td>\n",
       "    </tr>\n",
       "    <tr>\n",
       "      <th>1</th>\n",
       "      <td>33245290</td>\n",
       "      <td>Identification of Adverse Drug Event-Related J...</td>\n",
       "      <td>Ujiie S, Yada S, Wakamiya S, Aramaki E.</td>\n",
       "      <td>JMIR Med Inform. 2020 Nov 27;8(11):e22661. doi...</td>\n",
       "      <td>Ujiie S</td>\n",
       "      <td>JMIR Med Inform</td>\n",
       "      <td>2020</td>\n",
       "      <td>2020/11/27</td>\n",
       "      <td>PMC7732716</td>\n",
       "      <td>NaN</td>\n",
       "      <td>10.2196/22661</td>\n",
       "    </tr>\n",
       "    <tr>\n",
       "      <th>2</th>\n",
       "      <td>33215076</td>\n",
       "      <td>Adverse drug event presentation and tracking (...</td>\n",
       "      <td>Geva A, Stedman JP, Manzi SF, Lin C, Savova GK...</td>\n",
       "      <td>JAMIA Open. 2020 Aug 31;3(3):413-421. doi: 10....</td>\n",
       "      <td>Geva A</td>\n",
       "      <td>JAMIA Open</td>\n",
       "      <td>2020</td>\n",
       "      <td>2020/11/20</td>\n",
       "      <td>PMC7660953</td>\n",
       "      <td>NaN</td>\n",
       "      <td>10.1093/jamiaopen/ooaa031</td>\n",
       "    </tr>\n",
       "    <tr>\n",
       "      <th>3</th>\n",
       "      <td>31630063</td>\n",
       "      <td>A systematic review of natural language proces...</td>\n",
       "      <td>Young IJB, Luz S, Lone N.</td>\n",
       "      <td>Int J Med Inform. 2019 Dec;132:103971. doi: 10...</td>\n",
       "      <td>Young IJB</td>\n",
       "      <td>Int J Med Inform</td>\n",
       "      <td>2019</td>\n",
       "      <td>2019/10/21</td>\n",
       "      <td>NaN</td>\n",
       "      <td>NaN</td>\n",
       "      <td>10.1016/j.ijmedinf.2019.103971</td>\n",
       "    </tr>\n",
       "    <tr>\n",
       "      <th>4</th>\n",
       "      <td>33006728</td>\n",
       "      <td>ADE Eval: An Evaluation of Text Processing Sys...</td>\n",
       "      <td>Bayer S, Clark C, Dang O, Aberdeen J, Brajovic...</td>\n",
       "      <td>Drug Saf. 2021 Jan;44(1):83-94. doi: 10.1007/s...</td>\n",
       "      <td>Bayer S</td>\n",
       "      <td>Drug Saf</td>\n",
       "      <td>2021</td>\n",
       "      <td>2020/10/02</td>\n",
       "      <td>PMC7813736</td>\n",
       "      <td>NaN</td>\n",
       "      <td>10.1007/s40264-020-00996-3</td>\n",
       "    </tr>\n",
       "  </tbody>\n",
       "</table>\n",
       "</div>"
      ],
      "text/plain": [
       "       PMID                                              Title  \\\n",
       "0  30649735  Overview of the First Natural Language Process...   \n",
       "1  33245290  Identification of Adverse Drug Event-Related J...   \n",
       "2  33215076  Adverse drug event presentation and tracking (...   \n",
       "3  31630063  A systematic review of natural language proces...   \n",
       "4  33006728  ADE Eval: An Evaluation of Text Processing Sys...   \n",
       "\n",
       "                                             Authors  \\\n",
       "0                  Jagannatha A, Liu F, Liu W, Yu H.   \n",
       "1            Ujiie S, Yada S, Wakamiya S, Aramaki E.   \n",
       "2  Geva A, Stedman JP, Manzi SF, Lin C, Savova GK...   \n",
       "3                          Young IJB, Luz S, Lone N.   \n",
       "4  Bayer S, Clark C, Dang O, Aberdeen J, Brajovic...   \n",
       "\n",
       "                                            Citation  First Author  \\\n",
       "0  Drug Saf. 2019 Jan;42(1):99-111. doi: 10.1007/...  Jagannatha A   \n",
       "1  JMIR Med Inform. 2020 Nov 27;8(11):e22661. doi...       Ujiie S   \n",
       "2  JAMIA Open. 2020 Aug 31;3(3):413-421. doi: 10....        Geva A   \n",
       "3  Int J Med Inform. 2019 Dec;132:103971. doi: 10...     Young IJB   \n",
       "4  Drug Saf. 2021 Jan;44(1):83-94. doi: 10.1007/s...       Bayer S   \n",
       "\n",
       "       Journal/Book  Publication Year Create Date       PMCID      NIHMS ID  \\\n",
       "0          Drug Saf              2019  2019/01/17  PMC6860017  NIHMS1518894   \n",
       "1   JMIR Med Inform              2020  2020/11/27  PMC7732716           NaN   \n",
       "2        JAMIA Open              2020  2020/11/20  PMC7660953           NaN   \n",
       "3  Int J Med Inform              2019  2019/10/21         NaN           NaN   \n",
       "4          Drug Saf              2021  2020/10/02  PMC7813736           NaN   \n",
       "\n",
       "                              DOI  \n",
       "0       10.1007/s40264-018-0762-z  \n",
       "1                   10.2196/22661  \n",
       "2       10.1093/jamiaopen/ooaa031  \n",
       "3  10.1016/j.ijmedinf.2019.103971  \n",
       "4      10.1007/s40264-020-00996-3  "
      ]
     },
     "execution_count": 7,
     "metadata": {},
     "output_type": "execute_result"
    }
   ],
   "source": [
    "print('Carga e Visualização do dataframe')\n",
    "arquivo_base_pubmed = os.path.join('../data','pubmed.csv')\n",
    "raw_data_pubmed = pd.read_csv(arquivo_base_pubmed, sep=\",\", delimiter=None, encoding='utf-8')\n",
    "raw_data_pubmed.head()"
   ]
  },
  {
   "cell_type": "markdown",
   "metadata": {},
   "source": [
    "## Analisar dados brutos original"
   ]
  },
  {
   "cell_type": "markdown",
   "metadata": {},
   "source": [
    "### Analisando base SCOPUS"
   ]
  },
  {
   "cell_type": "code",
   "execution_count": null,
   "metadata": {},
   "outputs": [],
   "source": [
    "#pd.set_option(\"max_colwidth\", 100)"
   ]
  },
  {
   "cell_type": "code",
   "execution_count": 8,
   "metadata": {},
   "outputs": [
    {
     "name": "stdout",
     "output_type": "stream",
     "text": [
      "Verificando tipos e se tem dados nulos\n",
      "<class 'pandas.core.frame.DataFrame'>\n",
      "RangeIndex: 458 entries, 0 to 457\n",
      "Data columns (total 47 columns):\n",
      " #   Column                         Non-Null Count  Dtype  \n",
      "---  ------                         --------------  -----  \n",
      " 0   Authors                        458 non-null    object \n",
      " 1   Author(s) ID                   458 non-null    object \n",
      " 2   Title                          458 non-null    object \n",
      " 3   Year                           458 non-null    int64  \n",
      " 4   Source title                   458 non-null    object \n",
      " 5   Volume                         393 non-null    object \n",
      " 6   Issue                          202 non-null    object \n",
      " 7   Art. No.                       109 non-null    object \n",
      " 8   Page start                     359 non-null    object \n",
      " 9   Page end                       348 non-null    object \n",
      " 10  Page count                     3 non-null      float64\n",
      " 11  Cited by                       378 non-null    float64\n",
      " 12  DOI                            379 non-null    object \n",
      " 13  Link                           458 non-null    object \n",
      " 14  Affiliations                   454 non-null    object \n",
      " 15  Authors with affiliations      455 non-null    object \n",
      " 16  Abstract                       458 non-null    object \n",
      " 17  Author Keywords                318 non-null    object \n",
      " 18  Index Keywords                 417 non-null    object \n",
      " 19  Molecular Sequence Numbers     0 non-null      float64\n",
      " 20  Chemicals/CAS                  96 non-null     object \n",
      " 21  Tradenames                     19 non-null     object \n",
      " 22  Manufacturers                  1 non-null      object \n",
      " 23  Funding Details                221 non-null    object \n",
      " 24  Funding Text 1                 183 non-null    object \n",
      " 25  Funding Text 2                 21 non-null     object \n",
      " 26  Funding Text 3                 1 non-null      object \n",
      " 27  References                     404 non-null    object \n",
      " 28  Correspondence Address         373 non-null    object \n",
      " 29  Editors                        79 non-null     object \n",
      " 30  Sponsors                       44 non-null     object \n",
      " 31  Publisher                      353 non-null    object \n",
      " 32  Conference name                133 non-null    object \n",
      " 33  Conference date                133 non-null    object \n",
      " 34  Conference location            34 non-null     object \n",
      " 35  Conference code                122 non-null    float64\n",
      " 36  ISSN                           406 non-null    object \n",
      " 37  ISBN                           112 non-null    object \n",
      " 38  CODEN                          178 non-null    object \n",
      " 39  PubMed ID                      291 non-null    float64\n",
      " 40  Language of Original Document  458 non-null    object \n",
      " 41  Abbreviated Source Title       458 non-null    object \n",
      " 42  Document Type                  458 non-null    object \n",
      " 43  Publication Stage              458 non-null    object \n",
      " 44  Open Access                    205 non-null    object \n",
      " 45  Source                         458 non-null    object \n",
      " 46  EID                            458 non-null    object \n",
      "dtypes: float64(5), int64(1), object(41)\n",
      "memory usage: 168.3+ KB\n"
     ]
    }
   ],
   "source": [
    "print('Verificando tipos e se tem dados nulos')\n",
    "raw_data_scopus.info()"
   ]
  },
  {
   "cell_type": "code",
   "execution_count": 9,
   "metadata": {},
   "outputs": [
    {
     "data": {
      "text/plain": [
       "Authors                          443\n",
       "Author(s) ID                     441\n",
       "Title                            456\n",
       "Year                              22\n",
       "Source title                     155\n",
       "Volume                           172\n",
       "Issue                             36\n",
       "Art. No.                         106\n",
       "Page start                       285\n",
       "Page end                         295\n",
       "Page count                         3\n",
       "Cited by                          71\n",
       "DOI                              379\n",
       "Link                             458\n",
       "Affiliations                     446\n",
       "Authors with affiliations        453\n",
       "Abstract                         448\n",
       "Author Keywords                  318\n",
       "Index Keywords                   417\n",
       "Molecular Sequence Numbers         0\n",
       "Chemicals/CAS                     73\n",
       "Tradenames                        17\n",
       "Manufacturers                      1\n",
       "Funding Details                  209\n",
       "Funding Text 1                   183\n",
       "Funding Text 2                    21\n",
       "Funding Text 3                     1\n",
       "References                       404\n",
       "Correspondence Address           364\n",
       "Editors                           56\n",
       "Sponsors                          42\n",
       "Publisher                         69\n",
       "Conference name                  105\n",
       "Conference date                  104\n",
       "Conference location               29\n",
       "Conference code                   98\n",
       "ISSN                             110\n",
       "ISBN                              91\n",
       "CODEN                             41\n",
       "PubMed ID                        291\n",
       "Language of Original Document      3\n",
       "Abbreviated Source Title         151\n",
       "Document Type                     10\n",
       "Publication Stage                  2\n",
       "Open Access                        7\n",
       "Source                             1\n",
       "EID                              458\n",
       "dtype: int64"
      ]
     },
     "execution_count": 9,
     "metadata": {},
     "output_type": "execute_result"
    }
   ],
   "source": [
    "raw_data_scopus.nunique()"
   ]
  },
  {
   "cell_type": "code",
   "execution_count": 10,
   "metadata": {},
   "outputs": [
    {
     "data": {
      "text/plain": [
       "Authors                            0\n",
       "Author(s) ID                       0\n",
       "Title                              0\n",
       "Year                               0\n",
       "Source title                       0\n",
       "Volume                            65\n",
       "Issue                            256\n",
       "Art. No.                         349\n",
       "Page start                        99\n",
       "Page end                         110\n",
       "Page count                       455\n",
       "Cited by                          80\n",
       "DOI                               79\n",
       "Link                               0\n",
       "Affiliations                       4\n",
       "Authors with affiliations          3\n",
       "Abstract                           0\n",
       "Author Keywords                  140\n",
       "Index Keywords                    41\n",
       "Molecular Sequence Numbers       458\n",
       "Chemicals/CAS                    362\n",
       "Tradenames                       439\n",
       "Manufacturers                    457\n",
       "Funding Details                  237\n",
       "Funding Text 1                   275\n",
       "Funding Text 2                   437\n",
       "Funding Text 3                   457\n",
       "References                        54\n",
       "Correspondence Address            85\n",
       "Editors                          379\n",
       "Sponsors                         414\n",
       "Publisher                        105\n",
       "Conference name                  325\n",
       "Conference date                  325\n",
       "Conference location              424\n",
       "Conference code                  336\n",
       "ISSN                              52\n",
       "ISBN                             346\n",
       "CODEN                            280\n",
       "PubMed ID                        167\n",
       "Language of Original Document      0\n",
       "Abbreviated Source Title           0\n",
       "Document Type                      0\n",
       "Publication Stage                  0\n",
       "Open Access                      253\n",
       "Source                             0\n",
       "EID                                0\n",
       "dtype: int64"
      ]
     },
     "execution_count": 10,
     "metadata": {},
     "output_type": "execute_result"
    }
   ],
   "source": [
    "# verificar campos nulos\n",
    "raw_data_scopus.isnull().sum()"
   ]
  },
  {
   "cell_type": "markdown",
   "metadata": {},
   "source": [
    "### Analisando base Qualis"
   ]
  },
  {
   "cell_type": "code",
   "execution_count": 11,
   "metadata": {},
   "outputs": [
    {
     "name": "stdout",
     "output_type": "stream",
     "text": [
      "Verificando tipos e se tem dados nulos\n",
      "<class 'pandas.core.frame.DataFrame'>\n",
      "RangeIndex: 131274 entries, 0 to 131273\n",
      "Data columns (total 4 columns):\n",
      " #   Column             Non-Null Count   Dtype \n",
      "---  ------             --------------   ----- \n",
      " 0   ISSN               131271 non-null  object\n",
      " 1   Título             131274 non-null  object\n",
      " 2   Área de Avaliação  131274 non-null  object\n",
      " 3   Estrato            131274 non-null  object\n",
      "dtypes: object(4)\n",
      "memory usage: 4.0+ MB\n"
     ]
    }
   ],
   "source": [
    "print('Verificando tipos e se tem dados nulos')\n",
    "raw_data_qualis.info()"
   ]
  },
  {
   "cell_type": "code",
   "execution_count": 12,
   "metadata": {},
   "outputs": [
    {
     "data": {
      "text/plain": [
       "ISSN                 27618\n",
       "Título               29838\n",
       "Área de Avaliação       49\n",
       "Estrato                  8\n",
       "dtype: int64"
      ]
     },
     "execution_count": 12,
     "metadata": {},
     "output_type": "execute_result"
    }
   ],
   "source": [
    "raw_data_qualis.nunique()"
   ]
  },
  {
   "cell_type": "code",
   "execution_count": 13,
   "metadata": {},
   "outputs": [
    {
     "data": {
      "text/plain": [
       "ISSN                 3\n",
       "Título               0\n",
       "Área de Avaliação    0\n",
       "Estrato              0\n",
       "dtype: int64"
      ]
     },
     "execution_count": 13,
     "metadata": {},
     "output_type": "execute_result"
    }
   ],
   "source": [
    "raw_data_qualis.isnull().sum()"
   ]
  },
  {
   "cell_type": "markdown",
   "metadata": {},
   "source": [
    "### Analisando base PUBMED"
   ]
  },
  {
   "cell_type": "code",
   "execution_count": 14,
   "metadata": {},
   "outputs": [
    {
     "name": "stdout",
     "output_type": "stream",
     "text": [
      "Verificando tipos e se tem dados nulos\n",
      "<class 'pandas.core.frame.DataFrame'>\n",
      "RangeIndex: 252 entries, 0 to 251\n",
      "Data columns (total 11 columns):\n",
      " #   Column            Non-Null Count  Dtype \n",
      "---  ------            --------------  ----- \n",
      " 0   PMID              252 non-null    int64 \n",
      " 1   Title             252 non-null    object\n",
      " 2   Authors           252 non-null    object\n",
      " 3   Citation          252 non-null    object\n",
      " 4   First Author      252 non-null    object\n",
      " 5   Journal/Book      252 non-null    object\n",
      " 6   Publication Year  252 non-null    int64 \n",
      " 7   Create Date       252 non-null    object\n",
      " 8   PMCID             157 non-null    object\n",
      " 9   NIHMS ID          26 non-null     object\n",
      " 10  DOI               181 non-null    object\n",
      "dtypes: int64(2), object(9)\n",
      "memory usage: 21.8+ KB\n"
     ]
    }
   ],
   "source": [
    "print('Verificando tipos e se tem dados nulos')\n",
    "raw_data_pubmed.info()"
   ]
  },
  {
   "cell_type": "code",
   "execution_count": 15,
   "metadata": {},
   "outputs": [
    {
     "data": {
      "text/plain": [
       "PMID                252\n",
       "Title               251\n",
       "Authors             248\n",
       "Citation            252\n",
       "First Author        215\n",
       "Journal/Book         61\n",
       "Publication Year     21\n",
       "Create Date         204\n",
       "PMCID               157\n",
       "NIHMS ID             26\n",
       "DOI                 181\n",
       "dtype: int64"
      ]
     },
     "execution_count": 15,
     "metadata": {},
     "output_type": "execute_result"
    }
   ],
   "source": [
    "raw_data_pubmed.nunique()"
   ]
  },
  {
   "cell_type": "code",
   "execution_count": 16,
   "metadata": {},
   "outputs": [
    {
     "data": {
      "text/plain": [
       "PMID                  0\n",
       "Title                 0\n",
       "Authors               0\n",
       "Citation              0\n",
       "First Author          0\n",
       "Journal/Book          0\n",
       "Publication Year      0\n",
       "Create Date           0\n",
       "PMCID                95\n",
       "NIHMS ID            226\n",
       "DOI                  71\n",
       "dtype: int64"
      ]
     },
     "execution_count": 16,
     "metadata": {},
     "output_type": "execute_result"
    }
   ],
   "source": [
    "# verificar campos nulos\n",
    "raw_data_pubmed.isnull().sum()"
   ]
  },
  {
   "cell_type": "markdown",
   "metadata": {},
   "source": [
    "## Copiar dataframe para ajustes"
   ]
  },
  {
   "cell_type": "code",
   "execution_count": 17,
   "metadata": {},
   "outputs": [
    {
     "name": "stdout",
     "output_type": "stream",
     "text": [
      "3034198705160 3034242612232 3034199762696 3034250340104 3034247952904 3034250511368\n"
     ]
    }
   ],
   "source": [
    "## Verificar se os dataframes nao s\"ao espelhos\n",
    "df_scopus = raw_data_scopus.copy()\n",
    "df_qualis = raw_data_qualis.copy()\n",
    "df_pubmed = raw_data_pubmed.copy()\n",
    "\n",
    "print(id(df_scopus),id(df_qualis), id(df_pubmed), id(raw_data_scopus),id(raw_data_qualis), id(raw_data_pubmed))"
   ]
  },
  {
   "cell_type": "markdown",
   "metadata": {},
   "source": [
    "# Dataframe SCOPUS"
   ]
  },
  {
   "cell_type": "markdown",
   "metadata": {},
   "source": [
    "## Ajustar de Colunas"
   ]
  },
  {
   "cell_type": "markdown",
   "metadata": {},
   "source": [
    "### Alterar nome de Colunas"
   ]
  },
  {
   "cell_type": "code",
   "execution_count": 18,
   "metadata": {},
   "outputs": [
    {
     "name": "stdout",
     "output_type": "stream",
     "text": [
      "Verificar colunas\n"
     ]
    },
    {
     "data": {
      "text/plain": [
       "Index(['Authors', 'Author(s) ID', 'Title', 'Year', 'Source title', 'Volume',\n",
       "       'Issue', 'Art. No.', 'Page start', 'Page end', 'Page count', 'Cited by',\n",
       "       'DOI', 'Link', 'Affiliations', 'Authors with affiliations', 'Abstract',\n",
       "       'Author Keywords', 'Index Keywords', 'Molecular Sequence Numbers',\n",
       "       'Chemicals/CAS', 'Tradenames', 'Manufacturers', 'Funding Details',\n",
       "       'Funding Text 1', 'Funding Text 2', 'Funding Text 3', 'References',\n",
       "       'Correspondence Address', 'Editors', 'Sponsors', 'Publisher',\n",
       "       'Conference name', 'Conference date', 'Conference location',\n",
       "       'Conference code', 'ISSN', 'ISBN', 'CODEN', 'PubMed ID',\n",
       "       'Language of Original Document', 'Abbreviated Source Title',\n",
       "       'Document Type', 'Publication Stage', 'Open Access', 'Source', 'EID'],\n",
       "      dtype='object')"
      ]
     },
     "execution_count": 18,
     "metadata": {},
     "output_type": "execute_result"
    }
   ],
   "source": [
    "print('Verificar colunas')\n",
    "df_scopus.columns"
   ]
  },
  {
   "cell_type": "code",
   "execution_count": 19,
   "metadata": {},
   "outputs": [],
   "source": [
    "columns_scopus = {\n",
    "    'Authors':'autores_scopus',\n",
    "    'Author(s) ID':'id_autores',\n",
    "    'Title':'titulo_artigo',\n",
    "    'Year':'ano_publicacao_scopus',\n",
    "    'Source title':'titulo_fonte',\n",
    "    'Volume':'volume',\n",
    "    'Issue':'publicado',\n",
    "    'Art. No.':'numero_artigo',\n",
    "    'Page start':'inicio_pagina',\n",
    "    'Page end':'fim_pagina', \n",
    "    'Page count':'quantidade_paginas',\n",
    "    'Cited by':'quantidade_citacoes',\n",
    "    'DOI':'doi_scopus',\n",
    "    'Link':'link_scopus',\n",
    "    'Affiliations':'afiliacoes',\n",
    "    'Authors with affiliations':'autores_com_filiacoes',\n",
    "    'Abstract':'resumo',\n",
    "    'Author Keywords':'palavras_chaves_autor',\n",
    "    'Index Keywords':'palavras_chave_index',\n",
    "    'Molecular Sequence Numbers':'numeros_sequencia_molecular' ,\n",
    "    'Chemicals/CAS':'quimica',\n",
    "    'Tradenames':'nomes_comerciais',\n",
    "    'Manufacturers':'fabricantes',\n",
    "    'Funding Details':'detalhes_financiamento',\n",
    "    'Funding Text 1':'texto_financiamento_1',\n",
    "    'Funding Text 2':'texto_financiamento_2',\n",
    "    'Funding Text 3':'texto_financiamento_3',\n",
    "    'References':'referencias',\n",
    "    'Correspondence Address':'endereco_correspondencia',\n",
    "    'Editors':'editores',\n",
    "    'Sponsors':'patrocinadores',\n",
    "    'Publisher':'editor',\n",
    "    'Conference name':'nome_conferencia',\n",
    "    'Conference date':'data_conferencia',\n",
    "    'Conference location':'local_conferencia',\n",
    "    'Conference code':'codigo_conferencia',\n",
    "    'ISSN':'issn_scopus',\n",
    "    'ISBN':'isbn',\n",
    "    'CODEN':'coden',\n",
    "    'PubMed ID':'id_pubmed',\n",
    "    'Language of Original Document':'idioma_original',\n",
    "    'Abbreviated Source Title':'titulo_abreviado_fonte',\n",
    "    'Document Type':'tipo_documento',\n",
    "    'Publication Stage':'etapa_publicacao',\n",
    "    'Open Access':'acesso_livre',\n",
    "    'Source':'fonte',\n",
    "    'EID':'eid',\n",
    "}"
   ]
  },
  {
   "cell_type": "code",
   "execution_count": 20,
   "metadata": {},
   "outputs": [
    {
     "data": {
      "text/html": [
       "<div>\n",
       "<style scoped>\n",
       "    .dataframe tbody tr th:only-of-type {\n",
       "        vertical-align: middle;\n",
       "    }\n",
       "\n",
       "    .dataframe tbody tr th {\n",
       "        vertical-align: top;\n",
       "    }\n",
       "\n",
       "    .dataframe thead th {\n",
       "        text-align: right;\n",
       "    }\n",
       "</style>\n",
       "<table border=\"1\" class=\"dataframe\">\n",
       "  <thead>\n",
       "    <tr style=\"text-align: right;\">\n",
       "      <th></th>\n",
       "      <th>autores_scopus</th>\n",
       "      <th>id_autores</th>\n",
       "      <th>titulo_artigo</th>\n",
       "      <th>ano_publicacao_scopus</th>\n",
       "      <th>titulo_fonte</th>\n",
       "      <th>volume</th>\n",
       "      <th>publicado</th>\n",
       "      <th>numero_artigo</th>\n",
       "      <th>inicio_pagina</th>\n",
       "      <th>fim_pagina</th>\n",
       "      <th>...</th>\n",
       "      <th>isbn</th>\n",
       "      <th>coden</th>\n",
       "      <th>id_pubmed</th>\n",
       "      <th>idioma_original</th>\n",
       "      <th>titulo_abreviado_fonte</th>\n",
       "      <th>tipo_documento</th>\n",
       "      <th>etapa_publicacao</th>\n",
       "      <th>acesso_livre</th>\n",
       "      <th>fonte</th>\n",
       "      <th>eid</th>\n",
       "    </tr>\n",
       "  </thead>\n",
       "  <tbody>\n",
       "    <tr>\n",
       "      <th>0</th>\n",
       "      <td>Zhang F., Sun B., Diao X., Zhao W., Shu T.</td>\n",
       "      <td>57221913449;57221919849;57202804485;5719859752...</td>\n",
       "      <td>Prediction of adverse drug reactions based on ...</td>\n",
       "      <td>2021</td>\n",
       "      <td>BMC Medical Informatics and Decision Making</td>\n",
       "      <td>21</td>\n",
       "      <td>1</td>\n",
       "      <td>38</td>\n",
       "      <td>NaN</td>\n",
       "      <td>NaN</td>\n",
       "      <td>...</td>\n",
       "      <td>NaN</td>\n",
       "      <td>NaN</td>\n",
       "      <td>33541342.0</td>\n",
       "      <td>English</td>\n",
       "      <td>BMC Med. Informatics Decis. Mak.</td>\n",
       "      <td>Article</td>\n",
       "      <td>Final</td>\n",
       "      <td>All Open Access, Gold, Green</td>\n",
       "      <td>Scopus</td>\n",
       "      <td>2-s2.0-85100558743</td>\n",
       "    </tr>\n",
       "  </tbody>\n",
       "</table>\n",
       "<p>1 rows × 47 columns</p>\n",
       "</div>"
      ],
      "text/plain": [
       "                               autores_scopus  \\\n",
       "0  Zhang F., Sun B., Diao X., Zhao W., Shu T.   \n",
       "\n",
       "                                          id_autores  \\\n",
       "0  57221913449;57221919849;57202804485;5719859752...   \n",
       "\n",
       "                                       titulo_artigo  ano_publicacao_scopus  \\\n",
       "0  Prediction of adverse drug reactions based on ...                   2021   \n",
       "\n",
       "                                  titulo_fonte volume publicado numero_artigo  \\\n",
       "0  BMC Medical Informatics and Decision Making     21         1            38   \n",
       "\n",
       "  inicio_pagina fim_pagina  ...  isbn  coden   id_pubmed idioma_original  \\\n",
       "0           NaN        NaN  ...   NaN    NaN  33541342.0         English   \n",
       "\n",
       "             titulo_abreviado_fonte tipo_documento etapa_publicacao  \\\n",
       "0  BMC Med. Informatics Decis. Mak.        Article            Final   \n",
       "\n",
       "                   acesso_livre   fonte                 eid  \n",
       "0  All Open Access, Gold, Green  Scopus  2-s2.0-85100558743  \n",
       "\n",
       "[1 rows x 47 columns]"
      ]
     },
     "execution_count": 20,
     "metadata": {},
     "output_type": "execute_result"
    }
   ],
   "source": [
    "df_scopus = df_scopus.rename(columns=columns_scopus)\n",
    "df_scopus.head(1)"
   ]
  },
  {
   "cell_type": "markdown",
   "metadata": {},
   "source": [
    "### Ajustar / Criar colunas de Páginas"
   ]
  },
  {
   "cell_type": "code",
   "execution_count": 21,
   "metadata": {},
   "outputs": [],
   "source": [
    "## Criar novas colunas de paginas e + uma para calcular qtde paginas\n",
    "df_scopus[\"inicio_pagina_\"] = df_scopus[\"inicio_pagina\"]\n",
    "df_scopus[\"fim_pagina_\"] = df_scopus[\"fim_pagina\"]"
   ]
  },
  {
   "cell_type": "code",
   "execution_count": 22,
   "metadata": {},
   "outputs": [],
   "source": [
    "## Expressao que pega só dígitos\n",
    "r = re.compile(r'\\D')"
   ]
  },
  {
   "cell_type": "code",
   "execution_count": 23,
   "metadata": {},
   "outputs": [],
   "source": [
    "df_scopus.inicio_pagina_.replace(r, '', regex = True, inplace=True)\n",
    "df_scopus.fim_pagina_.replace(r, '', regex = True, inplace=True)"
   ]
  },
  {
   "cell_type": "code",
   "execution_count": 27,
   "metadata": {},
   "outputs": [
    {
     "data": {
      "text/html": [
       "<div>\n",
       "<style scoped>\n",
       "    .dataframe tbody tr th:only-of-type {\n",
       "        vertical-align: middle;\n",
       "    }\n",
       "\n",
       "    .dataframe tbody tr th {\n",
       "        vertical-align: top;\n",
       "    }\n",
       "\n",
       "    .dataframe thead th {\n",
       "        text-align: right;\n",
       "    }\n",
       "</style>\n",
       "<table border=\"1\" class=\"dataframe\">\n",
       "  <thead>\n",
       "    <tr style=\"text-align: right;\">\n",
       "      <th></th>\n",
       "      <th>inicio_pagina</th>\n",
       "      <th>fim_pagina</th>\n",
       "      <th>quantidade_paginas</th>\n",
       "      <th>inicio_pagina_</th>\n",
       "      <th>fim_pagina_</th>\n",
       "    </tr>\n",
       "  </thead>\n",
       "  <tbody>\n",
       "    <tr>\n",
       "      <th>3</th>\n",
       "      <td>1110</td>\n",
       "      <td>1111</td>\n",
       "      <td>NaN</td>\n",
       "      <td>1110</td>\n",
       "      <td>1111</td>\n",
       "    </tr>\n",
       "    <tr>\n",
       "      <th>10</th>\n",
       "      <td>585</td>\n",
       "      <td>590</td>\n",
       "      <td>NaN</td>\n",
       "      <td>585</td>\n",
       "      <td>590</td>\n",
       "    </tr>\n",
       "    <tr>\n",
       "      <th>2</th>\n",
       "      <td>86</td>\n",
       "      <td>104</td>\n",
       "      <td>NaN</td>\n",
       "      <td>86</td>\n",
       "      <td>104</td>\n",
       "    </tr>\n",
       "    <tr>\n",
       "      <th>7</th>\n",
       "      <td>NaN</td>\n",
       "      <td>NaN</td>\n",
       "      <td>NaN</td>\n",
       "      <td>NaN</td>\n",
       "      <td>NaN</td>\n",
       "    </tr>\n",
       "  </tbody>\n",
       "</table>\n",
       "</div>"
      ],
      "text/plain": [
       "   inicio_pagina fim_pagina  quantidade_paginas inicio_pagina_ fim_pagina_\n",
       "3           1110       1111                 NaN           1110        1111\n",
       "10           585        590                 NaN            585         590\n",
       "2             86        104                 NaN             86         104\n",
       "7            NaN        NaN                 NaN            NaN         NaN"
      ]
     },
     "execution_count": 27,
     "metadata": {},
     "output_type": "execute_result"
    }
   ],
   "source": [
    "df_scopus.loc[[3,10,2,7], ['inicio_pagina','fim_pagina','quantidade_paginas','inicio_pagina_','fim_pagina_']]"
   ]
  },
  {
   "cell_type": "code",
   "execution_count": 28,
   "metadata": {},
   "outputs": [
    {
     "name": "stdout",
     "output_type": "stream",
     "text": [
      "Ajustar tipagem dos dados\n"
     ]
    }
   ],
   "source": [
    "print('Ajustar tipagem dos dados')\n",
    "df_scopus['inicio_pagina_'] = df_scopus['inicio_pagina_'].astype('float64')\n",
    "df_scopus['fim_pagina_'] = df_scopus['fim_pagina_'].astype('float64')"
   ]
  },
  {
   "cell_type": "code",
   "execution_count": 29,
   "metadata": {},
   "outputs": [],
   "source": [
    "df_scopus['quantidade_paginas_'] = df_scopus['fim_pagina_'] - df_scopus['inicio_pagina_']"
   ]
  },
  {
   "cell_type": "code",
   "execution_count": 31,
   "metadata": {},
   "outputs": [
    {
     "data": {
      "text/html": [
       "<div>\n",
       "<style scoped>\n",
       "    .dataframe tbody tr th:only-of-type {\n",
       "        vertical-align: middle;\n",
       "    }\n",
       "\n",
       "    .dataframe tbody tr th {\n",
       "        vertical-align: top;\n",
       "    }\n",
       "\n",
       "    .dataframe thead th {\n",
       "        text-align: right;\n",
       "    }\n",
       "</style>\n",
       "<table border=\"1\" class=\"dataframe\">\n",
       "  <thead>\n",
       "    <tr style=\"text-align: right;\">\n",
       "      <th></th>\n",
       "      <th>inicio_pagina</th>\n",
       "      <th>fim_pagina</th>\n",
       "      <th>quantidade_paginas</th>\n",
       "      <th>inicio_pagina_</th>\n",
       "      <th>fim_pagina_</th>\n",
       "      <th>quantidade_paginas_</th>\n",
       "    </tr>\n",
       "  </thead>\n",
       "  <tbody>\n",
       "    <tr>\n",
       "      <th>3</th>\n",
       "      <td>1110</td>\n",
       "      <td>1111</td>\n",
       "      <td>NaN</td>\n",
       "      <td>1110.0</td>\n",
       "      <td>1111.0</td>\n",
       "      <td>1.0</td>\n",
       "    </tr>\n",
       "    <tr>\n",
       "      <th>10</th>\n",
       "      <td>585</td>\n",
       "      <td>590</td>\n",
       "      <td>NaN</td>\n",
       "      <td>585.0</td>\n",
       "      <td>590.0</td>\n",
       "      <td>5.0</td>\n",
       "    </tr>\n",
       "    <tr>\n",
       "      <th>2</th>\n",
       "      <td>86</td>\n",
       "      <td>104</td>\n",
       "      <td>NaN</td>\n",
       "      <td>86.0</td>\n",
       "      <td>104.0</td>\n",
       "      <td>18.0</td>\n",
       "    </tr>\n",
       "    <tr>\n",
       "      <th>7</th>\n",
       "      <td>NaN</td>\n",
       "      <td>NaN</td>\n",
       "      <td>NaN</td>\n",
       "      <td>NaN</td>\n",
       "      <td>NaN</td>\n",
       "      <td>NaN</td>\n",
       "    </tr>\n",
       "  </tbody>\n",
       "</table>\n",
       "</div>"
      ],
      "text/plain": [
       "   inicio_pagina fim_pagina  quantidade_paginas  inicio_pagina_  fim_pagina_  \\\n",
       "3           1110       1111                 NaN          1110.0       1111.0   \n",
       "10           585        590                 NaN           585.0        590.0   \n",
       "2             86        104                 NaN            86.0        104.0   \n",
       "7            NaN        NaN                 NaN             NaN          NaN   \n",
       "\n",
       "    quantidade_paginas_  \n",
       "3                   1.0  \n",
       "10                  5.0  \n",
       "2                  18.0  \n",
       "7                   NaN  "
      ]
     },
     "execution_count": 31,
     "metadata": {},
     "output_type": "execute_result"
    }
   ],
   "source": [
    "df_scopus.loc[[3,10,2,7], ['inicio_pagina','fim_pagina','quantidade_paginas','inicio_pagina_','fim_pagina_','quantidade_paginas_']]"
   ]
  },
  {
   "cell_type": "code",
   "execution_count": 32,
   "metadata": {},
   "outputs": [
    {
     "data": {
      "text/html": [
       "<div>\n",
       "<style scoped>\n",
       "    .dataframe tbody tr th:only-of-type {\n",
       "        vertical-align: middle;\n",
       "    }\n",
       "\n",
       "    .dataframe tbody tr th {\n",
       "        vertical-align: top;\n",
       "    }\n",
       "\n",
       "    .dataframe thead th {\n",
       "        text-align: right;\n",
       "    }\n",
       "</style>\n",
       "<table border=\"1\" class=\"dataframe\">\n",
       "  <thead>\n",
       "    <tr style=\"text-align: right;\">\n",
       "      <th></th>\n",
       "      <th>issn_scopus</th>\n",
       "      <th>quantidade_paginas_</th>\n",
       "    </tr>\n",
       "  </thead>\n",
       "  <tbody>\n",
       "    <tr>\n",
       "      <th>42</th>\n",
       "      <td>22132198</td>\n",
       "      <td>9349.0</td>\n",
       "    </tr>\n",
       "    <tr>\n",
       "      <th>205</th>\n",
       "      <td>22132198</td>\n",
       "      <td>6696.0</td>\n",
       "    </tr>\n",
       "    <tr>\n",
       "      <th>329</th>\n",
       "      <td>NaN</td>\n",
       "      <td>263.0</td>\n",
       "    </tr>\n",
       "    <tr>\n",
       "      <th>223</th>\n",
       "      <td>03029743</td>\n",
       "      <td>131.0</td>\n",
       "    </tr>\n",
       "    <tr>\n",
       "      <th>111</th>\n",
       "      <td>18650929</td>\n",
       "      <td>26.0</td>\n",
       "    </tr>\n",
       "    <tr>\n",
       "      <th>...</th>\n",
       "      <td>...</td>\n",
       "      <td>...</td>\n",
       "    </tr>\n",
       "    <tr>\n",
       "      <th>429</th>\n",
       "      <td>1942597X</td>\n",
       "      <td>NaN</td>\n",
       "    </tr>\n",
       "    <tr>\n",
       "      <th>430</th>\n",
       "      <td>1942597X</td>\n",
       "      <td>NaN</td>\n",
       "    </tr>\n",
       "    <tr>\n",
       "      <th>433</th>\n",
       "      <td>15594076</td>\n",
       "      <td>NaN</td>\n",
       "    </tr>\n",
       "    <tr>\n",
       "      <th>438</th>\n",
       "      <td>14712105</td>\n",
       "      <td>NaN</td>\n",
       "    </tr>\n",
       "    <tr>\n",
       "      <th>444</th>\n",
       "      <td>15594076</td>\n",
       "      <td>NaN</td>\n",
       "    </tr>\n",
       "  </tbody>\n",
       "</table>\n",
       "<p>458 rows × 2 columns</p>\n",
       "</div>"
      ],
      "text/plain": [
       "    issn_scopus  quantidade_paginas_\n",
       "42     22132198               9349.0\n",
       "205    22132198               6696.0\n",
       "329         NaN                263.0\n",
       "223    03029743                131.0\n",
       "111    18650929                 26.0\n",
       "..          ...                  ...\n",
       "429    1942597X                  NaN\n",
       "430    1942597X                  NaN\n",
       "433    15594076                  NaN\n",
       "438    14712105                  NaN\n",
       "444    15594076                  NaN\n",
       "\n",
       "[458 rows x 2 columns]"
      ]
     },
     "execution_count": 32,
     "metadata": {},
     "output_type": "execute_result"
    }
   ],
   "source": [
    "df_scopus.sort_values('quantidade_paginas_',ascending=False, )[['issn_scopus','quantidade_paginas_']]"
   ]
  },
  {
   "cell_type": "markdown",
   "metadata": {},
   "source": [
    "### Criar nova coluna com data de conferencia"
   ]
  },
  {
   "cell_type": "raw",
   "metadata": {},
   "source": [
    "# tratar data - criar novo campo de data\n",
    "#df_scopus['data_conferencia_ajustado']"
   ]
  },
  {
   "cell_type": "markdown",
   "metadata": {},
   "source": [
    "## Colunas para lower"
   ]
  },
  {
   "cell_type": "code",
   "execution_count": null,
   "metadata": {},
   "outputs": [],
   "source": [
    "## Passar colunas a serem trabalhadas para lower case\n"
   ]
  },
  {
   "cell_type": "code",
   "execution_count": null,
   "metadata": {},
   "outputs": [],
   "source": []
  },
  {
   "cell_type": "code",
   "execution_count": null,
   "metadata": {},
   "outputs": [],
   "source": []
  },
  {
   "cell_type": "code",
   "execution_count": null,
   "metadata": {},
   "outputs": [],
   "source": [
    "\n",
    "## dar strip frente e atras, \n",
    "## Carregar novas strings ingles para eliminar das palavras\n",
    "## novas palavras ingles para append\n",
    "## Coluna Issue para categóriaca (0 ou 1) para aplicar ML"
   ]
  },
  {
   "cell_type": "code",
   "execution_count": null,
   "metadata": {},
   "outputs": [],
   "source": []
  },
  {
   "cell_type": "code",
   "execution_count": null,
   "metadata": {},
   "outputs": [],
   "source": [
    "## Coluna Issue para categóriaca (0 ou 1)\n",
    "#dataset_df.num_andares.replace({'-': 1}, inplace=True)"
   ]
  },
  {
   "cell_type": "code",
   "execution_count": null,
   "metadata": {},
   "outputs": [],
   "source": []
  },
  {
   "cell_type": "markdown",
   "metadata": {},
   "source": [
    "## Ajustar tipagem de dados"
   ]
  },
  {
   "cell_type": "markdown",
   "metadata": {},
   "source": [
    "### Convertendo as colunas de datas para o formato datetime"
   ]
  },
  {
   "cell_type": "raw",
   "metadata": {},
   "source": [
    "#Convertendo as colunas de datas para o formato datetime\n",
    "colunas_datas = df_scopus.columns[df_scopus.columns.str.contains('DT_|dt\\|data|DATA|Data', regex=True)]\n",
    "colunas_datas"
   ]
  },
  {
   "cell_type": "raw",
   "metadata": {},
   "source": [
    "#convertendo cada coluna de colunas_datas para o formato datetime\n",
    "for coluna in colunas_datas:\n",
    "    df_scopus[coluna] = pd.to_datetime(df_scopus[coluna], format='%Y-%m-%d')"
   ]
  },
  {
   "cell_type": "markdown",
   "metadata": {},
   "source": [
    "### Convertendo as colunas para categóricas"
   ]
  },
  {
   "cell_type": "code",
   "execution_count": null,
   "metadata": {},
   "outputs": [],
   "source": [
    "print('Ajustar tipagem dos dados')\n",
    "df_scopus['fabricantes'] = df_scopus['fabricantes'].astype('category')\n",
    "df_scopus['acesso_livre'] = df_scopus['acesso_livre'].astype('category')"
   ]
  },
  {
   "cell_type": "markdown",
   "metadata": {},
   "source": [
    "### Inclusão de Colunas"
   ]
  },
  {
   "cell_type": "code",
   "execution_count": null,
   "metadata": {},
   "outputs": [],
   "source": [
    "df_scopus['palavras_chaves_titulo']=None # variavel para receber as palavras + importantes em um artigo\n",
    "df_scopus['palavras_chaves_resumo']=None # variavel para receber as palavras + importantes em um artigo"
   ]
  },
  {
   "cell_type": "markdown",
   "metadata": {},
   "source": [
    "#### Carregar palavras_chaves_titulo"
   ]
  },
  {
   "cell_type": "code",
   "execution_count": null,
   "metadata": {},
   "outputs": [],
   "source": [
    "df_scopus.loc[\n",
    "    (df_scopus['titulo_artigo'].str.contains('twitter'))|\n",
    "    (df_scopus['titulo_artigo'].str.contains('metamap'))|\n",
    "    (df_scopus['titulo_artigo'].str.contains('NLP'))|\n",
    "    (df_scopus['titulo_artigo'].str.contains('natural language processing')),'palavras_chaves_titulo'] = \"twitter|metamap|nlp\""
   ]
  },
  {
   "cell_type": "code",
   "execution_count": null,
   "metadata": {},
   "outputs": [],
   "source": [
    "df_scopus.query('palavras_chaves_titulo==\"twitter|metamap|nlp\"')['titulo_artigo'].count()"
   ]
  },
  {
   "cell_type": "markdown",
   "metadata": {},
   "source": [
    "#### Carregar palavras_chaves_resumo"
   ]
  },
  {
   "cell_type": "code",
   "execution_count": null,
   "metadata": {},
   "outputs": [],
   "source": []
  },
  {
   "cell_type": "markdown",
   "metadata": {},
   "source": [
    "## NAO - Filtrar dataframe"
   ]
  },
  {
   "cell_type": "code",
   "execution_count": null,
   "metadata": {},
   "outputs": [],
   "source": [
    "df_scopus.head()"
   ]
  },
  {
   "cell_type": "code",
   "execution_count": null,
   "metadata": {},
   "outputs": [],
   "source": []
  },
  {
   "cell_type": "code",
   "execution_count": null,
   "metadata": {},
   "outputs": [],
   "source": [
    "## Criar Pipeline com Airflow"
   ]
  },
  {
   "cell_type": "code",
   "execution_count": null,
   "metadata": {},
   "outputs": [],
   "source": []
  },
  {
   "cell_type": "code",
   "execution_count": null,
   "metadata": {},
   "outputs": [],
   "source": []
  },
  {
   "cell_type": "markdown",
   "metadata": {},
   "source": [
    "## Analisar dataframe tratado"
   ]
  },
  {
   "cell_type": "code",
   "execution_count": null,
   "metadata": {},
   "outputs": [],
   "source": [
    "print('Verificando tipos e se tem dados nulos')\n",
    "df_scopus.info()"
   ]
  },
  {
   "cell_type": "code",
   "execution_count": null,
   "metadata": {
    "code_folding": []
   },
   "outputs": [],
   "source": [
    "### analisar estes números máximos e mínimos ?????????\n",
    "print('Resumo Estatístico de Campos Numéricos')\n",
    "df_scopus.describe()"
   ]
  },
  {
   "cell_type": "code",
   "execution_count": null,
   "metadata": {},
   "outputs": [],
   "source": [
    "# ver qtd no excel =NÚM.CARACT(O2)\n",
    "print('Coluna com maior qtde de caracteres')\n",
    "df_scopus['titulo_artigo'].apply(str).map(len).max()"
   ]
  },
  {
   "cell_type": "code",
   "execution_count": null,
   "metadata": {},
   "outputs": [],
   "source": [
    "# analisar alguns campos"
   ]
  },
  {
   "cell_type": "code",
   "execution_count": null,
   "metadata": {},
   "outputs": [],
   "source": [
    "## tirar os espaços das colunas strings a serem trabalhadas"
   ]
  },
  {
   "cell_type": "markdown",
   "metadata": {
    "heading_collapsed": true
   },
   "source": [
    "## Visualizações"
   ]
  },
  {
   "cell_type": "markdown",
   "metadata": {
    "hidden": true
   },
   "source": [
    "### Analisando tipos de acessos dos arquivos"
   ]
  },
  {
   "cell_type": "code",
   "execution_count": null,
   "metadata": {
    "hidden": true
   },
   "outputs": [],
   "source": [
    "## pegar os 10 + patrocinadores\n",
    "df_scopus.acesso_livre.unique()"
   ]
  },
  {
   "cell_type": "code",
   "execution_count": null,
   "metadata": {
    "hidden": true
   },
   "outputs": [],
   "source": [
    "# Groupby by\n",
    "acesso_livre = df_scopus.groupby(\"acesso_livre\")\n",
    "\n",
    "# Summary statistic of all\n",
    "acesso_livre.describe().head()"
   ]
  },
  {
   "cell_type": "code",
   "execution_count": null,
   "metadata": {
    "hidden": true
   },
   "outputs": [],
   "source": [
    "# pegar as 10 +\n",
    "plt.figure(figsize=(15,10))\n",
    "acesso_livre.size().sort_values(ascending=False).plot.bar()\n",
    "plt.xticks(rotation=50)\n",
    "plt.xlabel(\"Tipos de acesso aos artigos\")\n",
    "plt.ylabel(\"Quantidade de Artigos\")\n",
    "plt.show()"
   ]
  },
  {
   "cell_type": "markdown",
   "metadata": {
    "hidden": true
   },
   "source": [
    "### Analisando tipos de documentos"
   ]
  },
  {
   "cell_type": "code",
   "execution_count": null,
   "metadata": {
    "hidden": true
   },
   "outputs": [],
   "source": [
    "# Groupby by\n",
    "tipo_documento = df_scopus.groupby(\"tipo_documento\")\n",
    "\n",
    "# Summary statistic of all\n",
    "tipo_documento.describe().head()"
   ]
  },
  {
   "cell_type": "code",
   "execution_count": null,
   "metadata": {
    "hidden": true
   },
   "outputs": [],
   "source": [
    "# pegar as 10 +\n",
    "plt.figure(figsize=(15,10))\n",
    "tipo_documento.size().sort_values(ascending=False).plot.bar()\n",
    "plt.xticks(rotation=50)\n",
    "plt.xlabel(\"Locais de Conferências\")\n",
    "plt.ylabel(\"Quantidade de Locais de Conferência\")\n",
    "plt.show()"
   ]
  },
  {
   "cell_type": "code",
   "execution_count": null,
   "metadata": {
    "hidden": true
   },
   "outputs": [],
   "source": []
  },
  {
   "cell_type": "code",
   "execution_count": null,
   "metadata": {
    "hidden": true
   },
   "outputs": [],
   "source": []
  },
  {
   "cell_type": "markdown",
   "metadata": {
    "hidden": true
   },
   "source": [
    "### Analisando Locais de Conferencia"
   ]
  },
  {
   "cell_type": "code",
   "execution_count": null,
   "metadata": {
    "hidden": true
   },
   "outputs": [],
   "source": [
    "# Groupby by\n",
    "local_conferencia = df_scopus.groupby(\"local_conferencia\")\n",
    "\n",
    "# Summary statistic of all\n",
    "local_conferencia.describe().head()"
   ]
  },
  {
   "cell_type": "code",
   "execution_count": null,
   "metadata": {
    "hidden": true
   },
   "outputs": [],
   "source": [
    "# pegar as 10 +\n",
    "plt.figure(figsize=(15,10))\n",
    "local_conferencia.size().sort_values(ascending=False).plot.bar()\n",
    "plt.xticks(rotation=50)\n",
    "plt.xlabel(\"Locais de Conferências\")\n",
    "plt.ylabel(\"Quantidade de Locais de Conferência\")\n",
    "plt.show()"
   ]
  },
  {
   "cell_type": "code",
   "execution_count": null,
   "metadata": {
    "hidden": true
   },
   "outputs": [],
   "source": []
  },
  {
   "cell_type": "markdown",
   "metadata": {
    "hidden": true
   },
   "source": [
    "### Analisando Editores"
   ]
  },
  {
   "cell_type": "code",
   "execution_count": null,
   "metadata": {
    "hidden": true
   },
   "outputs": [],
   "source": [
    "# Groupby by\n",
    "editor = df_scopus.groupby(\"editor\")\n",
    "\n",
    "# Summary statistic of all\n",
    "editor.describe().head()"
   ]
  },
  {
   "cell_type": "code",
   "execution_count": null,
   "metadata": {
    "hidden": true
   },
   "outputs": [],
   "source": [
    "plt.figure(figsize=(15,10))\n",
    "editor.size().sort_values(ascending=False).plot.bar()\n",
    "plt.xticks(rotation=50)\n",
    "plt.xlabel(\"Fabricantes\")\n",
    "plt.ylabel(\"Número de Artigos\")\n",
    "plt.show()"
   ]
  },
  {
   "cell_type": "code",
   "execution_count": null,
   "metadata": {
    "hidden": true
   },
   "outputs": [],
   "source": []
  },
  {
   "cell_type": "markdown",
   "metadata": {
    "hidden": true
   },
   "source": [
    "### Analisando artigos por Ano"
   ]
  },
  {
   "cell_type": "code",
   "execution_count": null,
   "metadata": {
    "hidden": true
   },
   "outputs": [],
   "source": [
    "# Groupby by\n",
    "ano = df_scopus.groupby(\"ano_publicacao_scopus\")\n",
    "\n",
    "# Summary statistic of all\n",
    "ano.describe().head()"
   ]
  },
  {
   "cell_type": "code",
   "execution_count": null,
   "metadata": {
    "hidden": true
   },
   "outputs": [],
   "source": [
    "plt.figure(figsize=(15,10))\n",
    "ano.size().sort_values(ascending=False).plot.bar()\n",
    "plt.xticks(rotation=50)\n",
    "plt.xlabel(\"Anos\")\n",
    "plt.ylabel(\"Número de Artigos\")\n",
    "plt.show()"
   ]
  },
  {
   "cell_type": "markdown",
   "metadata": {
    "hidden": true
   },
   "source": [
    "### Analisando os idiomas"
   ]
  },
  {
   "cell_type": "code",
   "execution_count": null,
   "metadata": {
    "hidden": true
   },
   "outputs": [],
   "source": [
    "# Groupby by\n",
    "idioma = df_scopus.groupby(\"idioma_original\")\n",
    "\n",
    "# Summary statistic of all\n",
    "idioma.describe().head()"
   ]
  },
  {
   "cell_type": "code",
   "execution_count": null,
   "metadata": {
    "hidden": true
   },
   "outputs": [],
   "source": [
    "plt.figure(figsize=(15,10))\n",
    "idioma.size().sort_values(ascending=False).plot.bar()\n",
    "plt.xticks(rotation=50)\n",
    "plt.xlabel(\"Idioma Original\")\n",
    "plt.ylabel(\"Número de Artigos\")\n",
    "plt.show()"
   ]
  },
  {
   "cell_type": "code",
   "execution_count": null,
   "metadata": {
    "hidden": true
   },
   "outputs": [],
   "source": [
    "print('Visão geral em gráfico')\n",
    "sns.pairplot(df_scopus)"
   ]
  },
  {
   "cell_type": "code",
   "execution_count": null,
   "metadata": {
    "hidden": true
   },
   "outputs": [],
   "source": [
    "## qtde de artigos financiados e nao financiados - criar coluna"
   ]
  },
  {
   "cell_type": "code",
   "execution_count": null,
   "metadata": {
    "hidden": true
   },
   "outputs": [],
   "source": [
    "## qtde de artigos patrociandores e nao patrociandores - criar coluna"
   ]
  },
  {
   "cell_type": "code",
   "execution_count": null,
   "metadata": {
    "hidden": true
   },
   "outputs": [],
   "source": [
    "## criar regex para identificar emails da coluna editores"
   ]
  },
  {
   "cell_type": "code",
   "execution_count": null,
   "metadata": {
    "hidden": true
   },
   "outputs": [],
   "source": [
    "## qtde de artigos por editores - unicos"
   ]
  },
  {
   "cell_type": "code",
   "execution_count": null,
   "metadata": {
    "hidden": true
   },
   "outputs": [],
   "source": [
    "## qtde de artigos por local de conferencia - unicos"
   ]
  },
  {
   "cell_type": "code",
   "execution_count": null,
   "metadata": {
    "hidden": true
   },
   "outputs": [],
   "source": [
    "## qtde de artigos por idioma_original - unicos"
   ]
  },
  {
   "cell_type": "code",
   "execution_count": null,
   "metadata": {
    "hidden": true
   },
   "outputs": [],
   "source": [
    "## qtde de artigos por tipo de documentos - unicos"
   ]
  },
  {
   "cell_type": "markdown",
   "metadata": {
    "heading_collapsed": true
   },
   "source": [
    "## Nuvem de Palavras"
   ]
  },
  {
   "cell_type": "markdown",
   "metadata": {
    "hidden": true
   },
   "source": [
    " ### Nuvem de Palavras dos Títulos"
   ]
  },
  {
   "cell_type": "code",
   "execution_count": null,
   "metadata": {
    "hidden": true
   },
   "outputs": [],
   "source": [
    "import nltk\n",
    "from nltk.corpus import stopwords\n",
    "\n",
    "stopwords = stopwords.words('english')\n",
    "\n",
    "print(stopwords)\n",
    "\n",
    "# apend outras palavras"
   ]
  },
  {
   "cell_type": "code",
   "execution_count": null,
   "metadata": {
    "hidden": true
   },
   "outputs": [],
   "source": [
    "print('Carregar novo dataframe de palavras apenas com dados da coluna texto, ou seja, uma série.')\n",
    "#df_scopus['issn_scopus'] = df_scopus.issn_scopus.str.upper()\n",
    "palavras_titulo = df_scopus['titulo_artigo'].str.lower()\n",
    "palavras_titulo"
   ]
  },
  {
   "cell_type": "code",
   "execution_count": null,
   "metadata": {
    "hidden": true
   },
   "outputs": [],
   "source": [
    "print(f'O objeto palavras é do tipo {type(palavras_titulo)} e tem o shape de {palavras_titulo.shape}')"
   ]
  },
  {
   "cell_type": "code",
   "execution_count": null,
   "metadata": {
    "hidden": true
   },
   "outputs": [],
   "source": [
    "print(f'Criando Nuvem de Palavras sem tratamento para ter ideia do corpus.')\n",
    "# Variável recebe conteúdo do dataframe palavras concatenando cada conteúdo do texto separando por espaço\n",
    "wordcloud_palavras_titulo = \" \".join(s for s in palavras_titulo)\n",
    "#wordcloud_palavras"
   ]
  },
  {
   "cell_type": "code",
   "execution_count": null,
   "metadata": {
    "hidden": true
   },
   "outputs": [],
   "source": [
    "print(f'Quantidade de palavras no corpus: {len(wordcloud_palavras_titulo)} e seu tipo atual é{type(wordcloud_palavras_titulo)}')"
   ]
  },
  {
   "cell_type": "code",
   "execution_count": null,
   "metadata": {
    "hidden": true
   },
   "outputs": [],
   "source": [
    "print(f'Criação da nuvem de palavras sem tratamento nos textos')\n",
    "wordcloud_titulo = WordCloud(stopwords=stopwords,\n",
    "                      background_color='black', width=1600,                            \n",
    "                      height=800).generate(wordcloud_palavras_titulo)"
   ]
  },
  {
   "cell_type": "code",
   "execution_count": null,
   "metadata": {
    "hidden": true
   },
   "outputs": [],
   "source": [
    "#Gráfico Nuvem de Palavras\n",
    "# Gerando o grafico \n",
    "# Variáveis do gráfico \n",
    "path_image = '../image/'\n",
    "\n",
    "titulo = 'Nuvem de Palavras'\n",
    "#eixo_x = ''\n",
    "#eixo_y = ''\n",
    "image = path_image+'wordcloud'\n",
    "extensao_arquivo = '.pdf'\n",
    "\n",
    "#Gráfico\n",
    "fig, ax = plt.subplots(figsize=(16,8))            \n",
    "ax.imshow(wordcloud_titulo, interpolation='bilinear')\n",
    "ax.set_axis_off()         \n",
    "\n",
    "#legendas\n",
    "#ax.legend(title='Legenda', loc=4, fontsize=9)\n",
    "ax.set_title(titulo, fontsize=18)\n",
    "#ax.set_xlabel(eixo_x, fontsize=9)\n",
    "#ax.set_ylabel(eixo_y, fontsize=9)\n",
    "\n",
    "#salvar imagens\n",
    "plt.savefig(image+extensao_arquivo) #, format='pdf', dpi=300, transparent=True)\n",
    "plt.tight_layout() \n",
    "plt.show()"
   ]
  },
  {
   "cell_type": "markdown",
   "metadata": {
    "hidden": true
   },
   "source": [
    "### Nuvem de Palavras dos Resumos"
   ]
  },
  {
   "cell_type": "code",
   "execution_count": null,
   "metadata": {
    "hidden": true
   },
   "outputs": [],
   "source": [
    "print('Carregar novo dataframe de palavras apenas com dados da coluna texto, ou seja, uma série.')\n",
    "palavras_resumo = df_scopus['resumo'].str.lower()\n",
    "palavras_resumo"
   ]
  },
  {
   "cell_type": "code",
   "execution_count": null,
   "metadata": {
    "hidden": true
   },
   "outputs": [],
   "source": [
    "print(f'Criando Nuvem de Palavras sem tratamento para ter ideia do corpus.')\n",
    "# Variável recebe conteúdo do dataframe palavras concatenando cada conteúdo do texto separando por espaço\n",
    "wordcloud_palavras_resumo = \" \".join(s for s in palavras_resumo)\n",
    "#wordcloud_palavras"
   ]
  },
  {
   "cell_type": "code",
   "execution_count": null,
   "metadata": {
    "hidden": true
   },
   "outputs": [],
   "source": [
    "print(f'Quantidade de palavras no corpus: {len(wordcloud_palavras_resumo)} e seu tipo atual é{type(wordcloud_palavras_resumo)}')"
   ]
  },
  {
   "cell_type": "code",
   "execution_count": null,
   "metadata": {
    "hidden": true
   },
   "outputs": [],
   "source": [
    "print(f'Criação da nuvem de palavras sem tratamento nos textos')\n",
    "wordcloud_resumo = WordCloud(stopwords=stopwords,\n",
    "                      background_color='black', width=1600,                            \n",
    "                      height=800).generate(wordcloud_palavras_resumo)"
   ]
  },
  {
   "cell_type": "code",
   "execution_count": null,
   "metadata": {
    "hidden": true
   },
   "outputs": [],
   "source": [
    "#Gráfico Nuvem de Palavras\n",
    "path_image = '../image/'\n",
    "\n",
    "titulo = 'Nuvem de Palavras'\n",
    "#eixo_x = ''\n",
    "#eixo_y = ''\n",
    "image = path_image+'wordcloud'\n",
    "extensao_arquivo = '.pdf'\n",
    "\n",
    "#Gráfico\n",
    "fig, ax = plt.subplots(figsize=(16,8))            \n",
    "ax.imshow(wordcloud_resumo, interpolation='bilinear')\n",
    "ax.set_axis_off()         \n",
    "\n",
    "#legendas\n",
    "#ax.legend(title='Legenda', loc=4, fontsize=9)\n",
    "ax.set_title(titulo, fontsize=18)\n",
    "#ax.set_xlabel(eixo_x, fontsize=9)\n",
    "#ax.set_ylabel(eixo_y, fontsize=9)\n",
    "\n",
    "#salvar imagens\n",
    "plt.savefig(image+extensao_arquivo) #, format='pdf', dpi=300, transparent=True)\n",
    "plt.tight_layout() \n",
    "plt.show()"
   ]
  },
  {
   "cell_type": "markdown",
   "metadata": {
    "hidden": true
   },
   "source": [
    "### Nuvem de Palavras do Conteúdo dos textos"
   ]
  },
  {
   "cell_type": "markdown",
   "metadata": {},
   "source": [
    "# Dataframe Qualis"
   ]
  },
  {
   "cell_type": "markdown",
   "metadata": {},
   "source": [
    "## Ajustar de Colunas"
   ]
  },
  {
   "cell_type": "markdown",
   "metadata": {},
   "source": [
    "### Alterar nome de colunas"
   ]
  },
  {
   "cell_type": "code",
   "execution_count": null,
   "metadata": {},
   "outputs": [],
   "source": [
    "print('Verificar colunas')\n",
    "df_qualis.columns"
   ]
  },
  {
   "cell_type": "code",
   "execution_count": null,
   "metadata": {},
   "outputs": [],
   "source": [
    "columns_qualis = {\n",
    "    'ISSN': 'issn_qualis',\n",
    "    'Título':'titulo_periodico',\n",
    "    'Área de Avaliação':'area_avaliacao', \n",
    "    'Estrato':'estrato',\n",
    "}"
   ]
  },
  {
   "cell_type": "code",
   "execution_count": null,
   "metadata": {},
   "outputs": [],
   "source": [
    "df_qualis = df_qualis.rename(columns=columns_qualis)\n",
    "df_qualis.head(1)"
   ]
  },
  {
   "cell_type": "markdown",
   "metadata": {},
   "source": [
    "## Ajustar tipagem de dados"
   ]
  },
  {
   "cell_type": "markdown",
   "metadata": {},
   "source": [
    "### Converter colunas para categórica"
   ]
  },
  {
   "cell_type": "code",
   "execution_count": null,
   "metadata": {},
   "outputs": [],
   "source": [
    "print('Ajustar tipagem dos dados')\n",
    "df_qualis['estrato'] = df_qualis['estrato'].astype('category')"
   ]
  },
  {
   "cell_type": "markdown",
   "metadata": {},
   "source": [
    "### Filtrar base Qualis"
   ]
  },
  {
   "cell_type": "code",
   "execution_count": null,
   "metadata": {},
   "outputs": [],
   "source": [
    "print(df_qualis['area_avaliacao'].unique())"
   ]
  },
  {
   "cell_type": "markdown",
   "metadata": {},
   "source": [
    "### Remover as areas abaixo"
   ]
  },
  {
   "cell_type": "code",
   "execution_count": null,
   "metadata": {},
   "outputs": [],
   "source": [
    "\n",
    "#%%timeit\n",
    "df_remove = df_qualis.loc[\n",
    "    (df_qualis['area_avaliacao'] == 'ADMINISTRAÇÃO PÚBLICA E DE EMPRESAS, CIÊNCIAS CONTÁBEIS E TURISMO') |\n",
    "    (df_qualis['area_avaliacao'] == 'ARTES') |\n",
    "    (df_qualis['area_avaliacao'] == 'ANTROPOLOGIA / ARQUEOLOGIA                        ') |\n",
    "    (df_qualis['area_avaliacao'] == 'ARQUITETURA, URBANISMO E DESIGN') |\n",
    "    (df_qualis['area_avaliacao'] == 'ASTRONOMIA / FÍSICA                               ') |\n",
    "    (df_qualis['area_avaliacao'] == 'BIODIVERSIDADE') |\n",
    "    (df_qualis['area_avaliacao'] == 'CIÊNCIAS AGRÁRIAS I                               ') |\n",
    "    (df_qualis['area_avaliacao'] == 'CIÊNCIA DE ALIMENTOS                              ') |\n",
    "    (df_qualis['area_avaliacao'] == 'CIÊNCIA POLÍTICA E RELAÇÕES INTERNACIONAIS        ') |\n",
    "    (df_qualis['area_avaliacao'] == 'CIÊNCIAS AGRÁRIAS I                               ') |\n",
    "    (df_qualis['area_avaliacao'] == 'CIÊNCIAS AMBIENTAIS') |   \n",
    "    (df_qualis['area_avaliacao'] == 'CIÊNCIAS DA RELIGIÃO E TEOLOGIA') |\n",
    "    (df_qualis['area_avaliacao'] == 'COMUNICAÇÃO E INFORMAÇÃO') |\n",
    "    (df_qualis['area_avaliacao'] == 'DIREITO                                           ') |\n",
    "    (df_qualis['area_avaliacao'] == 'ECONOMIA                                          ') |\n",
    "    (df_qualis['area_avaliacao'] == 'EDUCAÇÃO                                          ') |\n",
    "    (df_qualis['area_avaliacao'] == 'ENSINO') |\n",
    "    (df_qualis['area_avaliacao'] == 'EDUCAÇÃO FÍSICA                                   ') |\n",
    "    (df_qualis['area_avaliacao'] == 'ENGENHARIAS I                                     ') |\n",
    "    (df_qualis['area_avaliacao'] == 'ENGENHARIAS II                                    ') |\n",
    "    (df_qualis['area_avaliacao'] == 'ENGENHARIAS III                                   ') |\n",
    "    (df_qualis['area_avaliacao'] == 'ENGENHARIAS IV                                    ' ) |\n",
    "    (df_qualis['area_avaliacao'] == 'GEOCIÊNCIAS                                       ' ) |\n",
    "    (df_qualis['area_avaliacao'] == 'FILOSOFIA') |\n",
    "    (df_qualis['area_avaliacao'] == 'GEOGRAFIA                                         ') |\n",
    "    (df_qualis['area_avaliacao'] == 'HISTÓRIA                                          ') |\n",
    "    (df_qualis['area_avaliacao'] == 'INTERDISCIPLINAR                                  ') |\n",
    "    (df_qualis['area_avaliacao'] == 'LINGUíSTICA E LITERATURA') |\n",
    "    (df_qualis['area_avaliacao'] == 'MATERIAIS                                         ') |\n",
    "    (df_qualis['area_avaliacao'] ==  'MEDICINA VETERINÁRIA                              ') |\n",
    "    (df_qualis['area_avaliacao'] ==  'NUTRIÇÃO') |\n",
    "    (df_qualis['area_avaliacao'] == 'PLANEJAMENTO URBANO E REGIONAL / DEMOGRAFIA       ') |\n",
    "    (df_qualis['area_avaliacao'] == 'SERVIÇO SOCIAL                                    ') |\n",
    "    (df_qualis['area_avaliacao'] == 'SOCIOLOGIA                                        ') |\n",
    "    (df_qualis['area_avaliacao'] ==  'ZOOTECNIA / RECURSOS PESQUEIROS                   ') \n",
    " \n",
    "]\n",
    "\n",
    "df_qualis_filtrado = df_qualis.drop(df_remove.index)\n",
    "df_qualis_filtrado"
   ]
  },
  {
   "cell_type": "markdown",
   "metadata": {},
   "source": [
    "## Analisar dataframe tratado"
   ]
  },
  {
   "cell_type": "code",
   "execution_count": null,
   "metadata": {},
   "outputs": [],
   "source": [
    "print('Verificando tipos e se tem dados nulos')\n",
    "df_qualis_filtrado.info()"
   ]
  },
  {
   "cell_type": "code",
   "execution_count": null,
   "metadata": {},
   "outputs": [],
   "source": [
    "print('Resumo Estatístico de Campos Numéricos')\n",
    "df_qualis_filtrado.describe()"
   ]
  },
  {
   "cell_type": "code",
   "execution_count": null,
   "metadata": {},
   "outputs": [],
   "source": [
    "# ver qtd no excel =NÚM.CARACT(O2)\n",
    "print('Coluna com maior qtde de caracteres')\n",
    "df_qualis_filtrado['titulo_periodico'].apply(str).map(len).max()"
   ]
  },
  {
   "cell_type": "markdown",
   "metadata": {},
   "source": [
    "## Visualizações Qualis"
   ]
  },
  {
   "cell_type": "markdown",
   "metadata": {},
   "source": [
    "### Anáilise Area de Avaliação"
   ]
  },
  {
   "cell_type": "code",
   "execution_count": null,
   "metadata": {},
   "outputs": [],
   "source": [
    "df_qualis_filtrado.columns\n"
   ]
  },
  {
   "cell_type": "raw",
   "metadata": {},
   "source": [
    "#colocar appos definir este df\n",
    "## pegar os 10 + patrocinadores\n",
    "df_bases.area_avaliacao.unique()"
   ]
  },
  {
   "cell_type": "code",
   "execution_count": null,
   "metadata": {},
   "outputs": [],
   "source": [
    "# Groupby by\n",
    "area_avaliacao_all = df_qualis_filtrado.groupby(\"area_avaliacao\")\n",
    "\n",
    "# Summary statistic of all\n",
    "area_avaliacao_all.describe().head()"
   ]
  },
  {
   "cell_type": "code",
   "execution_count": null,
   "metadata": {},
   "outputs": [],
   "source": [
    "# pegar as 10 +\n",
    "plt.figure(figsize=(15,10))\n",
    "area_avaliacao_all.size().sort_values(ascending=False).plot.bar()\n",
    "plt.xticks(rotation=50)\n",
    "plt.xlabel(\"Área de Avaliação geral - Base Qualis\")\n",
    "plt.ylabel(\"Quantidade de Artigos\")\n",
    "plt.grid()\n",
    "plt.show()"
   ]
  },
  {
   "cell_type": "code",
   "execution_count": null,
   "metadata": {},
   "outputs": [],
   "source": []
  },
  {
   "cell_type": "raw",
   "metadata": {},
   "source": [
    "## muito lento\n",
    "# Groupby by\n",
    "titulo_periodico = df_qualis_filtrado.groupby(\"titulo_periodico\")\n",
    "\n",
    "# Summary statistic of all\n",
    "titulo_periodico.describe().head()"
   ]
  },
  {
   "cell_type": "raw",
   "metadata": {},
   "source": [
    "# pegar as 10 +\n",
    "plt.figure(figsize=(15,10))\n",
    "titulo_periodico.size().sort_values(ascending=False).plot.bar()\n",
    "plt.xticks(rotation=50)\n",
    "plt.xlabel(\"Título dos Periódicos\")\n",
    "plt.ylabel(\"Quantidade de Periodicos\")\n",
    "plt.show()"
   ]
  },
  {
   "cell_type": "code",
   "execution_count": null,
   "metadata": {},
   "outputs": [],
   "source": []
  },
  {
   "cell_type": "code",
   "execution_count": null,
   "metadata": {},
   "outputs": [],
   "source": [
    "### Gerando gráfico Tipo de Extensões\n",
    "\n",
    "#variáveis do gráfico\n",
    "titulo = 'Quantidade de Periodicos'\n",
    "eixo_x = 'Tipos de Periodicos'\n",
    "eixo_y = 'Quantidade de Periodicos'\n",
    "data_hora = datetime.datetime.now()\n",
    "path = os.path.join('..','image')\n",
    "img_extensao = '.png'\n",
    "image = ''\n",
    "\n",
    "# Matplotlib\n",
    "fig, ax = plt.subplots(figsize=(15,5))\n",
    "plt.bar(df_qualis_filtrado['area_avaliacao'].value_counts().index, df_qualis_filtrado['area_avaliacao'].value_counts())\n",
    "\n",
    "#Legendas e eixos\n",
    "#ax.legend(title='Legenda', loc=4, fontsize=20)\n",
    "ax.set_title(titulo, fontsize=20)\n",
    "ax.set_xlabel(eixo_x, fontsize=15)\n",
    "ax.set_ylabel(eixo_y, fontsize=15)\n",
    "plt.yticks(rotation=45) ## agrupar datas por meses, trimestre ou ano, etc\n",
    "\n",
    "plt.grid()\n",
    "\n",
    "#Salvar imagem\n",
    "#plt.savefig(path+image, dpi=300)\n",
    "plt.tight_layout()\n",
    "plt.show()\n",
    "\n",
    "plt.show()"
   ]
  },
  {
   "cell_type": "markdown",
   "metadata": {},
   "source": [
    "# Dataframe PubMEd"
   ]
  },
  {
   "cell_type": "markdown",
   "metadata": {},
   "source": [
    "## Ajustar de Colunas"
   ]
  },
  {
   "cell_type": "markdown",
   "metadata": {},
   "source": [
    "### Alterar nome de Colunas"
   ]
  },
  {
   "cell_type": "code",
   "execution_count": null,
   "metadata": {},
   "outputs": [],
   "source": [
    "## criar uma coluna fonte com valor = pubmed"
   ]
  },
  {
   "cell_type": "code",
   "execution_count": null,
   "metadata": {},
   "outputs": [],
   "source": []
  },
  {
   "cell_type": "code",
   "execution_count": null,
   "metadata": {},
   "outputs": [],
   "source": [
    "print('Verificar colunas')\n",
    "df_pubmed.columns"
   ]
  },
  {
   "cell_type": "code",
   "execution_count": null,
   "metadata": {},
   "outputs": [],
   "source": [
    "columns_scopus = {\n",
    "    'PMID':'id_pubmed',\n",
    "    'Title':'titulo_artigo',\n",
    "    'Authors':'autores_pubmed',\n",
    "    'Citation':'citar',\n",
    "    'First Author':'primeiro_autor',\n",
    "    'Journal/Book':'jornal_book',\n",
    "    'Publication Year':'ano_publicacao_pubmed',\n",
    "    'Create Date':'data_criacao_pubmed', \n",
    "    'PMCID':'id_pmc', \n",
    "    'NIHMS ID':'id_nihms', \n",
    "    'DOI':'doi_pubmed',\n",
    "}"
   ]
  },
  {
   "cell_type": "code",
   "execution_count": null,
   "metadata": {},
   "outputs": [],
   "source": [
    "df_pubmed = df_pubmed.rename(columns=columns_scopus)\n",
    "df_pubmed.head(2)"
   ]
  },
  {
   "cell_type": "markdown",
   "metadata": {},
   "source": [
    "## Ajustar tipagem de dados"
   ]
  },
  {
   "cell_type": "code",
   "execution_count": null,
   "metadata": {},
   "outputs": [],
   "source": [
    "df_pubmed.info()"
   ]
  },
  {
   "cell_type": "markdown",
   "metadata": {},
   "source": [
    "### Convertendo as colunas de datas para o formato datetime"
   ]
  },
  {
   "cell_type": "code",
   "execution_count": null,
   "metadata": {},
   "outputs": [],
   "source": [
    "#Convertendo as colunas de datas para o formato datetime\n",
    "colunas_datas = df_pubmed.columns[df_pubmed.columns.str.contains('DT_|dt\\|data|DATA|Data', regex=True)]"
   ]
  },
  {
   "cell_type": "code",
   "execution_count": null,
   "metadata": {},
   "outputs": [],
   "source": [
    "#convertendo cada coluna de colunas_datas para o formato datetime\n",
    "for coluna in colunas_datas:\n",
    "    df_pubmed[coluna] = pd.to_datetime(df_pubmed[coluna], format='%Y-%m-%d')"
   ]
  },
  {
   "cell_type": "code",
   "execution_count": null,
   "metadata": {},
   "outputs": [],
   "source": [
    "## nao funfou, verificar\n",
    "df_pubmed.info()"
   ]
  },
  {
   "cell_type": "markdown",
   "metadata": {},
   "source": [
    "### Convertendo as colunas para categóricas"
   ]
  },
  {
   "cell_type": "code",
   "execution_count": null,
   "metadata": {},
   "outputs": [],
   "source": [
    "print('Ajustar tipagem dos dados')\n",
    "df_pubmed['jornal_book'] = df_pubmed['jornal_book'].astype('category')"
   ]
  },
  {
   "cell_type": "code",
   "execution_count": null,
   "metadata": {},
   "outputs": [],
   "source": [
    "## nao funfou, verificar\n",
    "df_pubmed.info()"
   ]
  },
  {
   "cell_type": "markdown",
   "metadata": {},
   "source": [
    "# Dataframe CAPES"
   ]
  },
  {
   "cell_type": "code",
   "execution_count": null,
   "metadata": {},
   "outputs": [],
   "source": []
  },
  {
   "cell_type": "markdown",
   "metadata": {},
   "source": [
    "# Concatenar dataframes de bases indexadas"
   ]
  },
  {
   "cell_type": "code",
   "execution_count": null,
   "metadata": {},
   "outputs": [],
   "source": [
    "#https://www.acervolima.com.br/2020/08/concat-e-append-do-pandas-como-usar.html\n",
    "## cancatenar ambas as bases em um df\n",
    "## este novo df tem q ter no total o somatório de ambos\n",
    "## remover as duplicatas com id_pubmed e titulo aritigo\n"
   ]
  },
  {
   "cell_type": "code",
   "execution_count": null,
   "metadata": {},
   "outputs": [],
   "source": [
    "qtde_scopus = df_scopus.titulo_artigo.count()\n",
    "qtde_pubmed = df_pubmed.titulo_artigo.count()\n",
    "print(f'A quantidade de artigos na base scopus é: {qtde_scopus}')\n",
    "print(f'A quantidade de artigos na base pubmed é: {qtde_pubmed}')\n",
    "print(f'O total de artigos concatedos tem que ser {qtde_pubmed+qtde_scopus}')"
   ]
  },
  {
   "cell_type": "code",
   "execution_count": null,
   "metadata": {},
   "outputs": [],
   "source": []
  },
  {
   "cell_type": "code",
   "execution_count": null,
   "metadata": {},
   "outputs": [],
   "source": [
    "frames = [df_scopus, df_pubmed]"
   ]
  },
  {
   "cell_type": "code",
   "execution_count": null,
   "metadata": {},
   "outputs": [],
   "source": [
    "resultado = pd.concat(frames)"
   ]
  },
  {
   "cell_type": "code",
   "execution_count": null,
   "metadata": {},
   "outputs": [],
   "source": [
    "type(resultado)"
   ]
  },
  {
   "cell_type": "code",
   "execution_count": null,
   "metadata": {},
   "outputs": [],
   "source": []
  },
  {
   "cell_type": "code",
   "execution_count": null,
   "metadata": {},
   "outputs": [],
   "source": [
    "resultado"
   ]
  },
  {
   "cell_type": "code",
   "execution_count": null,
   "metadata": {},
   "outputs": [],
   "source": [
    "resultado.columns"
   ]
  },
  {
   "cell_type": "code",
   "execution_count": null,
   "metadata": {},
   "outputs": [],
   "source": [
    "#resultado = resultado.drop_duplicates(['titulo_artigo', 'id_pubmed'], keep='last')\n",
    "\n",
    "## testar unitariamente com cada coluna\n",
    "resultado = resultado.drop_duplicates(['titulo_artigo', 'id_pubmed']) = 581 \n",
    "resultado = resultado.drop_duplicates(['id_pubmed'])\n",
    "print(resultado)"
   ]
  },
  {
   "cell_type": "code",
   "execution_count": null,
   "metadata": {},
   "outputs": [],
   "source": []
  },
  {
   "cell_type": "code",
   "execution_count": null,
   "metadata": {},
   "outputs": [],
   "source": []
  },
  {
   "cell_type": "code",
   "execution_count": null,
   "metadata": {},
   "outputs": [],
   "source": []
  },
  {
   "cell_type": "code",
   "execution_count": null,
   "metadata": {},
   "outputs": [],
   "source": []
  },
  {
   "cell_type": "code",
   "execution_count": null,
   "metadata": {},
   "outputs": [],
   "source": []
  },
  {
   "cell_type": "code",
   "execution_count": null,
   "metadata": {},
   "outputs": [],
   "source": []
  },
  {
   "cell_type": "code",
   "execution_count": null,
   "metadata": {},
   "outputs": [],
   "source": []
  },
  {
   "cell_type": "markdown",
   "metadata": {},
   "source": [
    "# Unir / Merge de bases com Qualis"
   ]
  },
  {
   "cell_type": "code",
   "execution_count": null,
   "metadata": {},
   "outputs": [],
   "source": [
    "#df_qualis[\"issn_qualis_ajustado\"] = \n",
    "df_qualis_filtrado[\"issn_qualis\"].replace('-','',regex=True, inplace=True)"
   ]
  },
  {
   "cell_type": "code",
   "execution_count": null,
   "metadata": {},
   "outputs": [],
   "source": [
    "df_qualis_filtrado[\"issn_qualis\"]"
   ]
  },
  {
   "cell_type": "code",
   "execution_count": null,
   "metadata": {},
   "outputs": [],
   "source": [
    "df_scopus['issn_scopus'] = df_scopus.issn_scopus.str.upper()\n",
    "df_qualis_filtrado['issn_qualis'] = df_qualis_filtrado.issn_qualis.str.upper()"
   ]
  },
  {
   "cell_type": "code",
   "execution_count": null,
   "metadata": {},
   "outputs": [],
   "source": [
    "df_scopus['issn_scopus']"
   ]
  },
  {
   "cell_type": "code",
   "execution_count": null,
   "metadata": {},
   "outputs": [],
   "source": [
    "df_qualis_filtrado['issn_qualis']"
   ]
  },
  {
   "cell_type": "code",
   "execution_count": null,
   "metadata": {},
   "outputs": [],
   "source": []
  },
  {
   "cell_type": "raw",
   "metadata": {},
   "source": [
    "## criar um dataframe q une o links_regulamentos_fundos + allLines, ligados pelo nome do arquivo\n",
    "df_bases = pd.merge(left=df_scopus, right=df_qualis_filtrado, left_on='issn_scopus', right_on='issn_qualis', suffixes=[\"_df_scopus\", \"_df_qualis\"])\n",
    "df_bases"
   ]
  },
  {
   "cell_type": "code",
   "execution_count": null,
   "metadata": {},
   "outputs": [],
   "source": [
    "## criar um dataframe q une o links_regulamentos_fundos + allLines, ligados pelo nome do arquivo\n",
    "df_bases = df_scopus.merge(df_qualis_filtrado, left_on='issn_scopus', right_on='issn_qualis', how='left', indicator=True)\n",
    "df_bases"
   ]
  },
  {
   "cell_type": "code",
   "execution_count": null,
   "metadata": {},
   "outputs": [],
   "source": [
    "#df_scopus.merge(df_qualis, left_on='issn_scopus', right_on='issn_qualis', how='left', validate='m:m')"
   ]
  },
  {
   "cell_type": "code",
   "execution_count": null,
   "metadata": {},
   "outputs": [],
   "source": [
    "df_bases[['autores_scopus','titulo_artigo','area_avaliacao','issn_scopus','issn_qualis','estrato']]"
   ]
  },
  {
   "cell_type": "code",
   "execution_count": null,
   "metadata": {},
   "outputs": [],
   "source": [
    "print(type(df_bases['_merge'].unique()))"
   ]
  },
  {
   "cell_type": "code",
   "execution_count": null,
   "metadata": {},
   "outputs": [],
   "source": [
    "print(df_bases['_merge'].unique())"
   ]
  },
  {
   "cell_type": "code",
   "execution_count": null,
   "metadata": {},
   "outputs": [],
   "source": [
    "df_bases.nunique()"
   ]
  },
  {
   "cell_type": "code",
   "execution_count": null,
   "metadata": {},
   "outputs": [],
   "source": [
    "df_bases.info()"
   ]
  },
  {
   "cell_type": "code",
   "execution_count": null,
   "metadata": {},
   "outputs": [],
   "source": []
  },
  {
   "cell_type": "code",
   "execution_count": null,
   "metadata": {},
   "outputs": [],
   "source": [
    "# Criar colunas\n",
    "df_bases['leitura_Resumo']=None \n",
    "df_bases['leitura_Conclusao']=None \n",
    "df_bases['leitura_completa']=None "
   ]
  },
  {
   "cell_type": "code",
   "execution_count": null,
   "metadata": {},
   "outputs": [],
   "source": []
  },
  {
   "cell_type": "markdown",
   "metadata": {},
   "source": [
    "## Visualizações Base Geral"
   ]
  },
  {
   "cell_type": "markdown",
   "metadata": {},
   "source": [
    "### Analisando Nomes Comerciais"
   ]
  },
  {
   "cell_type": "code",
   "execution_count": null,
   "metadata": {},
   "outputs": [],
   "source": [
    "#Colocar + para baixo após criar este df\n",
    "\n",
    "# Groupby by\n",
    "nomes_comerciais = df_bases.groupby(\"nomes_comerciais\")\n",
    "\n",
    "# Summary statistic of all\n",
    "nomes_comerciais.describe().head()"
   ]
  },
  {
   "cell_type": "code",
   "execution_count": null,
   "metadata": {},
   "outputs": [],
   "source": [
    "plt.figure(figsize=(15,10))\n",
    "nomes_comerciais.size().sort_values(ascending=False).plot.bar()\n",
    "plt.xticks(rotation=50)\n",
    "plt.xlabel(\"Nomes Comerciais\")\n",
    "plt.ylabel(\"Número de Artigos\")\n",
    "plt.show()"
   ]
  },
  {
   "cell_type": "code",
   "execution_count": null,
   "metadata": {},
   "outputs": [],
   "source": []
  },
  {
   "cell_type": "code",
   "execution_count": null,
   "metadata": {},
   "outputs": [],
   "source": [
    "# Groupby by\n",
    "area_avaliacao = df_bases.groupby(\"area_avaliacao\")\n",
    "\n",
    "# Summary statistic of all\n",
    "area_avaliacao.describe().head()"
   ]
  },
  {
   "cell_type": "code",
   "execution_count": null,
   "metadata": {},
   "outputs": [],
   "source": [
    "# pegar as 10 +\n",
    "plt.figure(figsize=(15,10))\n",
    "area_avaliacao.size().sort_values(ascending=False).plot.bar()\n",
    "plt.xticks(rotation=50)\n",
    "plt.xlabel(\"Área de Avaliação\")\n",
    "plt.ylabel(\"Quantidade de Artigos\")\n",
    "plt.show()"
   ]
  },
  {
   "cell_type": "code",
   "execution_count": null,
   "metadata": {},
   "outputs": [],
   "source": []
  },
  {
   "cell_type": "markdown",
   "metadata": {},
   "source": [
    "### Análise de Titulo Periodico"
   ]
  },
  {
   "cell_type": "code",
   "execution_count": null,
   "metadata": {},
   "outputs": [],
   "source": [
    "# Groupby by\n",
    "titulo_periodico = df_bases.groupby(\"titulo_periodico\")\n",
    "\n",
    "# Summary statistic of all\n",
    "titulo_periodico.describe().head()"
   ]
  },
  {
   "cell_type": "code",
   "execution_count": null,
   "metadata": {},
   "outputs": [],
   "source": [
    "# pegar as 10 +\n",
    "plt.figure(figsize=(15,10))\n",
    "titulo_periodico.size().sort_values(ascending=False).plot.bar()\n",
    "plt.xticks(rotation=50)\n",
    "plt.xlabel(\"Título dos Periódicos\")\n",
    "plt.ylabel(\"Quantidade de Periodicos\")\n",
    "plt.show()"
   ]
  },
  {
   "cell_type": "markdown",
   "metadata": {},
   "source": [
    "# Exportação do resultado para Excel"
   ]
  },
  {
   "cell_type": "markdown",
   "metadata": {},
   "source": [
    "## Planilha Scopus"
   ]
  },
  {
   "cell_type": "code",
   "execution_count": null,
   "metadata": {},
   "outputs": [],
   "source": [
    "df_scopus.columns"
   ]
  },
  {
   "cell_type": "code",
   "execution_count": null,
   "metadata": {},
   "outputs": [],
   "source": [
    "## Gerar planilha com colunas especificas\n",
    "#resultado_geral = os.path.join('../data','scopus-31-05-2021.csv')\n",
    "resultado_scopus = os.path.join('../data','resultado_scopus.xlsx')\n",
    "\n",
    "df_xlsx_scopus = pd.DataFrame(df_scopus, columns = [\n",
    "       'issn_scopus','id_pubmed','titulo_artigo', 'ano_publicacao_scopus','quantidade_citacoes',\n",
    "       'tipo_documento','nome_conferencia','editores', 'patrocinadores', 'editor',\n",
    "       'autores_scopus','id_autores', 'titulo_fonte','volume', 'publicado', 'numero_artigo',\n",
    "       'inicio_pagina', 'fim_pagina','quantidade_paginas','inicio_pagina_','fim_pagina_','quantidade_paginas_',\n",
    "       'link_scopus','afiliacoes', 'autores_com_filiacoes', 'resumo',\n",
    "       'palavras_chaves_autor', 'palavras_chave_index',\n",
    "       'numeros_sequencia_molecular', 'quimica', 'nomes_comerciais',\n",
    "       'fabricantes',\n",
    "       'detalhes_financiamento', 'texto_financiamento_1','texto_financiamento_2', 'texto_financiamento_3',\n",
    "       'referencias', 'endereco_correspondencia', \n",
    "       'data_conferencia', 'local_conferencia',\n",
    "       'codigo_conferencia', 'isbn', 'coden',\n",
    "       'idioma_original', 'titulo_abreviado_fonte', \n",
    "       'etapa_publicacao', 'acesso_livre', 'fonte', 'eid','doi_scopus' \n",
    "    ,])\n",
    "df_xlsx_scopus = df_xlsx_scopus.to_excel(resultado_scopus,index=False, encoding='utf-8', header=True)"
   ]
  },
  {
   "cell_type": "markdown",
   "metadata": {},
   "source": [
    "## Planilha PubMed"
   ]
  },
  {
   "cell_type": "code",
   "execution_count": null,
   "metadata": {},
   "outputs": [],
   "source": [
    "df_pubmed.columns"
   ]
  },
  {
   "cell_type": "code",
   "execution_count": null,
   "metadata": {},
   "outputs": [],
   "source": [
    "## Gerar planilha com colunas especificas\n",
    "#resultado_geral = os.path.join('../data','scopus-31-05-2021.csv')\n",
    "resultado_pubmed = os.path.join('../data','resultado_pubmed.xlsx')\n",
    "\n",
    "df_xlsx_pubmed = pd.DataFrame(df_pubmed, columns = [\n",
    "    'id_pubmed', 'titulo_artigo','ano_publicacao_pubmed','autores_pubmed', 'citar_autor',\n",
    "    'primeiro_autor', 'jornal_book','data_criacao_pubmed',\n",
    "    'id_pmc', 'id_nihms', 'doi_pubmed'\n",
    "    ,])\n",
    "df_xlsx_pubmed = df_xlsx_pubmed.to_excel(resultado_pubmed,index=False, encoding='utf-8', header=True)"
   ]
  },
  {
   "cell_type": "code",
   "execution_count": null,
   "metadata": {},
   "outputs": [],
   "source": []
  },
  {
   "cell_type": "code",
   "execution_count": null,
   "metadata": {},
   "outputs": [],
   "source": [
    "resultado.columns"
   ]
  },
  {
   "cell_type": "code",
   "execution_count": null,
   "metadata": {},
   "outputs": [],
   "source": [
    "## Planilha de base indexada"
   ]
  },
  {
   "cell_type": "code",
   "execution_count": null,
   "metadata": {},
   "outputs": [],
   "source": [
    "## Gerar planilha com colunas especificas\n",
    "#resultado_geral = os.path.join('../data','scopus-31-05-2021.csv')\n",
    "resultado_dfs = os.path.join('../data','resultado_dfs.xlsx')\n",
    "\n",
    "df_xlsx_dfs = pd.DataFrame(resultado, columns = [\n",
    "'autores_scopus', 'id_autores', 'titulo_artigo',\n",
    "       'ano_publicacao_scopus', 'titulo_fonte', 'volume', 'publicado',\n",
    "       'numero_artigo', 'inicio_pagina', 'fim_pagina', 'quantidade_paginas',\n",
    "       'quantidade_citacoes', 'doi_scopus', 'link_scopus', 'afiliacoes',\n",
    "       'autores_com_filiacoes', 'resumo', 'palavras_chaves_autor',\n",
    "       'palavras_chave_index', 'numeros_sequencia_molecular', 'quimica',\n",
    "       'nomes_comerciais', 'fabricantes', 'detalhes_financiamento',\n",
    "       'texto_financiamento_1', 'texto_financiamento_2',\n",
    "       'texto_financiamento_3', 'referencias', 'endereco_correspondencia',\n",
    "       'editores', 'patrocinadores', 'editor', 'nome_conferencia',\n",
    "       'data_conferencia', 'local_conferencia', 'codigo_conferencia',\n",
    "       'issn_scopus', 'isbn', 'coden', 'id_pubmed', 'idioma_original',\n",
    "       'titulo_abreviado_fonte', 'tipo_documento', 'etapa_publicacao',\n",
    "       'acesso_livre', 'fonte', 'eid', 'inicio_pagina_', 'fim_pagina_',\n",
    "       'quantidade_paginas_', 'autores_pubmed', 'citar', 'primeiro_autor',\n",
    "       'jornal_book', 'ano_publicacao_pubmed', 'data_criacao_pubmed', 'id_pmc',\n",
    "       'id_nihms', 'doi_pubmed'\n",
    "    ,])\n",
    "df_xlsx_dfs = df_xlsx_dfs.to_excel(resultado_dfs,index=False, encoding='utf-8', header=True)"
   ]
  },
  {
   "cell_type": "code",
   "execution_count": null,
   "metadata": {},
   "outputs": [],
   "source": []
  },
  {
   "cell_type": "code",
   "execution_count": null,
   "metadata": {},
   "outputs": [],
   "source": []
  },
  {
   "cell_type": "code",
   "execution_count": null,
   "metadata": {},
   "outputs": [],
   "source": [
    "df_bases.columns"
   ]
  },
  {
   "cell_type": "code",
   "execution_count": null,
   "metadata": {},
   "outputs": [],
   "source": [
    "## Gerar planilha com colunas especificas\n",
    "#resultado_geral = os.path.join('../data','scopus-31-05-2021.csv')\n",
    "resultado_geral = os.path.join('../data','resultado_geral.xlsx')\n",
    "\n",
    "df_xlsx = pd.DataFrame(df_bases, columns = \n",
    "        ['titulo_artigo', 'ano_publicacao','titulo_periodico', 'area_avaliacao', 'estrato','id_autores', 'titulo_fonte',\n",
    "       'volume', 'publicado', 'numero_artigo', 'inicio_pagina', 'fim_pagina',\n",
    "       'quantidade_paginas', 'quantidade_citacoes', 'doi', 'link_scopus',\n",
    "       'autores','afiliacoes', 'autores_com_filiacoes', 'resumo',\n",
    "       'palavras_chaves_autor', 'palavras_chave_index',\n",
    "       'numeros_sequencia_molecular', 'quimica', 'nomes_comerciais',\n",
    "       'fabricantes', 'detalhes_financiamento', 'texto_financiamento_1',\n",
    "       'texto_financiamento_2', 'texto_financiamento_3', 'referencias',\n",
    "       'endereco_correspondencia', 'editores', 'patrocinadores', 'editor',\n",
    "       'nome_conferencia', 'data_conferencia', 'local_conferencia',\n",
    "       'codigo_conferencia', 'issn_scopus', 'isbn', 'coden', 'id_pubmed',\n",
    "       'idioma_original', 'titulo_abreviado_fonte', 'tipo_documento',\n",
    "       'etapa_publicacao', 'acesso_livre', 'fonte', 'eid', 'issn_qualis','_merge'\n",
    "       'leitura_Resumo','leitura_Conclusao','leitura_completa'\n",
    "         ,])\n",
    "df_xlsx = df_xlsx.to_excel(resultado_geral,index=False, encoding='utf-8', header=True)\n",
    "#df_xlsx_1 = df_xlsx_1.to_excel(r'C:/Users/luizp/jupyter-notebook/SisCRI-ML/data/REQ-002-publico-alvo-Geral_v6.xlsx',index=True, encoding='utf-8', header=True)"
   ]
  },
  {
   "cell_type": "code",
   "execution_count": null,
   "metadata": {},
   "outputs": [],
   "source": []
  },
  {
   "cell_type": "markdown",
   "metadata": {},
   "source": [
    "# Analises"
   ]
  },
  {
   "cell_type": "code",
   "execution_count": null,
   "metadata": {},
   "outputs": [],
   "source": []
  },
  {
   "cell_type": "code",
   "execution_count": null,
   "metadata": {},
   "outputs": [],
   "source": [
    "data_fim = pd.Timestamp.now()\n",
    "print(data_inicio)\n",
    "print(data_fim)"
   ]
  }
 ],
 "metadata": {
  "kernelspec": {
   "display_name": "Python 3 (ipykernel)",
   "language": "python",
   "name": "python3"
  },
  "language_info": {
   "codemirror_mode": {
    "name": "ipython",
    "version": 3
   },
   "file_extension": ".py",
   "mimetype": "text/x-python",
   "name": "python",
   "nbconvert_exporter": "python",
   "pygments_lexer": "ipython3",
   "version": "3.10.4"
  },
  "toc": {
   "base_numbering": 1,
   "nav_menu": {},
   "number_sections": true,
   "sideBar": true,
   "skip_h1_title": false,
   "title_cell": "Table of Contents",
   "title_sidebar": "Conteúdo",
   "toc_cell": false,
   "toc_position": {
    "height": "757px",
    "left": "1536px",
    "top": "110px",
    "width": "338px"
   },
   "toc_section_display": true,
   "toc_window_display": true
  }
 },
 "nbformat": 4,
 "nbformat_minor": 4
}

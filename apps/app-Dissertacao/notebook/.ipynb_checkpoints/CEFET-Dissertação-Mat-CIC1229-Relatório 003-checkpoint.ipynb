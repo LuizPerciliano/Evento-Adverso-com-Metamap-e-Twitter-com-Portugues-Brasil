{
 "cells": [
  {
   "cell_type": "markdown",
   "metadata": {},
   "source": [
    "<img src=\"../image/logo-cefet.png\" width=\"300\">\n",
    "\n",
    "<h1> PPCIC Dissertação - 2021\n",
    "    <br>\n",
    "    <br>\n",
    "    DETECÇÃO DE EVENTOS ADVERSOS ATRAVÉS DO TWITTER UTILIZANDO O METAMAP PARA O PORTUGUÊS DO BRASIL </h1>\n",
    "</br>\n",
    "\n",
    "<h2> Matéria: CIC1229 - TÓPICOS ESPECIAIS EM ALGORITMOS </h2>\n",
    "<h2> Aluno: Perciliano </h2>\n",
    "<h2> Orientadora: Kele Belloze </h2>\n",
    "<h3> Data: xx/06/2021 </h3>\n",
    "\n",
    "---"
   ]
  },
  {
   "cell_type": "markdown",
   "metadata": {},
   "source": [
    "**Autor: Luiz Perciliano** - \n",
    "***luiz.perciliano@eic.cefet-rj.br***\n",
    "\n",
    "- <b>Dados da pesquisa na base SCOPUS e PubMed - antes eram 505 documentos para pesquisa com nova anáilse foi para 436</b>\n",
    "\n",
    "<br>\n",
    "\n",
    "**Requisitos**\n",
    "- RF01 - Remover duplicatas com prioridade para o SCOPUS\n",
    "- RF02 - Identificar artigos para leitura de resumo e conclusão (6+)\n",
    "- RF03 - Identificar artigos para leitura de resumo e conclusão (94+)\n",
    "- RF04 - Instalar nova versão do Metamap e DFB\n",
    "- RF05 - New mail do Will\n",
    "- RF06 - Andamento do projeto (ler plan de análise)\n",
    "\n",
    "<b>Site do projeto:</b> https:git.com\n",
    "<br>\n",
    "**Endereço da dissertação:** https://pt.overleaf.com/project/60731ca2bcfa0afce8ae0cd1\n",
    "\n",
    "---"
   ]
  },
  {
   "cell_type": "markdown",
   "metadata": {},
   "source": [
    "# Preparar Infraesrtutura"
   ]
  },
  {
   "cell_type": "code",
   "execution_count": 1,
   "metadata": {},
   "outputs": [
    {
     "name": "stdout",
     "output_type": "stream",
     "text": [
      "Importar as bibliotecas necessárias e mapear a pasta do projeto.\n"
     ]
    }
   ],
   "source": [
    "print(f'Importar as bibliotecas necessárias e mapear a pasta do projeto.')\n",
    "import os\n",
    "import sys\n",
    "import pandas as pd\n",
    "import datetime\n",
    "\n",
    "import matplotlib.pyplot as plt\n",
    "import seaborn as sns\n",
    "%matplotlib inline\n",
    "\n",
    "import nltk\n",
    "from unidecode import unidecode\n",
    "from wordcloud import WordCloud, STOPWORDS, ImageColorGenerator"
   ]
  },
  {
   "cell_type": "code",
   "execution_count": 2,
   "metadata": {},
   "outputs": [
    {
     "name": "stdout",
     "output_type": "stream",
     "text": [
      "2021-06-19 22:53:53.574666\n"
     ]
    }
   ],
   "source": [
    "data_inicio = pd.Timestamp.now()\n",
    "print(data_inicio)"
   ]
  },
  {
   "cell_type": "code",
   "execution_count": 3,
   "metadata": {
    "deletable": false,
    "editable": false
   },
   "outputs": [
    {
     "name": "stdout",
     "output_type": "stream",
     "text": [
      "Lista do conteúdo da pasta ...\n"
     ]
    },
    {
     "data": {
      "text/plain": [
       "['base-qualis-06-06-2021.xlsx',\n",
       " 'bases_filtradas-16-06-2021.xlsx',\n",
       " 'bases_filtradas-v0.xlsx',\n",
       " 'bases_filtradas-v002.xlsx',\n",
       " 'bases_filtradas-v003.xlsx',\n",
       " 'bases_filtradas-v004.xlsx',\n",
       " 'bases_filtradas-v005.xlsx',\n",
       " 'bases_filtradas-v007.xlsx',\n",
       " 'bases_filtradas-v008.xlsx',\n",
       " 'bases_filtradas_e_qualis.xlsx',\n",
       " 'classificacao_qualis_06-06-2021.xls',\n",
       " 'Evaluation-of-Natural-Language-Processing-NLP-systems-to-annotate-drug-product-labeling-with-MedDRA-terminologyJournal-of-Biomedical-Informatics.pdf',\n",
       " 'pubmed-10-06-2021.csv',\n",
       " 'pubmed.csv',\n",
       " 'PubMed_Timeline_Results_by_Year-10-06-2021.csv',\n",
       " 'requiremets.txt',\n",
       " 'resultado_dfs.xlsx',\n",
       " 'resultado_geral.xlsx',\n",
       " 'resultado_geral_06-06-2021.xlsx',\n",
       " 'resultado_pubmed-18-06-2021.xlsx',\n",
       " 'resultado_pubmed.xlsx',\n",
       " 'resultado_scopus-16-06-2021.xlsx',\n",
       " 'resultado_scopus-18-06-2021.xlsx',\n",
       " 'resultado_scopus-19-06-2021.xlsx',\n",
       " 'resultado_scopus-luciana-12-06-2021-v2.xlsx',\n",
       " 'resultado_scopus-luciana-12-06-2021.xlsx',\n",
       " 'resultado_scopus-luciana.xlsx',\n",
       " 'resultado_scopus-v1.xlsx',\n",
       " 'resultado_scopus_10-06-2021.xlsx',\n",
       " 'scopus-12-06-2021-luciana.csv',\n",
       " 'scopus-31-05-2021.csv',\n",
       " 'scopus.csv',\n",
       " 'stop_word_projeto.csv',\n",
       " 'stop_word_pt.csv',\n",
       " '~$bases_filtradas-v008.xlsx',\n",
       " '~$resultado_scopus-19-06-2021.xlsx',\n",
       " '~$resultado_scopus-luciana-12-06-2021.xlsx']"
      ]
     },
     "execution_count": 3,
     "metadata": {},
     "output_type": "execute_result"
    }
   ],
   "source": [
    "print(f'Lista do conteúdo da pasta ...')\n",
    "os.listdir(os.path.join('..','data'))"
   ]
  },
  {
   "cell_type": "code",
   "execution_count": 4,
   "metadata": {
    "deletable": false,
    "editable": false
   },
   "outputs": [
    {
     "data": {
      "text/plain": [
       "['logo-cefet.png', 'Logo_CVM.png', 'puc-rio-logo.png', 'wordcloud.pdf']"
      ]
     },
     "execution_count": 4,
     "metadata": {},
     "output_type": "execute_result"
    }
   ],
   "source": [
    "os.listdir('../Image')"
   ]
  },
  {
   "cell_type": "markdown",
   "metadata": {},
   "source": [
    "# Preparar e carregar base de dados"
   ]
  },
  {
   "cell_type": "markdown",
   "metadata": {},
   "source": [
    "## Carregar Planilha - Documentos para o Trabalho Relacioandos"
   ]
  },
  {
   "cell_type": "code",
   "execution_count": 5,
   "metadata": {},
   "outputs": [
    {
     "data": {
      "text/html": [
       "<div>\n",
       "<style scoped>\n",
       "    .dataframe tbody tr th:only-of-type {\n",
       "        vertical-align: middle;\n",
       "    }\n",
       "\n",
       "    .dataframe tbody tr th {\n",
       "        vertical-align: top;\n",
       "    }\n",
       "\n",
       "    .dataframe thead th {\n",
       "        text-align: right;\n",
       "    }\n",
       "</style>\n",
       "<table border=\"1\" class=\"dataframe\">\n",
       "  <thead>\n",
       "    <tr style=\"text-align: right;\">\n",
       "      <th></th>\n",
       "      <th>id_pubmed</th>\n",
       "      <th>issn_scopus</th>\n",
       "      <th>titulo_artigo</th>\n",
       "      <th>titulo_artigo_scopus</th>\n",
       "      <th>titulo_artigo_pubmed</th>\n",
       "      <th>ano_publicacao_scopus</th>\n",
       "      <th>quantidade_citacoes</th>\n",
       "      <th>documentos_6+</th>\n",
       "      <th>documentos_94+</th>\n",
       "      <th>fonte</th>\n",
       "      <th>...</th>\n",
       "      <th>conceituar_farmacovigilancia</th>\n",
       "      <th>conceituar_Reacao_adversa_medicamentos_RAM</th>\n",
       "      <th>conceituar_reconhecimento_entidades_nomeadas_REN</th>\n",
       "      <th>conceituar_UMLS</th>\n",
       "      <th>conceituar_metamap_data_file_builder_DFB</th>\n",
       "      <th>conceituar_ferramenta_lexicos_LVG</th>\n",
       "      <th>conceituar_MetamorphoSys</th>\n",
       "      <th>conceituar_NLP</th>\n",
       "      <th>conceituar_outros</th>\n",
       "      <th>observacao</th>\n",
       "    </tr>\n",
       "  </thead>\n",
       "  <tbody>\n",
       "    <tr>\n",
       "      <th>0</th>\n",
       "      <td>25123728.0</td>\n",
       "      <td>23640502</td>\n",
       "      <td>big data and the electronic health record</td>\n",
       "      <td>\"Big data\" and the electronic health record</td>\n",
       "      <td>NaN</td>\n",
       "      <td>2014.0</td>\n",
       "      <td>74.0</td>\n",
       "      <td>0</td>\n",
       "      <td>0</td>\n",
       "      <td>Scopus</td>\n",
       "      <td>...</td>\n",
       "      <td>0</td>\n",
       "      <td>0</td>\n",
       "      <td>0</td>\n",
       "      <td>0</td>\n",
       "      <td>0</td>\n",
       "      <td>0</td>\n",
       "      <td>0</td>\n",
       "      <td>0</td>\n",
       "      <td>NaN</td>\n",
       "      <td>NaN</td>\n",
       "    </tr>\n",
       "    <tr>\n",
       "      <th>1</th>\n",
       "      <td>NaN</td>\n",
       "      <td>21907188</td>\n",
       "      <td>feasibility test and application of ai in heal...</td>\n",
       "      <td>“Feasibility test and application of AI in hea...</td>\n",
       "      <td>NaN</td>\n",
       "      <td>2021.0</td>\n",
       "      <td>NaN</td>\n",
       "      <td>0</td>\n",
       "      <td>0</td>\n",
       "      <td>Scopus</td>\n",
       "      <td>...</td>\n",
       "      <td>0</td>\n",
       "      <td>0</td>\n",
       "      <td>0</td>\n",
       "      <td>0</td>\n",
       "      <td>0</td>\n",
       "      <td>0</td>\n",
       "      <td>0</td>\n",
       "      <td>0</td>\n",
       "      <td>NaN</td>\n",
       "      <td>NaN</td>\n",
       "    </tr>\n",
       "    <tr>\n",
       "      <th>2</th>\n",
       "      <td>31584655.0</td>\n",
       "      <td>10675027</td>\n",
       "      <td>2018 n2c2 shared task on adverse drug events a...</td>\n",
       "      <td>2018 n2c2 shared task on adverse drug events a...</td>\n",
       "      <td>NaN</td>\n",
       "      <td>2020.0</td>\n",
       "      <td>14.0</td>\n",
       "      <td>0</td>\n",
       "      <td>0</td>\n",
       "      <td>Scopus</td>\n",
       "      <td>...</td>\n",
       "      <td>0</td>\n",
       "      <td>0</td>\n",
       "      <td>0</td>\n",
       "      <td>0</td>\n",
       "      <td>0</td>\n",
       "      <td>0</td>\n",
       "      <td>0</td>\n",
       "      <td>0</td>\n",
       "      <td>NaN</td>\n",
       "      <td>NaN</td>\n",
       "    </tr>\n",
       "    <tr>\n",
       "      <th>3</th>\n",
       "      <td>23304375.0</td>\n",
       "      <td>1942597X</td>\n",
       "      <td>a comparative study of current clinical natura...</td>\n",
       "      <td>A comparative study of current Clinical Natura...</td>\n",
       "      <td>NaN</td>\n",
       "      <td>2012.0</td>\n",
       "      <td>46.0</td>\n",
       "      <td>0</td>\n",
       "      <td>0</td>\n",
       "      <td>Scopus</td>\n",
       "      <td>...</td>\n",
       "      <td>0</td>\n",
       "      <td>0</td>\n",
       "      <td>0</td>\n",
       "      <td>0</td>\n",
       "      <td>0</td>\n",
       "      <td>0</td>\n",
       "      <td>0</td>\n",
       "      <td>0</td>\n",
       "      <td>NaN</td>\n",
       "      <td>NaN</td>\n",
       "    </tr>\n",
       "    <tr>\n",
       "      <th>4</th>\n",
       "      <td>20688192.0</td>\n",
       "      <td>15320464</td>\n",
       "      <td>a comparison of machine learning techniques fo...</td>\n",
       "      <td>A comparison of machine learning techniques fo...</td>\n",
       "      <td>NaN</td>\n",
       "      <td>2010.0</td>\n",
       "      <td>10.0</td>\n",
       "      <td>0</td>\n",
       "      <td>0</td>\n",
       "      <td>Scopus</td>\n",
       "      <td>...</td>\n",
       "      <td>0</td>\n",
       "      <td>0</td>\n",
       "      <td>0</td>\n",
       "      <td>0</td>\n",
       "      <td>0</td>\n",
       "      <td>0</td>\n",
       "      <td>0</td>\n",
       "      <td>0</td>\n",
       "      <td>NaN</td>\n",
       "      <td>NaN</td>\n",
       "    </tr>\n",
       "    <tr>\n",
       "      <th>...</th>\n",
       "      <td>...</td>\n",
       "      <td>...</td>\n",
       "      <td>...</td>\n",
       "      <td>...</td>\n",
       "      <td>...</td>\n",
       "      <td>...</td>\n",
       "      <td>...</td>\n",
       "      <td>...</td>\n",
       "      <td>...</td>\n",
       "      <td>...</td>\n",
       "      <td>...</td>\n",
       "      <td>...</td>\n",
       "      <td>...</td>\n",
       "      <td>...</td>\n",
       "      <td>...</td>\n",
       "      <td>...</td>\n",
       "      <td>...</td>\n",
       "      <td>...</td>\n",
       "      <td>...</td>\n",
       "      <td>...</td>\n",
       "      <td>...</td>\n",
       "    </tr>\n",
       "    <tr>\n",
       "      <th>431</th>\n",
       "      <td>31896797.0</td>\n",
       "      <td>NaN</td>\n",
       "      <td>pgxcorpus a manually annotated corpus for phar...</td>\n",
       "      <td>NaN</td>\n",
       "      <td>PGxCorpus, a manually annotated corpus for pha...</td>\n",
       "      <td>NaN</td>\n",
       "      <td>NaN</td>\n",
       "      <td>0</td>\n",
       "      <td>0</td>\n",
       "      <td>pubmed</td>\n",
       "      <td>...</td>\n",
       "      <td>0</td>\n",
       "      <td>0</td>\n",
       "      <td>0</td>\n",
       "      <td>0</td>\n",
       "      <td>0</td>\n",
       "      <td>0</td>\n",
       "      <td>0</td>\n",
       "      <td>0</td>\n",
       "      <td>NaN</td>\n",
       "      <td>NaN</td>\n",
       "    </tr>\n",
       "    <tr>\n",
       "      <th>432</th>\n",
       "      <td>31947235.0</td>\n",
       "      <td>NaN</td>\n",
       "      <td>prediction of personal experience tweets of me...</td>\n",
       "      <td>NaN</td>\n",
       "      <td>Prediction of Personal Experience Tweets of Me...</td>\n",
       "      <td>NaN</td>\n",
       "      <td>NaN</td>\n",
       "      <td>0</td>\n",
       "      <td>0</td>\n",
       "      <td>pubmed</td>\n",
       "      <td>...</td>\n",
       "      <td>0</td>\n",
       "      <td>0</td>\n",
       "      <td>0</td>\n",
       "      <td>0</td>\n",
       "      <td>0</td>\n",
       "      <td>0</td>\n",
       "      <td>0</td>\n",
       "      <td>0</td>\n",
       "      <td>NaN</td>\n",
       "      <td>NaN</td>\n",
       "    </tr>\n",
       "    <tr>\n",
       "      <th>433</th>\n",
       "      <td>32477654.0</td>\n",
       "      <td>NaN</td>\n",
       "      <td>normalizing adverse events using recurrent neu...</td>\n",
       "      <td>NaN</td>\n",
       "      <td>Normalizing Adverse Events using Recurrent Neu...</td>\n",
       "      <td>NaN</td>\n",
       "      <td>NaN</td>\n",
       "      <td>0</td>\n",
       "      <td>0</td>\n",
       "      <td>pubmed</td>\n",
       "      <td>...</td>\n",
       "      <td>0</td>\n",
       "      <td>0</td>\n",
       "      <td>0</td>\n",
       "      <td>0</td>\n",
       "      <td>0</td>\n",
       "      <td>0</td>\n",
       "      <td>0</td>\n",
       "      <td>0</td>\n",
       "      <td>NaN</td>\n",
       "      <td>NaN</td>\n",
       "    </tr>\n",
       "    <tr>\n",
       "      <th>434</th>\n",
       "      <td>33718782.0</td>\n",
       "      <td>NaN</td>\n",
       "      <td>impact of pharmacogenomic information on value...</td>\n",
       "      <td>NaN</td>\n",
       "      <td>Impact of Pharmacogenomic Information on Value...</td>\n",
       "      <td>NaN</td>\n",
       "      <td>NaN</td>\n",
       "      <td>0</td>\n",
       "      <td>0</td>\n",
       "      <td>pubmed</td>\n",
       "      <td>...</td>\n",
       "      <td>0</td>\n",
       "      <td>0</td>\n",
       "      <td>0</td>\n",
       "      <td>0</td>\n",
       "      <td>0</td>\n",
       "      <td>0</td>\n",
       "      <td>0</td>\n",
       "      <td>0</td>\n",
       "      <td>NaN</td>\n",
       "      <td>NaN</td>\n",
       "    </tr>\n",
       "    <tr>\n",
       "      <th>435</th>\n",
       "      <td>34111555.0</td>\n",
       "      <td>NaN</td>\n",
       "      <td>augmenting aer2vec enriching distributed repre...</td>\n",
       "      <td>NaN</td>\n",
       "      <td>Augmenting aer2vec: Enriching Distributed Repr...</td>\n",
       "      <td>NaN</td>\n",
       "      <td>NaN</td>\n",
       "      <td>0</td>\n",
       "      <td>0</td>\n",
       "      <td>pubmed</td>\n",
       "      <td>...</td>\n",
       "      <td>0</td>\n",
       "      <td>0</td>\n",
       "      <td>0</td>\n",
       "      <td>0</td>\n",
       "      <td>0</td>\n",
       "      <td>0</td>\n",
       "      <td>0</td>\n",
       "      <td>0</td>\n",
       "      <td>NaN</td>\n",
       "      <td>NaN</td>\n",
       "    </tr>\n",
       "  </tbody>\n",
       "</table>\n",
       "<p>436 rows × 74 columns</p>\n",
       "</div>"
      ],
      "text/plain": [
       "      id_pubmed issn_scopus  \\\n",
       "0    25123728.0    23640502   \n",
       "1           NaN    21907188   \n",
       "2    31584655.0    10675027   \n",
       "3    23304375.0    1942597X   \n",
       "4    20688192.0    15320464   \n",
       "..          ...         ...   \n",
       "431  31896797.0         NaN   \n",
       "432  31947235.0         NaN   \n",
       "433  32477654.0         NaN   \n",
       "434  33718782.0         NaN   \n",
       "435  34111555.0         NaN   \n",
       "\n",
       "                                         titulo_artigo  \\\n",
       "0            big data and the electronic health record   \n",
       "1    feasibility test and application of ai in heal...   \n",
       "2    2018 n2c2 shared task on adverse drug events a...   \n",
       "3    a comparative study of current clinical natura...   \n",
       "4    a comparison of machine learning techniques fo...   \n",
       "..                                                 ...   \n",
       "431  pgxcorpus a manually annotated corpus for phar...   \n",
       "432  prediction of personal experience tweets of me...   \n",
       "433  normalizing adverse events using recurrent neu...   \n",
       "434  impact of pharmacogenomic information on value...   \n",
       "435  augmenting aer2vec enriching distributed repre...   \n",
       "\n",
       "                                  titulo_artigo_scopus  \\\n",
       "0          \"Big data\" and the electronic health record   \n",
       "1    “Feasibility test and application of AI in hea...   \n",
       "2    2018 n2c2 shared task on adverse drug events a...   \n",
       "3    A comparative study of current Clinical Natura...   \n",
       "4    A comparison of machine learning techniques fo...   \n",
       "..                                                 ...   \n",
       "431                                                NaN   \n",
       "432                                                NaN   \n",
       "433                                                NaN   \n",
       "434                                                NaN   \n",
       "435                                                NaN   \n",
       "\n",
       "                                  titulo_artigo_pubmed  ano_publicacao_scopus  \\\n",
       "0                                                  NaN                 2014.0   \n",
       "1                                                  NaN                 2021.0   \n",
       "2                                                  NaN                 2020.0   \n",
       "3                                                  NaN                 2012.0   \n",
       "4                                                  NaN                 2010.0   \n",
       "..                                                 ...                    ...   \n",
       "431  PGxCorpus, a manually annotated corpus for pha...                    NaN   \n",
       "432  Prediction of Personal Experience Tweets of Me...                    NaN   \n",
       "433  Normalizing Adverse Events using Recurrent Neu...                    NaN   \n",
       "434  Impact of Pharmacogenomic Information on Value...                    NaN   \n",
       "435  Augmenting aer2vec: Enriching Distributed Repr...                    NaN   \n",
       "\n",
       "     quantidade_citacoes  documentos_6+  documentos_94+   fonte  ...  \\\n",
       "0                   74.0              0               0  Scopus  ...   \n",
       "1                    NaN              0               0  Scopus  ...   \n",
       "2                   14.0              0               0  Scopus  ...   \n",
       "3                   46.0              0               0  Scopus  ...   \n",
       "4                   10.0              0               0  Scopus  ...   \n",
       "..                   ...            ...             ...     ...  ...   \n",
       "431                  NaN              0               0  pubmed  ...   \n",
       "432                  NaN              0               0  pubmed  ...   \n",
       "433                  NaN              0               0  pubmed  ...   \n",
       "434                  NaN              0               0  pubmed  ...   \n",
       "435                  NaN              0               0  pubmed  ...   \n",
       "\n",
       "    conceituar_farmacovigilancia conceituar_Reacao_adversa_medicamentos_RAM  \\\n",
       "0                              0                                          0   \n",
       "1                              0                                          0   \n",
       "2                              0                                          0   \n",
       "3                              0                                          0   \n",
       "4                              0                                          0   \n",
       "..                           ...                                        ...   \n",
       "431                            0                                          0   \n",
       "432                            0                                          0   \n",
       "433                            0                                          0   \n",
       "434                            0                                          0   \n",
       "435                            0                                          0   \n",
       "\n",
       "     conceituar_reconhecimento_entidades_nomeadas_REN conceituar_UMLS  \\\n",
       "0                                                   0               0   \n",
       "1                                                   0               0   \n",
       "2                                                   0               0   \n",
       "3                                                   0               0   \n",
       "4                                                   0               0   \n",
       "..                                                ...             ...   \n",
       "431                                                 0               0   \n",
       "432                                                 0               0   \n",
       "433                                                 0               0   \n",
       "434                                                 0               0   \n",
       "435                                                 0               0   \n",
       "\n",
       "    conceituar_metamap_data_file_builder_DFB  \\\n",
       "0                                          0   \n",
       "1                                          0   \n",
       "2                                          0   \n",
       "3                                          0   \n",
       "4                                          0   \n",
       "..                                       ...   \n",
       "431                                        0   \n",
       "432                                        0   \n",
       "433                                        0   \n",
       "434                                        0   \n",
       "435                                        0   \n",
       "\n",
       "     conceituar_ferramenta_lexicos_LVG conceituar_MetamorphoSys  \\\n",
       "0                                    0                        0   \n",
       "1                                    0                        0   \n",
       "2                                    0                        0   \n",
       "3                                    0                        0   \n",
       "4                                    0                        0   \n",
       "..                                 ...                      ...   \n",
       "431                                  0                        0   \n",
       "432                                  0                        0   \n",
       "433                                  0                        0   \n",
       "434                                  0                        0   \n",
       "435                                  0                        0   \n",
       "\n",
       "    conceituar_NLP conceituar_outros observacao  \n",
       "0                0               NaN        NaN  \n",
       "1                0               NaN        NaN  \n",
       "2                0               NaN        NaN  \n",
       "3                0               NaN        NaN  \n",
       "4                0               NaN        NaN  \n",
       "..             ...               ...        ...  \n",
       "431              0               NaN        NaN  \n",
       "432              0               NaN        NaN  \n",
       "433              0               NaN        NaN  \n",
       "434              0               NaN        NaN  \n",
       "435              0               NaN        NaN  \n",
       "\n",
       "[436 rows x 74 columns]"
      ]
     },
     "execution_count": 5,
     "metadata": {},
     "output_type": "execute_result"
    }
   ],
   "source": [
    "trabalhos_relacionados = os.path.join('../data','bases_filtradas-v008.xlsx')\n",
    "raw_data = pd.read_excel(trabalhos_relacionados)\n",
    "raw_data"
   ]
  },
  {
   "cell_type": "markdown",
   "metadata": {},
   "source": [
    "## Analisar dados brutos original"
   ]
  },
  {
   "cell_type": "markdown",
   "metadata": {},
   "source": [
    "### Analisando base SCOPUS"
   ]
  },
  {
   "cell_type": "code",
   "execution_count": null,
   "metadata": {},
   "outputs": [],
   "source": [
    "#pd.set_option(\"max_colwidth\", 100)"
   ]
  },
  {
   "cell_type": "code",
   "execution_count": 6,
   "metadata": {},
   "outputs": [
    {
     "name": "stdout",
     "output_type": "stream",
     "text": [
      "Verificando tipos e se tem dados nulos\n",
      "<class 'pandas.core.frame.DataFrame'>\n",
      "RangeIndex: 436 entries, 0 to 435\n",
      "Data columns (total 74 columns):\n",
      " #   Column                                            Non-Null Count  Dtype  \n",
      "---  ------                                            --------------  -----  \n",
      " 0   id_pubmed                                         287 non-null    float64\n",
      " 1   issn_scopus                                       378 non-null    object \n",
      " 2   titulo_artigo                                     436 non-null    object \n",
      " 3   titulo_artigo_scopus                              420 non-null    object \n",
      " 4   titulo_artigo_pubmed                              16 non-null     object \n",
      " 5   ano_publicacao_scopus                             420 non-null    float64\n",
      " 6   quantidade_citacoes                               356 non-null    float64\n",
      " 7   documentos_6+                                     436 non-null    int64  \n",
      " 8   documentos_94+                                    436 non-null    int64  \n",
      " 9   fonte                                             436 non-null    object \n",
      " 10  jornal_book_pubmed                                16 non-null     object \n",
      " 11  autores_pubmed                                    16 non-null     object \n",
      " 12  ano_publicacao_pubmed                             16 non-null     float64\n",
      " 13  idioma_original                                   420 non-null    object \n",
      " 14  tipo_documento                                    420 non-null    object \n",
      " 15  pdf_baixado                                       436 non-null    int64  \n",
      " 16  acesso_livre                                      191 non-null    object \n",
      " 17  autores_scopus                                    420 non-null    object \n",
      " 18  titulo_fonte                                      420 non-null    object \n",
      " 19  volume                                            365 non-null    object \n",
      " 20  publicado                                         186 non-null    object \n",
      " 21  numero_artigo                                     100 non-null    object \n",
      " 22  doi                                               362 non-null    object \n",
      " 23  doi_scopus                                        349 non-null    object \n",
      " 24  doi_pubmed                                        13 non-null     object \n",
      " 25  link_scopus                                       420 non-null    object \n",
      " 26  afiliacoes                                        419 non-null    object \n",
      " 27  autores_com_filiacoes                             420 non-null    object \n",
      " 28  nomes_comerciais                                  19 non-null     object \n",
      " 29  fabricantes                                       1 non-null      object \n",
      " 30  quimica                                           92 non-null     object \n",
      " 31  detalhes_financiamento                            207 non-null    object \n",
      " 32  texto_financiamento_1                             174 non-null    object \n",
      " 33  texto_financiamento_2                             19 non-null     object \n",
      " 34  texto_financiamento_3                             1 non-null      object \n",
      " 35  referencias                                       365 non-null    object \n",
      " 36  endereco_correspondencia                          350 non-null    object \n",
      " 37  editores                                          70 non-null     object \n",
      " 38  patrocinadores                                    35 non-null     object \n",
      " 39  editor                                            329 non-null    object \n",
      " 40  nome_conferencia                                  118 non-null    object \n",
      " 41  data_conferencia                                  118 non-null    object \n",
      " 42  local_conferencia                                 27 non-null     object \n",
      " 43  codigo_conferencia                                107 non-null    float64\n",
      " 44  isbn                                              96 non-null     object \n",
      " 45  coden                                             166 non-null    object \n",
      " 46  titulo_abreviado_fonte                            420 non-null    object \n",
      " 47  etapa_publicacao                                  420 non-null    object \n",
      " 48  eid                                               420 non-null    object \n",
      " 49  quantidade_paginas_                               315 non-null    float64\n",
      " 50  data_criacao_pubmed                               16 non-null     object \n",
      " 51  primeiro_autor_pubmed                             16 non-null     object \n",
      " 52  id_pmc_pubmed                                     13 non-null     object \n",
      " 53  id_nihms_pubmed                                   1 non-null      object \n",
      " 54  citacao_pubmed                                    16 non-null     object \n",
      " 55  palavras_chaves_autor                             301 non-null    object \n",
      " 56  palavras_chave_index                              382 non-null    object \n",
      " 57  palavras_chaves_titulo                            105 non-null    object \n",
      " 58  palavras_chaves_resumo                            324 non-null    object \n",
      " 59  resumo                                            420 non-null    object \n",
      " 60  leitura_completa                                  436 non-null    int64  \n",
      " 61  leitura_resumo                                    436 non-null    int64  \n",
      " 62  leitura_conclusao                                 436 non-null    int64  \n",
      " 63  resumo_traduzidoconceituar_metamap                0 non-null      float64\n",
      " 64  conceituar_farmacovigilancia                      436 non-null    int64  \n",
      " 65  conceituar_Reacao_adversa_medicamentos_RAM        436 non-null    int64  \n",
      " 66  conceituar_reconhecimento_entidades_nomeadas_REN  436 non-null    int64  \n",
      " 67  conceituar_UMLS                                   436 non-null    int64  \n",
      " 68  conceituar_metamap_data_file_builder_DFB          436 non-null    int64  \n",
      " 69  conceituar_ferramenta_lexicos_LVG                 436 non-null    int64  \n",
      " 70  conceituar_MetamorphoSys                          436 non-null    int64  \n",
      " 71  conceituar_NLP                                    436 non-null    int64  \n",
      " 72  conceituar_outros                                 0 non-null      float64\n",
      " 73  observacao                                        1 non-null      object \n",
      "dtypes: float64(8), int64(14), object(52)\n",
      "memory usage: 252.2+ KB\n"
     ]
    }
   ],
   "source": [
    "print('Verificando tipos e se tem dados nulos')\n",
    "raw_data.info()"
   ]
  },
  {
   "cell_type": "code",
   "execution_count": 7,
   "metadata": {},
   "outputs": [
    {
     "data": {
      "text/plain": [
       "id_pubmed                            286\n",
       "issn_scopus                          102\n",
       "titulo_artigo                        436\n",
       "titulo_artigo_scopus                 420\n",
       "titulo_artigo_pubmed                  16\n",
       "                                    ... \n",
       "conceituar_ferramenta_lexicos_LVG      1\n",
       "conceituar_MetamorphoSys               1\n",
       "conceituar_NLP                         1\n",
       "conceituar_outros                      0\n",
       "observacao                             1\n",
       "Length: 74, dtype: int64"
      ]
     },
     "execution_count": 7,
     "metadata": {},
     "output_type": "execute_result"
    }
   ],
   "source": [
    "raw_data.nunique()"
   ]
  },
  {
   "cell_type": "code",
   "execution_count": 8,
   "metadata": {},
   "outputs": [
    {
     "data": {
      "text/plain": [
       "id_pubmed                            149\n",
       "issn_scopus                           58\n",
       "titulo_artigo                          0\n",
       "titulo_artigo_scopus                  16\n",
       "titulo_artigo_pubmed                 420\n",
       "                                    ... \n",
       "conceituar_ferramenta_lexicos_LVG      0\n",
       "conceituar_MetamorphoSys               0\n",
       "conceituar_NLP                         0\n",
       "conceituar_outros                    436\n",
       "observacao                           435\n",
       "Length: 74, dtype: int64"
      ]
     },
     "execution_count": 8,
     "metadata": {},
     "output_type": "execute_result"
    }
   ],
   "source": [
    "# verificar campos nulos\n",
    "raw_data.isnull().sum()"
   ]
  },
  {
   "cell_type": "markdown",
   "metadata": {},
   "source": [
    "## Copiar dataframe para ajustes"
   ]
  },
  {
   "cell_type": "code",
   "execution_count": 9,
   "metadata": {},
   "outputs": [
    {
     "name": "stdout",
     "output_type": "stream",
     "text": [
      "2483371798472\n"
     ]
    }
   ],
   "source": [
    "## Verificar se os dataframes nao s\"ao espelhos\n",
    "df_trab_relacionados = raw_data.copy()\n",
    "\n",
    "print(id(df_trab_relacionados))"
   ]
  },
  {
   "cell_type": "markdown",
   "metadata": {},
   "source": [
    "# Dataframe SCOPUS"
   ]
  },
  {
   "cell_type": "markdown",
   "metadata": {},
   "source": [
    "## Ajustar de Colunas"
   ]
  },
  {
   "cell_type": "markdown",
   "metadata": {},
   "source": [
    "### Alterar nome de Colunas"
   ]
  },
  {
   "cell_type": "markdown",
   "metadata": {},
   "source": [
    "## Ajustar tipagem de dados"
   ]
  },
  {
   "cell_type": "markdown",
   "metadata": {},
   "source": [
    "### Convertendo as colunas de datas para o formato datetime"
   ]
  },
  {
   "cell_type": "markdown",
   "metadata": {},
   "source": [
    "### Convertendo as colunas para categóricas"
   ]
  },
  {
   "cell_type": "markdown",
   "metadata": {},
   "source": [
    "## Analisar dataframe tratado"
   ]
  },
  {
   "cell_type": "markdown",
   "metadata": {},
   "source": [
    "## Visualizações"
   ]
  },
  {
   "cell_type": "markdown",
   "metadata": {},
   "source": [
    "### Analisando tipos de acessos dos arquivos"
   ]
  },
  {
   "cell_type": "code",
   "execution_count": 11,
   "metadata": {},
   "outputs": [
    {
     "data": {
      "text/plain": [
       "array([0], dtype=int64)"
      ]
     },
     "execution_count": 11,
     "metadata": {},
     "output_type": "execute_result"
    }
   ],
   "source": [
    "## pegar os 10 + patrocinadores\n",
    "df_trab_relacionados.leitura_resumo.unique()"
   ]
  },
  {
   "cell_type": "code",
   "execution_count": 13,
   "metadata": {},
   "outputs": [
    {
     "data": {
      "text/html": [
       "<div>\n",
       "<style scoped>\n",
       "    .dataframe tbody tr th:only-of-type {\n",
       "        vertical-align: middle;\n",
       "    }\n",
       "\n",
       "    .dataframe tbody tr th {\n",
       "        vertical-align: top;\n",
       "    }\n",
       "\n",
       "    .dataframe thead tr th {\n",
       "        text-align: left;\n",
       "    }\n",
       "\n",
       "    .dataframe thead tr:last-of-type th {\n",
       "        text-align: right;\n",
       "    }\n",
       "</style>\n",
       "<table border=\"1\" class=\"dataframe\">\n",
       "  <thead>\n",
       "    <tr>\n",
       "      <th></th>\n",
       "      <th colspan=\"8\" halign=\"left\">id_pubmed</th>\n",
       "      <th colspan=\"2\" halign=\"left\">ano_publicacao_scopus</th>\n",
       "      <th>...</th>\n",
       "      <th colspan=\"2\" halign=\"left\">conceituar_NLP</th>\n",
       "      <th colspan=\"8\" halign=\"left\">conceituar_outros</th>\n",
       "    </tr>\n",
       "    <tr>\n",
       "      <th></th>\n",
       "      <th>count</th>\n",
       "      <th>mean</th>\n",
       "      <th>std</th>\n",
       "      <th>min</th>\n",
       "      <th>25%</th>\n",
       "      <th>50%</th>\n",
       "      <th>75%</th>\n",
       "      <th>max</th>\n",
       "      <th>count</th>\n",
       "      <th>mean</th>\n",
       "      <th>...</th>\n",
       "      <th>75%</th>\n",
       "      <th>max</th>\n",
       "      <th>count</th>\n",
       "      <th>mean</th>\n",
       "      <th>std</th>\n",
       "      <th>min</th>\n",
       "      <th>25%</th>\n",
       "      <th>50%</th>\n",
       "      <th>75%</th>\n",
       "      <th>max</th>\n",
       "    </tr>\n",
       "    <tr>\n",
       "      <th>leitura_resumo</th>\n",
       "      <th></th>\n",
       "      <th></th>\n",
       "      <th></th>\n",
       "      <th></th>\n",
       "      <th></th>\n",
       "      <th></th>\n",
       "      <th></th>\n",
       "      <th></th>\n",
       "      <th></th>\n",
       "      <th></th>\n",
       "      <th></th>\n",
       "      <th></th>\n",
       "      <th></th>\n",
       "      <th></th>\n",
       "      <th></th>\n",
       "      <th></th>\n",
       "      <th></th>\n",
       "      <th></th>\n",
       "      <th></th>\n",
       "      <th></th>\n",
       "      <th></th>\n",
       "    </tr>\n",
       "  </thead>\n",
       "  <tbody>\n",
       "    <tr>\n",
       "      <th>0</th>\n",
       "      <td>287.0</td>\n",
       "      <td>2.642950e+07</td>\n",
       "      <td>5.328078e+06</td>\n",
       "      <td>1504394.0</td>\n",
       "      <td>23304377.0</td>\n",
       "      <td>26958195.0</td>\n",
       "      <td>30986394.5</td>\n",
       "      <td>34111555.0</td>\n",
       "      <td>420.0</td>\n",
       "      <td>2015.366667</td>\n",
       "      <td>...</td>\n",
       "      <td>0.0</td>\n",
       "      <td>0.0</td>\n",
       "      <td>0.0</td>\n",
       "      <td>NaN</td>\n",
       "      <td>NaN</td>\n",
       "      <td>NaN</td>\n",
       "      <td>NaN</td>\n",
       "      <td>NaN</td>\n",
       "      <td>NaN</td>\n",
       "      <td>NaN</td>\n",
       "    </tr>\n",
       "  </tbody>\n",
       "</table>\n",
       "<p>1 rows × 168 columns</p>\n",
       "</div>"
      ],
      "text/plain": [
       "               id_pubmed                                                     \\\n",
       "                   count          mean           std        min         25%   \n",
       "leitura_resumo                                                                \n",
       "0                  287.0  2.642950e+07  5.328078e+06  1504394.0  23304377.0   \n",
       "\n",
       "                                                   ano_publicacao_scopus  \\\n",
       "                       50%         75%         max                 count   \n",
       "leitura_resumo                                                             \n",
       "0               26958195.0  30986394.5  34111555.0                 420.0   \n",
       "\n",
       "                             ... conceituar_NLP      conceituar_outros       \\\n",
       "                       mean  ...            75%  max             count mean   \n",
       "leitura_resumo               ...                                              \n",
       "0               2015.366667  ...            0.0  0.0               0.0  NaN   \n",
       "\n",
       "                                        \n",
       "               std min 25% 50% 75% max  \n",
       "leitura_resumo                          \n",
       "0              NaN NaN NaN NaN NaN NaN  \n",
       "\n",
       "[1 rows x 168 columns]"
      ]
     },
     "execution_count": 13,
     "metadata": {},
     "output_type": "execute_result"
    }
   ],
   "source": [
    "# Groupby by\n",
    "leitura_resumo = df_trab_relacionados.groupby(\"leitura_resumo\")\n",
    "\n",
    "# Summary statistic of all\n",
    "leitura_resumo.describe().head()"
   ]
  },
  {
   "cell_type": "code",
   "execution_count": 14,
   "metadata": {},
   "outputs": [
    {
     "data": {
      "image/png": "[encoded data removed]",
      "text/plain": [
       "<Figure size 1080x720 with 1 Axes>"
      ]
     },
     "metadata": {
      "needs_background": "light"
     },
     "output_type": "display_data"
    }
   ],
   "source": [
    "# pegar as 10 +\n",
    "plt.figure(figsize=(15,10))\n",
    "leitura_resumo.size().sort_values(ascending=False).plot.bar()\n",
    "plt.xticks(rotation=50)\n",
    "plt.xlabel(\"Leitura de Resumo\")\n",
    "plt.ylabel(\"Quantidade de Artigos\")\n",
    "plt.show()"
   ]
  },
  {
   "cell_type": "markdown",
   "metadata": {},
   "source": [
    "# Exportação do resultado para Excel"
   ]
  },
  {
   "cell_type": "markdown",
   "metadata": {},
   "source": [
    "## Planilha Scopus"
   ]
  },
  {
   "cell_type": "code",
   "execution_count": null,
   "metadata": {},
   "outputs": [],
   "source": [
    "df_scopus.columns"
   ]
  },
  {
   "cell_type": "code",
   "execution_count": null,
   "metadata": {},
   "outputs": [],
   "source": [
    "## Gerar planilha com colunas especificas\n",
    "#resultado_geral = os.path.join('../data','scopus-31-05-2021.csv')\n",
    "resultado_scopus = os.path.join('../data','resultado_scopus.xlsx')\n",
    "\n",
    "df_xlsx_scopus = pd.DataFrame(df_scopus, columns = [\n",
    "       'issn_scopus','id_pubmed','titulo_artigo', 'ano_publicacao_scopus','quantidade_citacoes',\n",
    "       'tipo_documento','nome_conferencia',\n",
    "       'autores_scopus','id_autores','editores', 'patrocinadores','editor',\n",
    "       'titulo_fonte','volume', 'publicado', 'numero_artigo',\n",
    "       'inicio_pagina', 'fim_pagina','quantidade_paginas','inicio_pagina_','fim_pagina_','quantidade_paginas_',\n",
    "       'link_scopus','afiliacoes', 'autores_com_filiacoes', 'resumo',\n",
    "       'palavras_chaves_autor', 'palavras_chave_index',\n",
    "       'numeros_sequencia_molecular', 'quimica', 'nomes_comerciais',\n",
    "       'fabricantes',\n",
    "       'detalhes_financiamento', 'texto_financiamento_1','texto_financiamento_2', 'texto_financiamento_3',\n",
    "       'referencias', 'endereco_correspondencia', \n",
    "       'data_conferencia', 'local_conferencia',\n",
    "       'codigo_conferencia', 'isbn', 'coden',\n",
    "       'idioma_original', 'titulo_abreviado_fonte', \n",
    "       'etapa_publicacao', 'acesso_livre', 'fonte', 'eid','doi_scopus' \n",
    "    ,])\n",
    "df_xlsx_scopus = df_xlsx_scopus.to_excel(resultado_scopus,index=False, encoding='utf-8', header=True)"
   ]
  },
  {
   "cell_type": "markdown",
   "metadata": {},
   "source": [
    "## Planilha PubMed"
   ]
  },
  {
   "cell_type": "code",
   "execution_count": null,
   "metadata": {},
   "outputs": [],
   "source": [
    "df_pubmed.columns"
   ]
  },
  {
   "cell_type": "code",
   "execution_count": null,
   "metadata": {},
   "outputs": [],
   "source": [
    "## Gerar planilha com colunas especificas\n",
    "#resultado_geral = os.path.join('../data','scopus-31-05-2021.csv')\n",
    "resultado_pubmed = os.path.join('../data','resultado_pubmed.xlsx')\n",
    "\n",
    "df_xlsx_pubmed = pd.DataFrame(df_pubmed, columns = [\n",
    "    'id_pubmed', 'titulo_artigo','ano_publicacao_pubmed','fonte','autores_pubmed', 'citar_autor',\n",
    "    'primeiro_autor', 'jornal_book','data_criacao_pubmed',\n",
    "    'id_pmc', 'id_nihms', 'doi_pubmed'\n",
    "    ,])\n",
    "df_xlsx_pubmed = df_xlsx_pubmed.to_excel(resultado_pubmed,index=False, encoding='utf-8', header=True)"
   ]
  },
  {
   "cell_type": "markdown",
   "metadata": {},
   "source": [
    "## Planilha Bases indexadas filtradas"
   ]
  },
  {
   "cell_type": "code",
   "execution_count": null,
   "metadata": {},
   "outputs": [],
   "source": [
    "df_bases_filtrado.columns"
   ]
  },
  {
   "cell_type": "markdown",
   "metadata": {},
   "source": [
    "## Planilha de base indexada"
   ]
  },
  {
   "cell_type": "code",
   "execution_count": null,
   "metadata": {},
   "outputs": [],
   "source": [
    "## Gerar planilha com colunas especificas\n",
    "#resultado_geral = os.path.join('../data','scopus-31-05-2021.csv')\n",
    "resultado_dfs = os.path.join('../data','bases_filtradas.xlsx')\n",
    "\n",
    "df_xlsx_dfs = pd.DataFrame(df_bases_filtrado, columns = [\n",
    "    'issn_scopus','id_pubmed','titulo_artigo','ano_publicacao_scopus','data_criacao_pubmed',\n",
    "    'quantidade_citacoes','fonte','idioma_original','tipo_documento','acesso_livre','jornal_book',\n",
    "    'autores_scopus','autores_pubmed','id_autores',\n",
    "    \n",
    "    'titulo_fonte', 'volume', 'publicado','numero_artigo', \n",
    "        \n",
    "     'doi_scopus', 'link_scopus', 'afiliacoes','autores_com_filiacoes','numeros_sequencia_molecular', 'quimica',\n",
    "    'nomes_comerciais', 'fabricantes', \n",
    "    'detalhes_financiamento','texto_financiamento_1', 'texto_financiamento_2','texto_financiamento_3',\n",
    "    'referencias', 'endereco_correspondencia',\n",
    "    'editores', 'patrocinadores', 'editor',\n",
    "    \n",
    "    'nome_conferencia','data_conferencia', 'local_conferencia', 'codigo_conferencia','isbn', 'coden', \n",
    "    'titulo_abreviado_fonte', 'etapa_publicacao','eid',\n",
    "    'inicio_pagina', 'fim_pagina', 'quantidade_paginas','inicio_pagina_', 'fim_pagina_','quantidade_paginas_',\n",
    "    \n",
    "    'citar', 'primeiro_autor','ano_publicacao_pubmed', 'id_pmc','id_nihms', 'doi_pubmed',\n",
    "    \n",
    "    'palavras_chaves_autor','palavras_chave_index',\n",
    "    'resumo','palavras_chaves_titulo','palavras_chaves_resumo','leitura_completa', 'leitura_resumo', 'leitura_conclusao'\n",
    "    ,])\n",
    "df_xlsx_dfs = df_xlsx_dfs.to_excel(resultado_dfs,index=False, encoding='utf-8', header=True)"
   ]
  },
  {
   "cell_type": "code",
   "execution_count": null,
   "metadata": {},
   "outputs": [],
   "source": []
  },
  {
   "cell_type": "markdown",
   "metadata": {
    "heading_collapsed": true
   },
   "source": [
    "## Planilha bases indexadas fitradas + qualis"
   ]
  },
  {
   "cell_type": "code",
   "execution_count": null,
   "metadata": {
    "hidden": true
   },
   "outputs": [],
   "source": [
    "df_bases_e_qualis.columns"
   ]
  },
  {
   "cell_type": "code",
   "execution_count": null,
   "metadata": {
    "hidden": true
   },
   "outputs": [],
   "source": [
    "## Gerar planilha com colunas especificas\n",
    "#resultado_geral = os.path.join('../data','scopus-31-05-2021.csv')\n",
    "resultado_geral = os.path.join('../data','bases_filtradas_e_qualis.xlsx')\n",
    "\n",
    "df_xlsx = pd.DataFrame(df_bases_e_qualis, columns = \n",
    "        ['autores_scopus', 'id_autores', 'titulo_artigo',\n",
    "       'ano_publicacao_scopus', 'titulo_fonte', 'volume', 'publicado',\n",
    "       'numero_artigo', 'inicio_pagina', 'fim_pagina', 'quantidade_paginas',\n",
    "       'quantidade_citacoes', 'doi_scopus', 'link_scopus', 'afiliacoes',\n",
    "       'autores_com_filiacoes', 'resumo', 'palavras_chaves_autor',\n",
    "       'palavras_chave_index', 'numeros_sequencia_molecular', 'quimica',\n",
    "       'nomes_comerciais', 'fabricantes', 'detalhes_financiamento',\n",
    "       'texto_financiamento_1', 'texto_financiamento_2',\n",
    "       'texto_financiamento_3', 'referencias', 'endereco_correspondencia',\n",
    "       'editores', 'patrocinadores', 'editor', 'nome_conferencia',\n",
    "       'data_conferencia', 'local_conferencia', 'codigo_conferencia',\n",
    "       'issn_scopus', 'isbn', 'coden', 'id_pubmed', 'idioma_original',\n",
    "       'titulo_abreviado_fonte', 'tipo_documento', 'etapa_publicacao',\n",
    "       'acesso_livre', 'fonte', 'eid', 'inicio_pagina_', 'fim_pagina_',\n",
    "       'quantidade_paginas_', 'palavras_chaves_titulo',\n",
    "       'palavras_chaves_resumo', 'autores_pubmed', 'citar', 'primeiro_autor',\n",
    "       'jornal_book', 'ano_publicacao_pubmed', 'data_criacao_pubmed', 'id_pmc',\n",
    "       'id_nihms', 'doi_pubmed', 'issn_qualis', 'titulo_periodico',\n",
    "       'area_avaliacao', 'estrato', '_merge', 'leitura_resumo',\n",
    "       'leitura_conclusao', 'leitura_completa'\n",
    "         ,])\n",
    "df_xlsx = df_xlsx.to_excel(resultado_geral,index=False, encoding='utf-8', header=True)\n",
    "#df_xlsx_1 = df_xlsx_1.to_excel(r'C:/Users/luizp/jupyter-notebook/SisCRI-ML/data/REQ-002-publico-alvo-Geral_v6.xlsx',index=True, encoding='utf-8', header=True)"
   ]
  },
  {
   "cell_type": "code",
   "execution_count": null,
   "metadata": {
    "hidden": true
   },
   "outputs": [],
   "source": []
  },
  {
   "cell_type": "markdown",
   "metadata": {},
   "source": [
    "# Analises"
   ]
  },
  {
   "cell_type": "code",
   "execution_count": null,
   "metadata": {},
   "outputs": [],
   "source": []
  },
  {
   "cell_type": "code",
   "execution_count": null,
   "metadata": {},
   "outputs": [],
   "source": [
    "data_fim = pd.Timestamp.now()\n",
    "print(data_inicio)\n",
    "print(data_fim)"
   ]
  }
 ],
 "metadata": {
  "kernelspec": {
   "display_name": "Python 3",
   "language": "python",
   "name": "python3"
  },
  "language_info": {
   "codemirror_mode": {
    "name": "ipython",
    "version": 3
   },
   "file_extension": ".py",
   "mimetype": "text/x-python",
   "name": "python",
   "nbconvert_exporter": "python",
   "pygments_lexer": "ipython3",
   "version": "3.7.9"
  },
  "toc": {
   "base_numbering": 1,
   "nav_menu": {},
   "number_sections": true,
   "sideBar": true,
   "skip_h1_title": false,
   "title_cell": "Table of Contents",
   "title_sidebar": "Conteúdo",
   "toc_cell": false,
   "toc_position": {
    "height": "757px",
    "left": "1536px",
    "top": "110px",
    "width": "617.76px"
   },
   "toc_section_display": true,
   "toc_window_display": true
  }
 },
 "nbformat": 4,
 "nbformat_minor": 4
}

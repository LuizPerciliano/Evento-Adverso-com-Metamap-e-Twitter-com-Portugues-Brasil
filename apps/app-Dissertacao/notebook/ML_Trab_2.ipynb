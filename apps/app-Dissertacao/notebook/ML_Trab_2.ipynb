{
 "cells": [
  {
   "cell_type": "code",
   "execution_count": 1,
   "metadata": {
    "code_folding": []
   },
   "outputs": [],
   "source": [
    "##############################################################################\n",
    "# Aula de Machine Learning\n",
    "# Autor: Luiz Perciliano\n",
    "# Professor: Eduardo Bezerra\n",
    "# Trabalho 02 - 11 de outubro de 2020\n",
    "#\n",
    "# Site: CEFET-RJ\n",
    "# Última Atualização: 2020-10-11 22:04:35.741735\n",
    "# Arquivo: ML_Trab_2.ipynb\n",
    "# Ferramentas: Jupyter Notebook\n",
    "##############################################################################"
   ]
  },
  {
   "cell_type": "markdown",
   "metadata": {},
   "source": [
    "#  Aprendizado de Regressores"
   ]
  },
  {
   "cell_type": "code",
   "execution_count": 2,
   "metadata": {},
   "outputs": [
    {
     "name": "stdout",
     "output_type": "stream",
     "text": [
      "['ex1data1.txt', 'ex1data2.txt', 'ex2data1.txt', 'ex2data2.txt', 'ex5data1.mat']\n",
      "['plot1.1.png', 'plot1.2.png', 'plot2.1.png', 'plot3.1.png', 'plot3.10.png', 'plot3.2.png', 'plot3.3.png', 'plot3.5.png', 'plot3.7.png', 'plot3.8.png', 'plot3.9.png']\n"
     ]
    }
   ],
   "source": [
    "# Importando as bibliotecas necessárias\n",
    "import os\n",
    "print(os.listdir(\"../data/\")) #entrada de arquivo de dados, diretório com arquivos a ser processado\n",
    "print(os.listdir(\"../image/\"))\n",
    "\n",
    "import pandas as pd #algebra linear\n",
    "import numpy as np #processamento de dados\n",
    "import matplotlib.pyplot as plt\n",
    "import matplotlib.ticker as ticker\n",
    "from IPython.display import Image\n",
    "from IPython.core.display import HTML \n",
    "\n",
    "from math import sqrt\n",
    "\n",
    "import datetime"
   ]
  },
  {
   "cell_type": "code",
   "execution_count": 3,
   "metadata": {},
   "outputs": [
    {
     "name": "stdout",
     "output_type": "stream",
     "text": [
      "2020-10-11 22:04:35.741735\n"
     ]
    }
   ],
   "source": [
    "# Última Atualização: \n",
    "print(datetime.datetime.now())"
   ]
  },
  {
   "cell_type": "markdown",
   "metadata": {},
   "source": [
    "## Regressão com uma Variável - Visualizar o gráfico de dispersão (Scatter Plot)"
   ]
  },
  {
   "cell_type": "code",
   "execution_count": 4,
   "metadata": {},
   "outputs": [],
   "source": [
    "filename = 'ex1data1.txt'  # Comma Separated Values - Valores Separados Por Vírgula\n",
    "path_image = '../image/'\n",
    "\n",
    "# Carrergando dados sem cabeçalho\n",
    "raw_data = pd.read_csv('../data/'+filename, header = None)\n",
    "#data = pd.read_csv('../data/'+filename, header = None, names=['Exam 1', 'Exam 2', 'Admitted'])"
   ]
  },
  {
   "cell_type": "markdown",
   "metadata": {},
   "source": [
    "### Conferir arquivo importado"
   ]
  },
  {
   "cell_type": "code",
   "execution_count": 5,
   "metadata": {},
   "outputs": [
    {
     "data": {
      "text/html": [
       "<div>\n",
       "<style scoped>\n",
       "    .dataframe tbody tr th:only-of-type {\n",
       "        vertical-align: middle;\n",
       "    }\n",
       "\n",
       "    .dataframe tbody tr th {\n",
       "        vertical-align: top;\n",
       "    }\n",
       "\n",
       "    .dataframe thead th {\n",
       "        text-align: right;\n",
       "    }\n",
       "</style>\n",
       "<table border=\"1\" class=\"dataframe\">\n",
       "  <thead>\n",
       "    <tr style=\"text-align: right;\">\n",
       "      <th></th>\n",
       "      <th>0</th>\n",
       "      <th>1</th>\n",
       "    </tr>\n",
       "  </thead>\n",
       "  <tbody>\n",
       "    <tr>\n",
       "      <th>0</th>\n",
       "      <td>6.1101</td>\n",
       "      <td>17.5920</td>\n",
       "    </tr>\n",
       "    <tr>\n",
       "      <th>1</th>\n",
       "      <td>5.5277</td>\n",
       "      <td>9.1302</td>\n",
       "    </tr>\n",
       "    <tr>\n",
       "      <th>2</th>\n",
       "      <td>8.5186</td>\n",
       "      <td>13.6620</td>\n",
       "    </tr>\n",
       "    <tr>\n",
       "      <th>3</th>\n",
       "      <td>7.0032</td>\n",
       "      <td>11.8540</td>\n",
       "    </tr>\n",
       "    <tr>\n",
       "      <th>4</th>\n",
       "      <td>5.8598</td>\n",
       "      <td>6.8233</td>\n",
       "    </tr>\n",
       "  </tbody>\n",
       "</table>\n",
       "</div>"
      ],
      "text/plain": [
       "        0        1\n",
       "0  6.1101  17.5920\n",
       "1  5.5277   9.1302\n",
       "2  8.5186  13.6620\n",
       "3  7.0032  11.8540\n",
       "4  5.8598   6.8233"
      ]
     },
     "execution_count": 5,
     "metadata": {},
     "output_type": "execute_result"
    }
   ],
   "source": [
    "raw_data.head() # leitura do dataset"
   ]
  },
  {
   "cell_type": "markdown",
   "metadata": {},
   "source": [
    "### Renomear colunas"
   ]
  },
  {
   "cell_type": "code",
   "execution_count": 6,
   "metadata": {},
   "outputs": [
    {
     "data": {
      "text/plain": [
       "Int64Index([0, 1], dtype='int64')"
      ]
     },
     "execution_count": 6,
     "metadata": {},
     "output_type": "execute_result"
    }
   ],
   "source": [
    "raw_data.columns"
   ]
  },
  {
   "cell_type": "code",
   "execution_count": 7,
   "metadata": {},
   "outputs": [
    {
     "data": {
      "text/html": [
       "<div>\n",
       "<style scoped>\n",
       "    .dataframe tbody tr th:only-of-type {\n",
       "        vertical-align: middle;\n",
       "    }\n",
       "\n",
       "    .dataframe tbody tr th {\n",
       "        vertical-align: top;\n",
       "    }\n",
       "\n",
       "    .dataframe thead th {\n",
       "        text-align: right;\n",
       "    }\n",
       "</style>\n",
       "<table border=\"1\" class=\"dataframe\">\n",
       "  <thead>\n",
       "    <tr style=\"text-align: right;\">\n",
       "      <th></th>\n",
       "      <th>populacao</th>\n",
       "      <th>lucro</th>\n",
       "    </tr>\n",
       "  </thead>\n",
       "  <tbody>\n",
       "    <tr>\n",
       "      <th>0</th>\n",
       "      <td>6.1101</td>\n",
       "      <td>17.5920</td>\n",
       "    </tr>\n",
       "    <tr>\n",
       "      <th>1</th>\n",
       "      <td>5.5277</td>\n",
       "      <td>9.1302</td>\n",
       "    </tr>\n",
       "    <tr>\n",
       "      <th>2</th>\n",
       "      <td>8.5186</td>\n",
       "      <td>13.6620</td>\n",
       "    </tr>\n",
       "    <tr>\n",
       "      <th>3</th>\n",
       "      <td>7.0032</td>\n",
       "      <td>11.8540</td>\n",
       "    </tr>\n",
       "    <tr>\n",
       "      <th>4</th>\n",
       "      <td>5.8598</td>\n",
       "      <td>6.8233</td>\n",
       "    </tr>\n",
       "  </tbody>\n",
       "</table>\n",
       "</div>"
      ],
      "text/plain": [
       "   populacao    lucro\n",
       "0     6.1101  17.5920\n",
       "1     5.5277   9.1302\n",
       "2     8.5186  13.6620\n",
       "3     7.0032  11.8540\n",
       "4     5.8598   6.8233"
      ]
     },
     "execution_count": 7,
     "metadata": {},
     "output_type": "execute_result"
    }
   ],
   "source": [
    "raw_data.columns = ['populacao', 'lucro']\n",
    "raw_data.head()"
   ]
  },
  {
   "cell_type": "markdown",
   "metadata": {},
   "source": [
    "### Verificar Informações do DataFrame"
   ]
  },
  {
   "cell_type": "code",
   "execution_count": 8,
   "metadata": {},
   "outputs": [
    {
     "name": "stdout",
     "output_type": "stream",
     "text": [
      "<class 'pandas.core.frame.DataFrame'>\n",
      "RangeIndex: 97 entries, 0 to 96\n",
      "Data columns (total 2 columns):\n",
      " #   Column     Non-Null Count  Dtype  \n",
      "---  ------     --------------  -----  \n",
      " 0   populacao  97 non-null     float64\n",
      " 1   lucro      97 non-null     float64\n",
      "dtypes: float64(2)\n",
      "memory usage: 1.6 KB\n"
     ]
    }
   ],
   "source": [
    "#verificando se tem dados nulos\n",
    "raw_data.info()"
   ]
  },
  {
   "cell_type": "markdown",
   "metadata": {},
   "source": [
    "### Resumo Estatístico de Campos Numéricos"
   ]
  },
  {
   "cell_type": "code",
   "execution_count": 9,
   "metadata": {
    "scrolled": true
   },
   "outputs": [
    {
     "data": {
      "text/html": [
       "<div>\n",
       "<style scoped>\n",
       "    .dataframe tbody tr th:only-of-type {\n",
       "        vertical-align: middle;\n",
       "    }\n",
       "\n",
       "    .dataframe tbody tr th {\n",
       "        vertical-align: top;\n",
       "    }\n",
       "\n",
       "    .dataframe thead th {\n",
       "        text-align: right;\n",
       "    }\n",
       "</style>\n",
       "<table border=\"1\" class=\"dataframe\">\n",
       "  <thead>\n",
       "    <tr style=\"text-align: right;\">\n",
       "      <th></th>\n",
       "      <th>populacao</th>\n",
       "      <th>lucro</th>\n",
       "    </tr>\n",
       "  </thead>\n",
       "  <tbody>\n",
       "    <tr>\n",
       "      <th>count</th>\n",
       "      <td>97.000000</td>\n",
       "      <td>97.000000</td>\n",
       "    </tr>\n",
       "    <tr>\n",
       "      <th>mean</th>\n",
       "      <td>8.159800</td>\n",
       "      <td>5.839135</td>\n",
       "    </tr>\n",
       "    <tr>\n",
       "      <th>std</th>\n",
       "      <td>3.869884</td>\n",
       "      <td>5.510262</td>\n",
       "    </tr>\n",
       "    <tr>\n",
       "      <th>min</th>\n",
       "      <td>5.026900</td>\n",
       "      <td>-2.680700</td>\n",
       "    </tr>\n",
       "    <tr>\n",
       "      <th>25%</th>\n",
       "      <td>5.707700</td>\n",
       "      <td>1.986900</td>\n",
       "    </tr>\n",
       "    <tr>\n",
       "      <th>50%</th>\n",
       "      <td>6.589400</td>\n",
       "      <td>4.562300</td>\n",
       "    </tr>\n",
       "    <tr>\n",
       "      <th>75%</th>\n",
       "      <td>8.578100</td>\n",
       "      <td>7.046700</td>\n",
       "    </tr>\n",
       "    <tr>\n",
       "      <th>max</th>\n",
       "      <td>22.203000</td>\n",
       "      <td>24.147000</td>\n",
       "    </tr>\n",
       "  </tbody>\n",
       "</table>\n",
       "</div>"
      ],
      "text/plain": [
       "       populacao      lucro\n",
       "count  97.000000  97.000000\n",
       "mean    8.159800   5.839135\n",
       "std     3.869884   5.510262\n",
       "min     5.026900  -2.680700\n",
       "25%     5.707700   1.986900\n",
       "50%     6.589400   4.562300\n",
       "75%     8.578100   7.046700\n",
       "max    22.203000  24.147000"
      ]
     },
     "execution_count": 9,
     "metadata": {},
     "output_type": "execute_result"
    }
   ],
   "source": [
    "raw_data.describe()"
   ]
  },
  {
   "cell_type": "code",
   "execution_count": 10,
   "metadata": {},
   "outputs": [
    {
     "data": {
      "image/png": "[encoded data removed]",
      "text/plain": [
       "<Figure size 864x576 with 1 Axes>"
      ]
     },
     "metadata": {
      "needs_background": "light"
     },
     "output_type": "display_data"
    }
   ],
   "source": [
    "# gerando o grafico de dispersao para analise preliminar dos dados\n",
    "# variáveis do gráfico Scatter\n",
    "titulo = 'População da cidade X Lucro da filial'\n",
    "eixo_x = 'Populacao da cidade em 10.000s'\n",
    "eixo_y = 'Lucro em $10.000s'\n",
    "image = path_image+'plot1.1.png'\n",
    "\n",
    "#gráfico\n",
    "fig, ax = plt.subplots(figsize=(12,8))\n",
    "ax.scatter(raw_data['populacao'], raw_data['lucro'], color='red', marker='x', s=50, label='Pontos', alpha=0.6)\n",
    "\n",
    "#legendas\n",
    "ax.legend(title='Legenda', loc=4, fontsize=9)\n",
    "ax.set_title(titulo)\n",
    "ax.set_xlabel(eixo_x, fontsize=9)\n",
    "ax.set_ylabel(eixo_y, fontsize=9)\n",
    "#plt.grid(True) \n",
    "\n",
    "#salvar imagens\n",
    "plt.savefig(image, dpi=300)\n",
    "plt.tight_layout() ## ver se é necessário\n",
    "plt.show()"
   ]
  },
  {
   "cell_type": "code",
   "execution_count": null,
   "metadata": {},
   "outputs": [],
   "source": []
  },
  {
   "cell_type": "markdown",
   "metadata": {},
   "source": [
    "### Regressão com Scikit-Learn - Algoritmo k-NN - classe KNeighborsRegressor"
   ]
  },
  {
   "cell_type": "markdown",
   "metadata": {},
   "source": [
    "Criando modelos de regressão com as seguintes implementações fornecidas pela biblioteca Scikit-Learn"
   ]
  },
  {
   "cell_type": "code",
   "execution_count": 11,
   "metadata": {},
   "outputs": [],
   "source": [
    "from sklearn.neighbors import KNeighborsRegressor\n",
    "from sklearn.tree import DecisionTreeRegressor\n",
    "from sklearn import neighbors\n",
    "from sklearn.metrics import mean_squared_error \n",
    "\n",
    "from sklearn.model_selection import train_test_split"
   ]
  },
  {
   "cell_type": "code",
   "execution_count": 12,
   "metadata": {},
   "outputs": [
    {
     "data": {
      "text/html": [
       "<div>\n",
       "<style scoped>\n",
       "    .dataframe tbody tr th:only-of-type {\n",
       "        vertical-align: middle;\n",
       "    }\n",
       "\n",
       "    .dataframe tbody tr th {\n",
       "        vertical-align: top;\n",
       "    }\n",
       "\n",
       "    .dataframe thead th {\n",
       "        text-align: right;\n",
       "    }\n",
       "</style>\n",
       "<table border=\"1\" class=\"dataframe\">\n",
       "  <thead>\n",
       "    <tr style=\"text-align: right;\">\n",
       "      <th></th>\n",
       "      <th>populacao</th>\n",
       "      <th>lucro</th>\n",
       "    </tr>\n",
       "  </thead>\n",
       "  <tbody>\n",
       "    <tr>\n",
       "      <th>0</th>\n",
       "      <td>6.1101</td>\n",
       "      <td>17.5920</td>\n",
       "    </tr>\n",
       "    <tr>\n",
       "      <th>1</th>\n",
       "      <td>5.5277</td>\n",
       "      <td>9.1302</td>\n",
       "    </tr>\n",
       "    <tr>\n",
       "      <th>2</th>\n",
       "      <td>8.5186</td>\n",
       "      <td>13.6620</td>\n",
       "    </tr>\n",
       "    <tr>\n",
       "      <th>3</th>\n",
       "      <td>7.0032</td>\n",
       "      <td>11.8540</td>\n",
       "    </tr>\n",
       "    <tr>\n",
       "      <th>4</th>\n",
       "      <td>5.8598</td>\n",
       "      <td>6.8233</td>\n",
       "    </tr>\n",
       "  </tbody>\n",
       "</table>\n",
       "</div>"
      ],
      "text/plain": [
       "   populacao    lucro\n",
       "0     6.1101  17.5920\n",
       "1     5.5277   9.1302\n",
       "2     8.5186  13.6620\n",
       "3     7.0032  11.8540\n",
       "4     5.8598   6.8233"
      ]
     },
     "execution_count": 12,
     "metadata": {},
     "output_type": "execute_result"
    }
   ],
   "source": [
    "#X = [\"populacao\"]\n",
    "#y = [\"lucro\"]\n",
    "raw_data.head()"
   ]
  },
  {
   "cell_type": "code",
   "execution_count": 13,
   "metadata": {},
   "outputs": [],
   "source": [
    "# Declarado este valor ao cv pois se não declarar o padrão é 10\n",
    "cv = 5"
   ]
  },
  {
   "cell_type": "code",
   "execution_count": 14,
   "metadata": {},
   "outputs": [
    {
     "data": {
      "text/plain": [
       "KNeighborsRegressor(algorithm='auto', leaf_size=30, metric='minkowski',\n",
       "                    metric_params=None, n_jobs=None, n_neighbors=5, p=2,\n",
       "                    weights='uniform')"
      ]
     },
     "execution_count": 14,
     "metadata": {},
     "output_type": "execute_result"
    }
   ],
   "source": [
    "knn_regressao = KNeighborsRegressor()\n",
    "knn_regressao"
   ]
  },
  {
   "cell_type": "code",
   "execution_count": 15,
   "metadata": {},
   "outputs": [],
   "source": [
    "# Criação de conjuntos de treinamento e teste\n",
    "train, test = train_test_split(raw_data, test_size = 0.3, random_state = 1,)"
   ]
  },
  {
   "cell_type": "code",
   "execution_count": 16,
   "metadata": {},
   "outputs": [],
   "source": [
    "X_train = train[\"populacao\"].values.reshape(-1,1)\n",
    "X_test = test[\"populacao\"].values.reshape(-1,1)"
   ]
  },
  {
   "cell_type": "code",
   "execution_count": 17,
   "metadata": {},
   "outputs": [],
   "source": [
    "y_train = train[\"lucro\"]\n",
    "y_test = test[\"lucro\"]"
   ]
  },
  {
   "cell_type": "code",
   "execution_count": 18,
   "metadata": {},
   "outputs": [
    {
     "name": "stdout",
     "output_type": "stream",
     "text": [
      "O valor do RMSE para k = 1 é  4.32\n",
      "O valor do RMSE para k = 2 é  3.42\n",
      "O valor do RMSE para k = 3 é  3.21\n",
      "O valor do RMSE para k = 4 é  2.99\n",
      "O valor do RMSE para k = 5 é  3.09\n",
      "O valor do RMSE para k = 6 é  3.19\n",
      "O valor do RMSE para k = 7 é  3.13\n",
      "O valor do RMSE para k = 8 é  3.16\n",
      "O valor do RMSE para k = 9 é  3.06\n",
      "O valor do RMSE para k = 10 é  2.94\n",
      "O valor do RMSE para k = 11 é  3.00\n",
      "O valor do RMSE para k = 12 é  2.95\n",
      "O valor do RMSE para k = 13 é  2.89\n",
      "O valor do RMSE para k = 14 é  2.88\n",
      "O valor do RMSE para k = 15 é  2.95\n",
      "O valor do RMSE para k = 16 é  2.86\n",
      "O valor do RMSE para k = 17 é  2.85\n",
      "O valor do RMSE para k = 18 é  2.83\n",
      "O valor do RMSE para k = 19 é  2.82\n",
      "O valor do RMSE para k = 20 é  2.86\n",
      "O valor do RMSE para k = 21 é  2.88\n",
      "O valor do RMSE para k = 22 é  2.87\n",
      "O valor do RMSE para k = 23 é  2.87\n",
      "O valor do RMSE para k = 24 é  2.87\n",
      "O valor do RMSE para k = 25 é  2.86\n",
      "O valor do RMSE para k = 26 é  2.89\n",
      "O valor do RMSE para k = 27 é  2.88\n",
      "O valor do RMSE para k = 28 é  2.89\n",
      "O valor do RMSE para k = 29 é  2.88\n",
      "O valor do RMSE para k = 30 é  2.86\n"
     ]
    }
   ],
   "source": [
    "rmse_val = [] #armazenar rmse  para k diferentes\n",
    "for K in range(30):\n",
    "    K = K+1\n",
    "    model = KNeighborsRegressor(n_neighbors = K)\n",
    "    model.fit(X_train, y_train)  #ajuste do modelo\n",
    "    pred = model.predict(X_test) # predizer o conjunto de teste\n",
    "    error = sqrt(mean_squared_error(y_test,pred)) #calcula rmse\n",
    "    rmse_val.append(error) #armazena rmse \n",
    "    \n",
    "    print(f\"O valor do RMSE para k = {K} é {error: .2f}\")"
   ]
  },
  {
   "cell_type": "code",
   "execution_count": 19,
   "metadata": {},
   "outputs": [
    {
     "data": {
      "image/png": "[encoded data removed]",
      "text/plain": [
       "<Figure size 864x576 with 1 Axes>"
      ]
     },
     "metadata": {
      "needs_background": "light"
     },
     "output_type": "display_data"
    }
   ],
   "source": [
    "# Plot dos valores de rmse contra valores de k \n",
    "X = [k for k in range(30)]\n",
    "y = rmse_val\n",
    "image = path_image+'plot1.2.png'\n",
    "\n",
    "fig, ax = plt.subplots(figsize=(12,8))\n",
    "plt.xticks(range(len(X))) # informar apenas valores de K inteiros\n",
    "plt.grid(True) # exibir o grid\n",
    "plt.plot(X,y,color='gray' , marker='o', markersize=2, linestyle='--', linewidth=2)\n",
    "\n",
    "#legendas\n",
    "\n",
    "#salvar imagens\n",
    "plt.savefig(image, dpi=300)\n",
    "plt.tight_layout() ## ver se é necessário\n",
    "plt.show()"
   ]
  },
  {
   "cell_type": "markdown",
   "metadata": {},
   "source": [
    "Com o valor de K=1, tem se o maior valor de RMSE que,diminui conforme aumenta o valor de K. O gráfico acima demonstra K = 18."
   ]
  },
  {
   "cell_type": "code",
   "execution_count": 20,
   "metadata": {},
   "outputs": [
    {
     "data": {
      "text/plain": [
       "KNeighborsRegressor(algorithm='auto', leaf_size=30, metric='minkowski',\n",
       "                    metric_params=None, n_jobs=None, n_neighbors=5, p=2,\n",
       "                    weights='uniform')"
      ]
     },
     "execution_count": 20,
     "metadata": {},
     "output_type": "execute_result"
    }
   ],
   "source": [
    "knn_regressao.fit(X_train,y_train)"
   ]
  },
  {
   "cell_type": "code",
   "execution_count": 21,
   "metadata": {},
   "outputs": [
    {
     "name": "stdout",
     "output_type": "stream",
     "text": [
      "Acurácia sem ajuste de hiperparâmetro 14.17674819463437\n"
     ]
    }
   ],
   "source": [
    "# Acurácia sem ajuste de hiperparâmetros\n",
    "resultado = knn_regressao.score(X_test, y_test)\n",
    "print(f\"Acurácia sem ajuste de hiperparâmetro {resultado*100.0}\") #.2f"
   ]
  },
  {
   "cell_type": "code",
   "execution_count": 22,
   "metadata": {},
   "outputs": [],
   "source": [
    "from sklearn.model_selection import RandomizedSearchCV"
   ]
  },
  {
   "cell_type": "markdown",
   "metadata": {},
   "source": [
    "#### Usando RandomizedSearchCV"
   ]
  },
  {
   "cell_type": "code",
   "execution_count": 23,
   "metadata": {},
   "outputs": [],
   "source": [
    "knr = KNeighborsRegressor()\n",
    "param_grid = {'n_neighbors':[k for k in range(1,30)]}\n",
    "random_regressao = RandomizedSearchCV(knr,param_grid,n_iter=15,n_jobs=-1,cv=cv, random_state=1)"
   ]
  },
  {
   "cell_type": "code",
   "execution_count": 24,
   "metadata": {},
   "outputs": [
    {
     "data": {
      "text/plain": [
       "RandomizedSearchCV(cv=5, error_score=nan,\n",
       "                   estimator=KNeighborsRegressor(algorithm='auto', leaf_size=30,\n",
       "                                                 metric='minkowski',\n",
       "                                                 metric_params=None,\n",
       "                                                 n_jobs=None, n_neighbors=5,\n",
       "                                                 p=2, weights='uniform'),\n",
       "                   iid='deprecated', n_iter=15, n_jobs=-1,\n",
       "                   param_distributions={'n_neighbors': [1, 2, 3, 4, 5, 6, 7, 8,\n",
       "                                                        9, 10, 11, 12, 13, 14,\n",
       "                                                        15, 16, 17, 18, 19, 20,\n",
       "                                                        21, 22, 23, 24, 25, 26,\n",
       "                                                        27, 28, 29]},\n",
       "                   pre_dispatch='2*n_jobs', random_state=1, refit=True,\n",
       "                   return_train_score=False, scoring=None, verbose=0)"
      ]
     },
     "execution_count": 24,
     "metadata": {},
     "output_type": "execute_result"
    }
   ],
   "source": [
    "random_regressao.fit(X_train,y_train)"
   ]
  },
  {
   "cell_type": "code",
   "execution_count": 25,
   "metadata": {},
   "outputs": [
    {
     "data": {
      "text/plain": [
       "KNeighborsRegressor(algorithm='auto', leaf_size=30, metric='minkowski',\n",
       "                    metric_params=None, n_jobs=None, n_neighbors=7, p=2,\n",
       "                    weights='uniform')"
      ]
     },
     "execution_count": 25,
     "metadata": {},
     "output_type": "execute_result"
    }
   ],
   "source": [
    "random_regressao.best_estimator_"
   ]
  },
  {
   "cell_type": "code",
   "execution_count": 26,
   "metadata": {},
   "outputs": [
    {
     "data": {
      "text/plain": [
       "0.5024515587842487"
      ]
     },
     "execution_count": 26,
     "metadata": {},
     "output_type": "execute_result"
    }
   ],
   "source": [
    "random_regressao.best_score_"
   ]
  },
  {
   "cell_type": "markdown",
   "metadata": {},
   "source": [
    "#### Usando GridSearchCV "
   ]
  },
  {
   "cell_type": "code",
   "execution_count": 27,
   "metadata": {},
   "outputs": [
    {
     "data": {
      "text/plain": [
       "{'n_neighbors': 7}"
      ]
     },
     "execution_count": 27,
     "metadata": {},
     "output_type": "execute_result"
    }
   ],
   "source": [
    "random_regressao.best_params_"
   ]
  },
  {
   "cell_type": "code",
   "execution_count": 28,
   "metadata": {},
   "outputs": [],
   "source": [
    "knr = random_regressao.best_estimator_"
   ]
  },
  {
   "cell_type": "code",
   "execution_count": 29,
   "metadata": {},
   "outputs": [
    {
     "data": {
      "text/plain": [
       "KNeighborsRegressor(algorithm='auto', leaf_size=30, metric='minkowski',\n",
       "                    metric_params=None, n_jobs=None, n_neighbors=7, p=2,\n",
       "                    weights='uniform')"
      ]
     },
     "execution_count": 29,
     "metadata": {},
     "output_type": "execute_result"
    }
   ],
   "source": [
    "knr.fit(X_train,y_train)"
   ]
  },
  {
   "cell_type": "code",
   "execution_count": 30,
   "metadata": {},
   "outputs": [],
   "source": [
    "Y_pred = knr.predict(X_test)"
   ]
  },
  {
   "cell_type": "code",
   "execution_count": 31,
   "metadata": {},
   "outputs": [
    {
     "name": "stdout",
     "output_type": "stream",
     "text": [
      "Acurácia 12.091524023058275\n"
     ]
    }
   ],
   "source": [
    "resultado = knr.score(X_test, y_test)\n",
    "print(f\"Acurácia { resultado*100.0}\") #.2f"
   ]
  },
  {
   "cell_type": "code",
   "execution_count": 32,
   "metadata": {},
   "outputs": [],
   "source": [
    "from sklearn.model_selection import GridSearchCV"
   ]
  },
  {
   "cell_type": "code",
   "execution_count": 33,
   "metadata": {},
   "outputs": [],
   "source": [
    "param_grid = {'n_neighbors': np.arange(1, 30, 1),} \n",
    "grid = GridSearchCV(knn_regressao,param_grid,cv =cv, verbose=1)"
   ]
  },
  {
   "cell_type": "code",
   "execution_count": 34,
   "metadata": {},
   "outputs": [
    {
     "name": "stdout",
     "output_type": "stream",
     "text": [
      "Fitting 5 folds for each of 29 candidates, totalling 145 fits\n"
     ]
    },
    {
     "name": "stderr",
     "output_type": "stream",
     "text": [
      "[Parallel(n_jobs=1)]: Using backend SequentialBackend with 1 concurrent workers.\n",
      "[Parallel(n_jobs=1)]: Done 145 out of 145 | elapsed:    0.2s finished\n"
     ]
    },
    {
     "data": {
      "text/plain": [
       "GridSearchCV(cv=5, error_score=nan,\n",
       "             estimator=KNeighborsRegressor(algorithm='auto', leaf_size=30,\n",
       "                                           metric='minkowski',\n",
       "                                           metric_params=None, n_jobs=None,\n",
       "                                           n_neighbors=5, p=2,\n",
       "                                           weights='uniform'),\n",
       "             iid='deprecated', n_jobs=None,\n",
       "             param_grid={'n_neighbors': array([ 1,  2,  3,  4,  5,  6,  7,  8,  9, 10, 11, 12, 13, 14, 15, 16, 17,\n",
       "       18, 19, 20, 21, 22, 23, 24, 25, 26, 27, 28, 29])},\n",
       "             pre_dispatch='2*n_jobs', refit=True, return_train_score=False,\n",
       "             scoring=None, verbose=1)"
      ]
     },
     "execution_count": 34,
     "metadata": {},
     "output_type": "execute_result"
    }
   ],
   "source": [
    "grid.fit(X_train,y_train)"
   ]
  },
  {
   "cell_type": "code",
   "execution_count": 35,
   "metadata": {},
   "outputs": [
    {
     "data": {
      "text/plain": [
       "KNeighborsRegressor(algorithm='auto', leaf_size=30, metric='minkowski',\n",
       "                    metric_params=None, n_jobs=None, n_neighbors=7, p=2,\n",
       "                    weights='uniform')"
      ]
     },
     "execution_count": 35,
     "metadata": {},
     "output_type": "execute_result"
    }
   ],
   "source": [
    "grid.best_estimator_"
   ]
  },
  {
   "cell_type": "code",
   "execution_count": 36,
   "metadata": {},
   "outputs": [],
   "source": [
    "knn_regressao = grid.best_estimator_"
   ]
  },
  {
   "cell_type": "code",
   "execution_count": 37,
   "metadata": {},
   "outputs": [
    {
     "data": {
      "text/plain": [
       "KNeighborsRegressor(algorithm='auto', leaf_size=30, metric='minkowski',\n",
       "                    metric_params=None, n_jobs=None, n_neighbors=7, p=2,\n",
       "                    weights='uniform')"
      ]
     },
     "execution_count": 37,
     "metadata": {},
     "output_type": "execute_result"
    }
   ],
   "source": [
    "knn_regressao.fit(X_train,y_train)"
   ]
  },
  {
   "cell_type": "code",
   "execution_count": 38,
   "metadata": {},
   "outputs": [],
   "source": [
    "resultado = knn_regressao.score(X_test, y_test)"
   ]
  },
  {
   "cell_type": "code",
   "execution_count": 39,
   "metadata": {},
   "outputs": [
    {
     "name": "stdout",
     "output_type": "stream",
     "text": [
      "Acurácia 12.091524023058275\n"
     ]
    }
   ],
   "source": [
    "print(f\"Acurácia { resultado*100.0}\") #.2f"
   ]
  },
  {
   "cell_type": "markdown",
   "metadata": {},
   "source": [
    "### Algoritmo de indução de árvores de decisão - classe DecisionTreeRegressor"
   ]
  },
  {
   "cell_type": "markdown",
   "metadata": {},
   "source": [
    "#### Sem ajuste de hiperparâmetros"
   ]
  },
  {
   "cell_type": "code",
   "execution_count": 40,
   "metadata": {},
   "outputs": [],
   "source": [
    "model = DecisionTreeRegressor()"
   ]
  },
  {
   "cell_type": "code",
   "execution_count": 41,
   "metadata": {},
   "outputs": [
    {
     "data": {
      "text/plain": [
       "DecisionTreeRegressor(ccp_alpha=0.0, criterion='mse', max_depth=None,\n",
       "                      max_features=None, max_leaf_nodes=None,\n",
       "                      min_impurity_decrease=0.0, min_impurity_split=None,\n",
       "                      min_samples_leaf=1, min_samples_split=2,\n",
       "                      min_weight_fraction_leaf=0.0, presort='deprecated',\n",
       "                      random_state=None, splitter='best')"
      ]
     },
     "execution_count": 41,
     "metadata": {},
     "output_type": "execute_result"
    }
   ],
   "source": [
    "model.fit(X_train, y_train)"
   ]
  },
  {
   "cell_type": "code",
   "execution_count": 42,
   "metadata": {},
   "outputs": [
    {
     "data": {
      "text/plain": [
       "-0.67286625004085"
      ]
     },
     "execution_count": 42,
     "metadata": {},
     "output_type": "execute_result"
    }
   ],
   "source": [
    "model.score(X_test,y_test)"
   ]
  },
  {
   "cell_type": "code",
   "execution_count": 43,
   "metadata": {},
   "outputs": [
    {
     "data": {
      "text/plain": [
       "DecisionTreeRegressor(ccp_alpha=0.0, criterion='mse', max_depth=None,\n",
       "                      max_features=None, max_leaf_nodes=None,\n",
       "                      min_impurity_decrease=0.0, min_impurity_split=None,\n",
       "                      min_samples_leaf=1, min_samples_split=2,\n",
       "                      min_weight_fraction_leaf=0.0, presort='deprecated',\n",
       "                      random_state=None, splitter='best')"
      ]
     },
     "execution_count": 43,
     "metadata": {},
     "output_type": "execute_result"
    }
   ],
   "source": [
    "tree_regressao = DecisionTreeRegressor()\n",
    "tree_regressao"
   ]
  },
  {
   "cell_type": "markdown",
   "metadata": {},
   "source": [
    "#### Árvore de decisão usando GridSearchCV"
   ]
  },
  {
   "cell_type": "code",
   "execution_count": 44,
   "metadata": {},
   "outputs": [
    {
     "data": {
      "text/plain": [
       "DecisionTreeRegressor(ccp_alpha=0.0, criterion='mse', max_depth=None,\n",
       "                      max_features=None, max_leaf_nodes=None,\n",
       "                      min_impurity_decrease=0.0, min_impurity_split=None,\n",
       "                      min_samples_leaf=1, min_samples_split=2,\n",
       "                      min_weight_fraction_leaf=0.0, presort='deprecated',\n",
       "                      random_state=None, splitter='best')"
      ]
     },
     "execution_count": 44,
     "metadata": {},
     "output_type": "execute_result"
    }
   ],
   "source": [
    "model = DecisionTreeRegressor()\n",
    "model"
   ]
  },
  {
   "cell_type": "code",
   "execution_count": 45,
   "metadata": {},
   "outputs": [],
   "source": [
    "parameters = {'max_features': ['auto', 'log2','sqrt'],\n",
    "              'max_depth': [5, 10, None],\n",
    "              'criterion': ['mse', 'friedman_mse', 'mae'],\n",
    "              'splitter':  [\"best\",\"random\"],\n",
    "              \"min_samples_split\" : [1,2,3]    \n",
    "}"
   ]
  },
  {
   "cell_type": "code",
   "execution_count": 46,
   "metadata": {},
   "outputs": [],
   "source": [
    "gscv = GridSearchCV(estimator=model,param_grid=parameters,cv=cv,n_jobs=-1,return_train_score=True)"
   ]
  },
  {
   "cell_type": "code",
   "execution_count": 47,
   "metadata": {},
   "outputs": [
    {
     "data": {
      "text/plain": [
       "GridSearchCV(cv=5, error_score=nan,\n",
       "             estimator=DecisionTreeRegressor(ccp_alpha=0.0, criterion='mse',\n",
       "                                             max_depth=None, max_features=None,\n",
       "                                             max_leaf_nodes=None,\n",
       "                                             min_impurity_decrease=0.0,\n",
       "                                             min_impurity_split=None,\n",
       "                                             min_samples_leaf=1,\n",
       "                                             min_samples_split=2,\n",
       "                                             min_weight_fraction_leaf=0.0,\n",
       "                                             presort='deprecated',\n",
       "                                             random_state=None,\n",
       "                                             splitter='best'),\n",
       "             iid='deprecated', n_jobs=-1,\n",
       "             param_grid={'criterion': ['mse', 'friedman_mse', 'mae'],\n",
       "                         'max_depth': [5, 10, None],\n",
       "                         'max_features': ['auto', 'log2', 'sqrt'],\n",
       "                         'min_samples_split': [1, 2, 3],\n",
       "                         'splitter': ['best', 'random']},\n",
       "             pre_dispatch='2*n_jobs', refit=True, return_train_score=True,\n",
       "             scoring=None, verbose=0)"
      ]
     },
     "execution_count": 47,
     "metadata": {},
     "output_type": "execute_result"
    }
   ],
   "source": [
    "gscv.fit(X_train, y_train)"
   ]
  },
  {
   "cell_type": "code",
   "execution_count": 48,
   "metadata": {},
   "outputs": [
    {
     "data": {
      "text/plain": [
       "{'criterion': 'friedman_mse',\n",
       " 'max_depth': 5,\n",
       " 'max_features': 'log2',\n",
       " 'min_samples_split': 2,\n",
       " 'splitter': 'random'}"
      ]
     },
     "execution_count": 48,
     "metadata": {},
     "output_type": "execute_result"
    }
   ],
   "source": [
    "gscv.best_params_"
   ]
  },
  {
   "cell_type": "code",
   "execution_count": 49,
   "metadata": {},
   "outputs": [
    {
     "name": "stdout",
     "output_type": "stream",
     "text": [
      "Os melhores parâmetros usando GridSearchCV são: {'criterion': 'friedman_mse', 'max_depth': 5, 'max_features': 'log2', 'min_samples_split': 2, 'splitter': 'random'}\n"
     ]
    }
   ],
   "source": [
    "print(f\"Os melhores parâmetros usando GridSearchCV são: {gscv.best_params_}\")"
   ]
  },
  {
   "cell_type": "code",
   "execution_count": 50,
   "metadata": {},
   "outputs": [
    {
     "data": {
      "text/plain": [
       "-0.12376783573303829"
      ]
     },
     "execution_count": 50,
     "metadata": {},
     "output_type": "execute_result"
    }
   ],
   "source": [
    "gscv.score(X_test,y_test) ###**"
   ]
  },
  {
   "cell_type": "markdown",
   "metadata": {},
   "source": [
    "#### Árvore de decisão usando RandomizedSearchCV"
   ]
  },
  {
   "cell_type": "code",
   "execution_count": 51,
   "metadata": {},
   "outputs": [],
   "source": [
    "parameters = {'max_features': ['auto', 'log2','sqrt'],\n",
    "              'max_depth': [5, 10, None],\n",
    "              'criterion': ['mse', 'friedman_mse', 'mae'],\n",
    "              'splitter':  [\"best\",\"random\"],\n",
    "              \"min_samples_split\" : [1,2,3]\n",
    "     \n",
    "}"
   ]
  },
  {
   "cell_type": "code",
   "execution_count": 52,
   "metadata": {},
   "outputs": [],
   "source": [
    "random_regressao = RandomizedSearchCV(model, parameters,n_iter=15,n_jobs=-1,cv=cv,random_state=1)"
   ]
  },
  {
   "cell_type": "code",
   "execution_count": 53,
   "metadata": {},
   "outputs": [
    {
     "data": {
      "text/plain": [
       "RandomizedSearchCV(cv=5, error_score=nan,\n",
       "                   estimator=DecisionTreeRegressor(ccp_alpha=0.0,\n",
       "                                                   criterion='mse',\n",
       "                                                   max_depth=None,\n",
       "                                                   max_features=None,\n",
       "                                                   max_leaf_nodes=None,\n",
       "                                                   min_impurity_decrease=0.0,\n",
       "                                                   min_impurity_split=None,\n",
       "                                                   min_samples_leaf=1,\n",
       "                                                   min_samples_split=2,\n",
       "                                                   min_weight_fraction_leaf=0.0,\n",
       "                                                   presort='deprecated',\n",
       "                                                   random_state=None,\n",
       "                                                   splitter='best'),\n",
       "                   iid='deprecated', n_iter=15, n_jobs=-1,\n",
       "                   param_distributions={'criterion': ['mse', 'friedman_mse',\n",
       "                                                      'mae'],\n",
       "                                        'max_depth': [5, 10, None],\n",
       "                                        'max_features': ['auto', 'log2',\n",
       "                                                         'sqrt'],\n",
       "                                        'min_samples_split': [1, 2, 3],\n",
       "                                        'splitter': ['best', 'random']},\n",
       "                   pre_dispatch='2*n_jobs', random_state=1, refit=True,\n",
       "                   return_train_score=False, scoring=None, verbose=0)"
      ]
     },
     "execution_count": 53,
     "metadata": {},
     "output_type": "execute_result"
    }
   ],
   "source": [
    "random_regressao.fit(X_train,y_train)"
   ]
  },
  {
   "cell_type": "code",
   "execution_count": 54,
   "metadata": {},
   "outputs": [
    {
     "name": "stdout",
     "output_type": "stream",
     "text": [
      "Os melhores parâmetros usando RandomizedSearchCV são: {'splitter': 'random', 'min_samples_split': 3, 'max_features': 'log2', 'max_depth': 5, 'criterion': 'mse'} \n"
     ]
    }
   ],
   "source": [
    "print(f\"Os melhores parâmetros usando RandomizedSearchCV são: {random_regressao.best_params_} \")"
   ]
  },
  {
   "cell_type": "code",
   "execution_count": 55,
   "metadata": {},
   "outputs": [
    {
     "data": {
      "text/plain": [
       "-0.23083281934971137"
      ]
     },
     "execution_count": 55,
     "metadata": {},
     "output_type": "execute_result"
    }
   ],
   "source": [
    "random_regressao.score(X_test,y_test) ##**"
   ]
  },
  {
   "cell_type": "markdown",
   "metadata": {},
   "source": [
    "## Regressãoo com Múltiplas Variáveis"
   ]
  },
  {
   "cell_type": "code",
   "execution_count": 56,
   "metadata": {},
   "outputs": [],
   "source": [
    "## importar dados\n",
    "filename = 'ex1data2.txt'\n",
    "\n",
    "# Carrergando dados sem cabeçalho\n",
    "raw_data_2 = pd.read_csv('../data/'+filename, header = None)"
   ]
  },
  {
   "cell_type": "code",
   "execution_count": 57,
   "metadata": {},
   "outputs": [
    {
     "data": {
      "text/html": [
       "<div>\n",
       "<style scoped>\n",
       "    .dataframe tbody tr th:only-of-type {\n",
       "        vertical-align: middle;\n",
       "    }\n",
       "\n",
       "    .dataframe tbody tr th {\n",
       "        vertical-align: top;\n",
       "    }\n",
       "\n",
       "    .dataframe thead th {\n",
       "        text-align: right;\n",
       "    }\n",
       "</style>\n",
       "<table border=\"1\" class=\"dataframe\">\n",
       "  <thead>\n",
       "    <tr style=\"text-align: right;\">\n",
       "      <th></th>\n",
       "      <th>0</th>\n",
       "      <th>1</th>\n",
       "      <th>2</th>\n",
       "    </tr>\n",
       "  </thead>\n",
       "  <tbody>\n",
       "    <tr>\n",
       "      <th>0</th>\n",
       "      <td>2104</td>\n",
       "      <td>3</td>\n",
       "      <td>399900</td>\n",
       "    </tr>\n",
       "    <tr>\n",
       "      <th>1</th>\n",
       "      <td>1600</td>\n",
       "      <td>3</td>\n",
       "      <td>329900</td>\n",
       "    </tr>\n",
       "    <tr>\n",
       "      <th>2</th>\n",
       "      <td>2400</td>\n",
       "      <td>3</td>\n",
       "      <td>369000</td>\n",
       "    </tr>\n",
       "    <tr>\n",
       "      <th>3</th>\n",
       "      <td>1416</td>\n",
       "      <td>2</td>\n",
       "      <td>232000</td>\n",
       "    </tr>\n",
       "    <tr>\n",
       "      <th>4</th>\n",
       "      <td>3000</td>\n",
       "      <td>4</td>\n",
       "      <td>539900</td>\n",
       "    </tr>\n",
       "  </tbody>\n",
       "</table>\n",
       "</div>"
      ],
      "text/plain": [
       "      0  1       2\n",
       "0  2104  3  399900\n",
       "1  1600  3  329900\n",
       "2  2400  3  369000\n",
       "3  1416  2  232000\n",
       "4  3000  4  539900"
      ]
     },
     "execution_count": 57,
     "metadata": {},
     "output_type": "execute_result"
    }
   ],
   "source": [
    "raw_data_2.head() # leitura do dataset"
   ]
  },
  {
   "cell_type": "code",
   "execution_count": 58,
   "metadata": {},
   "outputs": [
    {
     "data": {
      "text/html": [
       "<div>\n",
       "<style scoped>\n",
       "    .dataframe tbody tr th:only-of-type {\n",
       "        vertical-align: middle;\n",
       "    }\n",
       "\n",
       "    .dataframe tbody tr th {\n",
       "        vertical-align: top;\n",
       "    }\n",
       "\n",
       "    .dataframe thead th {\n",
       "        text-align: right;\n",
       "    }\n",
       "</style>\n",
       "<table border=\"1\" class=\"dataframe\">\n",
       "  <thead>\n",
       "    <tr style=\"text-align: right;\">\n",
       "      <th></th>\n",
       "      <th>tamanho</th>\n",
       "      <th>numero_dormitorio</th>\n",
       "      <th>preco</th>\n",
       "    </tr>\n",
       "  </thead>\n",
       "  <tbody>\n",
       "    <tr>\n",
       "      <th>0</th>\n",
       "      <td>2104</td>\n",
       "      <td>3</td>\n",
       "      <td>399900</td>\n",
       "    </tr>\n",
       "    <tr>\n",
       "      <th>1</th>\n",
       "      <td>1600</td>\n",
       "      <td>3</td>\n",
       "      <td>329900</td>\n",
       "    </tr>\n",
       "    <tr>\n",
       "      <th>2</th>\n",
       "      <td>2400</td>\n",
       "      <td>3</td>\n",
       "      <td>369000</td>\n",
       "    </tr>\n",
       "    <tr>\n",
       "      <th>3</th>\n",
       "      <td>1416</td>\n",
       "      <td>2</td>\n",
       "      <td>232000</td>\n",
       "    </tr>\n",
       "    <tr>\n",
       "      <th>4</th>\n",
       "      <td>3000</td>\n",
       "      <td>4</td>\n",
       "      <td>539900</td>\n",
       "    </tr>\n",
       "  </tbody>\n",
       "</table>\n",
       "</div>"
      ],
      "text/plain": [
       "   tamanho  numero_dormitorio   preco\n",
       "0     2104                  3  399900\n",
       "1     1600                  3  329900\n",
       "2     2400                  3  369000\n",
       "3     1416                  2  232000\n",
       "4     3000                  4  539900"
      ]
     },
     "execution_count": 58,
     "metadata": {},
     "output_type": "execute_result"
    }
   ],
   "source": [
    "# renomear colunas\n",
    "raw_data_2.columns = ['tamanho', 'numero_dormitorio', 'preco']\n",
    "raw_data_2.head()"
   ]
  },
  {
   "cell_type": "markdown",
   "metadata": {},
   "source": [
    "### Normalização das características"
   ]
  },
  {
   "cell_type": "code",
   "execution_count": 59,
   "metadata": {},
   "outputs": [],
   "source": [
    "from sklearn.preprocessing import StandardScaler"
   ]
  },
  {
   "cell_type": "code",
   "execution_count": 60,
   "metadata": {},
   "outputs": [],
   "source": [
    "scaler = StandardScaler()"
   ]
  },
  {
   "cell_type": "code",
   "execution_count": 61,
   "metadata": {},
   "outputs": [
    {
     "data": {
      "text/html": [
       "<div>\n",
       "<style scoped>\n",
       "    .dataframe tbody tr th:only-of-type {\n",
       "        vertical-align: middle;\n",
       "    }\n",
       "\n",
       "    .dataframe tbody tr th {\n",
       "        vertical-align: top;\n",
       "    }\n",
       "\n",
       "    .dataframe thead th {\n",
       "        text-align: right;\n",
       "    }\n",
       "</style>\n",
       "<table border=\"1\" class=\"dataframe\">\n",
       "  <thead>\n",
       "    <tr style=\"text-align: right;\">\n",
       "      <th></th>\n",
       "      <th>tamanho</th>\n",
       "      <th>numero_dormitorio</th>\n",
       "    </tr>\n",
       "  </thead>\n",
       "  <tbody>\n",
       "    <tr>\n",
       "      <th>0</th>\n",
       "      <td>2104</td>\n",
       "      <td>3</td>\n",
       "    </tr>\n",
       "    <tr>\n",
       "      <th>1</th>\n",
       "      <td>1600</td>\n",
       "      <td>3</td>\n",
       "    </tr>\n",
       "    <tr>\n",
       "      <th>2</th>\n",
       "      <td>2400</td>\n",
       "      <td>3</td>\n",
       "    </tr>\n",
       "    <tr>\n",
       "      <th>3</th>\n",
       "      <td>1416</td>\n",
       "      <td>2</td>\n",
       "    </tr>\n",
       "    <tr>\n",
       "      <th>4</th>\n",
       "      <td>3000</td>\n",
       "      <td>4</td>\n",
       "    </tr>\n",
       "    <tr>\n",
       "      <th>5</th>\n",
       "      <td>1985</td>\n",
       "      <td>4</td>\n",
       "    </tr>\n",
       "    <tr>\n",
       "      <th>6</th>\n",
       "      <td>1534</td>\n",
       "      <td>3</td>\n",
       "    </tr>\n",
       "    <tr>\n",
       "      <th>7</th>\n",
       "      <td>1427</td>\n",
       "      <td>3</td>\n",
       "    </tr>\n",
       "    <tr>\n",
       "      <th>8</th>\n",
       "      <td>1380</td>\n",
       "      <td>3</td>\n",
       "    </tr>\n",
       "    <tr>\n",
       "      <th>9</th>\n",
       "      <td>1494</td>\n",
       "      <td>3</td>\n",
       "    </tr>\n",
       "    <tr>\n",
       "      <th>10</th>\n",
       "      <td>1940</td>\n",
       "      <td>4</td>\n",
       "    </tr>\n",
       "    <tr>\n",
       "      <th>11</th>\n",
       "      <td>2000</td>\n",
       "      <td>3</td>\n",
       "    </tr>\n",
       "    <tr>\n",
       "      <th>12</th>\n",
       "      <td>1890</td>\n",
       "      <td>3</td>\n",
       "    </tr>\n",
       "    <tr>\n",
       "      <th>13</th>\n",
       "      <td>4478</td>\n",
       "      <td>5</td>\n",
       "    </tr>\n",
       "    <tr>\n",
       "      <th>14</th>\n",
       "      <td>1268</td>\n",
       "      <td>3</td>\n",
       "    </tr>\n",
       "    <tr>\n",
       "      <th>15</th>\n",
       "      <td>2300</td>\n",
       "      <td>4</td>\n",
       "    </tr>\n",
       "    <tr>\n",
       "      <th>16</th>\n",
       "      <td>1320</td>\n",
       "      <td>2</td>\n",
       "    </tr>\n",
       "    <tr>\n",
       "      <th>17</th>\n",
       "      <td>1236</td>\n",
       "      <td>3</td>\n",
       "    </tr>\n",
       "    <tr>\n",
       "      <th>18</th>\n",
       "      <td>2609</td>\n",
       "      <td>4</td>\n",
       "    </tr>\n",
       "    <tr>\n",
       "      <th>19</th>\n",
       "      <td>3031</td>\n",
       "      <td>4</td>\n",
       "    </tr>\n",
       "    <tr>\n",
       "      <th>20</th>\n",
       "      <td>1767</td>\n",
       "      <td>3</td>\n",
       "    </tr>\n",
       "    <tr>\n",
       "      <th>21</th>\n",
       "      <td>1888</td>\n",
       "      <td>2</td>\n",
       "    </tr>\n",
       "    <tr>\n",
       "      <th>22</th>\n",
       "      <td>1604</td>\n",
       "      <td>3</td>\n",
       "    </tr>\n",
       "    <tr>\n",
       "      <th>23</th>\n",
       "      <td>1962</td>\n",
       "      <td>4</td>\n",
       "    </tr>\n",
       "    <tr>\n",
       "      <th>24</th>\n",
       "      <td>3890</td>\n",
       "      <td>3</td>\n",
       "    </tr>\n",
       "    <tr>\n",
       "      <th>25</th>\n",
       "      <td>1100</td>\n",
       "      <td>3</td>\n",
       "    </tr>\n",
       "    <tr>\n",
       "      <th>26</th>\n",
       "      <td>1458</td>\n",
       "      <td>3</td>\n",
       "    </tr>\n",
       "    <tr>\n",
       "      <th>27</th>\n",
       "      <td>2526</td>\n",
       "      <td>3</td>\n",
       "    </tr>\n",
       "    <tr>\n",
       "      <th>28</th>\n",
       "      <td>2200</td>\n",
       "      <td>3</td>\n",
       "    </tr>\n",
       "    <tr>\n",
       "      <th>29</th>\n",
       "      <td>2637</td>\n",
       "      <td>3</td>\n",
       "    </tr>\n",
       "    <tr>\n",
       "      <th>30</th>\n",
       "      <td>1839</td>\n",
       "      <td>2</td>\n",
       "    </tr>\n",
       "    <tr>\n",
       "      <th>31</th>\n",
       "      <td>1000</td>\n",
       "      <td>1</td>\n",
       "    </tr>\n",
       "    <tr>\n",
       "      <th>32</th>\n",
       "      <td>2040</td>\n",
       "      <td>4</td>\n",
       "    </tr>\n",
       "    <tr>\n",
       "      <th>33</th>\n",
       "      <td>3137</td>\n",
       "      <td>3</td>\n",
       "    </tr>\n",
       "    <tr>\n",
       "      <th>34</th>\n",
       "      <td>1811</td>\n",
       "      <td>4</td>\n",
       "    </tr>\n",
       "    <tr>\n",
       "      <th>35</th>\n",
       "      <td>1437</td>\n",
       "      <td>3</td>\n",
       "    </tr>\n",
       "    <tr>\n",
       "      <th>36</th>\n",
       "      <td>1239</td>\n",
       "      <td>3</td>\n",
       "    </tr>\n",
       "    <tr>\n",
       "      <th>37</th>\n",
       "      <td>2132</td>\n",
       "      <td>4</td>\n",
       "    </tr>\n",
       "    <tr>\n",
       "      <th>38</th>\n",
       "      <td>4215</td>\n",
       "      <td>4</td>\n",
       "    </tr>\n",
       "    <tr>\n",
       "      <th>39</th>\n",
       "      <td>2162</td>\n",
       "      <td>4</td>\n",
       "    </tr>\n",
       "    <tr>\n",
       "      <th>40</th>\n",
       "      <td>1664</td>\n",
       "      <td>2</td>\n",
       "    </tr>\n",
       "    <tr>\n",
       "      <th>41</th>\n",
       "      <td>2238</td>\n",
       "      <td>3</td>\n",
       "    </tr>\n",
       "    <tr>\n",
       "      <th>42</th>\n",
       "      <td>2567</td>\n",
       "      <td>4</td>\n",
       "    </tr>\n",
       "    <tr>\n",
       "      <th>43</th>\n",
       "      <td>1200</td>\n",
       "      <td>3</td>\n",
       "    </tr>\n",
       "    <tr>\n",
       "      <th>44</th>\n",
       "      <td>852</td>\n",
       "      <td>2</td>\n",
       "    </tr>\n",
       "    <tr>\n",
       "      <th>45</th>\n",
       "      <td>1852</td>\n",
       "      <td>4</td>\n",
       "    </tr>\n",
       "    <tr>\n",
       "      <th>46</th>\n",
       "      <td>1203</td>\n",
       "      <td>3</td>\n",
       "    </tr>\n",
       "  </tbody>\n",
       "</table>\n",
       "</div>"
      ],
      "text/plain": [
       "    tamanho  numero_dormitorio\n",
       "0      2104                  3\n",
       "1      1600                  3\n",
       "2      2400                  3\n",
       "3      1416                  2\n",
       "4      3000                  4\n",
       "5      1985                  4\n",
       "6      1534                  3\n",
       "7      1427                  3\n",
       "8      1380                  3\n",
       "9      1494                  3\n",
       "10     1940                  4\n",
       "11     2000                  3\n",
       "12     1890                  3\n",
       "13     4478                  5\n",
       "14     1268                  3\n",
       "15     2300                  4\n",
       "16     1320                  2\n",
       "17     1236                  3\n",
       "18     2609                  4\n",
       "19     3031                  4\n",
       "20     1767                  3\n",
       "21     1888                  2\n",
       "22     1604                  3\n",
       "23     1962                  4\n",
       "24     3890                  3\n",
       "25     1100                  3\n",
       "26     1458                  3\n",
       "27     2526                  3\n",
       "28     2200                  3\n",
       "29     2637                  3\n",
       "30     1839                  2\n",
       "31     1000                  1\n",
       "32     2040                  4\n",
       "33     3137                  3\n",
       "34     1811                  4\n",
       "35     1437                  3\n",
       "36     1239                  3\n",
       "37     2132                  4\n",
       "38     4215                  4\n",
       "39     2162                  4\n",
       "40     1664                  2\n",
       "41     2238                  3\n",
       "42     2567                  4\n",
       "43     1200                  3\n",
       "44      852                  2\n",
       "45     1852                  4\n",
       "46     1203                  3"
      ]
     },
     "execution_count": 61,
     "metadata": {},
     "output_type": "execute_result"
    }
   ],
   "source": [
    "raw_data_2[[\"tamanho\",\"numero_dormitorio\"]]"
   ]
  },
  {
   "cell_type": "markdown",
   "metadata": {},
   "source": [
    "### KNeighborsRegressor"
   ]
  },
  {
   "cell_type": "code",
   "execution_count": 62,
   "metadata": {},
   "outputs": [],
   "source": [
    "#knr"
   ]
  },
  {
   "cell_type": "code",
   "execution_count": 63,
   "metadata": {},
   "outputs": [],
   "source": [
    "param_grid = {'n_neighbors':[k for k in range(1,20)],'weights': ['uniform', 'distance']}\n",
    "random_regressao = RandomizedSearchCV(knr,param_grid,n_iter=15,n_jobs=-1,cv=cv, random_state = 1)\n",
    "train , test = train_test_split(raw_data_2, test_size = 0.3, random_state = 1,)"
   ]
  },
  {
   "cell_type": "code",
   "execution_count": 64,
   "metadata": {},
   "outputs": [
    {
     "data": {
      "text/plain": [
       "StandardScaler(copy=True, with_mean=True, with_std=True)"
      ]
     },
     "execution_count": 64,
     "metadata": {},
     "output_type": "execute_result"
    }
   ],
   "source": [
    "# ajustando o scaler no conjunto de treinamento\n",
    "X_train_scaled = train[[\"tamanho\",\"numero_dormitorio\"]]\n",
    "X_test_scaled  = test[[\"tamanho\",\"numero_dormitorio\"]]\n",
    "\n",
    "scaler.fit(X_train)"
   ]
  },
  {
   "cell_type": "code",
   "execution_count": 65,
   "metadata": {},
   "outputs": [],
   "source": [
    "X_train = scaler.transform(X_train_scaled)\n",
    "X_test = scaler.transform(X_test_scaled)"
   ]
  },
  {
   "cell_type": "code",
   "execution_count": 66,
   "metadata": {},
   "outputs": [],
   "source": [
    "y_train = train[\"preco\"]\n",
    "y_test = test[\"preco\"]"
   ]
  },
  {
   "cell_type": "code",
   "execution_count": 67,
   "metadata": {},
   "outputs": [
    {
     "data": {
      "text/plain": [
       "RandomizedSearchCV(cv=5, error_score=nan,\n",
       "                   estimator=KNeighborsRegressor(algorithm='auto', leaf_size=30,\n",
       "                                                 metric='minkowski',\n",
       "                                                 metric_params=None,\n",
       "                                                 n_jobs=None, n_neighbors=7,\n",
       "                                                 p=2, weights='uniform'),\n",
       "                   iid='deprecated', n_iter=15, n_jobs=-1,\n",
       "                   param_distributions={'n_neighbors': [1, 2, 3, 4, 5, 6, 7, 8,\n",
       "                                                        9, 10, 11, 12, 13, 14,\n",
       "                                                        15, 16, 17, 18, 19],\n",
       "                                        'weights': ['uniform', 'distance']},\n",
       "                   pre_dispatch='2*n_jobs', random_state=1, refit=True,\n",
       "                   return_train_score=False, scoring=None, verbose=0)"
      ]
     },
     "execution_count": 67,
     "metadata": {},
     "output_type": "execute_result"
    }
   ],
   "source": [
    "random_regressao.fit(X_train_scaled ,y_train)"
   ]
  },
  {
   "cell_type": "code",
   "execution_count": 68,
   "metadata": {},
   "outputs": [
    {
     "data": {
      "text/plain": [
       "KNeighborsRegressor(algorithm='auto', leaf_size=30, metric='minkowski',\n",
       "                    metric_params=None, n_jobs=None, n_neighbors=12, p=2,\n",
       "                    weights='uniform')"
      ]
     },
     "execution_count": 68,
     "metadata": {},
     "output_type": "execute_result"
    }
   ],
   "source": [
    "# Os melhores parâmetros são:\n",
    "random_regressao.best_estimator_"
   ]
  },
  {
   "cell_type": "markdown",
   "metadata": {},
   "source": [
    "### Algoritmo de indução de árvores de decisão - classe DecisionTreeRegressor"
   ]
  },
  {
   "cell_type": "code",
   "execution_count": 69,
   "metadata": {},
   "outputs": [],
   "source": [
    "tree_regressao = DecisionTreeRegressor()"
   ]
  },
  {
   "cell_type": "code",
   "execution_count": 70,
   "metadata": {},
   "outputs": [],
   "source": [
    "random_regressao = RandomizedSearchCV(tree_regressao, parameters,n_iter=15,n_jobs=-1,cv=cv,random_state=2)"
   ]
  },
  {
   "cell_type": "code",
   "execution_count": 71,
   "metadata": {},
   "outputs": [
    {
     "data": {
      "text/plain": [
       "RandomizedSearchCV(cv=5, error_score=nan,\n",
       "                   estimator=DecisionTreeRegressor(ccp_alpha=0.0,\n",
       "                                                   criterion='mse',\n",
       "                                                   max_depth=None,\n",
       "                                                   max_features=None,\n",
       "                                                   max_leaf_nodes=None,\n",
       "                                                   min_impurity_decrease=0.0,\n",
       "                                                   min_impurity_split=None,\n",
       "                                                   min_samples_leaf=1,\n",
       "                                                   min_samples_split=2,\n",
       "                                                   min_weight_fraction_leaf=0.0,\n",
       "                                                   presort='deprecated',\n",
       "                                                   random_state=None,\n",
       "                                                   splitter='best'),\n",
       "                   iid='deprecated', n_iter=15, n_jobs=-1,\n",
       "                   param_distributions={'criterion': ['mse', 'friedman_mse',\n",
       "                                                      'mae'],\n",
       "                                        'max_depth': [5, 10, None],\n",
       "                                        'max_features': ['auto', 'log2',\n",
       "                                                         'sqrt'],\n",
       "                                        'min_samples_split': [1, 2, 3],\n",
       "                                        'splitter': ['best', 'random']},\n",
       "                   pre_dispatch='2*n_jobs', random_state=2, refit=True,\n",
       "                   return_train_score=False, scoring=None, verbose=0)"
      ]
     },
     "execution_count": 71,
     "metadata": {},
     "output_type": "execute_result"
    }
   ],
   "source": [
    "random_regressao.fit(X_train ,y_train)"
   ]
  },
  {
   "cell_type": "code",
   "execution_count": 72,
   "metadata": {},
   "outputs": [
    {
     "data": {
      "text/plain": [
       "{'splitter': 'random',\n",
       " 'min_samples_split': 2,\n",
       " 'max_features': 'auto',\n",
       " 'max_depth': 5,\n",
       " 'criterion': 'mse'}"
      ]
     },
     "execution_count": 72,
     "metadata": {},
     "output_type": "execute_result"
    }
   ],
   "source": [
    "# Os melhores parâmetros são:\n",
    "random_regressao.best_params_"
   ]
  },
  {
   "cell_type": "markdown",
   "metadata": {},
   "source": [
    "# Aprendizado de classificadores"
   ]
  },
  {
   "cell_type": "code",
   "execution_count": 73,
   "metadata": {},
   "outputs": [
    {
     "data": {
      "text/html": [
       "<div>\n",
       "<style scoped>\n",
       "    .dataframe tbody tr th:only-of-type {\n",
       "        vertical-align: middle;\n",
       "    }\n",
       "\n",
       "    .dataframe tbody tr th {\n",
       "        vertical-align: top;\n",
       "    }\n",
       "\n",
       "    .dataframe thead th {\n",
       "        text-align: right;\n",
       "    }\n",
       "</style>\n",
       "<table border=\"1\" class=\"dataframe\">\n",
       "  <thead>\n",
       "    <tr style=\"text-align: right;\">\n",
       "      <th></th>\n",
       "      <th>0</th>\n",
       "      <th>1</th>\n",
       "      <th>2</th>\n",
       "    </tr>\n",
       "  </thead>\n",
       "  <tbody>\n",
       "    <tr>\n",
       "      <th>0</th>\n",
       "      <td>34.623660</td>\n",
       "      <td>78.024693</td>\n",
       "      <td>0</td>\n",
       "    </tr>\n",
       "    <tr>\n",
       "      <th>1</th>\n",
       "      <td>30.286711</td>\n",
       "      <td>43.894998</td>\n",
       "      <td>0</td>\n",
       "    </tr>\n",
       "    <tr>\n",
       "      <th>2</th>\n",
       "      <td>35.847409</td>\n",
       "      <td>72.902198</td>\n",
       "      <td>0</td>\n",
       "    </tr>\n",
       "    <tr>\n",
       "      <th>3</th>\n",
       "      <td>60.182599</td>\n",
       "      <td>86.308552</td>\n",
       "      <td>1</td>\n",
       "    </tr>\n",
       "    <tr>\n",
       "      <th>4</th>\n",
       "      <td>79.032736</td>\n",
       "      <td>75.344376</td>\n",
       "      <td>1</td>\n",
       "    </tr>\n",
       "  </tbody>\n",
       "</table>\n",
       "</div>"
      ],
      "text/plain": [
       "           0          1  2\n",
       "0  34.623660  78.024693  0\n",
       "1  30.286711  43.894998  0\n",
       "2  35.847409  72.902198  0\n",
       "3  60.182599  86.308552  1\n",
       "4  79.032736  75.344376  1"
      ]
     },
     "execution_count": 73,
     "metadata": {},
     "output_type": "execute_result"
    }
   ],
   "source": [
    "## importar dados\n",
    "filename = 'ex2data1.txt'\n",
    "\n",
    "# Carrergando dados sem cabeçalho\n",
    "raw_data_3 = pd.read_csv('../data/'+filename, header = None)\n",
    "raw_data_3.head() # leitura do dataset"
   ]
  },
  {
   "cell_type": "code",
   "execution_count": 74,
   "metadata": {},
   "outputs": [
    {
     "data": {
      "text/html": [
       "<div>\n",
       "<style scoped>\n",
       "    .dataframe tbody tr th:only-of-type {\n",
       "        vertical-align: middle;\n",
       "    }\n",
       "\n",
       "    .dataframe tbody tr th {\n",
       "        vertical-align: top;\n",
       "    }\n",
       "\n",
       "    .dataframe thead th {\n",
       "        text-align: right;\n",
       "    }\n",
       "</style>\n",
       "<table border=\"1\" class=\"dataframe\">\n",
       "  <thead>\n",
       "    <tr style=\"text-align: right;\">\n",
       "      <th></th>\n",
       "      <th>Prova 1</th>\n",
       "      <th>Prova 2</th>\n",
       "      <th>Aprovado</th>\n",
       "    </tr>\n",
       "  </thead>\n",
       "  <tbody>\n",
       "    <tr>\n",
       "      <th>0</th>\n",
       "      <td>34.623660</td>\n",
       "      <td>78.024693</td>\n",
       "      <td>0</td>\n",
       "    </tr>\n",
       "    <tr>\n",
       "      <th>1</th>\n",
       "      <td>30.286711</td>\n",
       "      <td>43.894998</td>\n",
       "      <td>0</td>\n",
       "    </tr>\n",
       "    <tr>\n",
       "      <th>2</th>\n",
       "      <td>35.847409</td>\n",
       "      <td>72.902198</td>\n",
       "      <td>0</td>\n",
       "    </tr>\n",
       "    <tr>\n",
       "      <th>3</th>\n",
       "      <td>60.182599</td>\n",
       "      <td>86.308552</td>\n",
       "      <td>1</td>\n",
       "    </tr>\n",
       "    <tr>\n",
       "      <th>4</th>\n",
       "      <td>79.032736</td>\n",
       "      <td>75.344376</td>\n",
       "      <td>1</td>\n",
       "    </tr>\n",
       "  </tbody>\n",
       "</table>\n",
       "</div>"
      ],
      "text/plain": [
       "     Prova 1    Prova 2  Aprovado\n",
       "0  34.623660  78.024693         0\n",
       "1  30.286711  43.894998         0\n",
       "2  35.847409  72.902198         0\n",
       "3  60.182599  86.308552         1\n",
       "4  79.032736  75.344376         1"
      ]
     },
     "execution_count": 74,
     "metadata": {},
     "output_type": "execute_result"
    }
   ],
   "source": [
    "raw_data_3.columns = ['Prova 1', 'Prova 2', 'Aprovado']\n",
    "raw_data_3.head()"
   ]
  },
  {
   "cell_type": "markdown",
   "metadata": {},
   "source": [
    "## Visualização dos dados"
   ]
  },
  {
   "cell_type": "code",
   "execution_count": 75,
   "metadata": {},
   "outputs": [
    {
     "data": {
      "image/png": "[encoded data removed]",
      "text/plain": [
       "<Figure size 864x576 with 1 Axes>"
      ]
     },
     "metadata": {
      "needs_background": "light"
     },
     "output_type": "display_data"
    }
   ],
   "source": [
    "# gerando o grafico de dispersao para analise preliminar dos dados\n",
    "# variáveis do gráfico\n",
    "titulo = 'Dispersão das notas de Prova 1 e Prova 2'\n",
    "eixo_x = 'Prova 1'\n",
    "eixo_y = 'Prova 2'\n",
    "image = path_image+'plot2.1.png'\n",
    "\n",
    "positivo = raw_data_3[raw_data_3['Aprovado'].isin([1])]\n",
    "negativo = raw_data_3[raw_data_3['Aprovado'].isin([0])]\n",
    "\n",
    "#gráfico\n",
    "fig, ax = plt.subplots(figsize=(12,8))\n",
    "ax.scatter(positivo['Prova 1'], positivo['Prova 2'], s=50, c='k', marker='+', label='Aprovado', alpha=0.6)\n",
    "ax.scatter(negativo['Prova 1'], negativo['Prova 2'], s=50, c='y', marker='o', label='Não Aprovado', alpha=0.6)\n",
    "\n",
    "#legendas\n",
    "ax.legend(title='Legenda', loc=4, fontsize=9)\n",
    "ax.set_title(titulo, fontsize=15) \n",
    "ax.set_xlabel(eixo_x, fontsize=9)\n",
    "ax.set_ylabel(eixo_y, fontsize=9)\n",
    "#ax.set_xlim(50,50)\n",
    "\n",
    "#salvar imagens\n",
    "plt.savefig(image, dpi=300)\n",
    "#plt.tight_layout()\n",
    "plt.show()"
   ]
  },
  {
   "cell_type": "markdown",
   "metadata": {},
   "source": [
    "## Ajustar Modelos"
   ]
  },
  {
   "cell_type": "code",
   "execution_count": 76,
   "metadata": {},
   "outputs": [],
   "source": [
    "from sklearn.naive_bayes import GaussianNB\n",
    "from sklearn.linear_model import LogisticRegression\n",
    "from sklearn.neighbors import KNeighborsClassifier\n",
    "from sklearn.tree import DecisionTreeClassifier"
   ]
  },
  {
   "cell_type": "code",
   "execution_count": 77,
   "metadata": {},
   "outputs": [],
   "source": [
    "# CONVERTE DE DATAFRAME PARA ARRAY\n",
    "# cols - criado variável com o tamanho das colunas (dimensão) do dataframe\n",
    "# X recebe todos os elementos da primeira coluna (posição 0) \n",
    "# y recebe todos os elementos da segunda coluna (última posição)\n",
    "# m - número de amostras de treinamento\n",
    "# theta - inicia theta para rodar o gradiente\n",
    "# alpha = definir um valor inicial, geralmente é 0.01\n",
    "\n",
    "# A primeira coluna, preenchida com 1's, represenhta o theta0\n",
    "raw_data_3.insert(0, 'Ones', 1)\n",
    "\n",
    "# definir X (dados de treinamento) e y (variável de destino)\n",
    "cols = raw_data_3.shape[1]\n",
    "X = raw_data_3.iloc[:, 0:cols - 1]\n",
    "y = raw_data_3.iloc[:, cols - 1:cols]\n",
    "\n",
    "#X = raw_data.iloc[:, 0:2]\n",
    "#y = raw_data.iloc[:, 2] # esse transforma em inteiro\n",
    "\n",
    "m = len(y)\n",
    "#theta = np.zeros([2,1])\n",
    "num_iters = 400 #epochs #epochs = 400\n",
    "alpha = 0.15\n",
    "\n",
    "# Inclusão de mais um elemento de valor 1 na variável X, ou seja, aumento do axis para conter dois elementos\n",
    "# O primeiro elemento será o theta0 referenciado pelo shape (posição) zero\n",
    "# O segundo elemento é o próprio X \"população\" já existente\n",
    "#X = np.c_[np.ones((X.shape[0],1)), X] # essa linha geralmente é executada linhas abaixo\n",
    "\n",
    "# Converter em matrizes numpy e inicializar a matriz de parâmetros theta\n",
    "X = np.array(X.values)\n",
    "y = np.array(y.values)\n",
    "theta = np.zeros(3)"
   ]
  },
  {
   "cell_type": "code",
   "execution_count": 78,
   "metadata": {},
   "outputs": [
    {
     "data": {
      "text/html": [
       "<div>\n",
       "<style scoped>\n",
       "    .dataframe tbody tr th:only-of-type {\n",
       "        vertical-align: middle;\n",
       "    }\n",
       "\n",
       "    .dataframe tbody tr th {\n",
       "        vertical-align: top;\n",
       "    }\n",
       "\n",
       "    .dataframe thead th {\n",
       "        text-align: right;\n",
       "    }\n",
       "</style>\n",
       "<table border=\"1\" class=\"dataframe\">\n",
       "  <thead>\n",
       "    <tr style=\"text-align: right;\">\n",
       "      <th></th>\n",
       "      <th>Ones</th>\n",
       "      <th>Prova 1</th>\n",
       "      <th>Prova 2</th>\n",
       "      <th>Aprovado</th>\n",
       "    </tr>\n",
       "  </thead>\n",
       "  <tbody>\n",
       "    <tr>\n",
       "      <th>0</th>\n",
       "      <td>1</td>\n",
       "      <td>34.623660</td>\n",
       "      <td>78.024693</td>\n",
       "      <td>0</td>\n",
       "    </tr>\n",
       "    <tr>\n",
       "      <th>1</th>\n",
       "      <td>1</td>\n",
       "      <td>30.286711</td>\n",
       "      <td>43.894998</td>\n",
       "      <td>0</td>\n",
       "    </tr>\n",
       "    <tr>\n",
       "      <th>2</th>\n",
       "      <td>1</td>\n",
       "      <td>35.847409</td>\n",
       "      <td>72.902198</td>\n",
       "      <td>0</td>\n",
       "    </tr>\n",
       "    <tr>\n",
       "      <th>3</th>\n",
       "      <td>1</td>\n",
       "      <td>60.182599</td>\n",
       "      <td>86.308552</td>\n",
       "      <td>1</td>\n",
       "    </tr>\n",
       "    <tr>\n",
       "      <th>4</th>\n",
       "      <td>1</td>\n",
       "      <td>79.032736</td>\n",
       "      <td>75.344376</td>\n",
       "      <td>1</td>\n",
       "    </tr>\n",
       "    <tr>\n",
       "      <th>...</th>\n",
       "      <td>...</td>\n",
       "      <td>...</td>\n",
       "      <td>...</td>\n",
       "      <td>...</td>\n",
       "    </tr>\n",
       "    <tr>\n",
       "      <th>95</th>\n",
       "      <td>1</td>\n",
       "      <td>83.489163</td>\n",
       "      <td>48.380286</td>\n",
       "      <td>1</td>\n",
       "    </tr>\n",
       "    <tr>\n",
       "      <th>96</th>\n",
       "      <td>1</td>\n",
       "      <td>42.261701</td>\n",
       "      <td>87.103851</td>\n",
       "      <td>1</td>\n",
       "    </tr>\n",
       "    <tr>\n",
       "      <th>97</th>\n",
       "      <td>1</td>\n",
       "      <td>99.315009</td>\n",
       "      <td>68.775409</td>\n",
       "      <td>1</td>\n",
       "    </tr>\n",
       "    <tr>\n",
       "      <th>98</th>\n",
       "      <td>1</td>\n",
       "      <td>55.340018</td>\n",
       "      <td>64.931938</td>\n",
       "      <td>1</td>\n",
       "    </tr>\n",
       "    <tr>\n",
       "      <th>99</th>\n",
       "      <td>1</td>\n",
       "      <td>74.775893</td>\n",
       "      <td>89.529813</td>\n",
       "      <td>1</td>\n",
       "    </tr>\n",
       "  </tbody>\n",
       "</table>\n",
       "<p>100 rows × 4 columns</p>\n",
       "</div>"
      ],
      "text/plain": [
       "    Ones    Prova 1    Prova 2  Aprovado\n",
       "0      1  34.623660  78.024693         0\n",
       "1      1  30.286711  43.894998         0\n",
       "2      1  35.847409  72.902198         0\n",
       "3      1  60.182599  86.308552         1\n",
       "4      1  79.032736  75.344376         1\n",
       "..   ...        ...        ...       ...\n",
       "95     1  83.489163  48.380286         1\n",
       "96     1  42.261701  87.103851         1\n",
       "97     1  99.315009  68.775409         1\n",
       "98     1  55.340018  64.931938         1\n",
       "99     1  74.775893  89.529813         1\n",
       "\n",
       "[100 rows x 4 columns]"
      ]
     },
     "execution_count": 78,
     "metadata": {},
     "output_type": "execute_result"
    }
   ],
   "source": [
    "raw_data_3"
   ]
  },
  {
   "cell_type": "markdown",
   "metadata": {},
   "source": [
    "### Modelo GaussianNB"
   ]
  },
  {
   "cell_type": "code",
   "execution_count": 79,
   "metadata": {},
   "outputs": [],
   "source": [
    "# Criar um classificador Gaussiano\n",
    "modelo_Gaussian = GaussianNB()"
   ]
  },
  {
   "cell_type": "code",
   "execution_count": 80,
   "metadata": {},
   "outputs": [
    {
     "data": {
      "text/plain": [
       "GaussianNB(priors=None, var_smoothing=1e-09)"
      ]
     },
     "execution_count": 80,
     "metadata": {},
     "output_type": "execute_result"
    }
   ],
   "source": [
    "# Treinando o modelo\n",
    "modelo_Gaussian.fit(X,y.ravel()) "
   ]
  },
  {
   "cell_type": "code",
   "execution_count": 81,
   "metadata": {},
   "outputs": [
    {
     "name": "stdout",
     "output_type": "stream",
     "text": [
      "O valor previsto foi: [0]\n"
     ]
    }
   ],
   "source": [
    "#Predizendo a saída\n",
    "predicted= modelo_Gaussian.predict([[1,35,77]])\n",
    "print(f\"O valor previsto foi: {predicted}\")"
   ]
  },
  {
   "cell_type": "markdown",
   "metadata": {},
   "source": [
    "### Modelo LogisticRegression"
   ]
  },
  {
   "cell_type": "code",
   "execution_count": 82,
   "metadata": {},
   "outputs": [],
   "source": [
    "modelo_log = LogisticRegression()"
   ]
  },
  {
   "cell_type": "code",
   "execution_count": 83,
   "metadata": {},
   "outputs": [
    {
     "data": {
      "text/plain": [
       "LogisticRegression(C=1.0, class_weight=None, dual=False, fit_intercept=True,\n",
       "                   intercept_scaling=1, l1_ratio=None, max_iter=100,\n",
       "                   multi_class='auto', n_jobs=None, penalty='l2',\n",
       "                   random_state=None, solver='lbfgs', tol=0.0001, verbose=0,\n",
       "                   warm_start=False)"
      ]
     },
     "execution_count": 83,
     "metadata": {},
     "output_type": "execute_result"
    }
   ],
   "source": [
    "# Treinando o modelo\n",
    "modelo_log.fit(X,y.ravel())"
   ]
  },
  {
   "cell_type": "code",
   "execution_count": 84,
   "metadata": {},
   "outputs": [
    {
     "name": "stdout",
     "output_type": "stream",
     "text": [
      "O valor previsto foi: [0]\n"
     ]
    }
   ],
   "source": [
    "#Predizendo a saída\n",
    "predicted= modelo_log.predict([[1,35,77]])\n",
    "print(f\"O valor previsto foi: {predicted}\")"
   ]
  },
  {
   "cell_type": "markdown",
   "metadata": {},
   "source": [
    "### Modelo KNeighborsClassifier"
   ]
  },
  {
   "cell_type": "code",
   "execution_count": 85,
   "metadata": {},
   "outputs": [],
   "source": [
    "modelo_knn = KNeighborsClassifier()"
   ]
  },
  {
   "cell_type": "code",
   "execution_count": 86,
   "metadata": {},
   "outputs": [
    {
     "data": {
      "text/plain": [
       "KNeighborsClassifier(algorithm='auto', leaf_size=30, metric='minkowski',\n",
       "                     metric_params=None, n_jobs=None, n_neighbors=5, p=2,\n",
       "                     weights='uniform')"
      ]
     },
     "execution_count": 86,
     "metadata": {},
     "output_type": "execute_result"
    }
   ],
   "source": [
    "# Treinando o modelo\n",
    "modelo_knn.fit(X,y.ravel())"
   ]
  },
  {
   "cell_type": "code",
   "execution_count": 87,
   "metadata": {},
   "outputs": [
    {
     "name": "stdout",
     "output_type": "stream",
     "text": [
      "O valor previsto foi: [0]\n"
     ]
    }
   ],
   "source": [
    "#Predizendo a saída\n",
    "predicted= modelo_knn.predict([[1,35,77]])\n",
    "print(f\"O valor previsto foi: {predicted}\")"
   ]
  },
  {
   "cell_type": "markdown",
   "metadata": {},
   "source": [
    "### Modelo DecisionTreeClassifier"
   ]
  },
  {
   "cell_type": "code",
   "execution_count": 88,
   "metadata": {},
   "outputs": [],
   "source": [
    "modelo_tree = DecisionTreeClassifier()"
   ]
  },
  {
   "cell_type": "code",
   "execution_count": 89,
   "metadata": {},
   "outputs": [
    {
     "data": {
      "text/plain": [
       "DecisionTreeClassifier(ccp_alpha=0.0, class_weight=None, criterion='gini',\n",
       "                       max_depth=None, max_features=None, max_leaf_nodes=None,\n",
       "                       min_impurity_decrease=0.0, min_impurity_split=None,\n",
       "                       min_samples_leaf=1, min_samples_split=2,\n",
       "                       min_weight_fraction_leaf=0.0, presort='deprecated',\n",
       "                       random_state=None, splitter='best')"
      ]
     },
     "execution_count": 89,
     "metadata": {},
     "output_type": "execute_result"
    }
   ],
   "source": [
    "# Treinando o modelo\n",
    "modelo_tree.fit(X,y.ravel())"
   ]
  },
  {
   "cell_type": "code",
   "execution_count": 90,
   "metadata": {},
   "outputs": [
    {
     "data": {
      "text/plain": [
       "DecisionTreeClassifier(ccp_alpha=0.0, class_weight=None, criterion='gini',\n",
       "                       max_depth=None, max_features=None, max_leaf_nodes=None,\n",
       "                       min_impurity_decrease=0.0, min_impurity_split=None,\n",
       "                       min_samples_leaf=1, min_samples_split=2,\n",
       "                       min_weight_fraction_leaf=0.0, presort='deprecated',\n",
       "                       random_state=None, splitter='best')"
      ]
     },
     "execution_count": 90,
     "metadata": {},
     "output_type": "execute_result"
    }
   ],
   "source": [
    "# Treinando o modelo\n",
    "modelo_tree.fit(X,y.ravel())"
   ]
  },
  {
   "cell_type": "code",
   "execution_count": 91,
   "metadata": {},
   "outputs": [
    {
     "name": "stdout",
     "output_type": "stream",
     "text": [
      "O valor previsto foi: [0]\n"
     ]
    }
   ],
   "source": [
    "#Predizendo a saída\n",
    "predicted= modelo_tree.predict([[1,35,77]])\n",
    "print(f\"O valor previsto foi: {predicted}\")"
   ]
  },
  {
   "cell_type": "markdown",
   "metadata": {},
   "source": [
    "## Avaliação dos modelos"
   ]
  },
  {
   "cell_type": "code",
   "execution_count": 92,
   "metadata": {},
   "outputs": [],
   "source": [
    "from sklearn.metrics import accuracy_score, confusion_matrix, classification_report"
   ]
  },
  {
   "cell_type": "code",
   "execution_count": 93,
   "metadata": {},
   "outputs": [],
   "source": [
    "X_train, X_test, y_train, y_test = train_test_split(X,y, test_size = 0.2, random_state = 1,stratify=y)"
   ]
  },
  {
   "cell_type": "markdown",
   "metadata": {},
   "source": [
    "### GaussianNB"
   ]
  },
  {
   "cell_type": "code",
   "execution_count": 94,
   "metadata": {},
   "outputs": [
    {
     "data": {
      "text/plain": [
       "GaussianNB(priors=None, var_smoothing=1e-09)"
      ]
     },
     "execution_count": 94,
     "metadata": {},
     "output_type": "execute_result"
    }
   ],
   "source": [
    "modelo_Gaussian.fit(X_train,y_train.ravel())"
   ]
  },
  {
   "cell_type": "code",
   "execution_count": 95,
   "metadata": {},
   "outputs": [],
   "source": [
    "y_pred = modelo_Gaussian.predict(X_test)"
   ]
  },
  {
   "cell_type": "code",
   "execution_count": 96,
   "metadata": {},
   "outputs": [
    {
     "name": "stdout",
     "output_type": "stream",
     "text": [
      "A acurácia em teste foi de:  0.95\n"
     ]
    }
   ],
   "source": [
    "print(f\"A acurácia em teste foi de:  {accuracy_score(y_test, y_pred):.2f}\")"
   ]
  },
  {
   "cell_type": "code",
   "execution_count": 97,
   "metadata": {},
   "outputs": [
    {
     "name": "stdout",
     "output_type": "stream",
     "text": [
      "A matriz de confusão: \n",
      "\n",
      "[[ 7  1]\n",
      " [ 0 12]]\n"
     ]
    }
   ],
   "source": [
    "print(f\"A matriz de confusão: \\n\\n{confusion_matrix(y_test, y_pred)}\")"
   ]
  },
  {
   "cell_type": "code",
   "execution_count": 98,
   "metadata": {},
   "outputs": [
    {
     "name": "stdout",
     "output_type": "stream",
     "text": [
      "A classificação: \n",
      "\n",
      "              precision    recall  f1-score   support\n",
      "\n",
      "           0       1.00      0.88      0.93         8\n",
      "           1       0.92      1.00      0.96        12\n",
      "\n",
      "    accuracy                           0.95        20\n",
      "   macro avg       0.96      0.94      0.95        20\n",
      "weighted avg       0.95      0.95      0.95        20\n",
      "\n"
     ]
    }
   ],
   "source": [
    "print(f\"A classificação: \\n\\n{classification_report(y_test, y_pred)}\")"
   ]
  },
  {
   "cell_type": "markdown",
   "metadata": {},
   "source": [
    "### LogisticRegression"
   ]
  },
  {
   "cell_type": "code",
   "execution_count": 99,
   "metadata": {},
   "outputs": [
    {
     "data": {
      "text/plain": [
       "LogisticRegression(C=1.0, class_weight=None, dual=False, fit_intercept=True,\n",
       "                   intercept_scaling=1, l1_ratio=None, max_iter=100,\n",
       "                   multi_class='auto', n_jobs=None, penalty='l2',\n",
       "                   random_state=None, solver='lbfgs', tol=0.0001, verbose=0,\n",
       "                   warm_start=False)"
      ]
     },
     "execution_count": 99,
     "metadata": {},
     "output_type": "execute_result"
    }
   ],
   "source": [
    "modelo_log.fit(X_train,y_train.ravel())"
   ]
  },
  {
   "cell_type": "code",
   "execution_count": 100,
   "metadata": {},
   "outputs": [],
   "source": [
    "y_pred = modelo_log.predict(X_test)"
   ]
  },
  {
   "cell_type": "code",
   "execution_count": 101,
   "metadata": {},
   "outputs": [
    {
     "name": "stdout",
     "output_type": "stream",
     "text": [
      "A acurácia em teste foi de:  0.90\n"
     ]
    }
   ],
   "source": [
    "print(f\"A acurácia em teste foi de:  {accuracy_score(y_test, y_pred):.2f}\")"
   ]
  },
  {
   "cell_type": "code",
   "execution_count": 102,
   "metadata": {},
   "outputs": [
    {
     "name": "stdout",
     "output_type": "stream",
     "text": [
      "A matriz de confusão: \n",
      "\n",
      "[[ 7  1]\n",
      " [ 1 11]]\n"
     ]
    }
   ],
   "source": [
    "print(f\"A matriz de confusão: \\n\\n{confusion_matrix(y_test, y_pred)}\")"
   ]
  },
  {
   "cell_type": "code",
   "execution_count": 103,
   "metadata": {},
   "outputs": [
    {
     "name": "stdout",
     "output_type": "stream",
     "text": [
      "A classificação: \n",
      "\n",
      "              precision    recall  f1-score   support\n",
      "\n",
      "           0       0.88      0.88      0.88         8\n",
      "           1       0.92      0.92      0.92        12\n",
      "\n",
      "    accuracy                           0.90        20\n",
      "   macro avg       0.90      0.90      0.90        20\n",
      "weighted avg       0.90      0.90      0.90        20\n",
      "\n"
     ]
    }
   ],
   "source": [
    "print(f\"A classificação: \\n\\n{classification_report(y_test, y_pred)}\")"
   ]
  },
  {
   "cell_type": "markdown",
   "metadata": {},
   "source": [
    "### KNeighborsClassifier"
   ]
  },
  {
   "cell_type": "code",
   "execution_count": 104,
   "metadata": {},
   "outputs": [
    {
     "data": {
      "text/plain": [
       "KNeighborsClassifier(algorithm='auto', leaf_size=30, metric='minkowski',\n",
       "                     metric_params=None, n_jobs=None, n_neighbors=5, p=2,\n",
       "                     weights='uniform')"
      ]
     },
     "execution_count": 104,
     "metadata": {},
     "output_type": "execute_result"
    }
   ],
   "source": [
    "modelo_knn.fit(X_train,y_train.ravel())"
   ]
  },
  {
   "cell_type": "code",
   "execution_count": 105,
   "metadata": {},
   "outputs": [],
   "source": [
    "y_pred = modelo_knn.predict(X_test)"
   ]
  },
  {
   "cell_type": "code",
   "execution_count": 106,
   "metadata": {},
   "outputs": [
    {
     "name": "stdout",
     "output_type": "stream",
     "text": [
      "A acurácia em teste foi de:  0.90\n"
     ]
    }
   ],
   "source": [
    "print(f\"A acurácia em teste foi de:  {accuracy_score(y_test, y_pred):.2f}\")"
   ]
  },
  {
   "cell_type": "code",
   "execution_count": 107,
   "metadata": {},
   "outputs": [
    {
     "name": "stdout",
     "output_type": "stream",
     "text": [
      "A matriz de confusão: \n",
      "\n",
      "[[ 7  1]\n",
      " [ 1 11]]\n"
     ]
    }
   ],
   "source": [
    "print(f\"A matriz de confusão: \\n\\n{confusion_matrix(y_test, y_pred)}\")"
   ]
  },
  {
   "cell_type": "code",
   "execution_count": 108,
   "metadata": {},
   "outputs": [
    {
     "name": "stdout",
     "output_type": "stream",
     "text": [
      "A classificação: \n",
      "\n",
      "              precision    recall  f1-score   support\n",
      "\n",
      "           0       0.88      0.88      0.88         8\n",
      "           1       0.92      0.92      0.92        12\n",
      "\n",
      "    accuracy                           0.90        20\n",
      "   macro avg       0.90      0.90      0.90        20\n",
      "weighted avg       0.90      0.90      0.90        20\n",
      "\n"
     ]
    }
   ],
   "source": [
    "print(f\"A classificação: \\n\\n{classification_report(y_test, y_pred)}\")"
   ]
  },
  {
   "cell_type": "markdown",
   "metadata": {},
   "source": [
    "### Decision Tree"
   ]
  },
  {
   "cell_type": "code",
   "execution_count": 109,
   "metadata": {},
   "outputs": [
    {
     "data": {
      "text/plain": [
       "DecisionTreeClassifier(ccp_alpha=0.0, class_weight=None, criterion='gini',\n",
       "                       max_depth=None, max_features=None, max_leaf_nodes=None,\n",
       "                       min_impurity_decrease=0.0, min_impurity_split=None,\n",
       "                       min_samples_leaf=1, min_samples_split=2,\n",
       "                       min_weight_fraction_leaf=0.0, presort='deprecated',\n",
       "                       random_state=None, splitter='best')"
      ]
     },
     "execution_count": 109,
     "metadata": {},
     "output_type": "execute_result"
    }
   ],
   "source": [
    "modelo_tree.fit(X_train,y_train.ravel())"
   ]
  },
  {
   "cell_type": "code",
   "execution_count": 110,
   "metadata": {},
   "outputs": [],
   "source": [
    "y_pred = modelo_tree.predict(X_test)"
   ]
  },
  {
   "cell_type": "code",
   "execution_count": 111,
   "metadata": {},
   "outputs": [
    {
     "name": "stdout",
     "output_type": "stream",
     "text": [
      "A acurácia em teste foi de:  0.90\n"
     ]
    }
   ],
   "source": [
    "print(f\"A acurácia em teste foi de:  {accuracy_score(y_test, y_pred):.2f}\")"
   ]
  },
  {
   "cell_type": "code",
   "execution_count": 112,
   "metadata": {},
   "outputs": [
    {
     "name": "stdout",
     "output_type": "stream",
     "text": [
      "A matriz de confusão: \n",
      "\n",
      "[[ 6  2]\n",
      " [ 0 12]]\n"
     ]
    }
   ],
   "source": [
    "print(f\"A matriz de confusão: \\n\\n{confusion_matrix(y_test, y_pred)}\")"
   ]
  },
  {
   "cell_type": "code",
   "execution_count": 113,
   "metadata": {},
   "outputs": [
    {
     "name": "stdout",
     "output_type": "stream",
     "text": [
      "A classificação: \n",
      "\n",
      "              precision    recall  f1-score   support\n",
      "\n",
      "           0       1.00      0.75      0.86         8\n",
      "           1       0.86      1.00      0.92        12\n",
      "\n",
      "    accuracy                           0.90        20\n",
      "   macro avg       0.93      0.88      0.89        20\n",
      "weighted avg       0.91      0.90      0.90        20\n",
      "\n"
     ]
    }
   ],
   "source": [
    "print(f\"A classificação: \\n\\n{classification_report(y_test, y_pred)}\")"
   ]
  },
  {
   "cell_type": "markdown",
   "metadata": {},
   "source": [
    "## Mapeamento de características (feature mapping)"
   ]
  },
  {
   "cell_type": "code",
   "execution_count": 114,
   "metadata": {},
   "outputs": [],
   "source": [
    "from sklearn.preprocessing import PolynomialFeatures"
   ]
  },
  {
   "cell_type": "code",
   "execution_count": 115,
   "metadata": {},
   "outputs": [
    {
     "data": {
      "text/plain": [
       "array([[ 0.051267 ,  0.69956  ,  1.       ],\n",
       "       [-0.092742 ,  0.68494  ,  1.       ],\n",
       "       [-0.21371  ,  0.69225  ,  1.       ],\n",
       "       [-0.375    ,  0.50219  ,  1.       ],\n",
       "       [-0.51325  ,  0.46564  ,  1.       ],\n",
       "       [-0.52477  ,  0.2098   ,  1.       ],\n",
       "       [-0.39804  ,  0.034357 ,  1.       ],\n",
       "       [-0.30588  , -0.19225  ,  1.       ],\n",
       "       [ 0.016705 , -0.40424  ,  1.       ],\n",
       "       [ 0.13191  , -0.51389  ,  1.       ],\n",
       "       [ 0.38537  , -0.56506  ,  1.       ],\n",
       "       [ 0.52938  , -0.5212   ,  1.       ],\n",
       "       [ 0.63882  , -0.24342  ,  1.       ],\n",
       "       [ 0.73675  , -0.18494  ,  1.       ],\n",
       "       [ 0.54666  ,  0.48757  ,  1.       ],\n",
       "       [ 0.322    ,  0.5826   ,  1.       ],\n",
       "       [ 0.16647  ,  0.53874  ,  1.       ],\n",
       "       [-0.046659 ,  0.81652  ,  1.       ],\n",
       "       [-0.17339  ,  0.69956  ,  1.       ],\n",
       "       [-0.47869  ,  0.63377  ,  1.       ],\n",
       "       [-0.60541  ,  0.59722  ,  1.       ],\n",
       "       [-0.62846  ,  0.33406  ,  1.       ],\n",
       "       [-0.59389  ,  0.005117 ,  1.       ],\n",
       "       [-0.42108  , -0.27266  ,  1.       ],\n",
       "       [-0.11578  , -0.39693  ,  1.       ],\n",
       "       [ 0.20104  , -0.60161  ,  1.       ],\n",
       "       [ 0.46601  , -0.53582  ,  1.       ],\n",
       "       [ 0.67339  , -0.53582  ,  1.       ],\n",
       "       [-0.13882  ,  0.54605  ,  1.       ],\n",
       "       [-0.29435  ,  0.77997  ,  1.       ],\n",
       "       [-0.26555  ,  0.96272  ,  1.       ],\n",
       "       [-0.16187  ,  0.8019   ,  1.       ],\n",
       "       [-0.17339  ,  0.64839  ,  1.       ],\n",
       "       [-0.28283  ,  0.47295  ,  1.       ],\n",
       "       [-0.36348  ,  0.31213  ,  1.       ],\n",
       "       [-0.30012  ,  0.027047 ,  1.       ],\n",
       "       [-0.23675  , -0.21418  ,  1.       ],\n",
       "       [-0.06394  , -0.18494  ,  1.       ],\n",
       "       [ 0.062788 , -0.16301  ,  1.       ],\n",
       "       [ 0.22984  , -0.41155  ,  1.       ],\n",
       "       [ 0.2932   , -0.2288   ,  1.       ],\n",
       "       [ 0.48329  , -0.18494  ,  1.       ],\n",
       "       [ 0.64459  , -0.14108  ,  1.       ],\n",
       "       [ 0.46025  ,  0.012427 ,  1.       ],\n",
       "       [ 0.6273   ,  0.15863  ,  1.       ],\n",
       "       [ 0.57546  ,  0.26827  ,  1.       ],\n",
       "       [ 0.72523  ,  0.44371  ,  1.       ],\n",
       "       [ 0.22408  ,  0.52412  ,  1.       ],\n",
       "       [ 0.44297  ,  0.67032  ,  1.       ],\n",
       "       [ 0.322    ,  0.69225  ,  1.       ],\n",
       "       [ 0.13767  ,  0.57529  ,  1.       ],\n",
       "       [-0.0063364,  0.39985  ,  1.       ],\n",
       "       [-0.092742 ,  0.55336  ,  1.       ],\n",
       "       [-0.20795  ,  0.35599  ,  1.       ],\n",
       "       [-0.20795  ,  0.17325  ,  1.       ],\n",
       "       [-0.43836  ,  0.21711  ,  1.       ],\n",
       "       [-0.21947  , -0.016813 ,  1.       ],\n",
       "       [-0.13882  , -0.27266  ,  1.       ],\n",
       "       [ 0.18376  ,  0.93348  ,  0.       ],\n",
       "       [ 0.22408  ,  0.77997  ,  0.       ],\n",
       "       [ 0.29896  ,  0.61915  ,  0.       ],\n",
       "       [ 0.50634  ,  0.75804  ,  0.       ],\n",
       "       [ 0.61578  ,  0.7288   ,  0.       ],\n",
       "       [ 0.60426  ,  0.59722  ,  0.       ],\n",
       "       [ 0.76555  ,  0.50219  ,  0.       ],\n",
       "       [ 0.92684  ,  0.3633   ,  0.       ],\n",
       "       [ 0.82316  ,  0.27558  ,  0.       ],\n",
       "       [ 0.96141  ,  0.085526 ,  0.       ],\n",
       "       [ 0.93836  ,  0.012427 ,  0.       ],\n",
       "       [ 0.86348  , -0.082602 ,  0.       ],\n",
       "       [ 0.89804  , -0.20687  ,  0.       ],\n",
       "       [ 0.85196  , -0.36769  ,  0.       ],\n",
       "       [ 0.82892  , -0.5212   ,  0.       ],\n",
       "       [ 0.79435  , -0.55775  ,  0.       ],\n",
       "       [ 0.59274  , -0.7405   ,  0.       ],\n",
       "       [ 0.51786  , -0.5943   ,  0.       ],\n",
       "       [ 0.46601  , -0.41886  ,  0.       ],\n",
       "       [ 0.35081  , -0.57968  ,  0.       ],\n",
       "       [ 0.28744  , -0.76974  ,  0.       ],\n",
       "       [ 0.085829 , -0.75512  ,  0.       ],\n",
       "       [ 0.14919  , -0.57968  ,  0.       ],\n",
       "       [-0.13306  , -0.4481   ,  0.       ],\n",
       "       [-0.40956  , -0.41155  ,  0.       ],\n",
       "       [-0.39228  , -0.25804  ,  0.       ],\n",
       "       [-0.74366  , -0.25804  ,  0.       ],\n",
       "       [-0.69758  ,  0.041667 ,  0.       ],\n",
       "       [-0.75518  ,  0.2902   ,  0.       ],\n",
       "       [-0.69758  ,  0.68494  ,  0.       ],\n",
       "       [-0.4038   ,  0.70687  ,  0.       ],\n",
       "       [-0.38076  ,  0.91886  ,  0.       ],\n",
       "       [-0.50749  ,  0.90424  ,  0.       ],\n",
       "       [-0.54781  ,  0.70687  ,  0.       ],\n",
       "       [ 0.10311  ,  0.77997  ,  0.       ],\n",
       "       [ 0.057028 ,  0.91886  ,  0.       ],\n",
       "       [-0.10426  ,  0.99196  ,  0.       ],\n",
       "       [-0.081221 ,  1.1089   ,  0.       ],\n",
       "       [ 0.28744  ,  1.087    ,  0.       ],\n",
       "       [ 0.39689  ,  0.82383  ,  0.       ],\n",
       "       [ 0.63882  ,  0.88962  ,  0.       ],\n",
       "       [ 0.82316  ,  0.66301  ,  0.       ],\n",
       "       [ 0.67339  ,  0.64108  ,  0.       ],\n",
       "       [ 1.0709   ,  0.10015  ,  0.       ],\n",
       "       [-0.046659 , -0.57968  ,  0.       ],\n",
       "       [-0.23675  , -0.63816  ,  0.       ],\n",
       "       [-0.15035  , -0.36769  ,  0.       ],\n",
       "       [-0.49021  , -0.3019   ,  0.       ],\n",
       "       [-0.46717  , -0.13377  ,  0.       ],\n",
       "       [-0.28859  , -0.060673 ,  0.       ],\n",
       "       [-0.61118  , -0.067982 ,  0.       ],\n",
       "       [-0.66302  , -0.21418  ,  0.       ],\n",
       "       [-0.59965  , -0.41886  ,  0.       ],\n",
       "       [-0.72638  , -0.082602 ,  0.       ],\n",
       "       [-0.83007  ,  0.31213  ,  0.       ],\n",
       "       [-0.72062  ,  0.53874  ,  0.       ],\n",
       "       [-0.59389  ,  0.49488  ,  0.       ],\n",
       "       [-0.48445  ,  0.99927  ,  0.       ],\n",
       "       [-0.0063364,  0.99927  ,  0.       ],\n",
       "       [ 0.63265  , -0.030612 ,  0.       ]])"
      ]
     },
     "execution_count": 115,
     "metadata": {},
     "output_type": "execute_result"
    }
   ],
   "source": [
    "## importar dados\n",
    "filename = 'ex2data2.txt'\n",
    "\n",
    "# Carrergando dados sem cabeçalho\n",
    "raw_data_4 = np.loadtxt('../data/'+filename,delimiter=',')\n",
    "raw_data_4 # leitura do dataset"
   ]
  },
  {
   "cell_type": "code",
   "execution_count": 116,
   "metadata": {},
   "outputs": [],
   "source": [
    "X = raw_data_4[:,:-1]\n",
    "y = raw_data_4[:,-1]"
   ]
  },
  {
   "cell_type": "code",
   "execution_count": 117,
   "metadata": {},
   "outputs": [],
   "source": [
    "#X"
   ]
  },
  {
   "cell_type": "code",
   "execution_count": 118,
   "metadata": {},
   "outputs": [
    {
     "data": {
      "text/plain": [
       "PolynomialFeatures(degree=6, include_bias=True, interaction_only=False,\n",
       "                   order='C')"
      ]
     },
     "execution_count": 118,
     "metadata": {},
     "output_type": "execute_result"
    }
   ],
   "source": [
    "poly = PolynomialFeatures(6)\n",
    "poly"
   ]
  },
  {
   "cell_type": "code",
   "execution_count": 119,
   "metadata": {},
   "outputs": [],
   "source": [
    "modelo_log = LogisticRegression()"
   ]
  },
  {
   "cell_type": "code",
   "execution_count": 120,
   "metadata": {},
   "outputs": [
    {
     "data": {
      "text/plain": [
       "array([[ 1.00000000e+00,  5.12670000e-02,  6.99560000e-01, ...,\n",
       "         6.29470940e-04,  8.58939846e-03,  1.17205992e-01],\n",
       "       [ 1.00000000e+00, -9.27420000e-02,  6.84940000e-01, ...,\n",
       "         1.89305413e-03, -1.39810280e-02,  1.03255971e-01],\n",
       "       [ 1.00000000e+00, -2.13710000e-01,  6.92250000e-01, ...,\n",
       "         1.04882142e-02, -3.39734512e-02,  1.10046893e-01],\n",
       "       ...,\n",
       "       [ 1.00000000e+00, -4.84450000e-01,  9.99270000e-01, ...,\n",
       "         2.34007252e-01, -4.82684337e-01,  9.95627986e-01],\n",
       "       [ 1.00000000e+00, -6.33640000e-03,  9.99270000e-01, ...,\n",
       "         4.00328554e-05, -6.31330588e-03,  9.95627986e-01],\n",
       "       [ 1.00000000e+00,  6.32650000e-01, -3.06120000e-02, ...,\n",
       "         3.51474517e-07, -1.70067777e-08,  8.22905998e-10]])"
      ]
     },
     "execution_count": 120,
     "metadata": {},
     "output_type": "execute_result"
    }
   ],
   "source": [
    "a_poly = poly.fit_transform(X)\n",
    "a_poly"
   ]
  },
  {
   "cell_type": "code",
   "execution_count": 121,
   "metadata": {},
   "outputs": [],
   "source": [
    "X_train, X_test, y_train, y_test = train_test_split(a_poly,y, test_size = 0.2, random_state = 1,stratify=y)"
   ]
  },
  {
   "cell_type": "code",
   "execution_count": 122,
   "metadata": {},
   "outputs": [
    {
     "data": {
      "text/plain": [
       "LogisticRegression(C=1.0, class_weight=None, dual=False, fit_intercept=True,\n",
       "                   intercept_scaling=1, l1_ratio=None, max_iter=100,\n",
       "                   multi_class='auto', n_jobs=None, penalty='l2',\n",
       "                   random_state=None, solver='lbfgs', tol=0.0001, verbose=0,\n",
       "                   warm_start=False)"
      ]
     },
     "execution_count": 122,
     "metadata": {},
     "output_type": "execute_result"
    }
   ],
   "source": [
    "modelo_log.fit(X_train,y_train)"
   ]
  },
  {
   "cell_type": "code",
   "execution_count": 123,
   "metadata": {},
   "outputs": [],
   "source": [
    "y_pred = modelo_log.predict(X_test)"
   ]
  },
  {
   "cell_type": "code",
   "execution_count": 124,
   "metadata": {},
   "outputs": [
    {
     "name": "stdout",
     "output_type": "stream",
     "text": [
      "A acurácia em teste foi de:  0.88\n"
     ]
    }
   ],
   "source": [
    "print(f\"A acurácia em teste foi de:  {accuracy_score(y_test, y_pred):.2f}\")"
   ]
  },
  {
   "cell_type": "code",
   "execution_count": 125,
   "metadata": {},
   "outputs": [
    {
     "name": "stdout",
     "output_type": "stream",
     "text": [
      "A classificação: \n",
      "\n",
      "              precision    recall  f1-score   support\n",
      "\n",
      "         0.0       0.85      0.92      0.88        12\n",
      "         1.0       0.91      0.83      0.87        12\n",
      "\n",
      "    accuracy                           0.88        24\n",
      "   macro avg       0.88      0.88      0.87        24\n",
      "weighted avg       0.88      0.88      0.87        24\n",
      "\n"
     ]
    }
   ],
   "source": [
    "print(f\"A classificação: \\n\\n{classification_report(y_test, y_pred)}\")"
   ]
  },
  {
   "cell_type": "markdown",
   "metadata": {},
   "source": [
    "## Esboço da Fronteira de Decisão"
   ]
  },
  {
   "cell_type": "code",
   "execution_count": 126,
   "metadata": {},
   "outputs": [
    {
     "data": {
      "text/plain": [
       "array([[ 0.051267 ,  0.69956  ,  1.       ],\n",
       "       [-0.092742 ,  0.68494  ,  1.       ],\n",
       "       [-0.21371  ,  0.69225  ,  1.       ],\n",
       "       [-0.375    ,  0.50219  ,  1.       ],\n",
       "       [-0.51325  ,  0.46564  ,  1.       ],\n",
       "       [-0.52477  ,  0.2098   ,  1.       ],\n",
       "       [-0.39804  ,  0.034357 ,  1.       ],\n",
       "       [-0.30588  , -0.19225  ,  1.       ],\n",
       "       [ 0.016705 , -0.40424  ,  1.       ],\n",
       "       [ 0.13191  , -0.51389  ,  1.       ],\n",
       "       [ 0.38537  , -0.56506  ,  1.       ],\n",
       "       [ 0.52938  , -0.5212   ,  1.       ],\n",
       "       [ 0.63882  , -0.24342  ,  1.       ],\n",
       "       [ 0.73675  , -0.18494  ,  1.       ],\n",
       "       [ 0.54666  ,  0.48757  ,  1.       ],\n",
       "       [ 0.322    ,  0.5826   ,  1.       ],\n",
       "       [ 0.16647  ,  0.53874  ,  1.       ],\n",
       "       [-0.046659 ,  0.81652  ,  1.       ],\n",
       "       [-0.17339  ,  0.69956  ,  1.       ],\n",
       "       [-0.47869  ,  0.63377  ,  1.       ],\n",
       "       [-0.60541  ,  0.59722  ,  1.       ],\n",
       "       [-0.62846  ,  0.33406  ,  1.       ],\n",
       "       [-0.59389  ,  0.005117 ,  1.       ],\n",
       "       [-0.42108  , -0.27266  ,  1.       ],\n",
       "       [-0.11578  , -0.39693  ,  1.       ],\n",
       "       [ 0.20104  , -0.60161  ,  1.       ],\n",
       "       [ 0.46601  , -0.53582  ,  1.       ],\n",
       "       [ 0.67339  , -0.53582  ,  1.       ],\n",
       "       [-0.13882  ,  0.54605  ,  1.       ],\n",
       "       [-0.29435  ,  0.77997  ,  1.       ],\n",
       "       [-0.26555  ,  0.96272  ,  1.       ],\n",
       "       [-0.16187  ,  0.8019   ,  1.       ],\n",
       "       [-0.17339  ,  0.64839  ,  1.       ],\n",
       "       [-0.28283  ,  0.47295  ,  1.       ],\n",
       "       [-0.36348  ,  0.31213  ,  1.       ],\n",
       "       [-0.30012  ,  0.027047 ,  1.       ],\n",
       "       [-0.23675  , -0.21418  ,  1.       ],\n",
       "       [-0.06394  , -0.18494  ,  1.       ],\n",
       "       [ 0.062788 , -0.16301  ,  1.       ],\n",
       "       [ 0.22984  , -0.41155  ,  1.       ],\n",
       "       [ 0.2932   , -0.2288   ,  1.       ],\n",
       "       [ 0.48329  , -0.18494  ,  1.       ],\n",
       "       [ 0.64459  , -0.14108  ,  1.       ],\n",
       "       [ 0.46025  ,  0.012427 ,  1.       ],\n",
       "       [ 0.6273   ,  0.15863  ,  1.       ],\n",
       "       [ 0.57546  ,  0.26827  ,  1.       ],\n",
       "       [ 0.72523  ,  0.44371  ,  1.       ],\n",
       "       [ 0.22408  ,  0.52412  ,  1.       ],\n",
       "       [ 0.44297  ,  0.67032  ,  1.       ],\n",
       "       [ 0.322    ,  0.69225  ,  1.       ],\n",
       "       [ 0.13767  ,  0.57529  ,  1.       ],\n",
       "       [-0.0063364,  0.39985  ,  1.       ],\n",
       "       [-0.092742 ,  0.55336  ,  1.       ],\n",
       "       [-0.20795  ,  0.35599  ,  1.       ],\n",
       "       [-0.20795  ,  0.17325  ,  1.       ],\n",
       "       [-0.43836  ,  0.21711  ,  1.       ],\n",
       "       [-0.21947  , -0.016813 ,  1.       ],\n",
       "       [-0.13882  , -0.27266  ,  1.       ],\n",
       "       [ 0.18376  ,  0.93348  ,  0.       ],\n",
       "       [ 0.22408  ,  0.77997  ,  0.       ],\n",
       "       [ 0.29896  ,  0.61915  ,  0.       ],\n",
       "       [ 0.50634  ,  0.75804  ,  0.       ],\n",
       "       [ 0.61578  ,  0.7288   ,  0.       ],\n",
       "       [ 0.60426  ,  0.59722  ,  0.       ],\n",
       "       [ 0.76555  ,  0.50219  ,  0.       ],\n",
       "       [ 0.92684  ,  0.3633   ,  0.       ],\n",
       "       [ 0.82316  ,  0.27558  ,  0.       ],\n",
       "       [ 0.96141  ,  0.085526 ,  0.       ],\n",
       "       [ 0.93836  ,  0.012427 ,  0.       ],\n",
       "       [ 0.86348  , -0.082602 ,  0.       ],\n",
       "       [ 0.89804  , -0.20687  ,  0.       ],\n",
       "       [ 0.85196  , -0.36769  ,  0.       ],\n",
       "       [ 0.82892  , -0.5212   ,  0.       ],\n",
       "       [ 0.79435  , -0.55775  ,  0.       ],\n",
       "       [ 0.59274  , -0.7405   ,  0.       ],\n",
       "       [ 0.51786  , -0.5943   ,  0.       ],\n",
       "       [ 0.46601  , -0.41886  ,  0.       ],\n",
       "       [ 0.35081  , -0.57968  ,  0.       ],\n",
       "       [ 0.28744  , -0.76974  ,  0.       ],\n",
       "       [ 0.085829 , -0.75512  ,  0.       ],\n",
       "       [ 0.14919  , -0.57968  ,  0.       ],\n",
       "       [-0.13306  , -0.4481   ,  0.       ],\n",
       "       [-0.40956  , -0.41155  ,  0.       ],\n",
       "       [-0.39228  , -0.25804  ,  0.       ],\n",
       "       [-0.74366  , -0.25804  ,  0.       ],\n",
       "       [-0.69758  ,  0.041667 ,  0.       ],\n",
       "       [-0.75518  ,  0.2902   ,  0.       ],\n",
       "       [-0.69758  ,  0.68494  ,  0.       ],\n",
       "       [-0.4038   ,  0.70687  ,  0.       ],\n",
       "       [-0.38076  ,  0.91886  ,  0.       ],\n",
       "       [-0.50749  ,  0.90424  ,  0.       ],\n",
       "       [-0.54781  ,  0.70687  ,  0.       ],\n",
       "       [ 0.10311  ,  0.77997  ,  0.       ],\n",
       "       [ 0.057028 ,  0.91886  ,  0.       ],\n",
       "       [-0.10426  ,  0.99196  ,  0.       ],\n",
       "       [-0.081221 ,  1.1089   ,  0.       ],\n",
       "       [ 0.28744  ,  1.087    ,  0.       ],\n",
       "       [ 0.39689  ,  0.82383  ,  0.       ],\n",
       "       [ 0.63882  ,  0.88962  ,  0.       ],\n",
       "       [ 0.82316  ,  0.66301  ,  0.       ],\n",
       "       [ 0.67339  ,  0.64108  ,  0.       ],\n",
       "       [ 1.0709   ,  0.10015  ,  0.       ],\n",
       "       [-0.046659 , -0.57968  ,  0.       ],\n",
       "       [-0.23675  , -0.63816  ,  0.       ],\n",
       "       [-0.15035  , -0.36769  ,  0.       ],\n",
       "       [-0.49021  , -0.3019   ,  0.       ],\n",
       "       [-0.46717  , -0.13377  ,  0.       ],\n",
       "       [-0.28859  , -0.060673 ,  0.       ],\n",
       "       [-0.61118  , -0.067982 ,  0.       ],\n",
       "       [-0.66302  , -0.21418  ,  0.       ],\n",
       "       [-0.59965  , -0.41886  ,  0.       ],\n",
       "       [-0.72638  , -0.082602 ,  0.       ],\n",
       "       [-0.83007  ,  0.31213  ,  0.       ],\n",
       "       [-0.72062  ,  0.53874  ,  0.       ],\n",
       "       [-0.59389  ,  0.49488  ,  0.       ],\n",
       "       [-0.48445  ,  0.99927  ,  0.       ],\n",
       "       [-0.0063364,  0.99927  ,  0.       ],\n",
       "       [ 0.63265  , -0.030612 ,  0.       ]])"
      ]
     },
     "execution_count": 126,
     "metadata": {},
     "output_type": "execute_result"
    }
   ],
   "source": [
    "raw_data_4"
   ]
  },
  {
   "cell_type": "code",
   "execution_count": 127,
   "metadata": {},
   "outputs": [],
   "source": [
    "from sklearn.pipeline import make_pipeline "
   ]
  },
  {
   "cell_type": "code",
   "execution_count": 128,
   "metadata": {},
   "outputs": [
    {
     "data": {
      "image/png": "[encoded data removed]",
      "text/plain": [
       "<Figure size 864x576 with 1 Axes>"
      ]
     },
     "metadata": {
      "needs_background": "light"
     },
     "output_type": "display_data"
    }
   ],
   "source": [
    "# variáveis do gráfico\n",
    "image = path_image+'plot2.1.png'\n",
    "\n",
    "eixo_x = 'Teste 1 do microship'\n",
    "eixo_y = 'Teste 2 do microship'\n",
    "\n",
    "fig, ax = plt.subplots(figsize=(12,8))\n",
    "ax.scatter(X[y==0,0],X[y==0,1],c='y',marker='o', label='y = 0', edgecolors='k')\n",
    "           \n",
    "ax.scatter(X[y==1,0],X[y==1,1],c='k',marker='+', label='y = 1')\n",
    "plt.xlabel('Teste 1 do microship')\n",
    "plt.ylabel('Teste 2 do microship')\n",
    "\n",
    "handles, labels = ax.get_legend_handles_labels()\n",
    "#ax.legend(handles, labels);\n",
    "\n",
    "clf = make_pipeline(PolynomialFeatures(6), LogisticRegression())\n",
    "clf.fit(X,y)\n",
    "x1 = np.linspace(-1,1.5,50)\n",
    "x2 = np.linspace(-1,1.5,50)\n",
    "XX1, XX2 = np.meshgrid(x1,x2)\n",
    "Z = clf.predict_proba(np.array([XX1.ravel(), XX2.ravel()]).T)[:,1]\n",
    "Z = Z.reshape(XX1.shape)\n",
    "CS = ax.contour(XX1, XX2, Z, levels=[0.5], colors='g', linewidths=1)\n",
    "artists = CS.legend_elements()\n",
    "handles.extend(artists[0])\n",
    "labels.extend(['Fronteira de Decisão'])\n",
    "\n",
    "#legendas\n",
    "ax.legend(handles[0:3],labels[0:3],loc=4, fontsize=9)\n",
    "#ax.legend(title='Legenda',loc=4, fontsize=9)\n",
    "ax.title.set_text(' - Lambda = 1 -a_poly ')\n",
    "\n",
    "#salvar imagens\n",
    "plt.savefig(image, dpi=300)\n",
    "plt.tight_layout() ## ver se é necessário\n",
    "plt.show()"
   ]
  },
  {
   "cell_type": "markdown",
   "metadata": {},
   "source": [
    "# Regularização"
   ]
  },
  {
   "cell_type": "code",
   "execution_count": 129,
   "metadata": {},
   "outputs": [],
   "source": [
    "from scipy.io import loadmat"
   ]
  },
  {
   "cell_type": "code",
   "execution_count": 130,
   "metadata": {},
   "outputs": [
    {
     "data": {
      "text/plain": [
       "{'__header__': b'MATLAB 5.0 MAT-file, Platform: GLNXA64, Created on: Fri Nov  4 22:27:26 2011',\n",
       " '__version__': '1.0',\n",
       " '__globals__': [],\n",
       " 'X': array([-15.93675813, -29.15297922,  36.18954863,  37.49218733,\n",
       "        -48.05882945,  -8.94145794,  15.30779289, -34.70626581,\n",
       "          1.38915437, -44.38375985,   7.01350208,  22.76274892]),\n",
       " 'y': array([ 2.13431051,  1.17325668, 34.35910918, 36.83795516,  2.80896507,\n",
       "         2.12107248, 14.71026831,  2.61418439,  3.74017167,  3.73169131,\n",
       "         7.62765885, 22.7524283 ]),\n",
       " 'Xtest': array([-33.31800399, -37.91216403, -51.20693795,  -6.13259585,\n",
       "         21.26118327, -40.31952949, -14.54153167,  32.55976024,\n",
       "         13.39343255,  44.20988595,  -1.14267768, -12.76686065,\n",
       "         34.05450539,  39.22350028,   1.97449674,  29.6217551 ,\n",
       "        -23.66962971,  -9.01180139, -55.94057091, -35.70859752,\n",
       "          9.51020533]),\n",
       " 'ytest': array([ 3.31688953,  5.39768952,  0.13042984,  6.1925982 , 17.08848712,\n",
       "         0.79950805,  2.82479183, 28.62123334, 17.04639081, 55.38437334,\n",
       "         4.07936733,  8.27039793, 31.32355102, 39.15906103,  8.08727989,\n",
       "        24.11134389,  2.4773548 ,  6.56606472,  6.0380888 ,  4.69273956,\n",
       "        10.83004606]),\n",
       " 'Xval': array([-16.74653578, -14.57747075,  34.51575866, -47.01007574,\n",
       "         36.97511905, -40.68611002,  -4.47201098,  26.53363489,\n",
       "        -42.7976831 ,  25.37409938, -31.10955398,  27.31176864,\n",
       "         -3.26386201,  -1.81827649, -40.7196624 , -50.01324365,\n",
       "        -17.41177155,   3.5881937 ,   7.08548026,  46.28236902,\n",
       "         14.61228909]),\n",
       " 'yval': array([ 4.17020201e+00,  4.06726280e+00,  3.18730676e+01,  1.06236562e+01,\n",
       "         3.18360213e+01,  4.95936972e+00,  4.45159880e+00,  2.22763185e+01,\n",
       "        -4.38738274e-05,  2.05038016e+01,  3.85834476e+00,  1.93650529e+01,\n",
       "         4.88376281e+00,  1.10971588e+01,  7.46170827e+00,  1.47693464e+00,\n",
       "         2.71916388e+00,  1.09269007e+01,  8.34871235e+00,  5.27819280e+01,\n",
       "         1.33573396e+01])}"
      ]
     },
     "execution_count": 130,
     "metadata": {},
     "output_type": "execute_result"
    }
   ],
   "source": [
    "## importar dados\n",
    "filename = 'ex5data1.mat'\n",
    "\n",
    "# Carrergando dados sem cabeçalho\n",
    "raw_data_5 = loadmat('../data/'+filename,squeeze_me=True)\n",
    "#np.loadtxt('../data/'+filename,delimiter=',')\n",
    "raw_data_5 # leitura do dataset"
   ]
  },
  {
   "cell_type": "code",
   "execution_count": null,
   "metadata": {},
   "outputs": [],
   "source": []
  },
  {
   "cell_type": "code",
   "execution_count": 131,
   "metadata": {},
   "outputs": [],
   "source": [
    "ytrain = raw_data_5['y']\n",
    "Xtrain = np.c_[np.ones_like(raw_data_5['X']), raw_data_5['X']]\n",
    "\n",
    "yval = raw_data_5['yval']\n",
    "Xval = np.c_[np.ones_like(raw_data_5['Xval']), raw_data_5['Xval']]"
   ]
  },
  {
   "cell_type": "code",
   "execution_count": 132,
   "metadata": {},
   "outputs": [
    {
     "name": "stdout",
     "output_type": "stream",
     "text": [
      "Xtrain: (12, 2)\n",
      "ytrain: (12,)\n",
      "Xval: (21, 2)\n",
      "yval: (21,)\n"
     ]
    }
   ],
   "source": [
    "print('Xtrain:', Xtrain.shape)\n",
    "print('ytrain:', ytrain.shape)\n",
    "print('Xval:', Xval.shape)\n",
    "print('yval:', yval.shape)"
   ]
  },
  {
   "cell_type": "code",
   "execution_count": 133,
   "metadata": {},
   "outputs": [],
   "source": [
    "Xtest = np.c_[np.ones_like(raw_data_5['Xtest']), raw_data_5['Xtest']]\n",
    "ytest = raw_data_5[\"ytest\"]"
   ]
  },
  {
   "cell_type": "markdown",
   "metadata": {},
   "source": [
    "## Visualização dos Dados"
   ]
  },
  {
   "cell_type": "code",
   "execution_count": 134,
   "metadata": {},
   "outputs": [
    {
     "data": {
      "image/png": "[encoded data removed]",
      "text/plain": [
       "<Figure size 864x576 with 1 Axes>"
      ]
     },
     "metadata": {
      "needs_background": "light"
     },
     "output_type": "display_data"
    }
   ],
   "source": [
    "# Dados do conjunto de treinamento\n",
    "\n",
    "#variáveis do gráfico\n",
    "#titulo = ''\n",
    "eixo_x = 'Change in water level (x)'\n",
    "eixo_y = 'Water flowing out of the dam (y)'\n",
    "image = path_image+'plot3.1.png'\n",
    "\n",
    "fig, ax = plt.subplots(figsize=(12,8))\n",
    "plt.scatter(Xtrain[:,1], ytrain, s=50, color='red', marker='x', linewidths=1, alpha=0.6) \n",
    "ax.set_xlabel(eixo_x, fontsize=9)\n",
    "ax.set_ylabel(eixo_y, fontsize=9)\n",
    "#plt.grid(True) \n",
    "plt.ylim(ymin=0, ymax = 40);\n",
    "\n",
    "#salvar imagens\n",
    "plt.savefig(image, dpi=300)\n",
    "plt.tight_layout() ## ver se é necessário\n",
    "plt.show()"
   ]
  },
  {
   "cell_type": "markdown",
   "metadata": {},
   "source": [
    "## Ajuste de um regressor linear"
   ]
  },
  {
   "cell_type": "code",
   "execution_count": 135,
   "metadata": {},
   "outputs": [],
   "source": [
    "from sklearn.linear_model import LinearRegression"
   ]
  },
  {
   "cell_type": "code",
   "execution_count": 136,
   "metadata": {},
   "outputs": [],
   "source": [
    "linear = LinearRegression()"
   ]
  },
  {
   "cell_type": "code",
   "execution_count": 137,
   "metadata": {},
   "outputs": [
    {
     "data": {
      "text/plain": [
       "LinearRegression(copy_X=True, fit_intercept=True, n_jobs=None, normalize=False)"
      ]
     },
     "execution_count": 137,
     "metadata": {},
     "output_type": "execute_result"
    }
   ],
   "source": [
    "linear.fit(Xtrain,ytrain)"
   ]
  },
  {
   "cell_type": "code",
   "execution_count": 138,
   "metadata": {},
   "outputs": [
    {
     "data": {
      "text/plain": [
       "0.6771806035144312"
      ]
     },
     "execution_count": 138,
     "metadata": {},
     "output_type": "execute_result"
    }
   ],
   "source": [
    "linear.score(Xtest,ytest)"
   ]
  },
  {
   "cell_type": "code",
   "execution_count": 139,
   "metadata": {},
   "outputs": [
    {
     "data": {
      "text/plain": [
       "array([0.        , 0.36777923])"
      ]
     },
     "execution_count": 139,
     "metadata": {},
     "output_type": "execute_result"
    }
   ],
   "source": [
    "linear.coef_"
   ]
  },
  {
   "cell_type": "code",
   "execution_count": 140,
   "metadata": {},
   "outputs": [
    {
     "data": {
      "text/plain": [
       "13.08790351086908"
      ]
     },
     "execution_count": 140,
     "metadata": {},
     "output_type": "execute_result"
    }
   ],
   "source": [
    "linear.intercept_"
   ]
  },
  {
   "cell_type": "code",
   "execution_count": 141,
   "metadata": {},
   "outputs": [],
   "source": [
    "# Plotando a linha de regressão:\n",
    "yhat = linear.intercept_ + linear.coef_ * Xtrain"
   ]
  },
  {
   "cell_type": "code",
   "execution_count": 142,
   "metadata": {},
   "outputs": [
    {
     "data": {
      "image/png": "[encoded data removed]",
      "text/plain": [
       "<Figure size 864x576 with 1 Axes>"
      ]
     },
     "metadata": {
      "needs_background": "light"
     },
     "output_type": "display_data"
    }
   ],
   "source": [
    "#variáveis do gráfico\n",
    "#titulo = ''\n",
    "eixo_x = 'Change in water level (x)'\n",
    "eixo_y = 'Water flowing out of the dam (y)'\n",
    "image = path_image+'plot3.2.png'\n",
    "\n",
    "fig, ax = plt.subplots(figsize=(12,8))\n",
    "plt.scatter(raw_data_5['X'],ytrain)\n",
    "plt.plot(Xtrain,yhat, c= 'red')\n",
    "\n",
    "ax.set_xlabel(eixo_x, fontsize=9)\n",
    "ax.set_ylabel(eixo_y, fontsize=9)\n",
    "\n",
    "plt.grid(True) \n",
    "\n",
    "#salvar imagens\n",
    "plt.savefig(image, dpi=300)\n",
    "plt.tight_layout() ## ver se é necessário\n",
    "plt.show()"
   ]
  },
  {
   "cell_type": "code",
   "execution_count": null,
   "metadata": {},
   "outputs": [],
   "source": []
  },
  {
   "cell_type": "markdown",
   "metadata": {},
   "source": [
    "### Analisando os resultados"
   ]
  },
  {
   "cell_type": "code",
   "execution_count": 143,
   "metadata": {},
   "outputs": [
    {
     "data": {
      "image/png": "[encoded data removed]",
      "text/plain": [
       "<Figure size 864x576 with 1 Axes>"
      ]
     },
     "metadata": {
      "needs_background": "light"
     },
     "output_type": "display_data"
    }
   ],
   "source": [
    "#variáveis do gráfico Scatter\n",
    "#titulo = ''\n",
    "#eixo_x = ''\n",
    "#eixo_y = ''\n",
    "image = path_image+'plot3.3.png'\n",
    "\n",
    "ypred = linear.predict(Xtest) \n",
    "fig, ax = plt.subplots(figsize=(12,8))\n",
    "plt.scatter(raw_data_5['Xtest'], ytest, color ='b') \n",
    "plt.plot(raw_data_5['Xtest'], ypred, color ='k') \n",
    "\n",
    "#salvar imagens\n",
    "plt.savefig(image, dpi=300)\n",
    "plt.tight_layout() ## ver se é necessário\n",
    "plt.show()"
   ]
  },
  {
   "cell_type": "code",
   "execution_count": null,
   "metadata": {},
   "outputs": [],
   "source": []
  },
  {
   "cell_type": "markdown",
   "metadata": {},
   "source": [
    "## Curvas de aprendizado"
   ]
  },
  {
   "cell_type": "code",
   "execution_count": 144,
   "metadata": {},
   "outputs": [],
   "source": [
    "import scipy.io as spio\n",
    "\n",
    "from sklearn.model_selection import learning_curve\n",
    "from sklearn.linear_model import LinearRegression"
   ]
  },
  {
   "cell_type": "code",
   "execution_count": 145,
   "metadata": {},
   "outputs": [
    {
     "data": {
      "text/plain": [
       "{'__header__': b'MATLAB 5.0 MAT-file, Platform: GLNXA64, Created on: Fri Nov  4 22:27:26 2011',\n",
       " '__version__': '1.0',\n",
       " '__globals__': [],\n",
       " 'X': array([-15.93675813, -29.15297922,  36.18954863,  37.49218733,\n",
       "        -48.05882945,  -8.94145794,  15.30779289, -34.70626581,\n",
       "          1.38915437, -44.38375985,   7.01350208,  22.76274892]),\n",
       " 'y': array([ 2.13431051,  1.17325668, 34.35910918, 36.83795516,  2.80896507,\n",
       "         2.12107248, 14.71026831,  2.61418439,  3.74017167,  3.73169131,\n",
       "         7.62765885, 22.7524283 ]),\n",
       " 'Xtest': array([-33.31800399, -37.91216403, -51.20693795,  -6.13259585,\n",
       "         21.26118327, -40.31952949, -14.54153167,  32.55976024,\n",
       "         13.39343255,  44.20988595,  -1.14267768, -12.76686065,\n",
       "         34.05450539,  39.22350028,   1.97449674,  29.6217551 ,\n",
       "        -23.66962971,  -9.01180139, -55.94057091, -35.70859752,\n",
       "          9.51020533]),\n",
       " 'ytest': array([ 3.31688953,  5.39768952,  0.13042984,  6.1925982 , 17.08848712,\n",
       "         0.79950805,  2.82479183, 28.62123334, 17.04639081, 55.38437334,\n",
       "         4.07936733,  8.27039793, 31.32355102, 39.15906103,  8.08727989,\n",
       "        24.11134389,  2.4773548 ,  6.56606472,  6.0380888 ,  4.69273956,\n",
       "        10.83004606]),\n",
       " 'Xval': array([-16.74653578, -14.57747075,  34.51575866, -47.01007574,\n",
       "         36.97511905, -40.68611002,  -4.47201098,  26.53363489,\n",
       "        -42.7976831 ,  25.37409938, -31.10955398,  27.31176864,\n",
       "         -3.26386201,  -1.81827649, -40.7196624 , -50.01324365,\n",
       "        -17.41177155,   3.5881937 ,   7.08548026,  46.28236902,\n",
       "         14.61228909]),\n",
       " 'yval': array([ 4.17020201e+00,  4.06726280e+00,  3.18730676e+01,  1.06236562e+01,\n",
       "         3.18360213e+01,  4.95936972e+00,  4.45159880e+00,  2.22763185e+01,\n",
       "        -4.38738274e-05,  2.05038016e+01,  3.85834476e+00,  1.93650529e+01,\n",
       "         4.88376281e+00,  1.10971588e+01,  7.46170827e+00,  1.47693464e+00,\n",
       "         2.71916388e+00,  1.09269007e+01,  8.34871235e+00,  5.27819280e+01,\n",
       "         1.33573396e+01])}"
      ]
     },
     "execution_count": 145,
     "metadata": {},
     "output_type": "execute_result"
    }
   ],
   "source": [
    "## importar dados\n",
    "filename = 'ex5data1.mat'\n",
    "\n",
    "# Carrergando dados\n",
    "raw_data_5_1 = spio.loadmat('../data/'+filename,squeeze_me=True)\n",
    "\n",
    "X, y = raw_data_5_1['X'], raw_data_5_1['y']\n",
    "Xtest, ytest = raw_data_5_1['Xtest'], raw_data_5_1['ytest']\n",
    "Xval, yval = raw_data_5_1['Xval'], raw_data_5_1['yval']\n",
    "\n",
    "raw_data_5_1 # leitura do dataset"
   ]
  },
  {
   "cell_type": "code",
   "execution_count": 146,
   "metadata": {},
   "outputs": [
    {
     "data": {
      "text/plain": [
       "LinearRegression(copy_X=True, fit_intercept=True, n_jobs=None, normalize=False)"
      ]
     },
     "execution_count": 146,
     "metadata": {},
     "output_type": "execute_result"
    }
   ],
   "source": [
    "lin_reg = LinearRegression()\n",
    "X = X[:, np.newaxis]\n",
    "lin_reg.fit(X, y)"
   ]
  },
  {
   "cell_type": "code",
   "execution_count": 147,
   "metadata": {},
   "outputs": [],
   "source": [
    "from sklearn.model_selection import KFold\n",
    "\n",
    "def plot_learning_curve(estimator, title, X, y, train_sizes=np.linspace(0.1, 1, 8)):\n",
    "  cv = KFold(n_splits=10, shuffle=True, random_state=42)\n",
    "  train_sizes, train_scores, test_scores = learning_curve(estimator, X, y,\n",
    "                                                          train_sizes = train_sizes,cv=cv,\n",
    "                                                          scoring='neg_root_mean_squared_error')\n",
    "  train_scores, test_scores = -train_scores, -test_scores\n",
    "  train_scores_mean = np.mean(train_scores, axis=1)\n",
    "  train_scores_std = np.std(train_scores, axis=1)\n",
    "  test_scores_mean = np.mean(test_scores, axis=1)\n",
    "  test_scores_std = np.std(test_scores, axis=1)\n",
    "  plt.grid()\n",
    "  plt.xticks(train_sizes)\n",
    "  plt.fill_between(train_sizes, train_scores_mean - train_scores_std,\n",
    "                          train_scores_mean + train_scores_std, alpha=0.1,\n",
    "                          color=\"r\")\n",
    "  plt.fill_between(train_sizes, test_scores_mean - test_scores_std,\n",
    "                          test_scores_mean + test_scores_std, alpha=0.1,\n",
    "                          color=\"g\")\n",
    "  plt.plot(train_sizes, train_scores_mean, 'o-', color=\"r\",\n",
    "                  label=\"Treino\")\n",
    "  plt.plot(train_sizes, test_scores_mean, 'o-', color=\"g\",\n",
    "                  label=\"Validação Cruzada\")\n",
    "  plt.legend(loc='best')\n",
    "  plt.xlabel('Número de exemplos de treinamento')\n",
    "  plt.ylabel('Erro')\n",
    "  plt.title(title)\n",
    "  return plt"
   ]
  },
  {
   "cell_type": "code",
   "execution_count": 148,
   "metadata": {},
   "outputs": [
    {
     "data": {
      "image/png": "[encoded data removed]",
      "text/plain": [
       "<Figure size 864x576 with 1 Axes>"
      ]
     },
     "metadata": {
      "needs_background": "light"
     },
     "output_type": "display_data"
    }
   ],
   "source": [
    "# A função \"learning_curve()\" implementa apenas K-Fold - X e Xval serão concatenados\n",
    "X_combined = np.hstack((X[:,0], Xval))\n",
    "y_combined = np.hstack((y, yval))\n",
    "X_combined = X_combined[:, np.newaxis]\n",
    "\n",
    "fig, ax = plt.subplots(figsize=(12,8))\n",
    "plot_learning_curve(lin_reg, 'Curva de aprendizado (Regressão linear)', X_combined, y_combined)\n",
    "\n",
    "image = path_image+'plot3.5.png'\n",
    "#salvar imagens\n",
    "plt.savefig(image, dpi=300)\n",
    "plt.tight_layout() ## ver se é necessário\n",
    "plt.show()"
   ]
  },
  {
   "cell_type": "code",
   "execution_count": null,
   "metadata": {},
   "outputs": [],
   "source": []
  },
  {
   "cell_type": "markdown",
   "metadata": {},
   "source": [
    "## Ajuste de um regressor polinomial não-regularizado"
   ]
  },
  {
   "cell_type": "code",
   "execution_count": 149,
   "metadata": {},
   "outputs": [],
   "source": [
    "linear = LinearRegression()"
   ]
  },
  {
   "cell_type": "code",
   "execution_count": 150,
   "metadata": {},
   "outputs": [],
   "source": [
    "scaler = StandardScaler()"
   ]
  },
  {
   "cell_type": "code",
   "execution_count": 151,
   "metadata": {},
   "outputs": [
    {
     "data": {
      "text/plain": [
       "StandardScaler(copy=True, with_mean=True, with_std=True)"
      ]
     },
     "execution_count": 151,
     "metadata": {},
     "output_type": "execute_result"
    }
   ],
   "source": [
    "# Ajuste do scaler com o conjunto de treinamento\n",
    "scaler.fit(raw_data_5_1[\"X\"].reshape(-1,1))"
   ]
  },
  {
   "cell_type": "code",
   "execution_count": 152,
   "metadata": {},
   "outputs": [],
   "source": [
    "X_train_scaled = scaler.transform(raw_data_5_1[\"X\"].reshape(-1,1))\n",
    "X_test_scaled = scaler.transform(raw_data_5_1[\"Xtest\"].reshape(-1,1))"
   ]
  },
  {
   "cell_type": "code",
   "execution_count": 153,
   "metadata": {},
   "outputs": [
    {
     "data": {
      "text/plain": [
       "PolynomialFeatures(degree=8, include_bias=True, interaction_only=False,\n",
       "                   order='C')"
      ]
     },
     "execution_count": 153,
     "metadata": {},
     "output_type": "execute_result"
    }
   ],
   "source": [
    "poly = PolynomialFeatures(8)\n",
    "poly"
   ]
  },
  {
   "cell_type": "code",
   "execution_count": 154,
   "metadata": {},
   "outputs": [],
   "source": [
    "X_poly_train = poly.fit_transform(X_train_scaled)\n",
    "X_poly_test = poly.transform(X_test_scaled)"
   ]
  },
  {
   "cell_type": "code",
   "execution_count": 155,
   "metadata": {},
   "outputs": [
    {
     "data": {
      "text/plain": [
       "LinearRegression(copy_X=True, fit_intercept=True, n_jobs=None, normalize=False)"
      ]
     },
     "execution_count": 155,
     "metadata": {},
     "output_type": "execute_result"
    }
   ],
   "source": [
    "linear.fit(X_poly_train,ytrain)"
   ]
  },
  {
   "cell_type": "code",
   "execution_count": 156,
   "metadata": {},
   "outputs": [
    {
     "data": {
      "text/plain": [
       "0.9996297877703565"
      ]
     },
     "execution_count": 156,
     "metadata": {},
     "output_type": "execute_result"
    }
   ],
   "source": [
    "linear.score(X_poly_train,ytrain)"
   ]
  },
  {
   "cell_type": "code",
   "execution_count": 157,
   "metadata": {},
   "outputs": [
    {
     "data": {
      "text/plain": [
       "0.8299783544768009"
      ]
     },
     "execution_count": 157,
     "metadata": {},
     "output_type": "execute_result"
    }
   ],
   "source": [
    "linear.score(X_poly_test,ytest)"
   ]
  },
  {
   "cell_type": "code",
   "execution_count": 158,
   "metadata": {},
   "outputs": [
    {
     "data": {
      "text/plain": [
       "array([  0.        ,   3.6637907 ,  10.75857046,  17.67751496,\n",
       "         2.71614071, -14.15489146,  -4.3307097 ,   3.50768901,\n",
       "         1.13839544])"
      ]
     },
     "execution_count": 158,
     "metadata": {},
     "output_type": "execute_result"
    }
   ],
   "source": [
    "linear.coef_"
   ]
  },
  {
   "cell_type": "code",
   "execution_count": 159,
   "metadata": {},
   "outputs": [
    {
     "data": {
      "text/plain": [
       "2.5266727401162417"
      ]
     },
     "execution_count": 159,
     "metadata": {},
     "output_type": "execute_result"
    }
   ],
   "source": [
    "linear.intercept_"
   ]
  },
  {
   "cell_type": "code",
   "execution_count": 160,
   "metadata": {},
   "outputs": [
    {
     "data": {
      "text/plain": [
       "(12, 9)"
      ]
     },
     "execution_count": 160,
     "metadata": {},
     "output_type": "execute_result"
    }
   ],
   "source": [
    "X_poly_train.shape"
   ]
  },
  {
   "cell_type": "code",
   "execution_count": 161,
   "metadata": {},
   "outputs": [
    {
     "data": {
      "text/plain": [
       "(12,)"
      ]
     },
     "execution_count": 161,
     "metadata": {},
     "output_type": "execute_result"
    }
   ],
   "source": [
    "ytrain.shape"
   ]
  },
  {
   "cell_type": "code",
   "execution_count": 162,
   "metadata": {},
   "outputs": [
    {
     "data": {
      "text/plain": [
       "(12,)"
      ]
     },
     "execution_count": 162,
     "metadata": {},
     "output_type": "execute_result"
    }
   ],
   "source": [
    "raw_data_5_1[\"X\"].shape"
   ]
  },
  {
   "cell_type": "code",
   "execution_count": 163,
   "metadata": {},
   "outputs": [
    {
     "data": {
      "text/plain": [
       "(12, 2)"
      ]
     },
     "execution_count": 163,
     "metadata": {},
     "output_type": "execute_result"
    }
   ],
   "source": [
    "Xtrain.shape"
   ]
  },
  {
   "cell_type": "code",
   "execution_count": null,
   "metadata": {},
   "outputs": [],
   "source": []
  },
  {
   "cell_type": "markdown",
   "metadata": {},
   "source": [
    "### Plotando a linha de regressão"
   ]
  },
  {
   "cell_type": "code",
   "execution_count": 164,
   "metadata": {},
   "outputs": [],
   "source": [
    "## importar dados\n",
    "filename = 'ex5data1.mat'\n",
    "\n",
    "# Carrergando dados\n",
    "raw_data_5_2 = spio.loadmat('../data/'+filename,squeeze_me=True)"
   ]
  },
  {
   "cell_type": "code",
   "execution_count": 165,
   "metadata": {},
   "outputs": [
    {
     "data": {
      "text/plain": [
       "Pipeline(memory=None,\n",
       "         steps=[('polynomialfeatures',\n",
       "                 PolynomialFeatures(degree=8, include_bias=True,\n",
       "                                    interaction_only=False, order='C')),\n",
       "                ('standardscaler',\n",
       "                 StandardScaler(copy=True, with_mean=True, with_std=True)),\n",
       "                ('linearregression',\n",
       "                 LinearRegression(copy_X=True, fit_intercept=True, n_jobs=None,\n",
       "                                  normalize=False))],\n",
       "         verbose=False)"
      ]
     },
     "execution_count": 165,
     "metadata": {},
     "output_type": "execute_result"
    }
   ],
   "source": [
    "X, y = raw_data_5_2['X'], raw_data_5_2['y']\n",
    "Xtest, ytest = raw_data_5_2['Xtest'], raw_data_5_2['ytest']\n",
    "Xval, yval = raw_data_5_2['Xval'], raw_data_5_2['yval']\n",
    "\n",
    "lin_reg = make_pipeline(PolynomialFeatures(8), StandardScaler(), LinearRegression())\n",
    "X = X[:, np.newaxis]\n",
    "lin_reg.fit(X,y)"
   ]
  },
  {
   "cell_type": "code",
   "execution_count": 166,
   "metadata": {},
   "outputs": [
    {
     "data": {
      "image/png": "[encoded data removed]",
      "text/plain": [
       "<Figure size 864x576 with 1 Axes>"
      ]
     },
     "metadata": {
      "needs_background": "light"
     },
     "output_type": "display_data"
    }
   ],
   "source": [
    "#variáveis do gráfico\n",
    "titulo = 'Regressão polinomial de grau 8 (\\u03BB=0)'\n",
    "eixo_x = 'Nível d\\'água (x)'\n",
    "eixo_y = 'Vazão (y)'\n",
    "image = path_image+'plot3.7.png'\n",
    "\n",
    "fig, ax = plt.subplots(figsize=(12,8))\n",
    "t = np.linspace(X[:,0].min()-5, X[:,0].max()+2,50)\n",
    "plt.plot(t, lin_reg.predict(t[:,np.newaxis]), '--')\n",
    "plt.scatter(X[:,0], y, c='r', marker='x')\n",
    "ax.set_title(titulo)\n",
    "ax.set_xlabel(eixo_x, fontsize=9)\n",
    "ax.set_ylabel(eixo_y, fontsize=9)\n",
    "\n",
    "plt.tick_params(top=True, right=True,direction='in')\n",
    "\n",
    "#salvar imagens\n",
    "plt.savefig(image, dpi=300)\n",
    "plt.tight_layout() ## ver se é necessário\n",
    "plt.show()"
   ]
  },
  {
   "cell_type": "code",
   "execution_count": 167,
   "metadata": {},
   "outputs": [
    {
     "data": {
      "image/png": "[encoded data removed]",
      "text/plain": [
       "<Figure size 864x576 with 1 Axes>"
      ]
     },
     "metadata": {
      "needs_background": "light"
     },
     "output_type": "display_data"
    }
   ],
   "source": [
    "#variáveis do gráfico\n",
    "#titulo = ''\n",
    "#eixo_x = ''\n",
    "#eixo_y = ''\n",
    "image = path_image+'plot3.8.png'\n",
    "\n",
    "fig, ax = plt.subplots(figsize=(12,8))\n",
    "plot_learning_curve(lin_reg, 'Curva de aprendizado (Regressão polinomial grau 8, \\u03BB=0)',\n",
    "                    X_combined, y_combined, train_sizes=np.linspace(0.1, 1, 8))\n",
    "\n",
    "#salvar imagens\n",
    "plt.savefig(image, dpi=300)\n",
    "plt.tight_layout() ## ver se é necessário\n",
    "plt.show()"
   ]
  },
  {
   "cell_type": "code",
   "execution_count": null,
   "metadata": {},
   "outputs": [],
   "source": []
  },
  {
   "cell_type": "markdown",
   "metadata": {},
   "source": [
    "## Ajuste de um regressor polinomial regularizado"
   ]
  },
  {
   "cell_type": "code",
   "execution_count": 168,
   "metadata": {},
   "outputs": [],
   "source": [
    "from sklearn.linear_model import Ridge, Lasso\n",
    "from sklearn.model_selection import GridSearchCV"
   ]
  },
  {
   "cell_type": "markdown",
   "metadata": {},
   "source": [
    "### Ridge"
   ]
  },
  {
   "cell_type": "code",
   "execution_count": 169,
   "metadata": {},
   "outputs": [],
   "source": [
    "rdg = Ridge(alpha = 1)\n",
    "poly = PolynomialFeatures(8)"
   ]
  },
  {
   "cell_type": "code",
   "execution_count": 170,
   "metadata": {},
   "outputs": [],
   "source": [
    "X_poly_train = poly.fit_transform(X_train_scaled)\n",
    "X_poly_test = poly.transform(X_test_scaled)"
   ]
  },
  {
   "cell_type": "code",
   "execution_count": 171,
   "metadata": {},
   "outputs": [
    {
     "data": {
      "text/plain": [
       "Ridge(alpha=1, copy_X=True, fit_intercept=True, max_iter=None, normalize=False,\n",
       "      random_state=None, solver='auto', tol=0.001)"
      ]
     },
     "execution_count": 171,
     "metadata": {},
     "output_type": "execute_result"
    }
   ],
   "source": [
    "rdg.fit(X_poly_train,ytrain)"
   ]
  },
  {
   "cell_type": "code",
   "execution_count": 172,
   "metadata": {},
   "outputs": [
    {
     "data": {
      "text/plain": [
       "0.9823636941978275"
      ]
     },
     "execution_count": 172,
     "metadata": {},
     "output_type": "execute_result"
    }
   ],
   "source": [
    "rdg.score(X_poly_train,ytrain)"
   ]
  },
  {
   "cell_type": "code",
   "execution_count": 173,
   "metadata": {},
   "outputs": [
    {
     "data": {
      "text/plain": [
       "0.6733111698843277"
      ]
     },
     "execution_count": 173,
     "metadata": {},
     "output_type": "execute_result"
    }
   ],
   "source": [
    "rdg.score(X_poly_test,ytest)"
   ]
  },
  {
   "cell_type": "markdown",
   "metadata": {},
   "source": [
    "#### Ajuste do hiperparâmetro alpha"
   ]
  },
  {
   "cell_type": "code",
   "execution_count": 174,
   "metadata": {},
   "outputs": [],
   "source": [
    "cv = 10\n",
    "yval = raw_data_5_2['yval']\n",
    "Xval = raw_data_5_2[\"Xval\"]"
   ]
  },
  {
   "cell_type": "code",
   "execution_count": 175,
   "metadata": {},
   "outputs": [],
   "source": [
    "X_val_scaled = scaler.transform(Xval.reshape(-1,1))\n",
    "X_poly_val = poly.fit_transform(X_val_scaled)\n",
    "parameters = {'alpha':[0,0.1,0.2,0.3,0.4,0.5,0.51,0.54,1, 100]}\n",
    "Ridge_reg= GridSearchCV(rdg, parameters, scoring='neg_mean_squared_error',cv=cv)"
   ]
  },
  {
   "cell_type": "code",
   "execution_count": 176,
   "metadata": {},
   "outputs": [
    {
     "data": {
      "text/plain": [
       "GridSearchCV(cv=10, error_score=nan,\n",
       "             estimator=Ridge(alpha=1, copy_X=True, fit_intercept=True,\n",
       "                             max_iter=None, normalize=False, random_state=None,\n",
       "                             solver='auto', tol=0.001),\n",
       "             iid='deprecated', n_jobs=None,\n",
       "             param_grid={'alpha': [0, 0.1, 0.2, 0.3, 0.4, 0.5, 0.51, 0.54, 1,\n",
       "                                   100]},\n",
       "             pre_dispatch='2*n_jobs', refit=True, return_train_score=False,\n",
       "             scoring='neg_mean_squared_error', verbose=0)"
      ]
     },
     "execution_count": 176,
     "metadata": {},
     "output_type": "execute_result"
    }
   ],
   "source": [
    "Ridge_reg.fit(X_poly_val,yval)"
   ]
  },
  {
   "cell_type": "code",
   "execution_count": 177,
   "metadata": {},
   "outputs": [
    {
     "name": "stdout",
     "output_type": "stream",
     "text": [
      " O melhor estimador do valor de Alpha: \n",
      "\n",
      "Ridge(alpha=1, copy_X=True, fit_intercept=True, max_iter=None, normalize=False,\n",
      "      random_state=None, solver='auto', tol=0.001)\n"
     ]
    }
   ],
   "source": [
    "print(f\" O melhor estimador do valor de Alpha: \\n\\n{Ridge_reg.best_estimator_}\")"
   ]
  },
  {
   "cell_type": "code",
   "execution_count": 178,
   "metadata": {},
   "outputs": [
    {
     "data": {
      "text/plain": [
       "Ridge(alpha=1, copy_X=True, fit_intercept=True, max_iter=None, normalize=False,\n",
       "      random_state=None, solver='auto', tol=0.001)"
      ]
     },
     "execution_count": 178,
     "metadata": {},
     "output_type": "execute_result"
    }
   ],
   "source": [
    "best_model = Ridge_reg.best_estimator_\n",
    "best_model.fit(X_poly_train,ytrain)"
   ]
  },
  {
   "cell_type": "code",
   "execution_count": 179,
   "metadata": {},
   "outputs": [
    {
     "data": {
      "text/plain": [
       "0.9823636941978275"
      ]
     },
     "execution_count": 179,
     "metadata": {},
     "output_type": "execute_result"
    }
   ],
   "source": [
    "best_model.score(X_poly_train,ytrain)"
   ]
  },
  {
   "cell_type": "code",
   "execution_count": 180,
   "metadata": {},
   "outputs": [
    {
     "data": {
      "text/plain": [
       "0.6733111698843277"
      ]
     },
     "execution_count": 180,
     "metadata": {},
     "output_type": "execute_result"
    }
   ],
   "source": [
    "best_model.score(X_poly_test,ytest)"
   ]
  },
  {
   "cell_type": "code",
   "execution_count": 181,
   "metadata": {},
   "outputs": [
    {
     "data": {
      "image/png": "[encoded data removed]",
      "text/plain": [
       "<Figure size 864x576 with 1 Axes>"
      ]
     },
     "metadata": {
      "needs_background": "light"
     },
     "output_type": "display_data"
    }
   ],
   "source": [
    "#variáveis do gráfico\n",
    "#titulo = ''\n",
    "#eixo_x = ''\n",
    "#eixo_y = ''\n",
    "image = path_image+'plot3.9.png'\n",
    "\n",
    "ridge_reg = make_pipeline(PolynomialFeatures(8), StandardScaler(), Ridge())\n",
    "param_grid = {'ridge__alpha': np.logspace(-4,3,16)}\n",
    "cv = KFold(n_splits=10, shuffle=True, random_state=42)\n",
    "grid= GridSearchCV(ridge_reg,param_grid=param_grid, cv=cv, scoring='neg_mean_squared_error')\n",
    "grid.fit(X_combined,y_combined)\n",
    "\n",
    "Lambda = grid.best_params_['ridge__alpha']\n",
    "ridge = grid.best_estimator_\n",
    "fig, ax = plt.subplots(figsize=(12,8))\n",
    "plot_learning_curve(ridge,\n",
    "                    'Curva de aprendizado (Regressão polinomial grau 8, RIDGE com \\u03B1={:.2f})'.format(Lambda),\n",
    "                    X_combined, y_combined, train_sizes=np.linspace(0.1, 1, 8))\n",
    "\n",
    "\n",
    "#salvar imagens\n",
    "plt.savefig(image, dpi=300)\n",
    "plt.tight_layout() ## ver se é necessário\n",
    "plt.show()"
   ]
  },
  {
   "cell_type": "code",
   "execution_count": null,
   "metadata": {},
   "outputs": [],
   "source": []
  },
  {
   "cell_type": "markdown",
   "metadata": {},
   "source": [
    "### Lasso"
   ]
  },
  {
   "cell_type": "code",
   "execution_count": 182,
   "metadata": {},
   "outputs": [],
   "source": [
    "lasso = Lasso(alpha = 1)"
   ]
  },
  {
   "cell_type": "code",
   "execution_count": 183,
   "metadata": {},
   "outputs": [
    {
     "data": {
      "text/plain": [
       "Lasso(alpha=1, copy_X=True, fit_intercept=True, max_iter=1000, normalize=False,\n",
       "      positive=False, precompute=False, random_state=None, selection='cyclic',\n",
       "      tol=0.0001, warm_start=False)"
      ]
     },
     "execution_count": 183,
     "metadata": {},
     "output_type": "execute_result"
    }
   ],
   "source": [
    "lasso.fit(X_poly_train,ytrain)"
   ]
  },
  {
   "cell_type": "code",
   "execution_count": 184,
   "metadata": {},
   "outputs": [
    {
     "data": {
      "text/plain": [
       "0.9210793118849395"
      ]
     },
     "execution_count": 184,
     "metadata": {},
     "output_type": "execute_result"
    }
   ],
   "source": [
    "lasso.score(X_poly_train,ytrain)"
   ]
  },
  {
   "cell_type": "markdown",
   "metadata": {},
   "source": [
    "#### Ajuste do hiperparâmetro alpha"
   ]
  },
  {
   "cell_type": "code",
   "execution_count": 185,
   "metadata": {},
   "outputs": [
    {
     "data": {
      "image/png": "[encoded data removed]",
      "text/plain": [
       "<Figure size 864x576 with 1 Axes>"
      ]
     },
     "metadata": {
      "needs_background": "light"
     },
     "output_type": "display_data"
    }
   ],
   "source": [
    "#variáveis do gráfico\n",
    "#titulo = ''\n",
    "#eixo_x = ''\n",
    "#eixo_y = ''\n",
    "image = path_image+'plot3.10.png'\n",
    "\n",
    "#Verificado que valores positivos resultam em modelos não muito bons\n",
    "lasso_reg = make_pipeline(PolynomialFeatures(8), StandardScaler(), Lasso(tol=0.1))\n",
    "param_grid = {'lasso__alpha': -np.logspace(-2,2,50)}\n",
    "cv = KFold(n_splits=10, shuffle=True, random_state=42)\n",
    "grid= GridSearchCV(lasso_reg,param_grid=param_grid, cv=cv, scoring='neg_mean_squared_error')\n",
    "grid.fit(X_combined,y_combined)\n",
    "\n",
    "Lambda = grid.best_params_['lasso__alpha']\n",
    "lasso = grid.best_estimator_\n",
    "fig, ax = plt.subplots(figsize=(12,8))\n",
    "plot_learning_curve(lasso, 'Curva de aprendizado (Regressão Polinomial Grau 8, LASSO \\u03B1={:.2f}'.format(Lambda),X_combined, y_combined, train_sizes=np.linspace(0.1, 1, 8))\n",
    "\n",
    "\n",
    "#salvar imagens\n",
    "plt.savefig(image, dpi=300)\n",
    "plt.tight_layout() ## ver se é necessário\n",
    "plt.show()"
   ]
  },
  {
   "cell_type": "code",
   "execution_count": 186,
   "metadata": {},
   "outputs": [],
   "source": [
    "# Analisando o melhor modelo no conjunto teste\n",
    "lin_reg.fit(X_combined, y_combined)\n",
    "linear.fit(X_combined, y_combined)\n",
    "\n",
    "lin_score = np.sqrt(mean_squared_error(ytest, lin_reg.predict(Xtest[:, np.newaxis])))\n",
    "poly_score = np.sqrt(mean_squared_error(ytest, linear.predict(Xtest[:, np.newaxis])))\n",
    "ridge_score = np.sqrt(mean_squared_error(ytest, ridge.predict(Xtest[:, np.newaxis])))\n",
    "lasso_score = np.sqrt(mean_squared_error(ytest, lasso.predict(Xtest[:, np.newaxis])))"
   ]
  },
  {
   "cell_type": "code",
   "execution_count": 187,
   "metadata": {},
   "outputs": [
    {
     "name": "stdout",
     "output_type": "stream",
     "text": [
      "RMSE dos modelos no conjunto teste:\n",
      "\n",
      "O RMSE Regressão Linear (sem regularização): 6.69\n",
      "O RMSE Regressão Polinomial (sem regularização): 7.94\n",
      "O RMSE RIDGE: 2.95\n",
      "O RMSE LASSO: 2.68\n"
     ]
    }
   ],
   "source": [
    "print('RMSE dos modelos no conjunto teste:\\n')\n",
    "print('O RMSE Regressão Linear (sem regularização): {:.2f}'.format(lin_score))\n",
    "print('O RMSE Regressão Polinomial (sem regularização): {:.2f}'.format(poly_score))\n",
    "print('O RMSE RIDGE: {:.2f}'.format(ridge_score))\n",
    "print('O RMSE LASSO: {:.2f}'.format(lasso_score))"
   ]
  },
  {
   "cell_type": "code",
   "execution_count": null,
   "metadata": {},
   "outputs": [],
   "source": []
  },
  {
   "cell_type": "markdown",
   "metadata": {},
   "source": [
    "O overfitting foi solucionado, levando em consideração que o erro na validação cruzada tendensiou a ser igual ao erro no conjunto de treino ainda assim para uma quantidade pequena de amostras. O GridSearch com LASSO finalizou em um valor 𝜆 negativo para o melhor modelo e a tolerância foi aumentada para 0.1, por problemas de convergência."
   ]
  },
  {
   "cell_type": "code",
   "execution_count": null,
   "metadata": {},
   "outputs": [],
   "source": []
  }
 ],
 "metadata": {
  "kernelspec": {
   "display_name": "Python 3 (ipykernel)",
   "language": "python",
   "name": "python3"
  },
  "language_info": {
   "codemirror_mode": {
    "name": "ipython",
    "version": 3
   },
   "file_extension": ".py",
   "mimetype": "text/x-python",
   "name": "python",
   "nbconvert_exporter": "python",
   "pygments_lexer": "ipython3",
   "version": "3.10.4"
  },
  "toc": {
   "base_numbering": 1,
   "nav_menu": {},
   "number_sections": true,
   "sideBar": true,
   "skip_h1_title": false,
   "title_cell": "Table of Contents",
   "title_sidebar": "Contents",
   "toc_cell": false,
   "toc_position": {},
   "toc_section_display": true,
   "toc_window_display": false
  }
 },
 "nbformat": 4,
 "nbformat_minor": 2
}
